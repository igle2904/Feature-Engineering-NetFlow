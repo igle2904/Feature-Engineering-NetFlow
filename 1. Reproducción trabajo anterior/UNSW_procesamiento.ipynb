{
 "cells": [
  {
   "cell_type": "markdown",
   "metadata": {},
   "source": [
    "# DATOS YA PROCESADOS"
   ]
  },
  {
   "cell_type": "code",
   "execution_count": 1,
   "metadata": {},
   "outputs": [],
   "source": [
    "import pandas as pd\n",
    "import numpy as np\n",
    "from sklearn.cluster import KMeans, MiniBatchKMeans, Birch, DBSCAN\n",
    "from sklearn.neighbors import LocalOutlierFactor\n",
    "from sklearn.covariance import EllipticEnvelope\n",
    "from sklearn.ensemble import IsolationForest\n",
    "from sklearn.metrics import accuracy_score, precision_score, recall_score, f1_score, matthews_corrcoef, roc_auc_score\n",
    "\n",
    "df_UNSW = pd.read_csv('UNSW_trabajados.csv')\n",
    "# class_numeric -> normal: 0 ; attacker:1"
   ]
  },
  {
   "cell_type": "code",
   "execution_count": 2,
   "metadata": {},
   "outputs": [
    {
     "data": {
      "text/html": [
       "<div>\n",
       "<style scoped>\n",
       "    .dataframe tbody tr th:only-of-type {\n",
       "        vertical-align: middle;\n",
       "    }\n",
       "\n",
       "    .dataframe tbody tr th {\n",
       "        vertical-align: top;\n",
       "    }\n",
       "\n",
       "    .dataframe thead th {\n",
       "        text-align: right;\n",
       "    }\n",
       "</style>\n",
       "<table border=\"1\" class=\"dataframe\">\n",
       "  <thead>\n",
       "    <tr style=\"text-align: right;\">\n",
       "      <th></th>\n",
       "      <th>Unnamed: 0</th>\n",
       "      <th>Src IP Addr</th>\n",
       "      <th>Src Pt</th>\n",
       "      <th>Dst IP Addr</th>\n",
       "      <th>Dst Pt</th>\n",
       "      <th>class</th>\n",
       "      <th>Same_ip_src</th>\n",
       "      <th>Same_ip_dst</th>\n",
       "      <th>Same_ip_src_port_dst</th>\n",
       "      <th>Same_ip_dst_port_src</th>\n",
       "      <th>class_numeric</th>\n",
       "    </tr>\n",
       "  </thead>\n",
       "  <tbody>\n",
       "    <tr>\n",
       "      <th>0</th>\n",
       "      <td>0</td>\n",
       "      <td>59.166.0.9</td>\n",
       "      <td>7045</td>\n",
       "      <td>149.171.126.7</td>\n",
       "      <td>25</td>\n",
       "      <td>Normal</td>\n",
       "      <td>26398</td>\n",
       "      <td>26075</td>\n",
       "      <td>1120</td>\n",
       "      <td>1</td>\n",
       "      <td>0</td>\n",
       "    </tr>\n",
       "    <tr>\n",
       "      <th>1</th>\n",
       "      <td>1</td>\n",
       "      <td>59.166.0.9</td>\n",
       "      <td>9685</td>\n",
       "      <td>149.171.126.2</td>\n",
       "      <td>80</td>\n",
       "      <td>Normal</td>\n",
       "      <td>26398</td>\n",
       "      <td>26990</td>\n",
       "      <td>2705</td>\n",
       "      <td>2</td>\n",
       "      <td>0</td>\n",
       "    </tr>\n",
       "    <tr>\n",
       "      <th>2</th>\n",
       "      <td>2</td>\n",
       "      <td>59.166.0.2</td>\n",
       "      <td>1421</td>\n",
       "      <td>149.171.126.4</td>\n",
       "      <td>53</td>\n",
       "      <td>Normal</td>\n",
       "      <td>27050</td>\n",
       "      <td>27120</td>\n",
       "      <td>5249</td>\n",
       "      <td>1</td>\n",
       "      <td>0</td>\n",
       "    </tr>\n",
       "    <tr>\n",
       "      <th>3</th>\n",
       "      <td>3</td>\n",
       "      <td>59.166.0.2</td>\n",
       "      <td>21553</td>\n",
       "      <td>149.171.126.2</td>\n",
       "      <td>25</td>\n",
       "      <td>Normal</td>\n",
       "      <td>27050</td>\n",
       "      <td>26990</td>\n",
       "      <td>1138</td>\n",
       "      <td>1</td>\n",
       "      <td>0</td>\n",
       "    </tr>\n",
       "    <tr>\n",
       "      <th>4</th>\n",
       "      <td>4</td>\n",
       "      <td>59.166.0.8</td>\n",
       "      <td>45212</td>\n",
       "      <td>149.171.126.4</td>\n",
       "      <td>53</td>\n",
       "      <td>Normal</td>\n",
       "      <td>26024</td>\n",
       "      <td>27120</td>\n",
       "      <td>5072</td>\n",
       "      <td>1</td>\n",
       "      <td>0</td>\n",
       "    </tr>\n",
       "  </tbody>\n",
       "</table>\n",
       "</div>"
      ],
      "text/plain": [
       "   Unnamed: 0 Src IP Addr  Src Pt    Dst IP Addr Dst Pt   class  Same_ip_src  \\\n",
       "0           0  59.166.0.9    7045  149.171.126.7     25  Normal        26398   \n",
       "1           1  59.166.0.9    9685  149.171.126.2     80  Normal        26398   \n",
       "2           2  59.166.0.2    1421  149.171.126.4     53  Normal        27050   \n",
       "3           3  59.166.0.2   21553  149.171.126.2     25  Normal        27050   \n",
       "4           4  59.166.0.8   45212  149.171.126.4     53  Normal        26024   \n",
       "\n",
       "   Same_ip_dst  Same_ip_src_port_dst  Same_ip_dst_port_src  class_numeric  \n",
       "0        26075                  1120                     1              0  \n",
       "1        26990                  2705                     2              0  \n",
       "2        27120                  5249                     1              0  \n",
       "3        26990                  1138                     1              0  \n",
       "4        27120                  5072                     1              0  "
      ]
     },
     "execution_count": 2,
     "metadata": {},
     "output_type": "execute_result"
    }
   ],
   "source": [
    "df_UNSW.head()"
   ]
  },
  {
   "cell_type": "code",
   "execution_count": 3,
   "metadata": {},
   "outputs": [],
   "source": [
    "def print_results(metodo, real, prediccion):\n",
    "    print(metodo + ' Accuracy:\\t\\t', round(accuracy_score(real, prediccion), 4))\n",
    "    print(metodo + ' Precision:\\t\\t', round(precision_score(real, prediccion), 4))\n",
    "    print(metodo + ' Recall:\\t\\t', round(recall_score(real, prediccion), 4))\n",
    "    print(metodo + ' F1 score:\\t\\t', round(f1_score(real, prediccion), 4))\n",
    "    print(metodo + ' Mathews Corr.:\\t', round(matthews_corrcoef(real, prediccion), 4))\n",
    "    print(metodo + ' AUC:\\t\\t', round(roc_auc_score(real, prediccion), 4))\n",
    "    print()\n",
    "    print()"
   ]
  },
  {
   "cell_type": "markdown",
   "metadata": {},
   "source": [
    "# KMeans"
   ]
  },
  {
   "cell_type": "code",
   "execution_count": null,
   "metadata": {},
   "outputs": [],
   "source": [
    "kmeans = KMeans(n_clusters=2, n_init=10, random_state=0, algorithm='full').fit(df_UNSW[['Same_ip_src','Same_ip_dst','Same_ip_src_port_dst','Same_ip_dst_port_src']])\n",
    "print_results('UNSW', df_UNSW['class_numeric'], kmeans.labels_)"
   ]
  },
  {
   "cell_type": "markdown",
   "metadata": {},
   "source": [
    "# MiniBatch KMeans"
   ]
  },
  {
   "cell_type": "code",
   "execution_count": null,
   "metadata": {},
   "outputs": [],
   "source": [
    "minibatch = MiniBatchKMeans(n_clusters=2,n_init=10, random_state=0).fit(df_UNSW[['Same_ip_src','Same_ip_dst','Same_ip_src_port_dst','Same_ip_dst_port_src']])\n",
    "print_results('UNSW', df_UNSW['class_numeric'], minibatch.labels_)"
   ]
  },
  {
   "cell_type": "markdown",
   "metadata": {},
   "source": [
    "# Birch"
   ]
  },
  {
   "cell_type": "code",
   "execution_count": null,
   "metadata": {},
   "outputs": [],
   "source": [
    "## Problemas con inconsistent ...\n",
    "\n",
    "birch = Birch(n_clusters=2, threshold=0.1, branching_factor=10).fit_predict(df_UNSW[['Same_ip_src','Same_ip_dst','Same_ip_src_port_dst','Same_ip_dst_port_src']])\n",
    "print_results('UNSW', df_UNSW['class_numeric'], birch)"
   ]
  },
  {
   "cell_type": "markdown",
   "metadata": {},
   "source": [
    "# MinCovDet"
   ]
  },
  {
   "cell_type": "code",
   "execution_count": null,
   "metadata": {},
   "outputs": [],
   "source": [
    "minCovDet = EllipticEnvelope(assume_centered=False, contamination=0.4, random_state=0).fit_predict(df_UNSW[['Same_ip_src','Same_ip_dst','Same_ip_src_port_dst','Same_ip_dst_port_src']])\n",
    "minCovDet[minCovDet == 1] = 0\n",
    "minCovDet[minCovDet == -1] = 1\n",
    "print_results('UNSW', df_UNSW['class_numeric'], minCovDet)"
   ]
  },
  {
   "cell_type": "markdown",
   "metadata": {},
   "source": [
    "# Isolation Forest"
   ]
  },
  {
   "cell_type": "code",
   "execution_count": null,
   "metadata": {},
   "outputs": [],
   "source": [
    "isolation = IsolationForest(n_estimators=100, contamination=0.4, random_state=4, behaviour='new').fit_predict(df_UNSW[['Same_ip_src','Same_ip_dst','Same_ip_src_port_dst','Same_ip_dst_port_src']])\n",
    "isolation[isolation == 1] = 0\n",
    "isolation[isolation == -1] = 1\n",
    "print_results('UNSW', df_UNSW['class_numeric'], isolation)"
   ]
  },
  {
   "cell_type": "code",
   "execution_count": null,
   "metadata": {},
   "outputs": [],
   "source": []
  }
 ],
 "metadata": {
  "kernelspec": {
   "display_name": "Python 3",
   "language": "python",
   "name": "python3"
  },
  "language_info": {
   "codemirror_mode": {
    "name": "ipython",
    "version": 3
   },
   "file_extension": ".py",
   "mimetype": "text/x-python",
   "name": "python",
   "nbconvert_exporter": "python",
   "pygments_lexer": "ipython3",
   "version": "3.7.0"
  }
 },
 "nbformat": 4,
 "nbformat_minor": 2
}
