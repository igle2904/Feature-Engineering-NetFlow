{
 "cells": [
  {
   "cell_type": "code",
   "execution_count": 2,
   "metadata": {},
   "outputs": [],
   "source": [
    "import pandas as pd\n",
    "import numpy as np\n",
    "import json"
   ]
  },
  {
   "cell_type": "markdown",
   "metadata": {},
   "source": [
    "# Lectura de los datos"
   ]
  },
  {
   "cell_type": "markdown",
   "metadata": {},
   "source": [
    "**Cargamos los datasets**"
   ]
  },
  {
   "cell_type": "code",
   "execution_count": 3,
   "metadata": {},
   "outputs": [],
   "source": [
    "with open('ISCX.json', 'r') as file:\n",
    "    ISCX_data = json.load(file)\n",
    "df_ISCX = pd.DataFrame(data=ISCX_data['dataroot']['TestbedSunJun13Flows'])"
   ]
  },
  {
   "cell_type": "code",
   "execution_count": 4,
   "metadata": {},
   "outputs": [
    {
     "data": {
      "text/html": [
       "<div>\n",
       "<style scoped>\n",
       "    .dataframe tbody tr th:only-of-type {\n",
       "        vertical-align: middle;\n",
       "    }\n",
       "\n",
       "    .dataframe tbody tr th {\n",
       "        vertical-align: top;\n",
       "    }\n",
       "\n",
       "    .dataframe thead th {\n",
       "        text-align: right;\n",
       "    }\n",
       "</style>\n",
       "<table border=\"1\" class=\"dataframe\">\n",
       "  <thead>\n",
       "    <tr style=\"text-align: right;\">\n",
       "      <th></th>\n",
       "      <th>Tag</th>\n",
       "      <th>appName</th>\n",
       "      <th>destination</th>\n",
       "      <th>destinationPayloadAsBase64</th>\n",
       "      <th>destinationPayloadAsUTF</th>\n",
       "      <th>destinationPort</th>\n",
       "      <th>destinationTCPFlagsDescription</th>\n",
       "      <th>direction</th>\n",
       "      <th>protocolName</th>\n",
       "      <th>source</th>\n",
       "      <th>sourcePayloadAsBase64</th>\n",
       "      <th>sourcePayloadAsUTF</th>\n",
       "      <th>sourcePort</th>\n",
       "      <th>sourceTCPFlagsDescription</th>\n",
       "      <th>startDateTime</th>\n",
       "      <th>stopDateTime</th>\n",
       "      <th>totalDestinationBytes</th>\n",
       "      <th>totalDestinationPackets</th>\n",
       "      <th>totalSourceBytes</th>\n",
       "      <th>totalSourcePackets</th>\n",
       "    </tr>\n",
       "  </thead>\n",
       "  <tbody>\n",
       "    <tr>\n",
       "      <th>0</th>\n",
       "      <td>Normal</td>\n",
       "      <td>Unknown_UDP</td>\n",
       "      <td>224.0.0.251</td>\n",
       "      <td>None</td>\n",
       "      <td>None</td>\n",
       "      <td>5353</td>\n",
       "      <td>N/A</td>\n",
       "      <td>L2R</td>\n",
       "      <td>udp_ip</td>\n",
       "      <td>192.168.5.122</td>\n",
       "      <td>None</td>\n",
       "      <td>None</td>\n",
       "      <td>5353</td>\n",
       "      <td>N/A</td>\n",
       "      <td>2010-06-12T23:57:24</td>\n",
       "      <td>2010-06-13T09:24:52</td>\n",
       "      <td>0</td>\n",
       "      <td>0</td>\n",
       "      <td>2633658</td>\n",
       "      <td>28971</td>\n",
       "    </tr>\n",
       "    <tr>\n",
       "      <th>1</th>\n",
       "      <td>Normal</td>\n",
       "      <td>Unknown_UDP</td>\n",
       "      <td>224.0.0.251</td>\n",
       "      <td>None</td>\n",
       "      <td>None</td>\n",
       "      <td>5353</td>\n",
       "      <td>N/A</td>\n",
       "      <td>L2R</td>\n",
       "      <td>udp_ip</td>\n",
       "      <td>192.168.5.122</td>\n",
       "      <td>None</td>\n",
       "      <td>None</td>\n",
       "      <td>5353</td>\n",
       "      <td>N/A</td>\n",
       "      <td>2010-06-12T23:57:24</td>\n",
       "      <td>2010-06-13T09:24:52</td>\n",
       "      <td>0</td>\n",
       "      <td>0</td>\n",
       "      <td>2633658</td>\n",
       "      <td>28971</td>\n",
       "    </tr>\n",
       "    <tr>\n",
       "      <th>2</th>\n",
       "      <td>Normal</td>\n",
       "      <td>HTTPWeb</td>\n",
       "      <td>192.168.5.122</td>\n",
       "      <td>None</td>\n",
       "      <td>None</td>\n",
       "      <td>80</td>\n",
       "      <td>R</td>\n",
       "      <td>L2L</td>\n",
       "      <td>tcp_ip</td>\n",
       "      <td>192.168.2.113</td>\n",
       "      <td>None</td>\n",
       "      <td>None</td>\n",
       "      <td>4191</td>\n",
       "      <td>F,A</td>\n",
       "      <td>2010-06-12T23:57:38</td>\n",
       "      <td>2010-06-12T23:59:20</td>\n",
       "      <td>128</td>\n",
       "      <td>2</td>\n",
       "      <td>64</td>\n",
       "      <td>1</td>\n",
       "    </tr>\n",
       "    <tr>\n",
       "      <th>3</th>\n",
       "      <td>Normal</td>\n",
       "      <td>HTTPWeb</td>\n",
       "      <td>192.168.5.122</td>\n",
       "      <td>None</td>\n",
       "      <td>None</td>\n",
       "      <td>80</td>\n",
       "      <td>R</td>\n",
       "      <td>L2L</td>\n",
       "      <td>tcp_ip</td>\n",
       "      <td>192.168.2.113</td>\n",
       "      <td>None</td>\n",
       "      <td>None</td>\n",
       "      <td>4191</td>\n",
       "      <td>F,A</td>\n",
       "      <td>2010-06-12T23:57:38</td>\n",
       "      <td>2010-06-12T23:59:20</td>\n",
       "      <td>128</td>\n",
       "      <td>2</td>\n",
       "      <td>64</td>\n",
       "      <td>1</td>\n",
       "    </tr>\n",
       "    <tr>\n",
       "      <th>4</th>\n",
       "      <td>Normal</td>\n",
       "      <td>HTTPWeb</td>\n",
       "      <td>207.241.148.80</td>\n",
       "      <td>None</td>\n",
       "      <td>None</td>\n",
       "      <td>80</td>\n",
       "      <td>F,A</td>\n",
       "      <td>L2R</td>\n",
       "      <td>tcp_ip</td>\n",
       "      <td>192.168.2.113</td>\n",
       "      <td>None</td>\n",
       "      <td>None</td>\n",
       "      <td>4192</td>\n",
       "      <td>F,A</td>\n",
       "      <td>2010-06-12T23:57:40</td>\n",
       "      <td>2010-06-12T23:59:20</td>\n",
       "      <td>64</td>\n",
       "      <td>1</td>\n",
       "      <td>128</td>\n",
       "      <td>2</td>\n",
       "    </tr>\n",
       "  </tbody>\n",
       "</table>\n",
       "</div>"
      ],
      "text/plain": [
       "      Tag      appName     destination destinationPayloadAsBase64  \\\n",
       "0  Normal  Unknown_UDP     224.0.0.251                       None   \n",
       "1  Normal  Unknown_UDP     224.0.0.251                       None   \n",
       "2  Normal      HTTPWeb   192.168.5.122                       None   \n",
       "3  Normal      HTTPWeb   192.168.5.122                       None   \n",
       "4  Normal      HTTPWeb  207.241.148.80                       None   \n",
       "\n",
       "  destinationPayloadAsUTF destinationPort destinationTCPFlagsDescription  \\\n",
       "0                    None            5353                            N/A   \n",
       "1                    None            5353                            N/A   \n",
       "2                    None              80                              R   \n",
       "3                    None              80                              R   \n",
       "4                    None              80                            F,A   \n",
       "\n",
       "  direction protocolName         source sourcePayloadAsBase64  \\\n",
       "0       L2R       udp_ip  192.168.5.122                  None   \n",
       "1       L2R       udp_ip  192.168.5.122                  None   \n",
       "2       L2L       tcp_ip  192.168.2.113                  None   \n",
       "3       L2L       tcp_ip  192.168.2.113                  None   \n",
       "4       L2R       tcp_ip  192.168.2.113                  None   \n",
       "\n",
       "  sourcePayloadAsUTF sourcePort sourceTCPFlagsDescription  \\\n",
       "0               None       5353                       N/A   \n",
       "1               None       5353                       N/A   \n",
       "2               None       4191                       F,A   \n",
       "3               None       4191                       F,A   \n",
       "4               None       4192                       F,A   \n",
       "\n",
       "         startDateTime         stopDateTime totalDestinationBytes  \\\n",
       "0  2010-06-12T23:57:24  2010-06-13T09:24:52                     0   \n",
       "1  2010-06-12T23:57:24  2010-06-13T09:24:52                     0   \n",
       "2  2010-06-12T23:57:38  2010-06-12T23:59:20                   128   \n",
       "3  2010-06-12T23:57:38  2010-06-12T23:59:20                   128   \n",
       "4  2010-06-12T23:57:40  2010-06-12T23:59:20                    64   \n",
       "\n",
       "  totalDestinationPackets totalSourceBytes totalSourcePackets  \n",
       "0                       0          2633658              28971  \n",
       "1                       0          2633658              28971  \n",
       "2                       2               64                  1  \n",
       "3                       2               64                  1  \n",
       "4                       1              128                  2  "
      ]
     },
     "execution_count": 4,
     "metadata": {},
     "output_type": "execute_result"
    }
   ],
   "source": [
    "df_ISCX.head(5)"
   ]
  },
  {
   "cell_type": "markdown",
   "metadata": {},
   "source": [
    "**Nos quedamos las siguientes cinco columnas: Source IP, Source Port, Destination IP, Destination Port y class. Además, normalizamos los valores de la columna class a 'Attack' y 'Normal'**"
   ]
  },
  {
   "cell_type": "code",
   "execution_count": 5,
   "metadata": {},
   "outputs": [],
   "source": [
    "df_ISCX = df_ISCX[['source', 'sourcePort', 'destination', 'destinationPort', 'Tag']]\n",
    "df_ISCX.columns = ['Src IP Addr', 'Src Pt', 'Dst IP Addr', 'Dst Pt', 'class']"
   ]
  },
  {
   "cell_type": "markdown",
   "metadata": {},
   "source": [
    "**Comprobamos que coincide**"
   ]
  },
  {
   "cell_type": "code",
   "execution_count": 6,
   "metadata": {},
   "outputs": [
    {
     "name": "stdout",
     "output_type": "stream",
     "text": [
      "['Normal' 'Attack']\n"
     ]
    }
   ],
   "source": [
    "print(df_ISCX['class'].unique())"
   ]
  },
  {
   "cell_type": "markdown",
   "metadata": {},
   "source": [
    "**Funciones que calculan las nuevas columnas: Same_ip_src, Same_ip_dest, Same_ip_src_port_dest, Same_ip_dest_port_src**"
   ]
  },
  {
   "cell_type": "code",
   "execution_count": 7,
   "metadata": {},
   "outputs": [],
   "source": [
    "def valuesNewColumns(source, destination, sourceP, destinationP):\n",
    "    return ip_src[source], ip_dst[destination], ip_src_port_dst.loc[source,destinationP], ip_dst_port_src.loc[destination,sourceP]\n",
    "\n",
    "def calculoNewsColumns(dataframe):\n",
    "    dataframe['Same_ip_src'], dataframe['Same_ip_dst'], dataframe['Same_ip_src_port_dst'], dataframe['Same_ip_dst_port_src'] = [np.nan,np.nan,np.nan,np.nan]\n",
    "    dataframe[['Same_ip_src', 'Same_ip_dst', 'Same_ip_src_port_dst', 'Same_ip_dst_port_src']] = dataframe.apply(lambda x: valuesNewColumns(x['Src IP Addr'], x['Dst IP Addr'], x['Src Pt'], x['Dst Pt']), axis=1, result_type='expand')\n",
    "    "
   ]
  },
  {
   "cell_type": "code",
   "execution_count": 8,
   "metadata": {},
   "outputs": [],
   "source": [
    "ip_src = df_ISCX.groupby(['Src IP Addr']).size()\n",
    "ip_dst = df_ISCX.groupby(['Dst IP Addr']).size()\n",
    "ip_src_port_dst = df_ISCX.groupby(['Src IP Addr', 'Dst Pt']).size()\n",
    "ip_dst_port_src = df_ISCX.groupby(['Dst IP Addr', 'Src Pt']).size()\n",
    "\n",
    "calculoNewsColumns(df_ISCX)"
   ]
  },
  {
   "cell_type": "markdown",
   "metadata": {},
   "source": [
    "**Función que nos permite tener la clase (o tag) de tipo de traza en valor numérico (0:Normal, 1:Ataque)**"
   ]
  },
  {
   "cell_type": "code",
   "execution_count": 9,
   "metadata": {},
   "outputs": [],
   "source": [
    "def create_class_numeric(dataframe):\n",
    "    dataframe['class_numeric'] = dataframe['class'].copy()\n",
    "    dataframe.loc[:, 'class_numeric'].replace(['Normal'], 0, inplace=True)\n",
    "    dataframe.loc[:, 'class_numeric'].replace(['Attack'], 1, inplace=True)"
   ]
  },
  {
   "cell_type": "code",
   "execution_count": 10,
   "metadata": {},
   "outputs": [],
   "source": [
    "create_class_numeric(df_ISCX)"
   ]
  },
  {
   "cell_type": "code",
   "execution_count": 11,
   "metadata": {},
   "outputs": [
    {
     "data": {
      "text/html": [
       "<div>\n",
       "<style scoped>\n",
       "    .dataframe tbody tr th:only-of-type {\n",
       "        vertical-align: middle;\n",
       "    }\n",
       "\n",
       "    .dataframe tbody tr th {\n",
       "        vertical-align: top;\n",
       "    }\n",
       "\n",
       "    .dataframe thead th {\n",
       "        text-align: right;\n",
       "    }\n",
       "</style>\n",
       "<table border=\"1\" class=\"dataframe\">\n",
       "  <thead>\n",
       "    <tr style=\"text-align: right;\">\n",
       "      <th></th>\n",
       "      <th>Src IP Addr</th>\n",
       "      <th>Src Pt</th>\n",
       "      <th>Dst IP Addr</th>\n",
       "      <th>Dst Pt</th>\n",
       "      <th>class</th>\n",
       "      <th>Same_ip_src</th>\n",
       "      <th>Same_ip_dst</th>\n",
       "      <th>Same_ip_src_port_dst</th>\n",
       "      <th>Same_ip_dst_port_src</th>\n",
       "      <th>class_numeric</th>\n",
       "    </tr>\n",
       "  </thead>\n",
       "  <tbody>\n",
       "    <tr>\n",
       "      <th>0</th>\n",
       "      <td>192.168.5.122</td>\n",
       "      <td>5353</td>\n",
       "      <td>224.0.0.251</td>\n",
       "      <td>5353</td>\n",
       "      <td>Normal</td>\n",
       "      <td>37698</td>\n",
       "      <td>16</td>\n",
       "      <td>14</td>\n",
       "      <td>16</td>\n",
       "      <td>0</td>\n",
       "    </tr>\n",
       "    <tr>\n",
       "      <th>1</th>\n",
       "      <td>192.168.5.122</td>\n",
       "      <td>5353</td>\n",
       "      <td>224.0.0.251</td>\n",
       "      <td>5353</td>\n",
       "      <td>Normal</td>\n",
       "      <td>37698</td>\n",
       "      <td>16</td>\n",
       "      <td>14</td>\n",
       "      <td>16</td>\n",
       "      <td>0</td>\n",
       "    </tr>\n",
       "    <tr>\n",
       "      <th>2</th>\n",
       "      <td>192.168.2.113</td>\n",
       "      <td>4191</td>\n",
       "      <td>192.168.5.122</td>\n",
       "      <td>80</td>\n",
       "      <td>Normal</td>\n",
       "      <td>3026</td>\n",
       "      <td>27078</td>\n",
       "      <td>988</td>\n",
       "      <td>12</td>\n",
       "      <td>0</td>\n",
       "    </tr>\n",
       "    <tr>\n",
       "      <th>3</th>\n",
       "      <td>192.168.2.113</td>\n",
       "      <td>4191</td>\n",
       "      <td>192.168.5.122</td>\n",
       "      <td>80</td>\n",
       "      <td>Normal</td>\n",
       "      <td>3026</td>\n",
       "      <td>27078</td>\n",
       "      <td>988</td>\n",
       "      <td>12</td>\n",
       "      <td>0</td>\n",
       "    </tr>\n",
       "    <tr>\n",
       "      <th>4</th>\n",
       "      <td>192.168.2.113</td>\n",
       "      <td>4192</td>\n",
       "      <td>207.241.148.80</td>\n",
       "      <td>80</td>\n",
       "      <td>Normal</td>\n",
       "      <td>3026</td>\n",
       "      <td>154</td>\n",
       "      <td>988</td>\n",
       "      <td>2</td>\n",
       "      <td>0</td>\n",
       "    </tr>\n",
       "  </tbody>\n",
       "</table>\n",
       "</div>"
      ],
      "text/plain": [
       "     Src IP Addr Src Pt     Dst IP Addr Dst Pt   class  Same_ip_src  \\\n",
       "0  192.168.5.122   5353     224.0.0.251   5353  Normal        37698   \n",
       "1  192.168.5.122   5353     224.0.0.251   5353  Normal        37698   \n",
       "2  192.168.2.113   4191   192.168.5.122     80  Normal         3026   \n",
       "3  192.168.2.113   4191   192.168.5.122     80  Normal         3026   \n",
       "4  192.168.2.113   4192  207.241.148.80     80  Normal         3026   \n",
       "\n",
       "   Same_ip_dst  Same_ip_src_port_dst  Same_ip_dst_port_src  class_numeric  \n",
       "0           16                    14                    16              0  \n",
       "1           16                    14                    16              0  \n",
       "2        27078                   988                    12              0  \n",
       "3        27078                   988                    12              0  \n",
       "4          154                   988                     2              0  "
      ]
     },
     "execution_count": 11,
     "metadata": {},
     "output_type": "execute_result"
    }
   ],
   "source": [
    "df_ISCX.head(5)"
   ]
  },
  {
   "cell_type": "code",
   "execution_count": 12,
   "metadata": {},
   "outputs": [],
   "source": [
    "df_ISCX.to_csv('ISCX_trabajados.csv')"
   ]
  }
 ],
 "metadata": {
  "kernelspec": {
   "display_name": "Python 3",
   "language": "python",
   "name": "python3"
  },
  "language_info": {
   "codemirror_mode": {
    "name": "ipython",
    "version": 3
   },
   "file_extension": ".py",
   "mimetype": "text/x-python",
   "name": "python",
   "nbconvert_exporter": "python",
   "pygments_lexer": "ipython3",
   "version": "3.7.0"
  }
 },
 "nbformat": 4,
 "nbformat_minor": 2
}
