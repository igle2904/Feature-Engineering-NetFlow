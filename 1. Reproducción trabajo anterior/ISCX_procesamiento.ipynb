{
 "cells": [
  {
   "cell_type": "code",
   "execution_count": 1,
   "metadata": {},
   "outputs": [],
   "source": [
    "import pandas as pd\n",
    "import numpy as np\n",
    "from sklearn.cluster import KMeans, MiniBatchKMeans, Birch\n",
    "from sklearn.neighbors import LocalOutlierFactor\n",
    "from sklearn.covariance import EllipticEnvelope\n",
    "from sklearn.ensemble import IsolationForest\n",
    "from sklearn.metrics import accuracy_score, precision_score, recall_score, f1_score, matthews_corrcoef, roc_auc_score\n",
    "\n",
    "df_ISCX = pd.read_csv('ISCX_trabajados.csv')\n",
    "# class_numeric -> normal: 0 ; attacker:1"
   ]
  },
  {
   "cell_type": "code",
   "execution_count": 2,
   "metadata": {},
   "outputs": [
    {
     "data": {
      "text/html": [
       "<div>\n",
       "<style scoped>\n",
       "    .dataframe tbody tr th:only-of-type {\n",
       "        vertical-align: middle;\n",
       "    }\n",
       "\n",
       "    .dataframe tbody tr th {\n",
       "        vertical-align: top;\n",
       "    }\n",
       "\n",
       "    .dataframe thead th {\n",
       "        text-align: right;\n",
       "    }\n",
       "</style>\n",
       "<table border=\"1\" class=\"dataframe\">\n",
       "  <thead>\n",
       "    <tr style=\"text-align: right;\">\n",
       "      <th></th>\n",
       "      <th>Unnamed: 0</th>\n",
       "      <th>Src IP Addr</th>\n",
       "      <th>Src Pt</th>\n",
       "      <th>Dst IP Addr</th>\n",
       "      <th>Dst Pt</th>\n",
       "      <th>class</th>\n",
       "      <th>Same_ip_src</th>\n",
       "      <th>Same_ip_dst</th>\n",
       "      <th>Same_ip_src_port_dst</th>\n",
       "      <th>Same_ip_dst_port_src</th>\n",
       "      <th>class_numeric</th>\n",
       "    </tr>\n",
       "  </thead>\n",
       "  <tbody>\n",
       "    <tr>\n",
       "      <th>0</th>\n",
       "      <td>0</td>\n",
       "      <td>192.168.5.122</td>\n",
       "      <td>5353</td>\n",
       "      <td>224.0.0.251</td>\n",
       "      <td>5353</td>\n",
       "      <td>Normal</td>\n",
       "      <td>37698</td>\n",
       "      <td>16</td>\n",
       "      <td>14</td>\n",
       "      <td>16</td>\n",
       "      <td>0</td>\n",
       "    </tr>\n",
       "    <tr>\n",
       "      <th>1</th>\n",
       "      <td>1</td>\n",
       "      <td>192.168.5.122</td>\n",
       "      <td>5353</td>\n",
       "      <td>224.0.0.251</td>\n",
       "      <td>5353</td>\n",
       "      <td>Normal</td>\n",
       "      <td>37698</td>\n",
       "      <td>16</td>\n",
       "      <td>14</td>\n",
       "      <td>16</td>\n",
       "      <td>0</td>\n",
       "    </tr>\n",
       "    <tr>\n",
       "      <th>2</th>\n",
       "      <td>2</td>\n",
       "      <td>192.168.2.113</td>\n",
       "      <td>4191</td>\n",
       "      <td>192.168.5.122</td>\n",
       "      <td>80</td>\n",
       "      <td>Normal</td>\n",
       "      <td>3026</td>\n",
       "      <td>27078</td>\n",
       "      <td>988</td>\n",
       "      <td>12</td>\n",
       "      <td>0</td>\n",
       "    </tr>\n",
       "    <tr>\n",
       "      <th>3</th>\n",
       "      <td>3</td>\n",
       "      <td>192.168.2.113</td>\n",
       "      <td>4191</td>\n",
       "      <td>192.168.5.122</td>\n",
       "      <td>80</td>\n",
       "      <td>Normal</td>\n",
       "      <td>3026</td>\n",
       "      <td>27078</td>\n",
       "      <td>988</td>\n",
       "      <td>12</td>\n",
       "      <td>0</td>\n",
       "    </tr>\n",
       "    <tr>\n",
       "      <th>4</th>\n",
       "      <td>4</td>\n",
       "      <td>192.168.2.113</td>\n",
       "      <td>4192</td>\n",
       "      <td>207.241.148.80</td>\n",
       "      <td>80</td>\n",
       "      <td>Normal</td>\n",
       "      <td>3026</td>\n",
       "      <td>154</td>\n",
       "      <td>988</td>\n",
       "      <td>2</td>\n",
       "      <td>0</td>\n",
       "    </tr>\n",
       "  </tbody>\n",
       "</table>\n",
       "</div>"
      ],
      "text/plain": [
       "   Unnamed: 0    Src IP Addr  Src Pt     Dst IP Addr  Dst Pt   class  \\\n",
       "0           0  192.168.5.122    5353     224.0.0.251    5353  Normal   \n",
       "1           1  192.168.5.122    5353     224.0.0.251    5353  Normal   \n",
       "2           2  192.168.2.113    4191   192.168.5.122      80  Normal   \n",
       "3           3  192.168.2.113    4191   192.168.5.122      80  Normal   \n",
       "4           4  192.168.2.113    4192  207.241.148.80      80  Normal   \n",
       "\n",
       "   Same_ip_src  Same_ip_dst  Same_ip_src_port_dst  Same_ip_dst_port_src  \\\n",
       "0        37698           16                    14                    16   \n",
       "1        37698           16                    14                    16   \n",
       "2         3026        27078                   988                    12   \n",
       "3         3026        27078                   988                    12   \n",
       "4         3026          154                   988                     2   \n",
       "\n",
       "   class_numeric  \n",
       "0              0  \n",
       "1              0  \n",
       "2              0  \n",
       "3              0  \n",
       "4              0  "
      ]
     },
     "execution_count": 2,
     "metadata": {},
     "output_type": "execute_result"
    }
   ],
   "source": [
    "df_ISCX.head()"
   ]
  },
  {
   "cell_type": "code",
   "execution_count": 3,
   "metadata": {},
   "outputs": [],
   "source": [
    "def print_results(metodo, real, prediccion):\n",
    "    print(metodo + ' Accuracy:\\t\\t', round(accuracy_score(real, prediccion), 4))\n",
    "    print(metodo + ' Precision:\\t\\t', round(precision_score(real, prediccion), 4))\n",
    "    print(metodo + ' Recall:\\t\\t', round(recall_score(real, prediccion), 4))\n",
    "    print(metodo + ' F1 score:\\t\\t', round(f1_score(real, prediccion), 4))\n",
    "    print(metodo + ' Mathews Corr.:\\t', round(matthews_corrcoef(real, prediccion), 4))\n",
    "    print(metodo + ' AUC:\\t\\t', round(roc_auc_score(real, prediccion), 4))\n",
    "    print()\n",
    "    print()"
   ]
  },
  {
   "cell_type": "markdown",
   "metadata": {},
   "source": [
    "# KMeans"
   ]
  },
  {
   "cell_type": "code",
   "execution_count": 4,
   "metadata": {},
   "outputs": [
    {
     "name": "stdout",
     "output_type": "stream",
     "text": [
      "ISCX Accuracy:\t\t 0.4081\n",
      "ISCX Precision:\t\t 0.1109\n",
      "ISCX Recall:\t\t 0.9992\n",
      "ISCX F1 score:\t\t 0.1997\n",
      "ISCX Mathews Corr.:\t 0.1997\n",
      "ISCX AUC:\t\t 0.6801\n",
      "\n",
      "\n"
     ]
    }
   ],
   "source": [
    "kmeans = KMeans(n_clusters=2, n_init=10, random_state=0, algorithm='full').fit(df_ISCX[['Same_ip_src','Same_ip_dst','Same_ip_src_port_dst','Same_ip_dst_port_src']])\n",
    "print_results('ISCX', df_ISCX['class_numeric'], kmeans.labels_)"
   ]
  },
  {
   "cell_type": "markdown",
   "metadata": {},
   "source": [
    "# MiniBatch KMeans"
   ]
  },
  {
   "cell_type": "code",
   "execution_count": 5,
   "metadata": {},
   "outputs": [
    {
     "name": "stdout",
     "output_type": "stream",
     "text": [
      "ISCX Accuracy:\t\t 0.4104\n",
      "ISCX Precision:\t\t 0.1113\n",
      "ISCX Recall:\t\t 0.9992\n",
      "ISCX F1 score:\t\t 0.2003\n",
      "ISCX Mathews Corr.:\t 0.2008\n",
      "ISCX AUC:\t\t 0.6813\n",
      "\n",
      "\n"
     ]
    }
   ],
   "source": [
    "minibatch = MiniBatchKMeans(n_clusters=2,n_init=10, random_state=0).fit(df_ISCX[['Same_ip_src','Same_ip_dst','Same_ip_src_port_dst','Same_ip_dst_port_src']])\n",
    "print_results('ISCX', df_ISCX['class_numeric'], minibatch.labels_)"
   ]
  },
  {
   "cell_type": "markdown",
   "metadata": {},
   "source": [
    "# Birch"
   ]
  },
  {
   "cell_type": "code",
   "execution_count": null,
   "metadata": {},
   "outputs": [],
   "source": [
    "birch = Birch(n_clusters=2, threshold=0.1, branching_factor=10).fit_predict(df_ISCX[['Same_ip_src','Same_ip_dst','Same_ip_src_port_dst','Same_ip_dst_port_src']])\n",
    "print_results('ISCX', df_ISCX['class_numeric'], birch)"
   ]
  },
  {
   "cell_type": "markdown",
   "metadata": {},
   "source": [
    "# MinCovDet"
   ]
  },
  {
   "cell_type": "code",
   "execution_count": 6,
   "metadata": {},
   "outputs": [
    {
     "name": "stdout",
     "output_type": "stream",
     "text": [
      "ISCX Accuracy:\t\t 0.8737\n",
      "ISCX Precision:\t\t 0.3618\n",
      "ISCX Recall:\t\t 0.9289\n",
      "ISCX F1 score:\t\t 0.5208\n",
      "ISCX Mathews Corr.:\t 0.5325\n",
      "ISCX AUC:\t\t 0.8991\n",
      "\n",
      "\n"
     ]
    }
   ],
   "source": [
    "minCovDet = EllipticEnvelope(assume_centered=False, contamination=0.2, random_state=4).fit_predict(df_ISCX[['Same_ip_src','Same_ip_dst','Same_ip_src_port_dst','Same_ip_dst_port_src']])\n",
    "minCovDet[minCovDet == 1] = 0\n",
    "minCovDet[minCovDet == -1] = 1\n",
    "print_results('ISCX', df_ISCX['class_numeric'], minCovDet)"
   ]
  },
  {
   "cell_type": "markdown",
   "metadata": {},
   "source": [
    "# Isolation Forest"
   ]
  },
  {
   "cell_type": "code",
   "execution_count": 7,
   "metadata": {},
   "outputs": [
    {
     "name": "stdout",
     "output_type": "stream",
     "text": [
      "ISCX Accuracy:\t\t 0.7999\n",
      "ISCX Precision:\t\t 0.1819\n",
      "ISCX Recall:\t\t 0.4888\n",
      "ISCX F1 score:\t\t 0.2652\n",
      "ISCX Mathews Corr.:\t 0.2056\n",
      "ISCX AUC:\t\t 0.6567\n",
      "\n",
      "\n"
     ]
    }
   ],
   "source": [
    "isolation = IsolationForest(n_estimators=100, contamination=0.2, random_state=0, behaviour='new').fit_predict(df_ISCX[['Same_ip_src','Same_ip_dst','Same_ip_src_port_dst','Same_ip_dst_port_src']])\n",
    "isolation[isolation == 1] = 0\n",
    "isolation[isolation == -1] = 1\n",
    "print_results('ISCX', df_ISCX['class_numeric'], isolation)"
   ]
  },
  {
   "cell_type": "code",
   "execution_count": null,
   "metadata": {},
   "outputs": [],
   "source": []
  }
 ],
 "metadata": {
  "kernelspec": {
   "display_name": "Python 3",
   "language": "python",
   "name": "python3"
  },
  "language_info": {
   "codemirror_mode": {
    "name": "ipython",
    "version": 3
   },
   "file_extension": ".py",
   "mimetype": "text/x-python",
   "name": "python",
   "nbconvert_exporter": "python",
   "pygments_lexer": "ipython3",
   "version": "3.7.0"
  }
 },
 "nbformat": 4,
 "nbformat_minor": 2
}
