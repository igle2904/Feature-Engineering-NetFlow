{
 "cells": [
  {
   "cell_type": "code",
   "execution_count": 1,
   "metadata": {},
   "outputs": [
    {
     "data": {
      "text/html": [
       "<div>\n",
       "<style scoped>\n",
       "    .dataframe tbody tr th:only-of-type {\n",
       "        vertical-align: middle;\n",
       "    }\n",
       "\n",
       "    .dataframe tbody tr th {\n",
       "        vertical-align: top;\n",
       "    }\n",
       "\n",
       "    .dataframe thead th {\n",
       "        text-align: right;\n",
       "    }\n",
       "</style>\n",
       "<table border=\"1\" class=\"dataframe\">\n",
       "  <thead>\n",
       "    <tr style=\"text-align: right;\">\n",
       "      <th></th>\n",
       "      <th></th>\n",
       "      <th>0</th>\n",
       "      <th>1</th>\n",
       "      <th>2</th>\n",
       "      <th>3</th>\n",
       "      <th>4</th>\n",
       "      <th>5</th>\n",
       "      <th>6</th>\n",
       "      <th>7</th>\n",
       "      <th>8</th>\n",
       "      <th>9</th>\n",
       "    </tr>\n",
       "    <tr>\n",
       "      <th>featureSelection</th>\n",
       "      <th>preprocesamiento</th>\n",
       "      <th></th>\n",
       "      <th></th>\n",
       "      <th></th>\n",
       "      <th></th>\n",
       "      <th></th>\n",
       "      <th></th>\n",
       "      <th></th>\n",
       "      <th></th>\n",
       "      <th></th>\n",
       "      <th></th>\n",
       "    </tr>\n",
       "  </thead>\n",
       "  <tbody>\n",
       "    <tr>\n",
       "      <th>kbest_chi2</th>\n",
       "      <th>robust</th>\n",
       "      <td>norm_src</td>\n",
       "      <td>arit</td>\n",
       "      <td>eucl_dec</td>\n",
       "      <td>s0</td>\n",
       "      <td>s1</td>\n",
       "      <td>d18</td>\n",
       "      <td>d12</td>\n",
       "      <td>d25</td>\n",
       "      <td>hamm</td>\n",
       "      <td>xor</td>\n",
       "    </tr>\n",
       "    <tr>\n",
       "      <th>kbest_fclass</th>\n",
       "      <th>robust</th>\n",
       "      <td>arit</td>\n",
       "      <td>eucl_dec</td>\n",
       "      <td>s1</td>\n",
       "      <td>hamm</td>\n",
       "      <td>d12</td>\n",
       "      <td>d18</td>\n",
       "      <td>xor+</td>\n",
       "      <td>s0</td>\n",
       "      <td>xor</td>\n",
       "      <td>d25</td>\n",
       "    </tr>\n",
       "    <tr>\n",
       "      <th>extraTrees</th>\n",
       "      <th>robust</th>\n",
       "      <td>d10</td>\n",
       "      <td>s1</td>\n",
       "      <td>eucl_dec</td>\n",
       "      <td>d4</td>\n",
       "      <td>arit</td>\n",
       "      <td>s8</td>\n",
       "      <td>s2</td>\n",
       "      <td>s3</td>\n",
       "      <td>d1</td>\n",
       "      <td>s0</td>\n",
       "    </tr>\n",
       "    <tr>\n",
       "      <th>randomForest</th>\n",
       "      <th>robust</th>\n",
       "      <td>arit</td>\n",
       "      <td>eucl_dec</td>\n",
       "      <td>norm_src</td>\n",
       "      <td>hamm</td>\n",
       "      <td>xor</td>\n",
       "      <td>xor+</td>\n",
       "      <td>s4</td>\n",
       "      <td>s8</td>\n",
       "      <td>eucl</td>\n",
       "      <td>s2</td>\n",
       "    </tr>\n",
       "  </tbody>\n",
       "</table>\n",
       "</div>"
      ],
      "text/plain": [
       "                                          0         1         2     3     4  \\\n",
       "featureSelection preprocesamiento                                             \n",
       "kbest_chi2       robust            norm_src      arit  eucl_dec    s0    s1   \n",
       "kbest_fclass     robust                arit  eucl_dec        s1  hamm   d12   \n",
       "extraTrees       robust                 d10        s1  eucl_dec    d4  arit   \n",
       "randomForest     robust                arit  eucl_dec  norm_src  hamm   xor   \n",
       "\n",
       "                                      5     6    7     8    9  \n",
       "featureSelection preprocesamiento                              \n",
       "kbest_chi2       robust             d18   d12  d25  hamm  xor  \n",
       "kbest_fclass     robust             d18  xor+   s0   xor  d25  \n",
       "extraTrees       robust              s8    s2   s3    d1   s0  \n",
       "randomForest     robust            xor+    s4   s8  eucl   s2  "
      ]
     },
     "execution_count": 1,
     "metadata": {},
     "output_type": "execute_result"
    }
   ],
   "source": [
    "import pandas as pd\n",
    "import numpy as np\n",
    "import json\n",
    "from sklearn.cluster import KMeans, MiniBatchKMeans, Birch, DBSCAN\n",
    "from sklearn.covariance import EllipticEnvelope\n",
    "from sklearn.ensemble import IsolationForest\n",
    "from sklearn.svm import OneClassSVM\n",
    "from sklearn.metrics import accuracy_score, precision_score, recall_score, f1_score, matthews_corrcoef, roc_auc_score\n",
    "\n",
    "df = pd.read_csv('ISCX_datasets_preprocesados/robust.csv')\n",
    "df_tags = pd.read_csv('ISCX_datasets_preprocesados/ISCX_tags.csv', index_col=0, header=None, names=['Tag'])\n",
    "\n",
    "df_features = pd.read_csv('ISCX_datasets_preprocesados/ISCX_features.csv', index_col=['featureSelection', 'preprocesamiento'])\n",
    "df_features.loc[pd.IndexSlice[:, 'robust'],:]"
   ]
  },
  {
   "cell_type": "code",
   "execution_count": 2,
   "metadata": {},
   "outputs": [],
   "source": [
    "def save_results(real, prediccion, indexs):\n",
    "    df_results.loc[indexs] =  [round(accuracy_score(real, prediccion), 4),\n",
    "                              round(precision_score(real, prediccion), 4),\n",
    "                              round(recall_score(real, prediccion), 4),\n",
    "                              round(f1_score(real, prediccion), 4),\n",
    "                              round(matthews_corrcoef(real, prediccion), 4),\n",
    "                              round(roc_auc_score(real, prediccion), 4)]"
   ]
  },
  {
   "cell_type": "code",
   "execution_count": 3,
   "metadata": {},
   "outputs": [
    {
     "data": {
      "text/html": [
       "<div>\n",
       "<style scoped>\n",
       "    .dataframe tbody tr th:only-of-type {\n",
       "        vertical-align: middle;\n",
       "    }\n",
       "\n",
       "    .dataframe tbody tr th {\n",
       "        vertical-align: top;\n",
       "    }\n",
       "\n",
       "    .dataframe thead th {\n",
       "        text-align: right;\n",
       "    }\n",
       "</style>\n",
       "<table border=\"1\" class=\"dataframe\">\n",
       "  <thead>\n",
       "    <tr style=\"text-align: right;\">\n",
       "      <th></th>\n",
       "      <th></th>\n",
       "      <th>accuracy</th>\n",
       "      <th>precision</th>\n",
       "      <th>recall</th>\n",
       "      <th>f1_score</th>\n",
       "      <th>mathews_corr</th>\n",
       "      <th>AUC</th>\n",
       "    </tr>\n",
       "    <tr>\n",
       "      <th>method</th>\n",
       "      <th>featureSelection</th>\n",
       "      <th></th>\n",
       "      <th></th>\n",
       "      <th></th>\n",
       "      <th></th>\n",
       "      <th></th>\n",
       "      <th></th>\n",
       "    </tr>\n",
       "  </thead>\n",
       "  <tbody>\n",
       "    <tr>\n",
       "      <th rowspan=\"4\" valign=\"top\">kmeans</th>\n",
       "      <th>kbest_chi2</th>\n",
       "      <td>0.9244</td>\n",
       "      <td>0.0043</td>\n",
       "      <td>0.0001</td>\n",
       "      <td>0.0002</td>\n",
       "      <td>-0.0110</td>\n",
       "      <td>0.4991</td>\n",
       "    </tr>\n",
       "    <tr>\n",
       "      <th>kbest_fclass</th>\n",
       "      <td>0.8504</td>\n",
       "      <td>0.3172</td>\n",
       "      <td>0.8886</td>\n",
       "      <td>0.4675</td>\n",
       "      <td>0.4752</td>\n",
       "      <td>0.8680</td>\n",
       "    </tr>\n",
       "    <tr>\n",
       "      <th>extraTrees</th>\n",
       "      <td>0.8504</td>\n",
       "      <td>0.3172</td>\n",
       "      <td>0.8886</td>\n",
       "      <td>0.4675</td>\n",
       "      <td>0.4752</td>\n",
       "      <td>0.8680</td>\n",
       "    </tr>\n",
       "    <tr>\n",
       "      <th>randomForest</th>\n",
       "      <td>0.9244</td>\n",
       "      <td>0.0043</td>\n",
       "      <td>0.0001</td>\n",
       "      <td>0.0002</td>\n",
       "      <td>-0.0110</td>\n",
       "      <td>0.4991</td>\n",
       "    </tr>\n",
       "    <tr>\n",
       "      <th rowspan=\"4\" valign=\"top\">minibatch</th>\n",
       "      <th>kbest_chi2</th>\n",
       "      <td>0.9239</td>\n",
       "      <td>0.3009</td>\n",
       "      <td>0.0225</td>\n",
       "      <td>0.0419</td>\n",
       "      <td>0.0647</td>\n",
       "      <td>0.5092</td>\n",
       "    </tr>\n",
       "    <tr>\n",
       "      <th>kbest_fclass</th>\n",
       "      <td>0.8504</td>\n",
       "      <td>0.3172</td>\n",
       "      <td>0.8886</td>\n",
       "      <td>0.4675</td>\n",
       "      <td>0.4752</td>\n",
       "      <td>0.8680</td>\n",
       "    </tr>\n",
       "    <tr>\n",
       "      <th>extraTrees</th>\n",
       "      <td>0.8504</td>\n",
       "      <td>0.3172</td>\n",
       "      <td>0.8886</td>\n",
       "      <td>0.4675</td>\n",
       "      <td>0.4752</td>\n",
       "      <td>0.8680</td>\n",
       "    </tr>\n",
       "    <tr>\n",
       "      <th>randomForest</th>\n",
       "      <td>0.9239</td>\n",
       "      <td>0.3009</td>\n",
       "      <td>0.0225</td>\n",
       "      <td>0.0419</td>\n",
       "      <td>0.0647</td>\n",
       "      <td>0.5092</td>\n",
       "    </tr>\n",
       "    <tr>\n",
       "      <th rowspan=\"4\" valign=\"top\">birch</th>\n",
       "      <th>kbest_chi2</th>\n",
       "      <td>0.9244</td>\n",
       "      <td>0.0043</td>\n",
       "      <td>0.0001</td>\n",
       "      <td>0.0002</td>\n",
       "      <td>-0.0110</td>\n",
       "      <td>0.4991</td>\n",
       "    </tr>\n",
       "    <tr>\n",
       "      <th>kbest_fclass</th>\n",
       "      <td>0.8506</td>\n",
       "      <td>0.3174</td>\n",
       "      <td>0.8886</td>\n",
       "      <td>0.4677</td>\n",
       "      <td>0.4754</td>\n",
       "      <td>0.8681</td>\n",
       "    </tr>\n",
       "    <tr>\n",
       "      <th>extraTrees</th>\n",
       "      <td>0.8504</td>\n",
       "      <td>0.3172</td>\n",
       "      <td>0.8886</td>\n",
       "      <td>0.4675</td>\n",
       "      <td>0.4752</td>\n",
       "      <td>0.8680</td>\n",
       "    </tr>\n",
       "    <tr>\n",
       "      <th>randomForest</th>\n",
       "      <td>0.9244</td>\n",
       "      <td>0.0043</td>\n",
       "      <td>0.0001</td>\n",
       "      <td>0.0002</td>\n",
       "      <td>-0.0110</td>\n",
       "      <td>0.4991</td>\n",
       "    </tr>\n",
       "    <tr>\n",
       "      <th rowspan=\"4\" valign=\"top\">mincovdet</th>\n",
       "      <th>kbest_chi2</th>\n",
       "      <td>0.7308</td>\n",
       "      <td>0.0118</td>\n",
       "      <td>0.0319</td>\n",
       "      <td>0.0172</td>\n",
       "      <td>-0.1187</td>\n",
       "      <td>0.4093</td>\n",
       "    </tr>\n",
       "    <tr>\n",
       "      <th>kbest_fclass</th>\n",
       "      <td>0.7296</td>\n",
       "      <td>0.0035</td>\n",
       "      <td>0.0094</td>\n",
       "      <td>0.0051</td>\n",
       "      <td>-0.1336</td>\n",
       "      <td>0.3982</td>\n",
       "    </tr>\n",
       "    <tr>\n",
       "      <th>extraTrees</th>\n",
       "      <td>0.7589</td>\n",
       "      <td>0.0746</td>\n",
       "      <td>0.1983</td>\n",
       "      <td>0.1084</td>\n",
       "      <td>0.0013</td>\n",
       "      <td>0.5010</td>\n",
       "    </tr>\n",
       "    <tr>\n",
       "      <th>randomForest</th>\n",
       "      <td>0.7523</td>\n",
       "      <td>0.0685</td>\n",
       "      <td>0.1868</td>\n",
       "      <td>0.1003</td>\n",
       "      <td>-0.0103</td>\n",
       "      <td>0.4921</td>\n",
       "    </tr>\n",
       "    <tr>\n",
       "      <th rowspan=\"4\" valign=\"top\">isolation</th>\n",
       "      <th>kbest_chi2</th>\n",
       "      <td>0.7310</td>\n",
       "      <td>0.0121</td>\n",
       "      <td>0.0326</td>\n",
       "      <td>0.0176</td>\n",
       "      <td>-0.1182</td>\n",
       "      <td>0.4097</td>\n",
       "    </tr>\n",
       "    <tr>\n",
       "      <th>kbest_fclass</th>\n",
       "      <td>0.7309</td>\n",
       "      <td>0.0119</td>\n",
       "      <td>0.0321</td>\n",
       "      <td>0.0173</td>\n",
       "      <td>-0.1185</td>\n",
       "      <td>0.4094</td>\n",
       "    </tr>\n",
       "    <tr>\n",
       "      <th>extraTrees</th>\n",
       "      <td>0.7498</td>\n",
       "      <td>0.0471</td>\n",
       "      <td>0.1242</td>\n",
       "      <td>0.0683</td>\n",
       "      <td>-0.0503</td>\n",
       "      <td>0.4619</td>\n",
       "    </tr>\n",
       "    <tr>\n",
       "      <th>randomForest</th>\n",
       "      <td>0.7318</td>\n",
       "      <td>0.0115</td>\n",
       "      <td>0.0308</td>\n",
       "      <td>0.0167</td>\n",
       "      <td>-0.1189</td>\n",
       "      <td>0.4093</td>\n",
       "    </tr>\n",
       "  </tbody>\n",
       "</table>\n",
       "</div>"
      ],
      "text/plain": [
       "                            accuracy  precision  recall  f1_score  \\\n",
       "method    featureSelection                                          \n",
       "kmeans    kbest_chi2          0.9244     0.0043  0.0001    0.0002   \n",
       "          kbest_fclass        0.8504     0.3172  0.8886    0.4675   \n",
       "          extraTrees          0.8504     0.3172  0.8886    0.4675   \n",
       "          randomForest        0.9244     0.0043  0.0001    0.0002   \n",
       "minibatch kbest_chi2          0.9239     0.3009  0.0225    0.0419   \n",
       "          kbest_fclass        0.8504     0.3172  0.8886    0.4675   \n",
       "          extraTrees          0.8504     0.3172  0.8886    0.4675   \n",
       "          randomForest        0.9239     0.3009  0.0225    0.0419   \n",
       "birch     kbest_chi2          0.9244     0.0043  0.0001    0.0002   \n",
       "          kbest_fclass        0.8506     0.3174  0.8886    0.4677   \n",
       "          extraTrees          0.8504     0.3172  0.8886    0.4675   \n",
       "          randomForest        0.9244     0.0043  0.0001    0.0002   \n",
       "mincovdet kbest_chi2          0.7308     0.0118  0.0319    0.0172   \n",
       "          kbest_fclass        0.7296     0.0035  0.0094    0.0051   \n",
       "          extraTrees          0.7589     0.0746  0.1983    0.1084   \n",
       "          randomForest        0.7523     0.0685  0.1868    0.1003   \n",
       "isolation kbest_chi2          0.7310     0.0121  0.0326    0.0176   \n",
       "          kbest_fclass        0.7309     0.0119  0.0321    0.0173   \n",
       "          extraTrees          0.7498     0.0471  0.1242    0.0683   \n",
       "          randomForest        0.7318     0.0115  0.0308    0.0167   \n",
       "\n",
       "                            mathews_corr     AUC  \n",
       "method    featureSelection                        \n",
       "kmeans    kbest_chi2             -0.0110  0.4991  \n",
       "          kbest_fclass            0.4752  0.8680  \n",
       "          extraTrees              0.4752  0.8680  \n",
       "          randomForest           -0.0110  0.4991  \n",
       "minibatch kbest_chi2              0.0647  0.5092  \n",
       "          kbest_fclass            0.4752  0.8680  \n",
       "          extraTrees              0.4752  0.8680  \n",
       "          randomForest            0.0647  0.5092  \n",
       "birch     kbest_chi2             -0.0110  0.4991  \n",
       "          kbest_fclass            0.4754  0.8681  \n",
       "          extraTrees              0.4752  0.8680  \n",
       "          randomForest           -0.0110  0.4991  \n",
       "mincovdet kbest_chi2             -0.1187  0.4093  \n",
       "          kbest_fclass           -0.1336  0.3982  \n",
       "          extraTrees              0.0013  0.5010  \n",
       "          randomForest           -0.0103  0.4921  \n",
       "isolation kbest_chi2             -0.1182  0.4097  \n",
       "          kbest_fclass           -0.1185  0.4094  \n",
       "          extraTrees             -0.0503  0.4619  \n",
       "          randomForest           -0.1189  0.4093  "
      ]
     },
     "execution_count": 3,
     "metadata": {},
     "output_type": "execute_result"
    }
   ],
   "source": [
    "from os import path\n",
    "\n",
    "if path.exists('ISCX_results/ISCX_robustScaler_results.csv'):\n",
    "    df_results = pd.read_csv('ISCX_results/ISCX_robustScaler_results.csv', index_col=['method', 'featureSelection'])\n",
    "else:\n",
    "    multiIndex = [['kmeans', 'minibatch', 'birch', 'mincovdet', 'isolation'],['kbest_chi2', 'kbest_fclass', 'extraTrees', 'randomForest']]\n",
    "\n",
    "    multiIndex = pd.MultiIndex.from_product(multiIndex, names=['method', 'featureSelection'])\n",
    "    df_results = pd.DataFrame(None, index=multiIndex, columns=['accuracy', 'precision', 'recall', 'f1_score', 'mathews_corr', 'AUC'])\n",
    "df_results"
   ]
  },
  {
   "cell_type": "markdown",
   "metadata": {},
   "source": [
    "# KMeans"
   ]
  },
  {
   "cell_type": "code",
   "execution_count": 4,
   "metadata": {},
   "outputs": [
    {
     "data": {
      "text/plain": [
       "accuracy        0.9244\n",
       "precision       0.0043\n",
       "recall          0.0001\n",
       "f1_score        0.0002\n",
       "mathews_corr   -0.0110\n",
       "AUC             0.4991\n",
       "Name: (kmeans, kbest_chi2), dtype: float64"
      ]
     },
     "execution_count": 4,
     "metadata": {},
     "output_type": "execute_result"
    }
   ],
   "source": [
    "kmeans = KMeans(n_clusters=2, n_init=10, random_state=0, algorithm='full').fit(df[df_features.loc[('kbest_chi2', 'robust')]])\n",
    "\n",
    "save_results(df_tags, kmeans.labels_, ('kmeans', 'kbest_chi2'))\n",
    "df_results.loc[('kmeans', 'kbest_chi2')]"
   ]
  },
  {
   "cell_type": "code",
   "execution_count": 5,
   "metadata": {},
   "outputs": [
    {
     "data": {
      "text/plain": [
       "accuracy        0.8504\n",
       "precision       0.3172\n",
       "recall          0.8886\n",
       "f1_score        0.4675\n",
       "mathews_corr    0.4752\n",
       "AUC             0.8680\n",
       "Name: (kmeans, kbest_fclass), dtype: float64"
      ]
     },
     "execution_count": 5,
     "metadata": {},
     "output_type": "execute_result"
    }
   ],
   "source": [
    "kmeans = KMeans(n_clusters=2, n_init=10, random_state=0, algorithm='full').fit(df[df_features.loc[('kbest_fclass', 'robust')]])\n",
    "\n",
    "save_results(df_tags, kmeans.labels_, ('kmeans', 'kbest_fclass'))\n",
    "df_results.loc[('kmeans', 'kbest_fclass')]"
   ]
  },
  {
   "cell_type": "code",
   "execution_count": 6,
   "metadata": {},
   "outputs": [
    {
     "data": {
      "text/plain": [
       "accuracy        0.8504\n",
       "precision       0.3172\n",
       "recall          0.8886\n",
       "f1_score        0.4675\n",
       "mathews_corr    0.4752\n",
       "AUC             0.8680\n",
       "Name: (kmeans, extraTrees), dtype: float64"
      ]
     },
     "execution_count": 6,
     "metadata": {},
     "output_type": "execute_result"
    }
   ],
   "source": [
    "kmeans = KMeans(n_clusters=2, n_init=10, random_state=0, algorithm='full').fit(df[df_features.loc[('extraTrees', 'robust')]])\n",
    "\n",
    "save_results(df_tags, kmeans.labels_, ('kmeans', 'extraTrees'))\n",
    "df_results.loc[('kmeans', 'extraTrees')]"
   ]
  },
  {
   "cell_type": "code",
   "execution_count": 7,
   "metadata": {},
   "outputs": [
    {
     "data": {
      "text/plain": [
       "accuracy        0.9244\n",
       "precision       0.0043\n",
       "recall          0.0001\n",
       "f1_score        0.0002\n",
       "mathews_corr   -0.0110\n",
       "AUC             0.4991\n",
       "Name: (kmeans, randomForest), dtype: float64"
      ]
     },
     "execution_count": 7,
     "metadata": {},
     "output_type": "execute_result"
    }
   ],
   "source": [
    "kmeans = KMeans(n_clusters=2, n_init=10, random_state=0, algorithm='full').fit(df[df_features.loc[('randomForest', 'robust')]])\n",
    "\n",
    "save_results(df_tags, kmeans.labels_, ('kmeans', 'randomForest'))\n",
    "df_results.loc[('kmeans', 'randomForest')]"
   ]
  },
  {
   "cell_type": "markdown",
   "metadata": {},
   "source": [
    "# MiniBatch KMeans"
   ]
  },
  {
   "cell_type": "code",
   "execution_count": 8,
   "metadata": {},
   "outputs": [
    {
     "data": {
      "text/plain": [
       "accuracy        0.9239\n",
       "precision       0.3009\n",
       "recall          0.0225\n",
       "f1_score        0.0419\n",
       "mathews_corr    0.0647\n",
       "AUC             0.5092\n",
       "Name: (minibatch, kbest_chi2), dtype: float64"
      ]
     },
     "execution_count": 8,
     "metadata": {},
     "output_type": "execute_result"
    }
   ],
   "source": [
    "minibatch = MiniBatchKMeans(n_clusters=2,n_init=10, random_state=0).fit(df[df_features.loc[('kbest_chi2', 'robust')]])\n",
    "\n",
    "save_results(df_tags, minibatch.labels_, ('minibatch', 'kbest_chi2'))    # Se invierte los clusters tags 0 y 1\n",
    "df_results.loc[('minibatch', 'kbest_chi2')]"
   ]
  },
  {
   "cell_type": "code",
   "execution_count": 9,
   "metadata": {},
   "outputs": [
    {
     "data": {
      "text/plain": [
       "accuracy        0.8504\n",
       "precision       0.3172\n",
       "recall          0.8886\n",
       "f1_score        0.4675\n",
       "mathews_corr    0.4752\n",
       "AUC             0.8680\n",
       "Name: (minibatch, kbest_fclass), dtype: float64"
      ]
     },
     "execution_count": 9,
     "metadata": {},
     "output_type": "execute_result"
    }
   ],
   "source": [
    "minibatch = MiniBatchKMeans(n_clusters=2,n_init=10, random_state=0).fit(df[df_features.loc[('kbest_fclass', 'robust')]])\n",
    "\n",
    "save_results(df_tags, minibatch.labels_, ('minibatch', 'kbest_fclass'))    # Se invierte los clusters tags 0 y 1\n",
    "df_results.loc[('minibatch', 'kbest_fclass')]"
   ]
  },
  {
   "cell_type": "code",
   "execution_count": 10,
   "metadata": {},
   "outputs": [
    {
     "data": {
      "text/plain": [
       "accuracy        0.8504\n",
       "precision       0.3172\n",
       "recall          0.8886\n",
       "f1_score        0.4675\n",
       "mathews_corr    0.4752\n",
       "AUC             0.8680\n",
       "Name: (minibatch, extraTrees), dtype: float64"
      ]
     },
     "execution_count": 10,
     "metadata": {},
     "output_type": "execute_result"
    }
   ],
   "source": [
    "minibatch = MiniBatchKMeans(n_clusters=2,n_init=10, random_state=0).fit(df[df_features.loc[('extraTrees', 'robust')]])\n",
    "\n",
    "save_results(df_tags, minibatch.labels_, ('minibatch', 'extraTrees'))    # Se invierte los clusters tags 0 y 1\n",
    "df_results.loc[('minibatch', 'extraTrees')]"
   ]
  },
  {
   "cell_type": "code",
   "execution_count": 11,
   "metadata": {},
   "outputs": [
    {
     "data": {
      "text/plain": [
       "accuracy        0.9239\n",
       "precision       0.3009\n",
       "recall          0.0225\n",
       "f1_score        0.0419\n",
       "mathews_corr    0.0647\n",
       "AUC             0.5092\n",
       "Name: (minibatch, randomForest), dtype: float64"
      ]
     },
     "execution_count": 11,
     "metadata": {},
     "output_type": "execute_result"
    }
   ],
   "source": [
    "minibatch = MiniBatchKMeans(n_clusters=2,n_init=10, random_state=0).fit(df[df_features.loc[('randomForest', 'robust')]])\n",
    "\n",
    "save_results(df_tags, minibatch.labels_, ('minibatch', 'randomForest'))    # Se invierte los clusters tags 0 y 1\n",
    "df_results.loc[('minibatch', 'randomForest')]"
   ]
  },
  {
   "cell_type": "markdown",
   "metadata": {},
   "source": [
    "# BIRCH"
   ]
  },
  {
   "cell_type": "code",
   "execution_count": 12,
   "metadata": {},
   "outputs": [
    {
     "data": {
      "text/plain": [
       "accuracy        0.9244\n",
       "precision       0.0043\n",
       "recall          0.0001\n",
       "f1_score        0.0002\n",
       "mathews_corr   -0.0110\n",
       "AUC             0.4991\n",
       "Name: (birch, kbest_chi2), dtype: float64"
      ]
     },
     "execution_count": 12,
     "metadata": {},
     "output_type": "execute_result"
    }
   ],
   "source": [
    "birch = Birch(n_clusters=2, threshold=1, branching_factor=10).fit_predict(df[df_features.loc[('kbest_chi2', 'robust')]])\n",
    "\n",
    "save_results(df_tags, birch, ('birch', 'kbest_chi2'))\n",
    "df_results.loc[('birch', 'kbest_chi2')]"
   ]
  },
  {
   "cell_type": "code",
   "execution_count": 13,
   "metadata": {},
   "outputs": [
    {
     "data": {
      "text/plain": [
       "accuracy        0.8506\n",
       "precision       0.3174\n",
       "recall          0.8886\n",
       "f1_score        0.4677\n",
       "mathews_corr    0.4754\n",
       "AUC             0.8681\n",
       "Name: (birch, kbest_fclass), dtype: float64"
      ]
     },
     "execution_count": 13,
     "metadata": {},
     "output_type": "execute_result"
    }
   ],
   "source": [
    "birch = Birch(n_clusters=2, threshold=0.1, branching_factor=10).fit_predict(df[df_features.loc[('kbest_fclass', 'robust')]])\n",
    "\n",
    "save_results(df_tags, birch, ('birch', 'kbest_fclass'))\n",
    "df_results.loc[('birch', 'kbest_fclass')]"
   ]
  },
  {
   "cell_type": "code",
   "execution_count": 14,
   "metadata": {},
   "outputs": [
    {
     "data": {
      "text/plain": [
       "accuracy        0.8504\n",
       "precision       0.3172\n",
       "recall          0.8886\n",
       "f1_score        0.4675\n",
       "mathews_corr    0.4752\n",
       "AUC             0.8680\n",
       "Name: (birch, extraTrees), dtype: float64"
      ]
     },
     "execution_count": 14,
     "metadata": {},
     "output_type": "execute_result"
    }
   ],
   "source": [
    "birch = Birch(n_clusters=2, threshold=1, branching_factor=10).fit_predict(df[df_features.loc[('extraTrees', 'robust')]])\n",
    "\n",
    "save_results(df_tags, birch, ('birch', 'extraTrees'))\n",
    "df_results.loc[('birch', 'extraTrees')]"
   ]
  },
  {
   "cell_type": "code",
   "execution_count": 15,
   "metadata": {},
   "outputs": [
    {
     "data": {
      "text/plain": [
       "accuracy        0.9244\n",
       "precision       0.0043\n",
       "recall          0.0001\n",
       "f1_score        0.0002\n",
       "mathews_corr   -0.0110\n",
       "AUC             0.4991\n",
       "Name: (birch, randomForest), dtype: float64"
      ]
     },
     "execution_count": 15,
     "metadata": {},
     "output_type": "execute_result"
    }
   ],
   "source": [
    "birch = Birch(n_clusters=2, threshold=1, branching_factor=10).fit_predict(df[df_features.loc[('randomForest', 'robust')]])\n",
    "\n",
    "save_results(df_tags, birch, ('birch', 'randomForest'))\n",
    "df_results.loc[('birch', 'randomForest')]"
   ]
  },
  {
   "cell_type": "markdown",
   "metadata": {},
   "source": [
    "# MinCovDet"
   ]
  },
  {
   "cell_type": "code",
   "execution_count": 16,
   "metadata": {},
   "outputs": [
    {
     "data": {
      "text/plain": [
       "accuracy        0.7308\n",
       "precision       0.0118\n",
       "recall          0.0319\n",
       "f1_score        0.0172\n",
       "mathews_corr   -0.1187\n",
       "AUC             0.4093\n",
       "Name: (mincovdet, kbest_chi2), dtype: float64"
      ]
     },
     "execution_count": 16,
     "metadata": {},
     "output_type": "execute_result"
    }
   ],
   "source": [
    "minCovDet = EllipticEnvelope(assume_centered=False, contamination=0.2, support_fraction=1,\n",
    "                             random_state=4).fit_predict(df[df_features.loc[('kbest_chi2', 'robust')]])\n",
    "\n",
    "minCovDet[minCovDet == 1] = 0\n",
    "minCovDet[minCovDet == -1] = 1\n",
    "save_results(df_tags, minCovDet, ('mincovdet', 'kbest_chi2'))\n",
    "df_results.loc[('mincovdet', 'kbest_chi2')]"
   ]
  },
  {
   "cell_type": "code",
   "execution_count": 17,
   "metadata": {},
   "outputs": [
    {
     "data": {
      "text/plain": [
       "accuracy        0.7296\n",
       "precision       0.0035\n",
       "recall          0.0094\n",
       "f1_score        0.0051\n",
       "mathews_corr   -0.1336\n",
       "AUC             0.3982\n",
       "Name: (mincovdet, kbest_fclass), dtype: float64"
      ]
     },
     "execution_count": 17,
     "metadata": {},
     "output_type": "execute_result"
    }
   ],
   "source": [
    "minCovDet = EllipticEnvelope(assume_centered=False, contamination=0.2, support_fraction=1,\n",
    "                             random_state=4).fit_predict(df[df_features.loc[('kbest_fclass', 'robust')]])\n",
    "\n",
    "minCovDet[minCovDet == 1] = 0\n",
    "minCovDet[minCovDet == -1] = 1\n",
    "save_results(df_tags, minCovDet, ('mincovdet', 'kbest_fclass'))\n",
    "df_results.loc[('mincovdet', 'kbest_fclass')]"
   ]
  },
  {
   "cell_type": "code",
   "execution_count": 18,
   "metadata": {},
   "outputs": [
    {
     "data": {
      "text/plain": [
       "accuracy        0.7589\n",
       "precision       0.0746\n",
       "recall          0.1983\n",
       "f1_score        0.1084\n",
       "mathews_corr    0.0013\n",
       "AUC             0.5010\n",
       "Name: (mincovdet, extraTrees), dtype: float64"
      ]
     },
     "execution_count": 18,
     "metadata": {},
     "output_type": "execute_result"
    }
   ],
   "source": [
    "minCovDet = EllipticEnvelope(assume_centered=False, contamination=0.2, support_fraction=1,\n",
    "                             random_state=4).fit_predict(df[df_features.loc[('extraTrees', 'robust')]])\n",
    "\n",
    "minCovDet[minCovDet == 1] = 0\n",
    "minCovDet[minCovDet == -1] = 1\n",
    "save_results(df_tags, minCovDet, ('mincovdet', 'extraTrees'))\n",
    "df_results.loc[('mincovdet', 'extraTrees')]"
   ]
  },
  {
   "cell_type": "code",
   "execution_count": 19,
   "metadata": {},
   "outputs": [
    {
     "data": {
      "text/plain": [
       "accuracy        0.7523\n",
       "precision       0.0685\n",
       "recall          0.1868\n",
       "f1_score        0.1003\n",
       "mathews_corr   -0.0103\n",
       "AUC             0.4921\n",
       "Name: (mincovdet, randomForest), dtype: float64"
      ]
     },
     "execution_count": 19,
     "metadata": {},
     "output_type": "execute_result"
    }
   ],
   "source": [
    "minCovDet = EllipticEnvelope(assume_centered=False, contamination=0.2, support_fraction=1,\n",
    "                             random_state=4).fit_predict(df[df_features.loc[('randomForest', 'robust')]])\n",
    "\n",
    "minCovDet[minCovDet == 1] = 0\n",
    "minCovDet[minCovDet == -1] = 1\n",
    "save_results(df_tags, minCovDet, ('mincovdet', 'randomForest'))\n",
    "df_results.loc[('mincovdet', 'randomForest')]"
   ]
  },
  {
   "cell_type": "markdown",
   "metadata": {},
   "source": [
    "# Isolation Forest"
   ]
  },
  {
   "cell_type": "code",
   "execution_count": 20,
   "metadata": {},
   "outputs": [
    {
     "data": {
      "text/plain": [
       "accuracy        0.7310\n",
       "precision       0.0121\n",
       "recall          0.0326\n",
       "f1_score        0.0176\n",
       "mathews_corr   -0.1182\n",
       "AUC             0.4097\n",
       "Name: (isolation, kbest_chi2), dtype: float64"
      ]
     },
     "execution_count": 20,
     "metadata": {},
     "output_type": "execute_result"
    }
   ],
   "source": [
    "isolation = IsolationForest(n_estimators=100, contamination=0.2, random_state=0, \n",
    "                            behaviour='new').fit_predict(df[df_features.loc[('kbest_chi2', 'robust')]])\n",
    "\n",
    "isolation[isolation == 1] = 0\n",
    "isolation[isolation == -1] = 1\n",
    "save_results(df_tags, isolation, ('isolation', 'kbest_chi2'))\n",
    "df_results.loc[('isolation', 'kbest_chi2')]"
   ]
  },
  {
   "cell_type": "code",
   "execution_count": 21,
   "metadata": {},
   "outputs": [
    {
     "data": {
      "text/plain": [
       "accuracy        0.7309\n",
       "precision       0.0119\n",
       "recall          0.0321\n",
       "f1_score        0.0173\n",
       "mathews_corr   -0.1185\n",
       "AUC             0.4094\n",
       "Name: (isolation, kbest_fclass), dtype: float64"
      ]
     },
     "execution_count": 21,
     "metadata": {},
     "output_type": "execute_result"
    }
   ],
   "source": [
    "isolation = IsolationForest(n_estimators=100, contamination=0.2, random_state=0, \n",
    "                            behaviour='new').fit_predict(df[df_features.loc[('kbest_fclass', 'robust')]])\n",
    "\n",
    "isolation[isolation == 1] = 0\n",
    "isolation[isolation == -1] = 1\n",
    "save_results(df_tags, isolation, ('isolation', 'kbest_fclass'))\n",
    "df_results.loc[('isolation', 'kbest_fclass')]"
   ]
  },
  {
   "cell_type": "code",
   "execution_count": 23,
   "metadata": {},
   "outputs": [
    {
     "data": {
      "text/plain": [
       "accuracy        0.7498\n",
       "precision       0.0471\n",
       "recall          0.1242\n",
       "f1_score        0.0683\n",
       "mathews_corr   -0.0503\n",
       "AUC             0.4619\n",
       "Name: (isolation, extraTrees), dtype: float64"
      ]
     },
     "execution_count": 23,
     "metadata": {},
     "output_type": "execute_result"
    }
   ],
   "source": [
    "isolation = IsolationForest(n_estimators=100, contamination=0.2, random_state=0, \n",
    "                            behaviour='new').fit_predict(df[df_features.loc[('extraTrees', 'robust')]])\n",
    "\n",
    "isolation[isolation == 1] = 0\n",
    "isolation[isolation == -1] = 1\n",
    "save_results(df_tags, isolation, ('isolation', 'extraTrees'))\n",
    "df_results.loc[('isolation', 'extraTrees')]"
   ]
  },
  {
   "cell_type": "code",
   "execution_count": 24,
   "metadata": {},
   "outputs": [
    {
     "data": {
      "text/plain": [
       "accuracy        0.7318\n",
       "precision       0.0115\n",
       "recall          0.0308\n",
       "f1_score        0.0167\n",
       "mathews_corr   -0.1189\n",
       "AUC             0.4093\n",
       "Name: (isolation, randomForest), dtype: float64"
      ]
     },
     "execution_count": 24,
     "metadata": {},
     "output_type": "execute_result"
    }
   ],
   "source": [
    "isolation = IsolationForest(n_estimators=100, contamination=0.2, random_state=0, \n",
    "                            behaviour='new').fit_predict(df[df_features.loc[('randomForest', 'robust')]])\n",
    "\n",
    "isolation[isolation == 1] = 0\n",
    "isolation[isolation == -1] = 1\n",
    "save_results(df_tags, isolation, ('isolation', 'randomForest'))\n",
    "df_results.loc[('isolation', 'randomForest')]"
   ]
  },
  {
   "cell_type": "markdown",
   "metadata": {},
   "source": [
    "# Resumen resultados sin preprocesamiento de los datos"
   ]
  },
  {
   "cell_type": "code",
   "execution_count": 25,
   "metadata": {},
   "outputs": [
    {
     "data": {
      "text/html": [
       "<div>\n",
       "<style scoped>\n",
       "    .dataframe tbody tr th:only-of-type {\n",
       "        vertical-align: middle;\n",
       "    }\n",
       "\n",
       "    .dataframe tbody tr th {\n",
       "        vertical-align: top;\n",
       "    }\n",
       "\n",
       "    .dataframe thead th {\n",
       "        text-align: right;\n",
       "    }\n",
       "</style>\n",
       "<table border=\"1\" class=\"dataframe\">\n",
       "  <thead>\n",
       "    <tr style=\"text-align: right;\">\n",
       "      <th></th>\n",
       "      <th></th>\n",
       "      <th>accuracy</th>\n",
       "      <th>precision</th>\n",
       "      <th>recall</th>\n",
       "      <th>f1_score</th>\n",
       "      <th>mathews_corr</th>\n",
       "      <th>AUC</th>\n",
       "    </tr>\n",
       "    <tr>\n",
       "      <th>method</th>\n",
       "      <th>featureSelection</th>\n",
       "      <th></th>\n",
       "      <th></th>\n",
       "      <th></th>\n",
       "      <th></th>\n",
       "      <th></th>\n",
       "      <th></th>\n",
       "    </tr>\n",
       "  </thead>\n",
       "  <tbody>\n",
       "    <tr>\n",
       "      <th rowspan=\"4\" valign=\"top\">kmeans</th>\n",
       "      <th>kbest_chi2</th>\n",
       "      <td>0.9244</td>\n",
       "      <td>0.0043</td>\n",
       "      <td>0.0001</td>\n",
       "      <td>0.0002</td>\n",
       "      <td>-0.0110</td>\n",
       "      <td>0.4991</td>\n",
       "    </tr>\n",
       "    <tr>\n",
       "      <th>kbest_fclass</th>\n",
       "      <td>0.8504</td>\n",
       "      <td>0.3172</td>\n",
       "      <td>0.8886</td>\n",
       "      <td>0.4675</td>\n",
       "      <td>0.4752</td>\n",
       "      <td>0.8680</td>\n",
       "    </tr>\n",
       "    <tr>\n",
       "      <th>extraTrees</th>\n",
       "      <td>0.8504</td>\n",
       "      <td>0.3172</td>\n",
       "      <td>0.8886</td>\n",
       "      <td>0.4675</td>\n",
       "      <td>0.4752</td>\n",
       "      <td>0.8680</td>\n",
       "    </tr>\n",
       "    <tr>\n",
       "      <th>randomForest</th>\n",
       "      <td>0.9244</td>\n",
       "      <td>0.0043</td>\n",
       "      <td>0.0001</td>\n",
       "      <td>0.0002</td>\n",
       "      <td>-0.0110</td>\n",
       "      <td>0.4991</td>\n",
       "    </tr>\n",
       "    <tr>\n",
       "      <th rowspan=\"4\" valign=\"top\">minibatch</th>\n",
       "      <th>kbest_chi2</th>\n",
       "      <td>0.9239</td>\n",
       "      <td>0.3009</td>\n",
       "      <td>0.0225</td>\n",
       "      <td>0.0419</td>\n",
       "      <td>0.0647</td>\n",
       "      <td>0.5092</td>\n",
       "    </tr>\n",
       "    <tr>\n",
       "      <th>kbest_fclass</th>\n",
       "      <td>0.8504</td>\n",
       "      <td>0.3172</td>\n",
       "      <td>0.8886</td>\n",
       "      <td>0.4675</td>\n",
       "      <td>0.4752</td>\n",
       "      <td>0.8680</td>\n",
       "    </tr>\n",
       "    <tr>\n",
       "      <th>extraTrees</th>\n",
       "      <td>0.8504</td>\n",
       "      <td>0.3172</td>\n",
       "      <td>0.8886</td>\n",
       "      <td>0.4675</td>\n",
       "      <td>0.4752</td>\n",
       "      <td>0.8680</td>\n",
       "    </tr>\n",
       "    <tr>\n",
       "      <th>randomForest</th>\n",
       "      <td>0.9239</td>\n",
       "      <td>0.3009</td>\n",
       "      <td>0.0225</td>\n",
       "      <td>0.0419</td>\n",
       "      <td>0.0647</td>\n",
       "      <td>0.5092</td>\n",
       "    </tr>\n",
       "    <tr>\n",
       "      <th rowspan=\"4\" valign=\"top\">birch</th>\n",
       "      <th>kbest_chi2</th>\n",
       "      <td>0.9244</td>\n",
       "      <td>0.0043</td>\n",
       "      <td>0.0001</td>\n",
       "      <td>0.0002</td>\n",
       "      <td>-0.0110</td>\n",
       "      <td>0.4991</td>\n",
       "    </tr>\n",
       "    <tr>\n",
       "      <th>kbest_fclass</th>\n",
       "      <td>0.8506</td>\n",
       "      <td>0.3174</td>\n",
       "      <td>0.8886</td>\n",
       "      <td>0.4677</td>\n",
       "      <td>0.4754</td>\n",
       "      <td>0.8681</td>\n",
       "    </tr>\n",
       "    <tr>\n",
       "      <th>extraTrees</th>\n",
       "      <td>0.8504</td>\n",
       "      <td>0.3172</td>\n",
       "      <td>0.8886</td>\n",
       "      <td>0.4675</td>\n",
       "      <td>0.4752</td>\n",
       "      <td>0.8680</td>\n",
       "    </tr>\n",
       "    <tr>\n",
       "      <th>randomForest</th>\n",
       "      <td>0.9244</td>\n",
       "      <td>0.0043</td>\n",
       "      <td>0.0001</td>\n",
       "      <td>0.0002</td>\n",
       "      <td>-0.0110</td>\n",
       "      <td>0.4991</td>\n",
       "    </tr>\n",
       "    <tr>\n",
       "      <th rowspan=\"4\" valign=\"top\">mincovdet</th>\n",
       "      <th>kbest_chi2</th>\n",
       "      <td>0.7308</td>\n",
       "      <td>0.0118</td>\n",
       "      <td>0.0319</td>\n",
       "      <td>0.0172</td>\n",
       "      <td>-0.1187</td>\n",
       "      <td>0.4093</td>\n",
       "    </tr>\n",
       "    <tr>\n",
       "      <th>kbest_fclass</th>\n",
       "      <td>0.7296</td>\n",
       "      <td>0.0035</td>\n",
       "      <td>0.0094</td>\n",
       "      <td>0.0051</td>\n",
       "      <td>-0.1336</td>\n",
       "      <td>0.3982</td>\n",
       "    </tr>\n",
       "    <tr>\n",
       "      <th>extraTrees</th>\n",
       "      <td>0.7589</td>\n",
       "      <td>0.0746</td>\n",
       "      <td>0.1983</td>\n",
       "      <td>0.1084</td>\n",
       "      <td>0.0013</td>\n",
       "      <td>0.5010</td>\n",
       "    </tr>\n",
       "    <tr>\n",
       "      <th>randomForest</th>\n",
       "      <td>0.7523</td>\n",
       "      <td>0.0685</td>\n",
       "      <td>0.1868</td>\n",
       "      <td>0.1003</td>\n",
       "      <td>-0.0103</td>\n",
       "      <td>0.4921</td>\n",
       "    </tr>\n",
       "    <tr>\n",
       "      <th rowspan=\"4\" valign=\"top\">isolation</th>\n",
       "      <th>kbest_chi2</th>\n",
       "      <td>0.7310</td>\n",
       "      <td>0.0121</td>\n",
       "      <td>0.0326</td>\n",
       "      <td>0.0176</td>\n",
       "      <td>-0.1182</td>\n",
       "      <td>0.4097</td>\n",
       "    </tr>\n",
       "    <tr>\n",
       "      <th>kbest_fclass</th>\n",
       "      <td>0.7309</td>\n",
       "      <td>0.0119</td>\n",
       "      <td>0.0321</td>\n",
       "      <td>0.0173</td>\n",
       "      <td>-0.1185</td>\n",
       "      <td>0.4094</td>\n",
       "    </tr>\n",
       "    <tr>\n",
       "      <th>extraTrees</th>\n",
       "      <td>0.7498</td>\n",
       "      <td>0.0471</td>\n",
       "      <td>0.1242</td>\n",
       "      <td>0.0683</td>\n",
       "      <td>-0.0503</td>\n",
       "      <td>0.4619</td>\n",
       "    </tr>\n",
       "    <tr>\n",
       "      <th>randomForest</th>\n",
       "      <td>0.7318</td>\n",
       "      <td>0.0115</td>\n",
       "      <td>0.0308</td>\n",
       "      <td>0.0167</td>\n",
       "      <td>-0.1189</td>\n",
       "      <td>0.4093</td>\n",
       "    </tr>\n",
       "  </tbody>\n",
       "</table>\n",
       "</div>"
      ],
      "text/plain": [
       "                            accuracy  precision  recall  f1_score  \\\n",
       "method    featureSelection                                          \n",
       "kmeans    kbest_chi2          0.9244     0.0043  0.0001    0.0002   \n",
       "          kbest_fclass        0.8504     0.3172  0.8886    0.4675   \n",
       "          extraTrees          0.8504     0.3172  0.8886    0.4675   \n",
       "          randomForest        0.9244     0.0043  0.0001    0.0002   \n",
       "minibatch kbest_chi2          0.9239     0.3009  0.0225    0.0419   \n",
       "          kbest_fclass        0.8504     0.3172  0.8886    0.4675   \n",
       "          extraTrees          0.8504     0.3172  0.8886    0.4675   \n",
       "          randomForest        0.9239     0.3009  0.0225    0.0419   \n",
       "birch     kbest_chi2          0.9244     0.0043  0.0001    0.0002   \n",
       "          kbest_fclass        0.8506     0.3174  0.8886    0.4677   \n",
       "          extraTrees          0.8504     0.3172  0.8886    0.4675   \n",
       "          randomForest        0.9244     0.0043  0.0001    0.0002   \n",
       "mincovdet kbest_chi2          0.7308     0.0118  0.0319    0.0172   \n",
       "          kbest_fclass        0.7296     0.0035  0.0094    0.0051   \n",
       "          extraTrees          0.7589     0.0746  0.1983    0.1084   \n",
       "          randomForest        0.7523     0.0685  0.1868    0.1003   \n",
       "isolation kbest_chi2          0.7310     0.0121  0.0326    0.0176   \n",
       "          kbest_fclass        0.7309     0.0119  0.0321    0.0173   \n",
       "          extraTrees          0.7498     0.0471  0.1242    0.0683   \n",
       "          randomForest        0.7318     0.0115  0.0308    0.0167   \n",
       "\n",
       "                            mathews_corr     AUC  \n",
       "method    featureSelection                        \n",
       "kmeans    kbest_chi2             -0.0110  0.4991  \n",
       "          kbest_fclass            0.4752  0.8680  \n",
       "          extraTrees              0.4752  0.8680  \n",
       "          randomForest           -0.0110  0.4991  \n",
       "minibatch kbest_chi2              0.0647  0.5092  \n",
       "          kbest_fclass            0.4752  0.8680  \n",
       "          extraTrees              0.4752  0.8680  \n",
       "          randomForest            0.0647  0.5092  \n",
       "birch     kbest_chi2             -0.0110  0.4991  \n",
       "          kbest_fclass            0.4754  0.8681  \n",
       "          extraTrees              0.4752  0.8680  \n",
       "          randomForest           -0.0110  0.4991  \n",
       "mincovdet kbest_chi2             -0.1187  0.4093  \n",
       "          kbest_fclass           -0.1336  0.3982  \n",
       "          extraTrees              0.0013  0.5010  \n",
       "          randomForest           -0.0103  0.4921  \n",
       "isolation kbest_chi2             -0.1182  0.4097  \n",
       "          kbest_fclass           -0.1185  0.4094  \n",
       "          extraTrees             -0.0503  0.4619  \n",
       "          randomForest           -0.1189  0.4093  "
      ]
     },
     "execution_count": 25,
     "metadata": {},
     "output_type": "execute_result"
    }
   ],
   "source": [
    "df_results.to_csv('ISCX_results/ISCX_robustScaler_results.csv')\n",
    "df_results"
   ]
  },
  {
   "cell_type": "code",
   "execution_count": null,
   "metadata": {},
   "outputs": [],
   "source": []
  }
 ],
 "metadata": {
  "kernelspec": {
   "display_name": "Python 3",
   "language": "python",
   "name": "python3"
  },
  "language_info": {
   "codemirror_mode": {
    "name": "ipython",
    "version": 3
   },
   "file_extension": ".py",
   "mimetype": "text/x-python",
   "name": "python",
   "nbconvert_exporter": "python",
   "pygments_lexer": "ipython3",
   "version": "3.7.0"
  }
 },
 "nbformat": 4,
 "nbformat_minor": 2
}
