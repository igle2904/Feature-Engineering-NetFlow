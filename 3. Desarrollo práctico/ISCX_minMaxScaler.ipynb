{
 "cells": [
  {
   "cell_type": "code",
   "execution_count": 1,
   "metadata": {},
   "outputs": [
    {
     "data": {
      "text/html": [
       "<div>\n",
       "<style scoped>\n",
       "    .dataframe tbody tr th:only-of-type {\n",
       "        vertical-align: middle;\n",
       "    }\n",
       "\n",
       "    .dataframe tbody tr th {\n",
       "        vertical-align: top;\n",
       "    }\n",
       "\n",
       "    .dataframe thead th {\n",
       "        text-align: right;\n",
       "    }\n",
       "</style>\n",
       "<table border=\"1\" class=\"dataframe\">\n",
       "  <thead>\n",
       "    <tr style=\"text-align: right;\">\n",
       "      <th></th>\n",
       "      <th></th>\n",
       "      <th>0</th>\n",
       "      <th>1</th>\n",
       "      <th>2</th>\n",
       "      <th>3</th>\n",
       "      <th>4</th>\n",
       "      <th>5</th>\n",
       "      <th>6</th>\n",
       "      <th>7</th>\n",
       "      <th>8</th>\n",
       "      <th>9</th>\n",
       "    </tr>\n",
       "    <tr>\n",
       "      <th>featureSelection</th>\n",
       "      <th>preprocesamiento</th>\n",
       "      <th></th>\n",
       "      <th></th>\n",
       "      <th></th>\n",
       "      <th></th>\n",
       "      <th></th>\n",
       "      <th></th>\n",
       "      <th></th>\n",
       "      <th></th>\n",
       "      <th></th>\n",
       "      <th></th>\n",
       "    </tr>\n",
       "  </thead>\n",
       "  <tbody>\n",
       "    <tr>\n",
       "      <th>kbest_chi2</th>\n",
       "      <th>minMax</th>\n",
       "      <td>s0</td>\n",
       "      <td>s1</td>\n",
       "      <td>d18</td>\n",
       "      <td>d12</td>\n",
       "      <td>d25</td>\n",
       "      <td>xor</td>\n",
       "      <td>d24</td>\n",
       "      <td>d11</td>\n",
       "      <td>d22</td>\n",
       "      <td>d15</td>\n",
       "    </tr>\n",
       "    <tr>\n",
       "      <th>kbest_fclass</th>\n",
       "      <th>minMax</th>\n",
       "      <td>arit</td>\n",
       "      <td>eucl_dec</td>\n",
       "      <td>s1</td>\n",
       "      <td>hamm</td>\n",
       "      <td>d12</td>\n",
       "      <td>d18</td>\n",
       "      <td>xor+</td>\n",
       "      <td>s0</td>\n",
       "      <td>xor</td>\n",
       "      <td>d25</td>\n",
       "    </tr>\n",
       "    <tr>\n",
       "      <th>extraTrees</th>\n",
       "      <th>minMax</th>\n",
       "      <td>s1</td>\n",
       "      <td>eucl_dec</td>\n",
       "      <td>d10</td>\n",
       "      <td>arit</td>\n",
       "      <td>s2</td>\n",
       "      <td>d4</td>\n",
       "      <td>s3</td>\n",
       "      <td>hamm</td>\n",
       "      <td>d8</td>\n",
       "      <td>s8</td>\n",
       "    </tr>\n",
       "    <tr>\n",
       "      <th>randomForest</th>\n",
       "      <th>minMax</th>\n",
       "      <td>eucl_dec</td>\n",
       "      <td>arit</td>\n",
       "      <td>hamm</td>\n",
       "      <td>xor</td>\n",
       "      <td>s4</td>\n",
       "      <td>s8</td>\n",
       "      <td>xor+</td>\n",
       "      <td>s3</td>\n",
       "      <td>s2</td>\n",
       "      <td>d4</td>\n",
       "    </tr>\n",
       "  </tbody>\n",
       "</table>\n",
       "</div>"
      ],
      "text/plain": [
       "                                          0         1     2     3    4    5  \\\n",
       "featureSelection preprocesamiento                                             \n",
       "kbest_chi2       minMax                  s0        s1   d18   d12  d25  xor   \n",
       "kbest_fclass     minMax                arit  eucl_dec    s1  hamm  d12  d18   \n",
       "extraTrees       minMax                  s1  eucl_dec   d10  arit   s2   d4   \n",
       "randomForest     minMax            eucl_dec      arit  hamm   xor   s4   s8   \n",
       "\n",
       "                                      6     7    8    9  \n",
       "featureSelection preprocesamiento                        \n",
       "kbest_chi2       minMax             d24   d11  d22  d15  \n",
       "kbest_fclass     minMax            xor+    s0  xor  d25  \n",
       "extraTrees       minMax              s3  hamm   d8   s8  \n",
       "randomForest     minMax            xor+    s3   s2   d4  "
      ]
     },
     "execution_count": 1,
     "metadata": {},
     "output_type": "execute_result"
    }
   ],
   "source": [
    "import pandas as pd\n",
    "import numpy as np\n",
    "import json\n",
    "from sklearn.cluster import KMeans, MiniBatchKMeans, Birch, DBSCAN\n",
    "from sklearn.covariance import EllipticEnvelope\n",
    "from sklearn.ensemble import IsolationForest\n",
    "from sklearn.svm import OneClassSVM\n",
    "from sklearn.metrics import accuracy_score, precision_score, recall_score, f1_score, matthews_corrcoef, roc_auc_score\n",
    "\n",
    "df = pd.read_csv('ISCX_datasets_preprocesados/minMax.csv')\n",
    "df_tags = pd.read_csv('ISCX_datasets_preprocesados/ISCX_tags.csv', index_col=0, header=None, names=['Tag'])\n",
    "\n",
    "df_features = pd.read_csv('ISCX_datasets_preprocesados/ISCX_features.csv', index_col=['featureSelection', 'preprocesamiento'])\n",
    "df_features.loc[pd.IndexSlice[:, 'minMax'],:]"
   ]
  },
  {
   "cell_type": "code",
   "execution_count": 2,
   "metadata": {},
   "outputs": [],
   "source": [
    "def save_results(real, prediccion, indexs):\n",
    "    df_results.loc[indexs] =  [round(accuracy_score(real, prediccion), 4),\n",
    "                              round(precision_score(real, prediccion), 4),\n",
    "                              round(recall_score(real, prediccion), 4),\n",
    "                              round(f1_score(real, prediccion), 4),\n",
    "                              round(matthews_corrcoef(real, prediccion), 4),\n",
    "                              round(roc_auc_score(real, prediccion), 4)]"
   ]
  },
  {
   "cell_type": "markdown",
   "metadata": {},
   "source": [
    "Se cargan los resultados ya logrados con anterioridad para no tener que ejecutar de nuevo todos los procesos, sólo los deseados."
   ]
  },
  {
   "cell_type": "code",
   "execution_count": 3,
   "metadata": {},
   "outputs": [
    {
     "data": {
      "text/html": [
       "<div>\n",
       "<style scoped>\n",
       "    .dataframe tbody tr th:only-of-type {\n",
       "        vertical-align: middle;\n",
       "    }\n",
       "\n",
       "    .dataframe tbody tr th {\n",
       "        vertical-align: top;\n",
       "    }\n",
       "\n",
       "    .dataframe thead th {\n",
       "        text-align: right;\n",
       "    }\n",
       "</style>\n",
       "<table border=\"1\" class=\"dataframe\">\n",
       "  <thead>\n",
       "    <tr style=\"text-align: right;\">\n",
       "      <th></th>\n",
       "      <th></th>\n",
       "      <th>accuracy</th>\n",
       "      <th>precision</th>\n",
       "      <th>recall</th>\n",
       "      <th>f1_score</th>\n",
       "      <th>mathews_corr</th>\n",
       "      <th>AUC</th>\n",
       "    </tr>\n",
       "    <tr>\n",
       "      <th>method</th>\n",
       "      <th>featureSelection</th>\n",
       "      <th></th>\n",
       "      <th></th>\n",
       "      <th></th>\n",
       "      <th></th>\n",
       "      <th></th>\n",
       "      <th></th>\n",
       "    </tr>\n",
       "  </thead>\n",
       "  <tbody>\n",
       "    <tr>\n",
       "      <th rowspan=\"4\" valign=\"top\">kmeans</th>\n",
       "      <th>kbest_chi2</th>\n",
       "      <td>NaN</td>\n",
       "      <td>NaN</td>\n",
       "      <td>NaN</td>\n",
       "      <td>NaN</td>\n",
       "      <td>NaN</td>\n",
       "      <td>NaN</td>\n",
       "    </tr>\n",
       "    <tr>\n",
       "      <th>kbest_fclass</th>\n",
       "      <td>NaN</td>\n",
       "      <td>NaN</td>\n",
       "      <td>NaN</td>\n",
       "      <td>NaN</td>\n",
       "      <td>NaN</td>\n",
       "      <td>NaN</td>\n",
       "    </tr>\n",
       "    <tr>\n",
       "      <th>extraTrees</th>\n",
       "      <td>NaN</td>\n",
       "      <td>NaN</td>\n",
       "      <td>NaN</td>\n",
       "      <td>NaN</td>\n",
       "      <td>NaN</td>\n",
       "      <td>NaN</td>\n",
       "    </tr>\n",
       "    <tr>\n",
       "      <th>randomForest</th>\n",
       "      <td>NaN</td>\n",
       "      <td>NaN</td>\n",
       "      <td>NaN</td>\n",
       "      <td>NaN</td>\n",
       "      <td>NaN</td>\n",
       "      <td>NaN</td>\n",
       "    </tr>\n",
       "    <tr>\n",
       "      <th rowspan=\"4\" valign=\"top\">minibatch</th>\n",
       "      <th>kbest_chi2</th>\n",
       "      <td>NaN</td>\n",
       "      <td>NaN</td>\n",
       "      <td>NaN</td>\n",
       "      <td>NaN</td>\n",
       "      <td>NaN</td>\n",
       "      <td>NaN</td>\n",
       "    </tr>\n",
       "    <tr>\n",
       "      <th>kbest_fclass</th>\n",
       "      <td>NaN</td>\n",
       "      <td>NaN</td>\n",
       "      <td>NaN</td>\n",
       "      <td>NaN</td>\n",
       "      <td>NaN</td>\n",
       "      <td>NaN</td>\n",
       "    </tr>\n",
       "    <tr>\n",
       "      <th>extraTrees</th>\n",
       "      <td>NaN</td>\n",
       "      <td>NaN</td>\n",
       "      <td>NaN</td>\n",
       "      <td>NaN</td>\n",
       "      <td>NaN</td>\n",
       "      <td>NaN</td>\n",
       "    </tr>\n",
       "    <tr>\n",
       "      <th>randomForest</th>\n",
       "      <td>NaN</td>\n",
       "      <td>NaN</td>\n",
       "      <td>NaN</td>\n",
       "      <td>NaN</td>\n",
       "      <td>NaN</td>\n",
       "      <td>NaN</td>\n",
       "    </tr>\n",
       "    <tr>\n",
       "      <th rowspan=\"4\" valign=\"top\">birch</th>\n",
       "      <th>kbest_chi2</th>\n",
       "      <td>NaN</td>\n",
       "      <td>NaN</td>\n",
       "      <td>NaN</td>\n",
       "      <td>NaN</td>\n",
       "      <td>NaN</td>\n",
       "      <td>NaN</td>\n",
       "    </tr>\n",
       "    <tr>\n",
       "      <th>kbest_fclass</th>\n",
       "      <td>NaN</td>\n",
       "      <td>NaN</td>\n",
       "      <td>NaN</td>\n",
       "      <td>NaN</td>\n",
       "      <td>NaN</td>\n",
       "      <td>NaN</td>\n",
       "    </tr>\n",
       "    <tr>\n",
       "      <th>extraTrees</th>\n",
       "      <td>NaN</td>\n",
       "      <td>NaN</td>\n",
       "      <td>NaN</td>\n",
       "      <td>NaN</td>\n",
       "      <td>NaN</td>\n",
       "      <td>NaN</td>\n",
       "    </tr>\n",
       "    <tr>\n",
       "      <th>randomForest</th>\n",
       "      <td>NaN</td>\n",
       "      <td>NaN</td>\n",
       "      <td>NaN</td>\n",
       "      <td>NaN</td>\n",
       "      <td>NaN</td>\n",
       "      <td>NaN</td>\n",
       "    </tr>\n",
       "    <tr>\n",
       "      <th rowspan=\"4\" valign=\"top\">mincovdet</th>\n",
       "      <th>kbest_chi2</th>\n",
       "      <td>NaN</td>\n",
       "      <td>NaN</td>\n",
       "      <td>NaN</td>\n",
       "      <td>NaN</td>\n",
       "      <td>NaN</td>\n",
       "      <td>NaN</td>\n",
       "    </tr>\n",
       "    <tr>\n",
       "      <th>kbest_fclass</th>\n",
       "      <td>NaN</td>\n",
       "      <td>NaN</td>\n",
       "      <td>NaN</td>\n",
       "      <td>NaN</td>\n",
       "      <td>NaN</td>\n",
       "      <td>NaN</td>\n",
       "    </tr>\n",
       "    <tr>\n",
       "      <th>extraTrees</th>\n",
       "      <td>NaN</td>\n",
       "      <td>NaN</td>\n",
       "      <td>NaN</td>\n",
       "      <td>NaN</td>\n",
       "      <td>NaN</td>\n",
       "      <td>NaN</td>\n",
       "    </tr>\n",
       "    <tr>\n",
       "      <th>randomForest</th>\n",
       "      <td>NaN</td>\n",
       "      <td>NaN</td>\n",
       "      <td>NaN</td>\n",
       "      <td>NaN</td>\n",
       "      <td>NaN</td>\n",
       "      <td>NaN</td>\n",
       "    </tr>\n",
       "    <tr>\n",
       "      <th rowspan=\"4\" valign=\"top\">isolation</th>\n",
       "      <th>kbest_chi2</th>\n",
       "      <td>NaN</td>\n",
       "      <td>NaN</td>\n",
       "      <td>NaN</td>\n",
       "      <td>NaN</td>\n",
       "      <td>NaN</td>\n",
       "      <td>NaN</td>\n",
       "    </tr>\n",
       "    <tr>\n",
       "      <th>kbest_fclass</th>\n",
       "      <td>NaN</td>\n",
       "      <td>NaN</td>\n",
       "      <td>NaN</td>\n",
       "      <td>NaN</td>\n",
       "      <td>NaN</td>\n",
       "      <td>NaN</td>\n",
       "    </tr>\n",
       "    <tr>\n",
       "      <th>extraTrees</th>\n",
       "      <td>NaN</td>\n",
       "      <td>NaN</td>\n",
       "      <td>NaN</td>\n",
       "      <td>NaN</td>\n",
       "      <td>NaN</td>\n",
       "      <td>NaN</td>\n",
       "    </tr>\n",
       "    <tr>\n",
       "      <th>randomForest</th>\n",
       "      <td>NaN</td>\n",
       "      <td>NaN</td>\n",
       "      <td>NaN</td>\n",
       "      <td>NaN</td>\n",
       "      <td>NaN</td>\n",
       "      <td>NaN</td>\n",
       "    </tr>\n",
       "  </tbody>\n",
       "</table>\n",
       "</div>"
      ],
      "text/plain": [
       "                           accuracy precision recall f1_score mathews_corr  \\\n",
       "method    featureSelection                                                   \n",
       "kmeans    kbest_chi2            NaN       NaN    NaN      NaN          NaN   \n",
       "          kbest_fclass          NaN       NaN    NaN      NaN          NaN   \n",
       "          extraTrees            NaN       NaN    NaN      NaN          NaN   \n",
       "          randomForest          NaN       NaN    NaN      NaN          NaN   \n",
       "minibatch kbest_chi2            NaN       NaN    NaN      NaN          NaN   \n",
       "          kbest_fclass          NaN       NaN    NaN      NaN          NaN   \n",
       "          extraTrees            NaN       NaN    NaN      NaN          NaN   \n",
       "          randomForest          NaN       NaN    NaN      NaN          NaN   \n",
       "birch     kbest_chi2            NaN       NaN    NaN      NaN          NaN   \n",
       "          kbest_fclass          NaN       NaN    NaN      NaN          NaN   \n",
       "          extraTrees            NaN       NaN    NaN      NaN          NaN   \n",
       "          randomForest          NaN       NaN    NaN      NaN          NaN   \n",
       "mincovdet kbest_chi2            NaN       NaN    NaN      NaN          NaN   \n",
       "          kbest_fclass          NaN       NaN    NaN      NaN          NaN   \n",
       "          extraTrees            NaN       NaN    NaN      NaN          NaN   \n",
       "          randomForest          NaN       NaN    NaN      NaN          NaN   \n",
       "isolation kbest_chi2            NaN       NaN    NaN      NaN          NaN   \n",
       "          kbest_fclass          NaN       NaN    NaN      NaN          NaN   \n",
       "          extraTrees            NaN       NaN    NaN      NaN          NaN   \n",
       "          randomForest          NaN       NaN    NaN      NaN          NaN   \n",
       "\n",
       "                            AUC  \n",
       "method    featureSelection       \n",
       "kmeans    kbest_chi2        NaN  \n",
       "          kbest_fclass      NaN  \n",
       "          extraTrees        NaN  \n",
       "          randomForest      NaN  \n",
       "minibatch kbest_chi2        NaN  \n",
       "          kbest_fclass      NaN  \n",
       "          extraTrees        NaN  \n",
       "          randomForest      NaN  \n",
       "birch     kbest_chi2        NaN  \n",
       "          kbest_fclass      NaN  \n",
       "          extraTrees        NaN  \n",
       "          randomForest      NaN  \n",
       "mincovdet kbest_chi2        NaN  \n",
       "          kbest_fclass      NaN  \n",
       "          extraTrees        NaN  \n",
       "          randomForest      NaN  \n",
       "isolation kbest_chi2        NaN  \n",
       "          kbest_fclass      NaN  \n",
       "          extraTrees        NaN  \n",
       "          randomForest      NaN  "
      ]
     },
     "execution_count": 3,
     "metadata": {},
     "output_type": "execute_result"
    }
   ],
   "source": [
    "from os import path\n",
    "\n",
    "if path.exists('ISCX_results/ISCX_minMaxScaler_results.csv'):\n",
    "    df_results = pd.read_csv('ISCX_results/ISCX_minMaxScaler_results.csv', index_col=['method', 'featureSelection'])\n",
    "else:\n",
    "    multiIndex = [['kmeans', 'minibatch', 'birch', 'mincovdet', 'isolation'],['kbest_chi2', 'kbest_fclass', 'extraTrees', 'randomForest']]\n",
    "\n",
    "    multiIndex = pd.MultiIndex.from_product(multiIndex, names=['method', 'featureSelection'])\n",
    "    df_results = pd.DataFrame(None, index=multiIndex, columns=['accuracy', 'precision', 'recall', 'f1_score', 'mathews_corr', 'AUC'])\n",
    "df_results"
   ]
  },
  {
   "cell_type": "markdown",
   "metadata": {},
   "source": [
    "# KMeans"
   ]
  },
  {
   "cell_type": "code",
   "execution_count": 4,
   "metadata": {},
   "outputs": [
    {
     "data": {
      "text/plain": [
       "accuracy        0.7432\n",
       "precision       0.2218\n",
       "recall          0.9868\n",
       "f1_score        0.3622\n",
       "mathews_corr    0.3957\n",
       "AUC             0.8553\n",
       "Name: (kmeans, kbest_chi2), dtype: object"
      ]
     },
     "execution_count": 4,
     "metadata": {},
     "output_type": "execute_result"
    }
   ],
   "source": [
    "kmeans = KMeans(n_clusters=2, n_init=10, random_state=0, algorithm='full').fit(df[df_features.loc[('kbest_chi2', 'minMax')]])\n",
    "\n",
    "save_results(df_tags, kmeans.labels_, ('kmeans', 'kbest_chi2'))\n",
    "df_results.loc[('kmeans', 'kbest_chi2')]"
   ]
  },
  {
   "cell_type": "code",
   "execution_count": 5,
   "metadata": {},
   "outputs": [
    {
     "data": {
      "text/plain": [
       "accuracy        0.7107\n",
       "precision       0.2019\n",
       "recall          0.9871\n",
       "f1_score        0.3352\n",
       "mathews_corr     0.368\n",
       "AUC             0.8379\n",
       "Name: (kmeans, kbest_fclass), dtype: object"
      ]
     },
     "execution_count": 5,
     "metadata": {},
     "output_type": "execute_result"
    }
   ],
   "source": [
    "kmeans = KMeans(n_clusters=2, n_init=10, random_state=0, algorithm='full').fit(df[df_features.loc[('kbest_fclass', 'minMax')]])\n",
    "\n",
    "save_results(df_tags, (kmeans.labels_ +1) % 2, ('kmeans', 'kbest_fclass'))\n",
    "df_results.loc[('kmeans', 'kbest_fclass')]"
   ]
  },
  {
   "cell_type": "code",
   "execution_count": 6,
   "metadata": {},
   "outputs": [
    {
     "data": {
      "text/plain": [
       "accuracy        0.4885\n",
       "precision       0.1238\n",
       "recall          0.9749\n",
       "f1_score        0.2198\n",
       "mathews_corr    0.2252\n",
       "AUC             0.7123\n",
       "Name: (kmeans, extraTrees), dtype: object"
      ]
     },
     "execution_count": 6,
     "metadata": {},
     "output_type": "execute_result"
    }
   ],
   "source": [
    "kmeans = KMeans(n_clusters=2, n_init=10, random_state=0, algorithm='full').fit(df[df_features.loc[('extraTrees', 'minMax')]])\n",
    "\n",
    "save_results(df_tags, kmeans.labels_, ('kmeans', 'extraTrees'))\n",
    "df_results.loc[('kmeans', 'extraTrees')]"
   ]
  },
  {
   "cell_type": "code",
   "execution_count": 7,
   "metadata": {},
   "outputs": [
    {
     "data": {
      "text/plain": [
       "accuracy        0.5341\n",
       "precision       0.1334\n",
       "recall          0.9654\n",
       "f1_score        0.2344\n",
       "mathews_corr    0.2439\n",
       "AUC             0.7325\n",
       "Name: (kmeans, randomForest), dtype: object"
      ]
     },
     "execution_count": 7,
     "metadata": {},
     "output_type": "execute_result"
    }
   ],
   "source": [
    "kmeans = KMeans(n_clusters=2, n_init=10, random_state=0, algorithm='full').fit(df[df_features.loc[('randomForest', 'minMax')]])\n",
    "\n",
    "save_results(df_tags, kmeans.labels_, ('kmeans', 'randomForest'))\n",
    "df_results.loc[('kmeans', 'randomForest')]"
   ]
  },
  {
   "cell_type": "markdown",
   "metadata": {},
   "source": [
    "# MiniBatch KMeans"
   ]
  },
  {
   "cell_type": "code",
   "execution_count": 9,
   "metadata": {},
   "outputs": [
    {
     "data": {
      "text/plain": [
       "accuracy        0.4379\n",
       "precision       0.1152\n",
       "recall          0.9889\n",
       "f1_score        0.2063\n",
       "mathews_corr    0.2079\n",
       "AUC             0.6914\n",
       "Name: (minibatch, kbest_chi2), dtype: object"
      ]
     },
     "execution_count": 9,
     "metadata": {},
     "output_type": "execute_result"
    }
   ],
   "source": [
    "minibatch = MiniBatchKMeans(n_clusters=2,n_init=10, random_state=0).fit(df[df_features.loc[('kbest_chi2', 'minMax')]])\n",
    "\n",
    "save_results(df_tags, minibatch.labels_, ('minibatch', 'kbest_chi2'))    # Se invierte los clusters tags 0 y 1\n",
    "df_results.loc[('minibatch', 'kbest_chi2')]"
   ]
  },
  {
   "cell_type": "code",
   "execution_count": 10,
   "metadata": {},
   "outputs": [
    {
     "data": {
      "text/plain": [
       "accuracy        0.6921\n",
       "precision        0.192\n",
       "recall          0.9872\n",
       "f1_score        0.3215\n",
       "mathews_corr    0.3534\n",
       "AUC             0.8279\n",
       "Name: (minibatch, kbest_fclass), dtype: object"
      ]
     },
     "execution_count": 10,
     "metadata": {},
     "output_type": "execute_result"
    }
   ],
   "source": [
    "minibatch = MiniBatchKMeans(n_clusters=2,n_init=10, random_state=0).fit(df[df_features.loc[('kbest_fclass', 'minMax')]])\n",
    "\n",
    "save_results(df_tags, minibatch.labels_, ('minibatch', 'kbest_fclass'))    # Se invierte los clusters tags 0 y 1\n",
    "df_results.loc[('minibatch', 'kbest_fclass')]"
   ]
  },
  {
   "cell_type": "code",
   "execution_count": 11,
   "metadata": {},
   "outputs": [
    {
     "data": {
      "text/plain": [
       "accuracy        0.5132\n",
       "precision       0.1117\n",
       "recall          0.8036\n",
       "f1_score        0.1961\n",
       "mathews_corr    0.1539\n",
       "AUC             0.6468\n",
       "Name: (minibatch, extraTrees), dtype: object"
      ]
     },
     "execution_count": 11,
     "metadata": {},
     "output_type": "execute_result"
    }
   ],
   "source": [
    "minibatch = MiniBatchKMeans(n_clusters=2,n_init=10, random_state=0).fit(df[df_features.loc[('extraTrees', 'minMax')]])\n",
    "\n",
    "save_results(df_tags, minibatch.labels_, ('minibatch', 'extraTrees'))    # Se invierte los clusters tags 0 y 1\n",
    "df_results.loc[('minibatch', 'extraTrees')]"
   ]
  },
  {
   "cell_type": "code",
   "execution_count": 12,
   "metadata": {},
   "outputs": [
    {
     "data": {
      "text/plain": [
       "accuracy        0.5344\n",
       "precision       0.1335\n",
       "recall          0.9654\n",
       "f1_score        0.2345\n",
       "mathews_corr    0.2441\n",
       "AUC             0.7327\n",
       "Name: (minibatch, randomForest), dtype: object"
      ]
     },
     "execution_count": 12,
     "metadata": {},
     "output_type": "execute_result"
    }
   ],
   "source": [
    "minibatch = MiniBatchKMeans(n_clusters=2,n_init=10, random_state=0).fit(df[df_features.loc[('randomForest', 'minMax')]])\n",
    "\n",
    "save_results(df_tags, minibatch.labels_, ('minibatch', 'randomForest'))    # Se invierte los clusters tags 0 y 1\n",
    "df_results.loc[('minibatch', 'randomForest')]"
   ]
  },
  {
   "cell_type": "markdown",
   "metadata": {},
   "source": [
    "# BIRCH"
   ]
  },
  {
   "cell_type": "code",
   "execution_count": 25,
   "metadata": {},
   "outputs": [
    {
     "data": {
      "text/plain": [
       "accuracy        0.3844\n",
       "precision       0.1064\n",
       "recall          0.9911\n",
       "f1_score        0.1922\n",
       "mathews_corr    0.1847\n",
       "AUC             0.6635\n",
       "Name: (birch, kbest_chi2), dtype: object"
      ]
     },
     "execution_count": 25,
     "metadata": {},
     "output_type": "execute_result"
    }
   ],
   "source": [
    "birch = Birch(n_clusters=2, threshold=0.1, branching_factor=10).fit_predict(df[df_features.loc[('kbest_chi2', 'minMax')]])\n",
    "\n",
    "save_results(df_tags, (birch + 1) % 2, ('birch', 'kbest_chi2'))\n",
    "df_results.loc[('birch', 'kbest_chi2')]"
   ]
  },
  {
   "cell_type": "code",
   "execution_count": 26,
   "metadata": {},
   "outputs": [
    {
     "data": {
      "text/plain": [
       "accuracy        0.4885\n",
       "precision       0.1251\n",
       "recall          0.9878\n",
       "f1_score         0.222\n",
       "mathews_corr    0.2316\n",
       "AUC             0.7183\n",
       "Name: (birch, kbest_fclass), dtype: object"
      ]
     },
     "execution_count": 26,
     "metadata": {},
     "output_type": "execute_result"
    }
   ],
   "source": [
    "birch = Birch(n_clusters=2, threshold=0.1, branching_factor=10).fit_predict(df[df_features.loc[('kbest_fclass', 'minMax')]])\n",
    "\n",
    "save_results(df_tags, (birch + 1) % 2, ('birch', 'kbest_fclass'))\n",
    "df_results.loc[('birch', 'kbest_fclass')]"
   ]
  },
  {
   "cell_type": "code",
   "execution_count": 27,
   "metadata": {},
   "outputs": [
    {
     "data": {
      "text/plain": [
       "accuracy        0.3919\n",
       "precision       0.1075\n",
       "recall          0.9896\n",
       "f1_score        0.1939\n",
       "mathews_corr    0.1872\n",
       "AUC             0.6669\n",
       "Name: (birch, extraTrees), dtype: object"
      ]
     },
     "execution_count": 27,
     "metadata": {},
     "output_type": "execute_result"
    }
   ],
   "source": [
    "birch = Birch(n_clusters=2, threshold=0.1, branching_factor=10).fit_predict(df[df_features.loc[('extraTrees', 'minMax')]])\n",
    "\n",
    "save_results(df_tags, (birch + 1) % 2, ('birch', 'extraTrees'))\n",
    "df_results.loc[('birch', 'extraTrees')]"
   ]
  },
  {
   "cell_type": "code",
   "execution_count": 28,
   "metadata": {},
   "outputs": [
    {
     "data": {
      "text/plain": [
       "accuracy         0.383\n",
       "precision        0.105\n",
       "recall          0.9772\n",
       "f1_score        0.1896\n",
       "mathews_corr    0.1765\n",
       "AUC             0.6564\n",
       "Name: (birch, randomForest), dtype: object"
      ]
     },
     "execution_count": 28,
     "metadata": {},
     "output_type": "execute_result"
    }
   ],
   "source": [
    "birch = Birch(n_clusters=2, threshold=0.1, branching_factor=10).fit_predict(df[df_features.loc[('randomForest', 'minMax')]])\n",
    "\n",
    "save_results(df_tags, (birch + 1) % 2, ('birch', 'randomForest'))\n",
    "df_results.loc[('birch', 'randomForest')]"
   ]
  },
  {
   "cell_type": "markdown",
   "metadata": {},
   "source": [
    "# MinCovDet"
   ]
  },
  {
   "cell_type": "code",
   "execution_count": 13,
   "metadata": {},
   "outputs": [
    {
     "data": {
      "text/plain": [
       "accuracy        0.7275\n",
       "precision       0.0035\n",
       "recall          0.0094\n",
       "f1_score        0.0051\n",
       "mathews_corr   -0.1346\n",
       "AUC             0.3971\n",
       "Name: (mincovdet, kbest_chi2), dtype: object"
      ]
     },
     "execution_count": 13,
     "metadata": {},
     "output_type": "execute_result"
    }
   ],
   "source": [
    "minCovDet = EllipticEnvelope(assume_centered=False, contamination=0.2, support_fraction=1,\n",
    "                             random_state=4).fit_predict(df[df_features.loc[('kbest_chi2', 'minMax')]])\n",
    "\n",
    "minCovDet[minCovDet == 1] = 0\n",
    "minCovDet[minCovDet == -1] = 1\n",
    "save_results(df_tags, minCovDet, ('mincovdet', 'kbest_chi2'))\n",
    "df_results.loc[('mincovdet', 'kbest_chi2')]"
   ]
  },
  {
   "cell_type": "code",
   "execution_count": 14,
   "metadata": {},
   "outputs": [
    {
     "data": {
      "text/plain": [
       "accuracy        0.7231\n",
       "precision       0.0034\n",
       "recall          0.0094\n",
       "f1_score         0.005\n",
       "mathews_corr   -0.1366\n",
       "AUC             0.3947\n",
       "Name: (mincovdet, kbest_fclass), dtype: object"
      ]
     },
     "execution_count": 14,
     "metadata": {},
     "output_type": "execute_result"
    }
   ],
   "source": [
    "minCovDet = EllipticEnvelope(assume_centered=False, contamination=0.2, support_fraction=1,\n",
    "                             random_state=4).fit_predict(df[df_features.loc[('kbest_fclass', 'minMax')]])\n",
    "\n",
    "minCovDet[minCovDet == 1] = 0\n",
    "minCovDet[minCovDet == -1] = 1\n",
    "save_results(df_tags, minCovDet, ('mincovdet', 'kbest_fclass'))\n",
    "df_results.loc[('mincovdet', 'kbest_fclass')]"
   ]
  },
  {
   "cell_type": "code",
   "execution_count": 15,
   "metadata": {},
   "outputs": [
    {
     "data": {
      "text/plain": [
       "accuracy        0.7515\n",
       "precision       0.0636\n",
       "recall           0.172\n",
       "f1_score        0.0928\n",
       "mathews_corr   -0.0198\n",
       "AUC             0.4849\n",
       "Name: (mincovdet, extraTrees), dtype: object"
      ]
     },
     "execution_count": 15,
     "metadata": {},
     "output_type": "execute_result"
    }
   ],
   "source": [
    "minCovDet = EllipticEnvelope(assume_centered=False, contamination=0.2, support_fraction=1,\n",
    "                             random_state=4).fit_predict(df[df_features.loc[('extraTrees', 'minMax')]])\n",
    "\n",
    "minCovDet[minCovDet == 1] = 0\n",
    "minCovDet[minCovDet == -1] = 1\n",
    "save_results(df_tags, minCovDet, ('mincovdet', 'extraTrees'))\n",
    "df_results.loc[('mincovdet', 'extraTrees')]"
   ]
  },
  {
   "cell_type": "code",
   "execution_count": 16,
   "metadata": {},
   "outputs": [
    {
     "data": {
      "text/plain": [
       "accuracy        0.7398\n",
       "precision       0.0342\n",
       "recall          0.0925\n",
       "f1_score        0.0499\n",
       "mathews_corr   -0.0759\n",
       "AUC              0.442\n",
       "Name: (mincovdet, randomForest), dtype: object"
      ]
     },
     "execution_count": 16,
     "metadata": {},
     "output_type": "execute_result"
    }
   ],
   "source": [
    "minCovDet = EllipticEnvelope(assume_centered=False, contamination=0.2, support_fraction=1,\n",
    "                             random_state=4).fit_predict(df[df_features.loc[('randomForest', 'minMax')]])\n",
    "\n",
    "minCovDet[minCovDet == 1] = 0\n",
    "minCovDet[minCovDet == -1] = 1\n",
    "save_results(df_tags, minCovDet, ('mincovdet', 'randomForest'))\n",
    "df_results.loc[('mincovdet', 'randomForest')]"
   ]
  },
  {
   "cell_type": "markdown",
   "metadata": {},
   "source": [
    "# Isolation Forest"
   ]
  },
  {
   "cell_type": "code",
   "execution_count": 18,
   "metadata": {},
   "outputs": [
    {
     "data": {
      "text/plain": [
       "accuracy        0.7301\n",
       "precision       0.0042\n",
       "recall          0.0113\n",
       "f1_score        0.0061\n",
       "mathews_corr   -0.1322\n",
       "AUC             0.3993\n",
       "Name: (isolation, kbest_chi2), dtype: object"
      ]
     },
     "execution_count": 18,
     "metadata": {},
     "output_type": "execute_result"
    }
   ],
   "source": [
    "isolation = IsolationForest(n_estimators=100, contamination=0.2, random_state=0, \n",
    "                            behaviour='new').fit_predict(df[df_features.loc[('kbest_chi2', 'minMax')]])\n",
    "\n",
    "isolation[isolation == 1] = 0\n",
    "isolation[isolation == -1] = 1\n",
    "save_results(df_tags, isolation, ('isolation', 'kbest_chi2'))\n",
    "df_results.loc[('isolation', 'kbest_chi2')]"
   ]
  },
  {
   "cell_type": "code",
   "execution_count": 19,
   "metadata": {},
   "outputs": [
    {
     "data": {
      "text/plain": [
       "accuracy        0.7308\n",
       "precision       0.0118\n",
       "recall          0.0319\n",
       "f1_score        0.0172\n",
       "mathews_corr   -0.1187\n",
       "AUC             0.4093\n",
       "Name: (isolation, kbest_fclass), dtype: object"
      ]
     },
     "execution_count": 19,
     "metadata": {},
     "output_type": "execute_result"
    }
   ],
   "source": [
    "isolation = IsolationForest(n_estimators=100, contamination=0.2, random_state=0, \n",
    "                            behaviour='new').fit_predict(df[df_features.loc[('kbest_fclass', 'minMax')]])\n",
    "\n",
    "isolation[isolation == 1] = 0\n",
    "isolation[isolation == -1] = 1\n",
    "save_results(df_tags, isolation, ('isolation', 'kbest_fclass'))\n",
    "df_results.loc[('isolation', 'kbest_fclass')]"
   ]
  },
  {
   "cell_type": "code",
   "execution_count": 20,
   "metadata": {},
   "outputs": [
    {
     "data": {
      "text/plain": [
       "accuracy        0.7423\n",
       "precision       0.0405\n",
       "recall          0.1095\n",
       "f1_score        0.0591\n",
       "mathews_corr   -0.0639\n",
       "AUC             0.4512\n",
       "Name: (isolation, extraTrees), dtype: object"
      ]
     },
     "execution_count": 20,
     "metadata": {},
     "output_type": "execute_result"
    }
   ],
   "source": [
    "isolation = IsolationForest(n_estimators=100, contamination=0.2, random_state=0, \n",
    "                            behaviour='new').fit_predict(df[df_features.loc[('extraTrees', 'minMax')]])\n",
    "\n",
    "isolation[isolation == 1] = 0\n",
    "isolation[isolation == -1] = 1\n",
    "save_results(df_tags, isolation, ('isolation', 'extraTrees'))\n",
    "df_results.loc[('isolation', 'extraTrees')]"
   ]
  },
  {
   "cell_type": "code",
   "execution_count": 21,
   "metadata": {},
   "outputs": [
    {
     "data": {
      "text/plain": [
       "accuracy        0.7309\n",
       "precision       0.0116\n",
       "recall          0.0314\n",
       "f1_score         0.017\n",
       "mathews_corr   -0.1189\n",
       "AUC             0.4091\n",
       "Name: (isolation, randomForest), dtype: object"
      ]
     },
     "execution_count": 21,
     "metadata": {},
     "output_type": "execute_result"
    }
   ],
   "source": [
    "isolation = IsolationForest(n_estimators=100, contamination=0.2, random_state=0, \n",
    "                            behaviour='new').fit_predict(df[df_features.loc[('randomForest', 'minMax')]])\n",
    "\n",
    "isolation[isolation == 1] = 0\n",
    "isolation[isolation == -1] = 1\n",
    "save_results(df_tags, isolation, ('isolation', 'randomForest'))\n",
    "df_results.loc[('isolation', 'randomForest')]"
   ]
  },
  {
   "cell_type": "markdown",
   "metadata": {},
   "source": [
    "# Resumen resultados aplicando la transformación MinMaxScaler a los datos"
   ]
  },
  {
   "cell_type": "code",
   "execution_count": 29,
   "metadata": {},
   "outputs": [
    {
     "data": {
      "text/html": [
       "<div>\n",
       "<style scoped>\n",
       "    .dataframe tbody tr th:only-of-type {\n",
       "        vertical-align: middle;\n",
       "    }\n",
       "\n",
       "    .dataframe tbody tr th {\n",
       "        vertical-align: top;\n",
       "    }\n",
       "\n",
       "    .dataframe thead th {\n",
       "        text-align: right;\n",
       "    }\n",
       "</style>\n",
       "<table border=\"1\" class=\"dataframe\">\n",
       "  <thead>\n",
       "    <tr style=\"text-align: right;\">\n",
       "      <th></th>\n",
       "      <th></th>\n",
       "      <th>accuracy</th>\n",
       "      <th>precision</th>\n",
       "      <th>recall</th>\n",
       "      <th>f1_score</th>\n",
       "      <th>mathews_corr</th>\n",
       "      <th>AUC</th>\n",
       "    </tr>\n",
       "    <tr>\n",
       "      <th>method</th>\n",
       "      <th>featureSelection</th>\n",
       "      <th></th>\n",
       "      <th></th>\n",
       "      <th></th>\n",
       "      <th></th>\n",
       "      <th></th>\n",
       "      <th></th>\n",
       "    </tr>\n",
       "  </thead>\n",
       "  <tbody>\n",
       "    <tr>\n",
       "      <th rowspan=\"4\" valign=\"top\">kmeans</th>\n",
       "      <th>kbest_chi2</th>\n",
       "      <td>0.7432</td>\n",
       "      <td>0.2218</td>\n",
       "      <td>0.9868</td>\n",
       "      <td>0.3622</td>\n",
       "      <td>0.3957</td>\n",
       "      <td>0.8553</td>\n",
       "    </tr>\n",
       "    <tr>\n",
       "      <th>kbest_fclass</th>\n",
       "      <td>0.7107</td>\n",
       "      <td>0.2019</td>\n",
       "      <td>0.9871</td>\n",
       "      <td>0.3352</td>\n",
       "      <td>0.368</td>\n",
       "      <td>0.8379</td>\n",
       "    </tr>\n",
       "    <tr>\n",
       "      <th>extraTrees</th>\n",
       "      <td>0.4885</td>\n",
       "      <td>0.1238</td>\n",
       "      <td>0.9749</td>\n",
       "      <td>0.2198</td>\n",
       "      <td>0.2252</td>\n",
       "      <td>0.7123</td>\n",
       "    </tr>\n",
       "    <tr>\n",
       "      <th>randomForest</th>\n",
       "      <td>0.5341</td>\n",
       "      <td>0.1334</td>\n",
       "      <td>0.9654</td>\n",
       "      <td>0.2344</td>\n",
       "      <td>0.2439</td>\n",
       "      <td>0.7325</td>\n",
       "    </tr>\n",
       "    <tr>\n",
       "      <th rowspan=\"4\" valign=\"top\">minibatch</th>\n",
       "      <th>kbest_chi2</th>\n",
       "      <td>0.4379</td>\n",
       "      <td>0.1152</td>\n",
       "      <td>0.9889</td>\n",
       "      <td>0.2063</td>\n",
       "      <td>0.2079</td>\n",
       "      <td>0.6914</td>\n",
       "    </tr>\n",
       "    <tr>\n",
       "      <th>kbest_fclass</th>\n",
       "      <td>0.6921</td>\n",
       "      <td>0.192</td>\n",
       "      <td>0.9872</td>\n",
       "      <td>0.3215</td>\n",
       "      <td>0.3534</td>\n",
       "      <td>0.8279</td>\n",
       "    </tr>\n",
       "    <tr>\n",
       "      <th>extraTrees</th>\n",
       "      <td>0.5132</td>\n",
       "      <td>0.1117</td>\n",
       "      <td>0.8036</td>\n",
       "      <td>0.1961</td>\n",
       "      <td>0.1539</td>\n",
       "      <td>0.6468</td>\n",
       "    </tr>\n",
       "    <tr>\n",
       "      <th>randomForest</th>\n",
       "      <td>0.5344</td>\n",
       "      <td>0.1335</td>\n",
       "      <td>0.9654</td>\n",
       "      <td>0.2345</td>\n",
       "      <td>0.2441</td>\n",
       "      <td>0.7327</td>\n",
       "    </tr>\n",
       "    <tr>\n",
       "      <th rowspan=\"4\" valign=\"top\">birch</th>\n",
       "      <th>kbest_chi2</th>\n",
       "      <td>0.3844</td>\n",
       "      <td>0.1064</td>\n",
       "      <td>0.9911</td>\n",
       "      <td>0.1922</td>\n",
       "      <td>0.1847</td>\n",
       "      <td>0.6635</td>\n",
       "    </tr>\n",
       "    <tr>\n",
       "      <th>kbest_fclass</th>\n",
       "      <td>0.4885</td>\n",
       "      <td>0.1251</td>\n",
       "      <td>0.9878</td>\n",
       "      <td>0.222</td>\n",
       "      <td>0.2316</td>\n",
       "      <td>0.7183</td>\n",
       "    </tr>\n",
       "    <tr>\n",
       "      <th>extraTrees</th>\n",
       "      <td>0.3919</td>\n",
       "      <td>0.1075</td>\n",
       "      <td>0.9896</td>\n",
       "      <td>0.1939</td>\n",
       "      <td>0.1872</td>\n",
       "      <td>0.6669</td>\n",
       "    </tr>\n",
       "    <tr>\n",
       "      <th>randomForest</th>\n",
       "      <td>0.383</td>\n",
       "      <td>0.105</td>\n",
       "      <td>0.9772</td>\n",
       "      <td>0.1896</td>\n",
       "      <td>0.1765</td>\n",
       "      <td>0.6564</td>\n",
       "    </tr>\n",
       "    <tr>\n",
       "      <th rowspan=\"4\" valign=\"top\">mincovdet</th>\n",
       "      <th>kbest_chi2</th>\n",
       "      <td>0.7275</td>\n",
       "      <td>0.0035</td>\n",
       "      <td>0.0094</td>\n",
       "      <td>0.0051</td>\n",
       "      <td>-0.1346</td>\n",
       "      <td>0.3971</td>\n",
       "    </tr>\n",
       "    <tr>\n",
       "      <th>kbest_fclass</th>\n",
       "      <td>0.7231</td>\n",
       "      <td>0.0034</td>\n",
       "      <td>0.0094</td>\n",
       "      <td>0.005</td>\n",
       "      <td>-0.1366</td>\n",
       "      <td>0.3947</td>\n",
       "    </tr>\n",
       "    <tr>\n",
       "      <th>extraTrees</th>\n",
       "      <td>0.7515</td>\n",
       "      <td>0.0636</td>\n",
       "      <td>0.172</td>\n",
       "      <td>0.0928</td>\n",
       "      <td>-0.0198</td>\n",
       "      <td>0.4849</td>\n",
       "    </tr>\n",
       "    <tr>\n",
       "      <th>randomForest</th>\n",
       "      <td>0.7398</td>\n",
       "      <td>0.0342</td>\n",
       "      <td>0.0925</td>\n",
       "      <td>0.0499</td>\n",
       "      <td>-0.0759</td>\n",
       "      <td>0.442</td>\n",
       "    </tr>\n",
       "    <tr>\n",
       "      <th rowspan=\"4\" valign=\"top\">isolation</th>\n",
       "      <th>kbest_chi2</th>\n",
       "      <td>0.7301</td>\n",
       "      <td>0.0042</td>\n",
       "      <td>0.0113</td>\n",
       "      <td>0.0061</td>\n",
       "      <td>-0.1322</td>\n",
       "      <td>0.3993</td>\n",
       "    </tr>\n",
       "    <tr>\n",
       "      <th>kbest_fclass</th>\n",
       "      <td>0.7308</td>\n",
       "      <td>0.0118</td>\n",
       "      <td>0.0319</td>\n",
       "      <td>0.0172</td>\n",
       "      <td>-0.1187</td>\n",
       "      <td>0.4093</td>\n",
       "    </tr>\n",
       "    <tr>\n",
       "      <th>extraTrees</th>\n",
       "      <td>0.7423</td>\n",
       "      <td>0.0405</td>\n",
       "      <td>0.1095</td>\n",
       "      <td>0.0591</td>\n",
       "      <td>-0.0639</td>\n",
       "      <td>0.4512</td>\n",
       "    </tr>\n",
       "    <tr>\n",
       "      <th>randomForest</th>\n",
       "      <td>0.7309</td>\n",
       "      <td>0.0116</td>\n",
       "      <td>0.0314</td>\n",
       "      <td>0.017</td>\n",
       "      <td>-0.1189</td>\n",
       "      <td>0.4091</td>\n",
       "    </tr>\n",
       "  </tbody>\n",
       "</table>\n",
       "</div>"
      ],
      "text/plain": [
       "                           accuracy precision  recall f1_score mathews_corr  \\\n",
       "method    featureSelection                                                    \n",
       "kmeans    kbest_chi2         0.7432    0.2218  0.9868   0.3622       0.3957   \n",
       "          kbest_fclass       0.7107    0.2019  0.9871   0.3352        0.368   \n",
       "          extraTrees         0.4885    0.1238  0.9749   0.2198       0.2252   \n",
       "          randomForest       0.5341    0.1334  0.9654   0.2344       0.2439   \n",
       "minibatch kbest_chi2         0.4379    0.1152  0.9889   0.2063       0.2079   \n",
       "          kbest_fclass       0.6921     0.192  0.9872   0.3215       0.3534   \n",
       "          extraTrees         0.5132    0.1117  0.8036   0.1961       0.1539   \n",
       "          randomForest       0.5344    0.1335  0.9654   0.2345       0.2441   \n",
       "birch     kbest_chi2         0.3844    0.1064  0.9911   0.1922       0.1847   \n",
       "          kbest_fclass       0.4885    0.1251  0.9878    0.222       0.2316   \n",
       "          extraTrees         0.3919    0.1075  0.9896   0.1939       0.1872   \n",
       "          randomForest        0.383     0.105  0.9772   0.1896       0.1765   \n",
       "mincovdet kbest_chi2         0.7275    0.0035  0.0094   0.0051      -0.1346   \n",
       "          kbest_fclass       0.7231    0.0034  0.0094    0.005      -0.1366   \n",
       "          extraTrees         0.7515    0.0636   0.172   0.0928      -0.0198   \n",
       "          randomForest       0.7398    0.0342  0.0925   0.0499      -0.0759   \n",
       "isolation kbest_chi2         0.7301    0.0042  0.0113   0.0061      -0.1322   \n",
       "          kbest_fclass       0.7308    0.0118  0.0319   0.0172      -0.1187   \n",
       "          extraTrees         0.7423    0.0405  0.1095   0.0591      -0.0639   \n",
       "          randomForest       0.7309    0.0116  0.0314    0.017      -0.1189   \n",
       "\n",
       "                               AUC  \n",
       "method    featureSelection          \n",
       "kmeans    kbest_chi2        0.8553  \n",
       "          kbest_fclass      0.8379  \n",
       "          extraTrees        0.7123  \n",
       "          randomForest      0.7325  \n",
       "minibatch kbest_chi2        0.6914  \n",
       "          kbest_fclass      0.8279  \n",
       "          extraTrees        0.6468  \n",
       "          randomForest      0.7327  \n",
       "birch     kbest_chi2        0.6635  \n",
       "          kbest_fclass      0.7183  \n",
       "          extraTrees        0.6669  \n",
       "          randomForest      0.6564  \n",
       "mincovdet kbest_chi2        0.3971  \n",
       "          kbest_fclass      0.3947  \n",
       "          extraTrees        0.4849  \n",
       "          randomForest       0.442  \n",
       "isolation kbest_chi2        0.3993  \n",
       "          kbest_fclass      0.4093  \n",
       "          extraTrees        0.4512  \n",
       "          randomForest      0.4091  "
      ]
     },
     "execution_count": 29,
     "metadata": {},
     "output_type": "execute_result"
    }
   ],
   "source": [
    "df_results.to_csv('ISCX_results/ISCX_minMaxScaler_results.csv')\n",
    "df_results"
   ]
  },
  {
   "cell_type": "code",
   "execution_count": null,
   "metadata": {},
   "outputs": [],
   "source": []
  }
 ],
 "metadata": {
  "kernelspec": {
   "display_name": "Python 3",
   "language": "python",
   "name": "python3"
  },
  "language_info": {
   "codemirror_mode": {
    "name": "ipython",
    "version": 3
   },
   "file_extension": ".py",
   "mimetype": "text/x-python",
   "name": "python",
   "nbconvert_exporter": "python",
   "pygments_lexer": "ipython3",
   "version": "3.7.0"
  }
 },
 "nbformat": 4,
 "nbformat_minor": 2
}
