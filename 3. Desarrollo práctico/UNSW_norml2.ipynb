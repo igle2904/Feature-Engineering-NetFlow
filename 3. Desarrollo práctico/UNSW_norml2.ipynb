{
 "cells": [
  {
   "cell_type": "code",
   "execution_count": 1,
   "metadata": {},
   "outputs": [
    {
     "data": {
      "text/html": [
       "<div>\n",
       "<style scoped>\n",
       "    .dataframe tbody tr th:only-of-type {\n",
       "        vertical-align: middle;\n",
       "    }\n",
       "\n",
       "    .dataframe tbody tr th {\n",
       "        vertical-align: top;\n",
       "    }\n",
       "\n",
       "    .dataframe thead th {\n",
       "        text-align: right;\n",
       "    }\n",
       "</style>\n",
       "<table border=\"1\" class=\"dataframe\">\n",
       "  <thead>\n",
       "    <tr style=\"text-align: right;\">\n",
       "      <th></th>\n",
       "      <th></th>\n",
       "      <th>0</th>\n",
       "      <th>1</th>\n",
       "      <th>2</th>\n",
       "      <th>3</th>\n",
       "      <th>4</th>\n",
       "      <th>5</th>\n",
       "      <th>6</th>\n",
       "      <th>7</th>\n",
       "      <th>8</th>\n",
       "      <th>9</th>\n",
       "    </tr>\n",
       "    <tr>\n",
       "      <th>featureSelection</th>\n",
       "      <th>preprocesamiento</th>\n",
       "      <th></th>\n",
       "      <th></th>\n",
       "      <th></th>\n",
       "      <th></th>\n",
       "      <th></th>\n",
       "      <th></th>\n",
       "      <th></th>\n",
       "      <th></th>\n",
       "      <th></th>\n",
       "      <th></th>\n",
       "    </tr>\n",
       "  </thead>\n",
       "  <tbody>\n",
       "    <tr>\n",
       "      <th>kbest_chi2</th>\n",
       "      <th>norm_l2</th>\n",
       "      <td>d22</td>\n",
       "      <td>s30</td>\n",
       "      <td>s22</td>\n",
       "      <td>s7</td>\n",
       "      <td>s6</td>\n",
       "      <td>s5</td>\n",
       "      <td>s20</td>\n",
       "      <td>eucl_dec</td>\n",
       "      <td>hamm</td>\n",
       "      <td>eucl</td>\n",
       "    </tr>\n",
       "    <tr>\n",
       "      <th>kbest_fclass</th>\n",
       "      <th>norm_l2</th>\n",
       "      <td>s7</td>\n",
       "      <td>s30</td>\n",
       "      <td>s22</td>\n",
       "      <td>d22</td>\n",
       "      <td>s20</td>\n",
       "      <td>s5</td>\n",
       "      <td>s6</td>\n",
       "      <td>s29</td>\n",
       "      <td>s18</td>\n",
       "      <td>eucl</td>\n",
       "    </tr>\n",
       "    <tr>\n",
       "      <th>extraTrees</th>\n",
       "      <th>norm_l2</th>\n",
       "      <td>hamm</td>\n",
       "      <td>xor+</td>\n",
       "      <td>eucl</td>\n",
       "      <td>xor</td>\n",
       "      <td>eucl_dec</td>\n",
       "      <td>s25</td>\n",
       "      <td>d7</td>\n",
       "      <td>d5</td>\n",
       "      <td>d19</td>\n",
       "      <td>d13</td>\n",
       "    </tr>\n",
       "    <tr>\n",
       "      <th>randomForest</th>\n",
       "      <th>norm_l2</th>\n",
       "      <td>hamm</td>\n",
       "      <td>eucl</td>\n",
       "      <td>xor+</td>\n",
       "      <td>xor</td>\n",
       "      <td>d19</td>\n",
       "      <td>norm_dst</td>\n",
       "      <td>norm_src</td>\n",
       "      <td>s25</td>\n",
       "      <td>d25</td>\n",
       "      <td>d21</td>\n",
       "    </tr>\n",
       "  </tbody>\n",
       "</table>\n",
       "</div>"
      ],
      "text/plain": [
       "                                      0     1     2    3         4         5  \\\n",
       "featureSelection preprocesamiento                                              \n",
       "kbest_chi2       norm_l2            d22   s30   s22   s7        s6        s5   \n",
       "kbest_fclass     norm_l2             s7   s30   s22  d22       s20        s5   \n",
       "extraTrees       norm_l2           hamm  xor+  eucl  xor  eucl_dec       s25   \n",
       "randomForest     norm_l2           hamm  eucl  xor+  xor       d19  norm_dst   \n",
       "\n",
       "                                          6         7     8     9  \n",
       "featureSelection preprocesamiento                                  \n",
       "kbest_chi2       norm_l2                s20  eucl_dec  hamm  eucl  \n",
       "kbest_fclass     norm_l2                 s6       s29   s18  eucl  \n",
       "extraTrees       norm_l2                 d7        d5   d19   d13  \n",
       "randomForest     norm_l2           norm_src       s25   d25   d21  "
      ]
     },
     "execution_count": 1,
     "metadata": {},
     "output_type": "execute_result"
    }
   ],
   "source": [
    "import pandas as pd\n",
    "import numpy as np\n",
    "import json\n",
    "from sklearn.cluster import KMeans, MiniBatchKMeans, Birch, DBSCAN\n",
    "from sklearn.covariance import EllipticEnvelope\n",
    "from sklearn.ensemble import IsolationForest\n",
    "from sklearn.svm import OneClassSVM\n",
    "from sklearn.metrics import accuracy_score, precision_score, recall_score, f1_score, matthews_corrcoef, roc_auc_score\n",
    "\n",
    "df = pd.read_csv('UNSW_datasets_preprocesados/norml2.csv')\n",
    "df_tags = pd.read_csv('UNSW_datasets_preprocesados/UNSW_tags.csv', index_col=0, header=None, names=['Tag'])\n",
    "\n",
    "df_features = pd.read_csv('UNSW_datasets_preprocesados/UNSW_features.csv', index_col=['featureSelection', 'preprocesamiento'])\n",
    "df_features.loc[pd.IndexSlice[:, 'norm_l2'],:]"
   ]
  },
  {
   "cell_type": "code",
   "execution_count": 2,
   "metadata": {},
   "outputs": [],
   "source": [
    "def save_results(real, prediccion, indexs):\n",
    "    df_results.loc[indexs] =  [round(accuracy_score(real, prediccion), 4),\n",
    "                              round(precision_score(real, prediccion), 4),\n",
    "                              round(recall_score(real, prediccion), 4),\n",
    "                              round(f1_score(real, prediccion), 4),\n",
    "                              round(matthews_corrcoef(real, prediccion), 4),\n",
    "                              round(roc_auc_score(real, prediccion), 4)]"
   ]
  },
  {
   "cell_type": "markdown",
   "metadata": {},
   "source": [
    "Se cargan los resultados ya logrados con anterioridad para no tener que ejecutar de nuevo todos los procesos, sólo los deseados."
   ]
  },
  {
   "cell_type": "code",
   "execution_count": 3,
   "metadata": {},
   "outputs": [
    {
     "data": {
      "text/html": [
       "<div>\n",
       "<style scoped>\n",
       "    .dataframe tbody tr th:only-of-type {\n",
       "        vertical-align: middle;\n",
       "    }\n",
       "\n",
       "    .dataframe tbody tr th {\n",
       "        vertical-align: top;\n",
       "    }\n",
       "\n",
       "    .dataframe thead th {\n",
       "        text-align: right;\n",
       "    }\n",
       "</style>\n",
       "<table border=\"1\" class=\"dataframe\">\n",
       "  <thead>\n",
       "    <tr style=\"text-align: right;\">\n",
       "      <th></th>\n",
       "      <th></th>\n",
       "      <th>accuracy</th>\n",
       "      <th>precision</th>\n",
       "      <th>recall</th>\n",
       "      <th>f1_score</th>\n",
       "      <th>mathews_corr</th>\n",
       "      <th>AUC</th>\n",
       "    </tr>\n",
       "    <tr>\n",
       "      <th>method</th>\n",
       "      <th>featureSelection</th>\n",
       "      <th></th>\n",
       "      <th></th>\n",
       "      <th></th>\n",
       "      <th></th>\n",
       "      <th></th>\n",
       "      <th></th>\n",
       "    </tr>\n",
       "  </thead>\n",
       "  <tbody>\n",
       "    <tr>\n",
       "      <th rowspan=\"4\" valign=\"top\">kmeans</th>\n",
       "      <th>kbest_chi2</th>\n",
       "      <td>NaN</td>\n",
       "      <td>NaN</td>\n",
       "      <td>NaN</td>\n",
       "      <td>NaN</td>\n",
       "      <td>NaN</td>\n",
       "      <td>NaN</td>\n",
       "    </tr>\n",
       "    <tr>\n",
       "      <th>kbest_fclass</th>\n",
       "      <td>NaN</td>\n",
       "      <td>NaN</td>\n",
       "      <td>NaN</td>\n",
       "      <td>NaN</td>\n",
       "      <td>NaN</td>\n",
       "      <td>NaN</td>\n",
       "    </tr>\n",
       "    <tr>\n",
       "      <th>extraTrees</th>\n",
       "      <td>NaN</td>\n",
       "      <td>NaN</td>\n",
       "      <td>NaN</td>\n",
       "      <td>NaN</td>\n",
       "      <td>NaN</td>\n",
       "      <td>NaN</td>\n",
       "    </tr>\n",
       "    <tr>\n",
       "      <th>randomForest</th>\n",
       "      <td>NaN</td>\n",
       "      <td>NaN</td>\n",
       "      <td>NaN</td>\n",
       "      <td>NaN</td>\n",
       "      <td>NaN</td>\n",
       "      <td>NaN</td>\n",
       "    </tr>\n",
       "    <tr>\n",
       "      <th rowspan=\"4\" valign=\"top\">minibatch</th>\n",
       "      <th>kbest_chi2</th>\n",
       "      <td>NaN</td>\n",
       "      <td>NaN</td>\n",
       "      <td>NaN</td>\n",
       "      <td>NaN</td>\n",
       "      <td>NaN</td>\n",
       "      <td>NaN</td>\n",
       "    </tr>\n",
       "    <tr>\n",
       "      <th>kbest_fclass</th>\n",
       "      <td>NaN</td>\n",
       "      <td>NaN</td>\n",
       "      <td>NaN</td>\n",
       "      <td>NaN</td>\n",
       "      <td>NaN</td>\n",
       "      <td>NaN</td>\n",
       "    </tr>\n",
       "    <tr>\n",
       "      <th>extraTrees</th>\n",
       "      <td>NaN</td>\n",
       "      <td>NaN</td>\n",
       "      <td>NaN</td>\n",
       "      <td>NaN</td>\n",
       "      <td>NaN</td>\n",
       "      <td>NaN</td>\n",
       "    </tr>\n",
       "    <tr>\n",
       "      <th>randomForest</th>\n",
       "      <td>NaN</td>\n",
       "      <td>NaN</td>\n",
       "      <td>NaN</td>\n",
       "      <td>NaN</td>\n",
       "      <td>NaN</td>\n",
       "      <td>NaN</td>\n",
       "    </tr>\n",
       "    <tr>\n",
       "      <th rowspan=\"4\" valign=\"top\">birch</th>\n",
       "      <th>kbest_chi2</th>\n",
       "      <td>NaN</td>\n",
       "      <td>NaN</td>\n",
       "      <td>NaN</td>\n",
       "      <td>NaN</td>\n",
       "      <td>NaN</td>\n",
       "      <td>NaN</td>\n",
       "    </tr>\n",
       "    <tr>\n",
       "      <th>kbest_fclass</th>\n",
       "      <td>NaN</td>\n",
       "      <td>NaN</td>\n",
       "      <td>NaN</td>\n",
       "      <td>NaN</td>\n",
       "      <td>NaN</td>\n",
       "      <td>NaN</td>\n",
       "    </tr>\n",
       "    <tr>\n",
       "      <th>extraTrees</th>\n",
       "      <td>NaN</td>\n",
       "      <td>NaN</td>\n",
       "      <td>NaN</td>\n",
       "      <td>NaN</td>\n",
       "      <td>NaN</td>\n",
       "      <td>NaN</td>\n",
       "    </tr>\n",
       "    <tr>\n",
       "      <th>randomForest</th>\n",
       "      <td>NaN</td>\n",
       "      <td>NaN</td>\n",
       "      <td>NaN</td>\n",
       "      <td>NaN</td>\n",
       "      <td>NaN</td>\n",
       "      <td>NaN</td>\n",
       "    </tr>\n",
       "    <tr>\n",
       "      <th rowspan=\"4\" valign=\"top\">mincovdet</th>\n",
       "      <th>kbest_chi2</th>\n",
       "      <td>NaN</td>\n",
       "      <td>NaN</td>\n",
       "      <td>NaN</td>\n",
       "      <td>NaN</td>\n",
       "      <td>NaN</td>\n",
       "      <td>NaN</td>\n",
       "    </tr>\n",
       "    <tr>\n",
       "      <th>kbest_fclass</th>\n",
       "      <td>NaN</td>\n",
       "      <td>NaN</td>\n",
       "      <td>NaN</td>\n",
       "      <td>NaN</td>\n",
       "      <td>NaN</td>\n",
       "      <td>NaN</td>\n",
       "    </tr>\n",
       "    <tr>\n",
       "      <th>extraTrees</th>\n",
       "      <td>NaN</td>\n",
       "      <td>NaN</td>\n",
       "      <td>NaN</td>\n",
       "      <td>NaN</td>\n",
       "      <td>NaN</td>\n",
       "      <td>NaN</td>\n",
       "    </tr>\n",
       "    <tr>\n",
       "      <th>randomForest</th>\n",
       "      <td>NaN</td>\n",
       "      <td>NaN</td>\n",
       "      <td>NaN</td>\n",
       "      <td>NaN</td>\n",
       "      <td>NaN</td>\n",
       "      <td>NaN</td>\n",
       "    </tr>\n",
       "    <tr>\n",
       "      <th rowspan=\"4\" valign=\"top\">isolation</th>\n",
       "      <th>kbest_chi2</th>\n",
       "      <td>NaN</td>\n",
       "      <td>NaN</td>\n",
       "      <td>NaN</td>\n",
       "      <td>NaN</td>\n",
       "      <td>NaN</td>\n",
       "      <td>NaN</td>\n",
       "    </tr>\n",
       "    <tr>\n",
       "      <th>kbest_fclass</th>\n",
       "      <td>NaN</td>\n",
       "      <td>NaN</td>\n",
       "      <td>NaN</td>\n",
       "      <td>NaN</td>\n",
       "      <td>NaN</td>\n",
       "      <td>NaN</td>\n",
       "    </tr>\n",
       "    <tr>\n",
       "      <th>extraTrees</th>\n",
       "      <td>NaN</td>\n",
       "      <td>NaN</td>\n",
       "      <td>NaN</td>\n",
       "      <td>NaN</td>\n",
       "      <td>NaN</td>\n",
       "      <td>NaN</td>\n",
       "    </tr>\n",
       "    <tr>\n",
       "      <th>randomForest</th>\n",
       "      <td>NaN</td>\n",
       "      <td>NaN</td>\n",
       "      <td>NaN</td>\n",
       "      <td>NaN</td>\n",
       "      <td>NaN</td>\n",
       "      <td>NaN</td>\n",
       "    </tr>\n",
       "  </tbody>\n",
       "</table>\n",
       "</div>"
      ],
      "text/plain": [
       "                           accuracy precision recall f1_score mathews_corr  \\\n",
       "method    featureSelection                                                   \n",
       "kmeans    kbest_chi2            NaN       NaN    NaN      NaN          NaN   \n",
       "          kbest_fclass          NaN       NaN    NaN      NaN          NaN   \n",
       "          extraTrees            NaN       NaN    NaN      NaN          NaN   \n",
       "          randomForest          NaN       NaN    NaN      NaN          NaN   \n",
       "minibatch kbest_chi2            NaN       NaN    NaN      NaN          NaN   \n",
       "          kbest_fclass          NaN       NaN    NaN      NaN          NaN   \n",
       "          extraTrees            NaN       NaN    NaN      NaN          NaN   \n",
       "          randomForest          NaN       NaN    NaN      NaN          NaN   \n",
       "birch     kbest_chi2            NaN       NaN    NaN      NaN          NaN   \n",
       "          kbest_fclass          NaN       NaN    NaN      NaN          NaN   \n",
       "          extraTrees            NaN       NaN    NaN      NaN          NaN   \n",
       "          randomForest          NaN       NaN    NaN      NaN          NaN   \n",
       "mincovdet kbest_chi2            NaN       NaN    NaN      NaN          NaN   \n",
       "          kbest_fclass          NaN       NaN    NaN      NaN          NaN   \n",
       "          extraTrees            NaN       NaN    NaN      NaN          NaN   \n",
       "          randomForest          NaN       NaN    NaN      NaN          NaN   \n",
       "isolation kbest_chi2            NaN       NaN    NaN      NaN          NaN   \n",
       "          kbest_fclass          NaN       NaN    NaN      NaN          NaN   \n",
       "          extraTrees            NaN       NaN    NaN      NaN          NaN   \n",
       "          randomForest          NaN       NaN    NaN      NaN          NaN   \n",
       "\n",
       "                            AUC  \n",
       "method    featureSelection       \n",
       "kmeans    kbest_chi2        NaN  \n",
       "          kbest_fclass      NaN  \n",
       "          extraTrees        NaN  \n",
       "          randomForest      NaN  \n",
       "minibatch kbest_chi2        NaN  \n",
       "          kbest_fclass      NaN  \n",
       "          extraTrees        NaN  \n",
       "          randomForest      NaN  \n",
       "birch     kbest_chi2        NaN  \n",
       "          kbest_fclass      NaN  \n",
       "          extraTrees        NaN  \n",
       "          randomForest      NaN  \n",
       "mincovdet kbest_chi2        NaN  \n",
       "          kbest_fclass      NaN  \n",
       "          extraTrees        NaN  \n",
       "          randomForest      NaN  \n",
       "isolation kbest_chi2        NaN  \n",
       "          kbest_fclass      NaN  \n",
       "          extraTrees        NaN  \n",
       "          randomForest      NaN  "
      ]
     },
     "execution_count": 3,
     "metadata": {},
     "output_type": "execute_result"
    }
   ],
   "source": [
    "from os import path\n",
    "\n",
    "if path.exists('UNSW_results/UNSW_norml2_results.csv'):\n",
    "    df_results = pd.read_csv('UNSW_results/UNSW_norml2_results.csv', index_col=['method', 'featureSelection'])\n",
    "else:\n",
    "    multiIndex = [['kmeans', 'minibatch', 'birch', 'mincovdet', 'isolation'],['kbest_chi2', 'kbest_fclass', 'extraTrees', 'randomForest']]\n",
    "\n",
    "    multiIndex = pd.MultiIndex.from_product(multiIndex, names=['method', 'featureSelection'])\n",
    "    df_results = pd.DataFrame(None, index=multiIndex, columns=['accuracy', 'precision', 'recall', 'f1_score', 'mathews_corr', 'AUC'])\n",
    "df_results"
   ]
  },
  {
   "cell_type": "markdown",
   "metadata": {},
   "source": [
    "# KMeans"
   ]
  },
  {
   "cell_type": "code",
   "execution_count": 4,
   "metadata": {},
   "outputs": [
    {
     "data": {
      "text/plain": [
       "accuracy        0.7943\n",
       "precision            0\n",
       "recall               0\n",
       "f1_score             0\n",
       "mathews_corr   -0.0306\n",
       "AUC             0.4977\n",
       "Name: (kmeans, kbest_chi2), dtype: object"
      ]
     },
     "execution_count": 4,
     "metadata": {},
     "output_type": "execute_result"
    }
   ],
   "source": [
    "kmeans = KMeans(n_clusters=2, n_init=10, random_state=0, algorithm='full').fit(df[df_features.loc[('kbest_chi2', 'norm_l2')]])\n",
    "\n",
    "save_results(df_tags, kmeans.labels_, ('kmeans', 'kbest_chi2'))\n",
    "df_results.loc[('kmeans', 'kbest_chi2')]"
   ]
  },
  {
   "cell_type": "code",
   "execution_count": 5,
   "metadata": {},
   "outputs": [
    {
     "data": {
      "text/plain": [
       "accuracy        0.8102\n",
       "precision       0.5155\n",
       "recall               1\n",
       "f1_score        0.6803\n",
       "mathews_corr    0.6268\n",
       "AUC             0.8811\n",
       "Name: (kmeans, kbest_fclass), dtype: object"
      ]
     },
     "execution_count": 5,
     "metadata": {},
     "output_type": "execute_result"
    }
   ],
   "source": [
    "kmeans = KMeans(n_clusters=2, n_init=10, random_state=0, algorithm='full').fit(df[df_features.loc[('kbest_fclass', 'norm_l2')]])\n",
    "\n",
    "save_results(df_tags, kmeans.labels_, ('kmeans', 'kbest_fclass'))\n",
    "df_results.loc[('kmeans', 'kbest_fclass')]"
   ]
  },
  {
   "cell_type": "code",
   "execution_count": 6,
   "metadata": {},
   "outputs": [
    {
     "data": {
      "text/plain": [
       "accuracy        0.7933\n",
       "precision            0\n",
       "recall               0\n",
       "f1_score             0\n",
       "mathews_corr   -0.0345\n",
       "AUC             0.4971\n",
       "Name: (kmeans, extraTrees), dtype: object"
      ]
     },
     "execution_count": 6,
     "metadata": {},
     "output_type": "execute_result"
    }
   ],
   "source": [
    "kmeans = KMeans(n_clusters=2, n_init=10, random_state=0, algorithm='full').fit(df[df_features.loc[('extraTrees', 'norm_l2')]])\n",
    "\n",
    "save_results(df_tags, kmeans.labels_, ('kmeans', 'extraTrees'))\n",
    "df_results.loc[('kmeans', 'extraTrees')]"
   ]
  },
  {
   "cell_type": "code",
   "execution_count": 7,
   "metadata": {},
   "outputs": [
    {
     "data": {
      "text/plain": [
       "accuracy        0.7933\n",
       "precision            0\n",
       "recall               0\n",
       "f1_score             0\n",
       "mathews_corr   -0.0345\n",
       "AUC             0.4971\n",
       "Name: (kmeans, randomForest), dtype: object"
      ]
     },
     "execution_count": 7,
     "metadata": {},
     "output_type": "execute_result"
    }
   ],
   "source": [
    "kmeans = KMeans(n_clusters=2, n_init=10, random_state=0, algorithm='full').fit(df[df_features.loc[('randomForest', 'norm_l2')]])\n",
    "\n",
    "save_results(df_tags, kmeans.labels_, ('kmeans', 'randomForest'))\n",
    "df_results.loc[('kmeans', 'randomForest')]"
   ]
  },
  {
   "cell_type": "markdown",
   "metadata": {},
   "source": [
    "# MiniBatch KMeans"
   ]
  },
  {
   "cell_type": "code",
   "execution_count": 8,
   "metadata": {},
   "outputs": [
    {
     "data": {
      "text/plain": [
       "accuracy        0.7943\n",
       "precision            0\n",
       "recall               0\n",
       "f1_score             0\n",
       "mathews_corr   -0.0306\n",
       "AUC             0.4977\n",
       "Name: (minibatch, kbest_chi2), dtype: object"
      ]
     },
     "execution_count": 8,
     "metadata": {},
     "output_type": "execute_result"
    }
   ],
   "source": [
    "minibatch = MiniBatchKMeans(n_clusters=2,n_init=10, random_state=0).fit(df[df_features.loc[('kbest_chi2', 'norm_l2')]])\n",
    "\n",
    "save_results(df_tags, minibatch.labels_, ('minibatch', 'kbest_chi2'))    # Se invierte los clusters tags 0 y 1\n",
    "df_results.loc[('minibatch', 'kbest_chi2')]"
   ]
  },
  {
   "cell_type": "code",
   "execution_count": 9,
   "metadata": {},
   "outputs": [
    {
     "data": {
      "text/plain": [
       "accuracy        0.8102\n",
       "precision       0.5155\n",
       "recall               1\n",
       "f1_score        0.6803\n",
       "mathews_corr    0.6268\n",
       "AUC             0.8811\n",
       "Name: (minibatch, kbest_fclass), dtype: object"
      ]
     },
     "execution_count": 9,
     "metadata": {},
     "output_type": "execute_result"
    }
   ],
   "source": [
    "minibatch = MiniBatchKMeans(n_clusters=2,n_init=10, random_state=0).fit(df[df_features.loc[('kbest_fclass', 'norm_l2')]])\n",
    "\n",
    "save_results(df_tags, (minibatch.labels_ + 1) % 2, ('minibatch', 'kbest_fclass'))    # Se invierte los clusters tags 0 y 1\n",
    "df_results.loc[('minibatch', 'kbest_fclass')]"
   ]
  },
  {
   "cell_type": "code",
   "execution_count": 10,
   "metadata": {},
   "outputs": [
    {
     "data": {
      "text/plain": [
       "accuracy        0.7933\n",
       "precision            0\n",
       "recall               0\n",
       "f1_score             0\n",
       "mathews_corr   -0.0345\n",
       "AUC             0.4971\n",
       "Name: (minibatch, extraTrees), dtype: object"
      ]
     },
     "execution_count": 10,
     "metadata": {},
     "output_type": "execute_result"
    }
   ],
   "source": [
    "minibatch = MiniBatchKMeans(n_clusters=2,n_init=10, random_state=0).fit(df[df_features.loc[('extraTrees', 'norm_l2')]])\n",
    "\n",
    "save_results(df_tags, minibatch.labels_, ('minibatch', 'extraTrees'))    # Se invierte los clusters tags 0 y 1\n",
    "df_results.loc[('minibatch', 'extraTrees')]"
   ]
  },
  {
   "cell_type": "code",
   "execution_count": 11,
   "metadata": {},
   "outputs": [
    {
     "data": {
      "text/plain": [
       "accuracy        0.7933\n",
       "precision            0\n",
       "recall               0\n",
       "f1_score             0\n",
       "mathews_corr   -0.0345\n",
       "AUC             0.4971\n",
       "Name: (minibatch, randomForest), dtype: object"
      ]
     },
     "execution_count": 11,
     "metadata": {},
     "output_type": "execute_result"
    }
   ],
   "source": [
    "minibatch = MiniBatchKMeans(n_clusters=2,n_init=10, random_state=0).fit(df[df_features.loc[('randomForest', 'norm_l2')]])\n",
    "\n",
    "save_results(df_tags, minibatch.labels_, ('minibatch', 'randomForest'))    # Se invierte los clusters tags 0 y 1\n",
    "df_results.loc[('minibatch', 'randomForest')]"
   ]
  },
  {
   "cell_type": "markdown",
   "metadata": {},
   "source": [
    "# BIRCH"
   ]
  },
  {
   "cell_type": "code",
   "execution_count": 22,
   "metadata": {},
   "outputs": [
    {
     "name": "stderr",
     "output_type": "stream",
     "text": [
      "C:\\Users\\Sergio\\Anaconda3\\lib\\site-packages\\sklearn\\cluster\\birch.py:629: ConvergenceWarning: Number of subclusters found (1) by Birch is less than (2). Decrease the threshold.\n",
      "  % (len(centroids), self.n_clusters), ConvergenceWarning)\n",
      "C:\\Users\\Sergio\\Anaconda3\\lib\\site-packages\\sklearn\\metrics\\classification.py:1143: UndefinedMetricWarning: Precision is ill-defined and being set to 0.0 due to no predicted samples.\n",
      "  'precision', 'predicted', average, warn_for)\n",
      "C:\\Users\\Sergio\\Anaconda3\\lib\\site-packages\\sklearn\\metrics\\classification.py:1143: UndefinedMetricWarning: F-score is ill-defined and being set to 0.0 due to no predicted samples.\n",
      "  'precision', 'predicted', average, warn_for)\n",
      "C:\\Users\\Sergio\\Anaconda3\\lib\\site-packages\\sklearn\\metrics\\classification.py:543: RuntimeWarning: invalid value encountered in double_scalars\n",
      "  mcc = cov_ytyp / np.sqrt(cov_ytyt * cov_ypyp)\n"
     ]
    },
    {
     "data": {
      "text/plain": [
       "accuracy        0.798\n",
       "precision           0\n",
       "recall              0\n",
       "f1_score            0\n",
       "mathews_corr        0\n",
       "AUC               0.5\n",
       "Name: (birch, kbest_chi2), dtype: object"
      ]
     },
     "execution_count": 22,
     "metadata": {},
     "output_type": "execute_result"
    }
   ],
   "source": [
    "birch = Birch(n_clusters=2, threshold=0.1, branching_factor=10).fit_predict(df[df_features.loc[('kbest_chi2', 'norm_l2')]])\n",
    "\n",
    "save_results(df_tags, birch, ('birch', 'kbest_chi2'))\n",
    "df_results.loc[('birch', 'kbest_chi2')]"
   ]
  },
  {
   "cell_type": "code",
   "execution_count": 23,
   "metadata": {},
   "outputs": [
    {
     "name": "stderr",
     "output_type": "stream",
     "text": [
      "C:\\Users\\Sergio\\Anaconda3\\lib\\site-packages\\sklearn\\cluster\\birch.py:629: ConvergenceWarning: Number of subclusters found (1) by Birch is less than (2). Decrease the threshold.\n",
      "  % (len(centroids), self.n_clusters), ConvergenceWarning)\n",
      "C:\\Users\\Sergio\\Anaconda3\\lib\\site-packages\\sklearn\\metrics\\classification.py:1143: UndefinedMetricWarning: Precision is ill-defined and being set to 0.0 due to no predicted samples.\n",
      "  'precision', 'predicted', average, warn_for)\n",
      "C:\\Users\\Sergio\\Anaconda3\\lib\\site-packages\\sklearn\\metrics\\classification.py:1143: UndefinedMetricWarning: F-score is ill-defined and being set to 0.0 due to no predicted samples.\n",
      "  'precision', 'predicted', average, warn_for)\n",
      "C:\\Users\\Sergio\\Anaconda3\\lib\\site-packages\\sklearn\\metrics\\classification.py:543: RuntimeWarning: invalid value encountered in double_scalars\n",
      "  mcc = cov_ytyp / np.sqrt(cov_ytyt * cov_ypyp)\n"
     ]
    },
    {
     "data": {
      "text/plain": [
       "accuracy        0.798\n",
       "precision           0\n",
       "recall              0\n",
       "f1_score            0\n",
       "mathews_corr        0\n",
       "AUC               0.5\n",
       "Name: (birch, kbest_fclass), dtype: object"
      ]
     },
     "execution_count": 23,
     "metadata": {},
     "output_type": "execute_result"
    }
   ],
   "source": [
    "birch = Birch(n_clusters=2, threshold=0.1, branching_factor=10).fit_predict(df[df_features.loc[('kbest_fclass', 'norm_l2')]])\n",
    "\n",
    "save_results(df_tags, birch, ('birch', 'kbest_fclass'))\n",
    "df_results.loc[('birch', 'kbest_fclass')]"
   ]
  },
  {
   "cell_type": "code",
   "execution_count": 24,
   "metadata": {},
   "outputs": [
    {
     "data": {
      "text/plain": [
       "accuracy         0.797\n",
       "precision            0\n",
       "recall               0\n",
       "f1_score             0\n",
       "mathews_corr   -0.0158\n",
       "AUC             0.4994\n",
       "Name: (birch, extraTrees), dtype: object"
      ]
     },
     "execution_count": 24,
     "metadata": {},
     "output_type": "execute_result"
    }
   ],
   "source": [
    "birch = Birch(n_clusters=2, threshold=0.1, branching_factor=10).fit_predict(df[df_features.loc[('extraTrees', 'norm_l2')]])\n",
    "\n",
    "save_results(df_tags, (birch + 1) % 2, ('birch', 'extraTrees'))\n",
    "df_results.loc[('birch', 'extraTrees')]"
   ]
  },
  {
   "cell_type": "code",
   "execution_count": 25,
   "metadata": {},
   "outputs": [
    {
     "data": {
      "text/plain": [
       "accuracy         0.797\n",
       "precision            0\n",
       "recall               0\n",
       "f1_score             0\n",
       "mathews_corr   -0.0158\n",
       "AUC             0.4994\n",
       "Name: (birch, randomForest), dtype: object"
      ]
     },
     "execution_count": 25,
     "metadata": {},
     "output_type": "execute_result"
    }
   ],
   "source": [
    "birch = Birch(n_clusters=2, threshold=0.1, branching_factor=10).fit_predict(df[df_features.loc[('randomForest', 'norm_l2')]])\n",
    "\n",
    "save_results(df_tags, (birch + 1) % 2, ('birch', 'randomForest'))\n",
    "df_results.loc[('birch', 'randomForest')]"
   ]
  },
  {
   "cell_type": "markdown",
   "metadata": {},
   "source": [
    "# MinCovDet"
   ]
  },
  {
   "cell_type": "code",
   "execution_count": 12,
   "metadata": {},
   "outputs": [
    {
     "name": "stderr",
     "output_type": "stream",
     "text": [
      "C:\\Users\\Sergio\\Anaconda3\\lib\\site-packages\\sklearn\\covariance\\robust_covariance.py:646: UserWarning: The covariance matrix associated to your dataset is not full rank\n",
      "  warnings.warn(\"The covariance matrix associated to your dataset \"\n"
     ]
    },
    {
     "data": {
      "text/plain": [
       "accuracy        0.8023\n",
       "precision       0.5054\n",
       "recall               1\n",
       "f1_score        0.6715\n",
       "mathews_corr    0.6166\n",
       "AUC             0.8761\n",
       "Name: (mincovdet, kbest_chi2), dtype: object"
      ]
     },
     "execution_count": 12,
     "metadata": {},
     "output_type": "execute_result"
    }
   ],
   "source": [
    "minCovDet = EllipticEnvelope(assume_centered=False, contamination=0.4, support_fraction=1,\n",
    "                             random_state=0).fit_predict(df[df_features.loc[('kbest_chi2', 'norm_l2')]])\n",
    "\n",
    "minCovDet[minCovDet == 1] = 0\n",
    "minCovDet[minCovDet == -1] = 1\n",
    "save_results(df_tags, minCovDet, ('mincovdet', 'kbest_chi2'))\n",
    "df_results.loc[('mincovdet', 'kbest_chi2')]"
   ]
  },
  {
   "cell_type": "code",
   "execution_count": 13,
   "metadata": {},
   "outputs": [
    {
     "name": "stderr",
     "output_type": "stream",
     "text": [
      "C:\\Users\\Sergio\\Anaconda3\\lib\\site-packages\\sklearn\\covariance\\robust_covariance.py:646: UserWarning: The covariance matrix associated to your dataset is not full rank\n",
      "  warnings.warn(\"The covariance matrix associated to your dataset \"\n"
     ]
    },
    {
     "data": {
      "text/plain": [
       "accuracy        0.7901\n",
       "precision       0.4904\n",
       "recall               1\n",
       "f1_score        0.6581\n",
       "mathews_corr    0.6012\n",
       "AUC             0.8685\n",
       "Name: (mincovdet, kbest_fclass), dtype: object"
      ]
     },
     "execution_count": 13,
     "metadata": {},
     "output_type": "execute_result"
    }
   ],
   "source": [
    "minCovDet = EllipticEnvelope(assume_centered=False, contamination=0.4, support_fraction=1,\n",
    "                             random_state=0).fit_predict(df[df_features.loc[('kbest_fclass', 'norm_l2')]])\n",
    "\n",
    "minCovDet[minCovDet == 1] = 0\n",
    "minCovDet[minCovDet == -1] = 1\n",
    "save_results(df_tags, minCovDet, ('mincovdet', 'kbest_fclass'))\n",
    "df_results.loc[('mincovdet', 'kbest_fclass')]"
   ]
  },
  {
   "cell_type": "code",
   "execution_count": 14,
   "metadata": {},
   "outputs": [
    {
     "name": "stderr",
     "output_type": "stream",
     "text": [
      "C:\\Users\\Sergio\\Anaconda3\\lib\\site-packages\\sklearn\\covariance\\robust_covariance.py:646: UserWarning: The covariance matrix associated to your dataset is not full rank\n",
      "  warnings.warn(\"The covariance matrix associated to your dataset \"\n"
     ]
    },
    {
     "data": {
      "text/plain": [
       "accuracy        0.7901\n",
       "precision       0.4904\n",
       "recall               1\n",
       "f1_score        0.6581\n",
       "mathews_corr    0.6012\n",
       "AUC             0.8685\n",
       "Name: (mincovdet, extraTrees), dtype: object"
      ]
     },
     "execution_count": 14,
     "metadata": {},
     "output_type": "execute_result"
    }
   ],
   "source": [
    "minCovDet = EllipticEnvelope(assume_centered=False, contamination=0.4, support_fraction=1,\n",
    "                             random_state=0).fit_predict(df[df_features.loc[('extraTrees', 'norm_l2')]])\n",
    "\n",
    "minCovDet[minCovDet == 1] = 0\n",
    "minCovDet[minCovDet == -1] = 1\n",
    "save_results(df_tags, minCovDet, ('mincovdet', 'extraTrees'))\n",
    "df_results.loc[('mincovdet', 'extraTrees')]"
   ]
  },
  {
   "cell_type": "code",
   "execution_count": 15,
   "metadata": {},
   "outputs": [
    {
     "name": "stderr",
     "output_type": "stream",
     "text": [
      "C:\\Users\\Sergio\\Anaconda3\\lib\\site-packages\\sklearn\\covariance\\robust_covariance.py:646: UserWarning: The covariance matrix associated to your dataset is not full rank\n",
      "  warnings.warn(\"The covariance matrix associated to your dataset \"\n"
     ]
    },
    {
     "data": {
      "text/plain": [
       "accuracy        0.8023\n",
       "precision       0.5054\n",
       "recall               1\n",
       "f1_score        0.6715\n",
       "mathews_corr    0.6166\n",
       "AUC             0.8761\n",
       "Name: (mincovdet, randomForest), dtype: object"
      ]
     },
     "execution_count": 15,
     "metadata": {},
     "output_type": "execute_result"
    }
   ],
   "source": [
    "minCovDet = EllipticEnvelope(assume_centered=False, contamination=0.4, support_fraction=1,\n",
    "                             random_state=0).fit_predict(df[df_features.loc[('randomForest', 'norm_l2')]])\n",
    "\n",
    "minCovDet[minCovDet == 1] = 0\n",
    "minCovDet[minCovDet == -1] = 1\n",
    "save_results(df_tags, minCovDet, ('mincovdet', 'randomForest'))\n",
    "df_results.loc[('mincovdet', 'randomForest')]"
   ]
  },
  {
   "cell_type": "markdown",
   "metadata": {},
   "source": [
    "# Isolation Forest"
   ]
  },
  {
   "cell_type": "code",
   "execution_count": 16,
   "metadata": {},
   "outputs": [
    {
     "data": {
      "text/plain": [
       "accuracy         0.202\n",
       "precision        0.202\n",
       "recall               1\n",
       "f1_score        0.3361\n",
       "mathews_corr    0.0008\n",
       "AUC                0.5\n",
       "Name: (isolation, kbest_chi2), dtype: object"
      ]
     },
     "execution_count": 16,
     "metadata": {},
     "output_type": "execute_result"
    }
   ],
   "source": [
    "isolation = IsolationForest(n_estimators=100, contamination=0.4, random_state=4, \n",
    "                            behaviour='new').fit_predict(df[df_features.loc[('kbest_chi2', 'norm_l2')]])\n",
    "\n",
    "isolation[isolation == 1] = 0\n",
    "isolation[isolation == -1] = 1\n",
    "save_results(df_tags, isolation, ('isolation', 'kbest_chi2'))\n",
    "df_results.loc[('isolation', 'kbest_chi2')]"
   ]
  },
  {
   "cell_type": "code",
   "execution_count": 17,
   "metadata": {},
   "outputs": [
    {
     "data": {
      "text/plain": [
       "accuracy        0.8086\n",
       "precision       0.5135\n",
       "recall               1\n",
       "f1_score        0.6785\n",
       "mathews_corr    0.6247\n",
       "AUC             0.8801\n",
       "Name: (isolation, kbest_fclass), dtype: object"
      ]
     },
     "execution_count": 17,
     "metadata": {},
     "output_type": "execute_result"
    }
   ],
   "source": [
    "isolation = IsolationForest(n_estimators=100, contamination=0.4, random_state=4, \n",
    "                            behaviour='new').fit_predict(df[df_features.loc[('kbest_fclass', 'norm_l2')]])\n",
    "\n",
    "isolation[isolation == 1] = 0\n",
    "isolation[isolation == -1] = 1\n",
    "save_results(df_tags, isolation, ('isolation', 'kbest_fclass'))\n",
    "df_results.loc[('isolation', 'kbest_fclass')]"
   ]
  },
  {
   "cell_type": "code",
   "execution_count": 19,
   "metadata": {},
   "outputs": [
    {
     "name": "stderr",
     "output_type": "stream",
     "text": [
      "C:\\Users\\Sergio\\Anaconda3\\lib\\site-packages\\sklearn\\metrics\\classification.py:543: RuntimeWarning: invalid value encountered in double_scalars\n",
      "  mcc = cov_ytyp / np.sqrt(cov_ytyt * cov_ypyp)\n"
     ]
    },
    {
     "data": {
      "text/plain": [
       "accuracy         0.202\n",
       "precision        0.202\n",
       "recall               1\n",
       "f1_score        0.3361\n",
       "mathews_corr         0\n",
       "AUC                0.5\n",
       "Name: (isolation, extraTrees), dtype: object"
      ]
     },
     "execution_count": 19,
     "metadata": {},
     "output_type": "execute_result"
    }
   ],
   "source": [
    "isolation = IsolationForest(n_estimators=100, contamination=0.4, random_state=4, \n",
    "                            behaviour='new').fit_predict(df[df_features.loc[('extraTrees', 'norm_l2')]])\n",
    "\n",
    "isolation[isolation == 1] = 0\n",
    "isolation[isolation == -1] = 1\n",
    "save_results(df_tags, isolation, ('isolation', 'extraTrees'))\n",
    "df_results.loc[('isolation', 'extraTrees')]"
   ]
  },
  {
   "cell_type": "code",
   "execution_count": 20,
   "metadata": {},
   "outputs": [
    {
     "data": {
      "text/plain": [
       "accuracy        0.8086\n",
       "precision       0.5135\n",
       "recall               1\n",
       "f1_score        0.6785\n",
       "mathews_corr    0.6247\n",
       "AUC             0.8801\n",
       "Name: (isolation, randomForest), dtype: object"
      ]
     },
     "execution_count": 20,
     "metadata": {},
     "output_type": "execute_result"
    }
   ],
   "source": [
    "isolation = IsolationForest(n_estimators=100, contamination=0.4, random_state=4, \n",
    "                            behaviour='new').fit_predict(df[df_features.loc[('randomForest', 'norm_l2')]])\n",
    "\n",
    "isolation[isolation == 1] = 0\n",
    "isolation[isolation == -1] = 1\n",
    "save_results(df_tags, isolation, ('isolation', 'randomForest'))\n",
    "df_results.loc[('isolation', 'randomForest')]"
   ]
  },
  {
   "cell_type": "markdown",
   "metadata": {},
   "source": [
    "# Resumen resultados aplicando la transformación Normalización L2 a los datos"
   ]
  },
  {
   "cell_type": "code",
   "execution_count": 26,
   "metadata": {},
   "outputs": [
    {
     "data": {
      "text/html": [
       "<div>\n",
       "<style scoped>\n",
       "    .dataframe tbody tr th:only-of-type {\n",
       "        vertical-align: middle;\n",
       "    }\n",
       "\n",
       "    .dataframe tbody tr th {\n",
       "        vertical-align: top;\n",
       "    }\n",
       "\n",
       "    .dataframe thead th {\n",
       "        text-align: right;\n",
       "    }\n",
       "</style>\n",
       "<table border=\"1\" class=\"dataframe\">\n",
       "  <thead>\n",
       "    <tr style=\"text-align: right;\">\n",
       "      <th></th>\n",
       "      <th></th>\n",
       "      <th>accuracy</th>\n",
       "      <th>precision</th>\n",
       "      <th>recall</th>\n",
       "      <th>f1_score</th>\n",
       "      <th>mathews_corr</th>\n",
       "      <th>AUC</th>\n",
       "    </tr>\n",
       "    <tr>\n",
       "      <th>method</th>\n",
       "      <th>featureSelection</th>\n",
       "      <th></th>\n",
       "      <th></th>\n",
       "      <th></th>\n",
       "      <th></th>\n",
       "      <th></th>\n",
       "      <th></th>\n",
       "    </tr>\n",
       "  </thead>\n",
       "  <tbody>\n",
       "    <tr>\n",
       "      <th rowspan=\"4\" valign=\"top\">kmeans</th>\n",
       "      <th>kbest_chi2</th>\n",
       "      <td>0.7943</td>\n",
       "      <td>0</td>\n",
       "      <td>0</td>\n",
       "      <td>0</td>\n",
       "      <td>-0.0306</td>\n",
       "      <td>0.4977</td>\n",
       "    </tr>\n",
       "    <tr>\n",
       "      <th>kbest_fclass</th>\n",
       "      <td>0.8102</td>\n",
       "      <td>0.5155</td>\n",
       "      <td>1</td>\n",
       "      <td>0.6803</td>\n",
       "      <td>0.6268</td>\n",
       "      <td>0.8811</td>\n",
       "    </tr>\n",
       "    <tr>\n",
       "      <th>extraTrees</th>\n",
       "      <td>0.7933</td>\n",
       "      <td>0</td>\n",
       "      <td>0</td>\n",
       "      <td>0</td>\n",
       "      <td>-0.0345</td>\n",
       "      <td>0.4971</td>\n",
       "    </tr>\n",
       "    <tr>\n",
       "      <th>randomForest</th>\n",
       "      <td>0.7933</td>\n",
       "      <td>0</td>\n",
       "      <td>0</td>\n",
       "      <td>0</td>\n",
       "      <td>-0.0345</td>\n",
       "      <td>0.4971</td>\n",
       "    </tr>\n",
       "    <tr>\n",
       "      <th rowspan=\"4\" valign=\"top\">minibatch</th>\n",
       "      <th>kbest_chi2</th>\n",
       "      <td>0.7943</td>\n",
       "      <td>0</td>\n",
       "      <td>0</td>\n",
       "      <td>0</td>\n",
       "      <td>-0.0306</td>\n",
       "      <td>0.4977</td>\n",
       "    </tr>\n",
       "    <tr>\n",
       "      <th>kbest_fclass</th>\n",
       "      <td>0.8102</td>\n",
       "      <td>0.5155</td>\n",
       "      <td>1</td>\n",
       "      <td>0.6803</td>\n",
       "      <td>0.6268</td>\n",
       "      <td>0.8811</td>\n",
       "    </tr>\n",
       "    <tr>\n",
       "      <th>extraTrees</th>\n",
       "      <td>0.7933</td>\n",
       "      <td>0</td>\n",
       "      <td>0</td>\n",
       "      <td>0</td>\n",
       "      <td>-0.0345</td>\n",
       "      <td>0.4971</td>\n",
       "    </tr>\n",
       "    <tr>\n",
       "      <th>randomForest</th>\n",
       "      <td>0.7933</td>\n",
       "      <td>0</td>\n",
       "      <td>0</td>\n",
       "      <td>0</td>\n",
       "      <td>-0.0345</td>\n",
       "      <td>0.4971</td>\n",
       "    </tr>\n",
       "    <tr>\n",
       "      <th rowspan=\"4\" valign=\"top\">birch</th>\n",
       "      <th>kbest_chi2</th>\n",
       "      <td>0.798</td>\n",
       "      <td>0</td>\n",
       "      <td>0</td>\n",
       "      <td>0</td>\n",
       "      <td>0</td>\n",
       "      <td>0.5</td>\n",
       "    </tr>\n",
       "    <tr>\n",
       "      <th>kbest_fclass</th>\n",
       "      <td>0.798</td>\n",
       "      <td>0</td>\n",
       "      <td>0</td>\n",
       "      <td>0</td>\n",
       "      <td>0</td>\n",
       "      <td>0.5</td>\n",
       "    </tr>\n",
       "    <tr>\n",
       "      <th>extraTrees</th>\n",
       "      <td>0.797</td>\n",
       "      <td>0</td>\n",
       "      <td>0</td>\n",
       "      <td>0</td>\n",
       "      <td>-0.0158</td>\n",
       "      <td>0.4994</td>\n",
       "    </tr>\n",
       "    <tr>\n",
       "      <th>randomForest</th>\n",
       "      <td>0.797</td>\n",
       "      <td>0</td>\n",
       "      <td>0</td>\n",
       "      <td>0</td>\n",
       "      <td>-0.0158</td>\n",
       "      <td>0.4994</td>\n",
       "    </tr>\n",
       "    <tr>\n",
       "      <th rowspan=\"4\" valign=\"top\">mincovdet</th>\n",
       "      <th>kbest_chi2</th>\n",
       "      <td>0.8023</td>\n",
       "      <td>0.5054</td>\n",
       "      <td>1</td>\n",
       "      <td>0.6715</td>\n",
       "      <td>0.6166</td>\n",
       "      <td>0.8761</td>\n",
       "    </tr>\n",
       "    <tr>\n",
       "      <th>kbest_fclass</th>\n",
       "      <td>0.7901</td>\n",
       "      <td>0.4904</td>\n",
       "      <td>1</td>\n",
       "      <td>0.6581</td>\n",
       "      <td>0.6012</td>\n",
       "      <td>0.8685</td>\n",
       "    </tr>\n",
       "    <tr>\n",
       "      <th>extraTrees</th>\n",
       "      <td>0.7901</td>\n",
       "      <td>0.4904</td>\n",
       "      <td>1</td>\n",
       "      <td>0.6581</td>\n",
       "      <td>0.6012</td>\n",
       "      <td>0.8685</td>\n",
       "    </tr>\n",
       "    <tr>\n",
       "      <th>randomForest</th>\n",
       "      <td>0.8023</td>\n",
       "      <td>0.5054</td>\n",
       "      <td>1</td>\n",
       "      <td>0.6715</td>\n",
       "      <td>0.6166</td>\n",
       "      <td>0.8761</td>\n",
       "    </tr>\n",
       "    <tr>\n",
       "      <th rowspan=\"4\" valign=\"top\">isolation</th>\n",
       "      <th>kbest_chi2</th>\n",
       "      <td>0.202</td>\n",
       "      <td>0.202</td>\n",
       "      <td>1</td>\n",
       "      <td>0.3361</td>\n",
       "      <td>0.0008</td>\n",
       "      <td>0.5</td>\n",
       "    </tr>\n",
       "    <tr>\n",
       "      <th>kbest_fclass</th>\n",
       "      <td>0.8086</td>\n",
       "      <td>0.5135</td>\n",
       "      <td>1</td>\n",
       "      <td>0.6785</td>\n",
       "      <td>0.6247</td>\n",
       "      <td>0.8801</td>\n",
       "    </tr>\n",
       "    <tr>\n",
       "      <th>extraTrees</th>\n",
       "      <td>0.202</td>\n",
       "      <td>0.202</td>\n",
       "      <td>1</td>\n",
       "      <td>0.3361</td>\n",
       "      <td>0</td>\n",
       "      <td>0.5</td>\n",
       "    </tr>\n",
       "    <tr>\n",
       "      <th>randomForest</th>\n",
       "      <td>0.8086</td>\n",
       "      <td>0.5135</td>\n",
       "      <td>1</td>\n",
       "      <td>0.6785</td>\n",
       "      <td>0.6247</td>\n",
       "      <td>0.8801</td>\n",
       "    </tr>\n",
       "  </tbody>\n",
       "</table>\n",
       "</div>"
      ],
      "text/plain": [
       "                           accuracy precision recall f1_score mathews_corr  \\\n",
       "method    featureSelection                                                   \n",
       "kmeans    kbest_chi2         0.7943         0      0        0      -0.0306   \n",
       "          kbest_fclass       0.8102    0.5155      1   0.6803       0.6268   \n",
       "          extraTrees         0.7933         0      0        0      -0.0345   \n",
       "          randomForest       0.7933         0      0        0      -0.0345   \n",
       "minibatch kbest_chi2         0.7943         0      0        0      -0.0306   \n",
       "          kbest_fclass       0.8102    0.5155      1   0.6803       0.6268   \n",
       "          extraTrees         0.7933         0      0        0      -0.0345   \n",
       "          randomForest       0.7933         0      0        0      -0.0345   \n",
       "birch     kbest_chi2          0.798         0      0        0            0   \n",
       "          kbest_fclass        0.798         0      0        0            0   \n",
       "          extraTrees          0.797         0      0        0      -0.0158   \n",
       "          randomForest        0.797         0      0        0      -0.0158   \n",
       "mincovdet kbest_chi2         0.8023    0.5054      1   0.6715       0.6166   \n",
       "          kbest_fclass       0.7901    0.4904      1   0.6581       0.6012   \n",
       "          extraTrees         0.7901    0.4904      1   0.6581       0.6012   \n",
       "          randomForest       0.8023    0.5054      1   0.6715       0.6166   \n",
       "isolation kbest_chi2          0.202     0.202      1   0.3361       0.0008   \n",
       "          kbest_fclass       0.8086    0.5135      1   0.6785       0.6247   \n",
       "          extraTrees          0.202     0.202      1   0.3361            0   \n",
       "          randomForest       0.8086    0.5135      1   0.6785       0.6247   \n",
       "\n",
       "                               AUC  \n",
       "method    featureSelection          \n",
       "kmeans    kbest_chi2        0.4977  \n",
       "          kbest_fclass      0.8811  \n",
       "          extraTrees        0.4971  \n",
       "          randomForest      0.4971  \n",
       "minibatch kbest_chi2        0.4977  \n",
       "          kbest_fclass      0.8811  \n",
       "          extraTrees        0.4971  \n",
       "          randomForest      0.4971  \n",
       "birch     kbest_chi2           0.5  \n",
       "          kbest_fclass         0.5  \n",
       "          extraTrees        0.4994  \n",
       "          randomForest      0.4994  \n",
       "mincovdet kbest_chi2        0.8761  \n",
       "          kbest_fclass      0.8685  \n",
       "          extraTrees        0.8685  \n",
       "          randomForest      0.8761  \n",
       "isolation kbest_chi2           0.5  \n",
       "          kbest_fclass      0.8801  \n",
       "          extraTrees           0.5  \n",
       "          randomForest      0.8801  "
      ]
     },
     "execution_count": 26,
     "metadata": {},
     "output_type": "execute_result"
    }
   ],
   "source": [
    "df_results.to_csv('UNSW_results/UNSW_norml2_results.csv')\n",
    "df_results"
   ]
  },
  {
   "cell_type": "code",
   "execution_count": null,
   "metadata": {},
   "outputs": [],
   "source": []
  }
 ],
 "metadata": {
  "kernelspec": {
   "display_name": "Python 3",
   "language": "python",
   "name": "python3"
  },
  "language_info": {
   "codemirror_mode": {
    "name": "ipython",
    "version": 3
   },
   "file_extension": ".py",
   "mimetype": "text/x-python",
   "name": "python",
   "nbconvert_exporter": "python",
   "pygments_lexer": "ipython3",
   "version": "3.7.0"
  }
 },
 "nbformat": 4,
 "nbformat_minor": 2
}
