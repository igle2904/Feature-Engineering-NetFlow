{
 "cells": [
  {
   "cell_type": "code",
   "execution_count": 1,
   "metadata": {},
   "outputs": [
    {
     "data": {
      "text/html": [
       "<div>\n",
       "<style scoped>\n",
       "    .dataframe tbody tr th:only-of-type {\n",
       "        vertical-align: middle;\n",
       "    }\n",
       "\n",
       "    .dataframe tbody tr th {\n",
       "        vertical-align: top;\n",
       "    }\n",
       "\n",
       "    .dataframe thead th {\n",
       "        text-align: right;\n",
       "    }\n",
       "</style>\n",
       "<table border=\"1\" class=\"dataframe\">\n",
       "  <thead>\n",
       "    <tr style=\"text-align: right;\">\n",
       "      <th></th>\n",
       "      <th></th>\n",
       "      <th>0</th>\n",
       "      <th>1</th>\n",
       "      <th>2</th>\n",
       "      <th>3</th>\n",
       "      <th>4</th>\n",
       "      <th>5</th>\n",
       "      <th>6</th>\n",
       "      <th>7</th>\n",
       "      <th>8</th>\n",
       "      <th>9</th>\n",
       "    </tr>\n",
       "    <tr>\n",
       "      <th>featureSelection</th>\n",
       "      <th>preprocesamiento</th>\n",
       "      <th></th>\n",
       "      <th></th>\n",
       "      <th></th>\n",
       "      <th></th>\n",
       "      <th></th>\n",
       "      <th></th>\n",
       "      <th></th>\n",
       "      <th></th>\n",
       "      <th></th>\n",
       "      <th></th>\n",
       "    </tr>\n",
       "  </thead>\n",
       "  <tbody>\n",
       "    <tr>\n",
       "      <th>kbest_chi2</th>\n",
       "      <th>norm_l1</th>\n",
       "      <td>d22</td>\n",
       "      <td>s30</td>\n",
       "      <td>s22</td>\n",
       "      <td>s7</td>\n",
       "      <td>s6</td>\n",
       "      <td>s5</td>\n",
       "      <td>s20</td>\n",
       "      <td>eucl_dec</td>\n",
       "      <td>hamm</td>\n",
       "      <td>eucl</td>\n",
       "    </tr>\n",
       "    <tr>\n",
       "      <th>kbest_fclass</th>\n",
       "      <th>norm_l1</th>\n",
       "      <td>s7</td>\n",
       "      <td>s30</td>\n",
       "      <td>s22</td>\n",
       "      <td>d22</td>\n",
       "      <td>s20</td>\n",
       "      <td>s5</td>\n",
       "      <td>s6</td>\n",
       "      <td>s29</td>\n",
       "      <td>s18</td>\n",
       "      <td>eucl</td>\n",
       "    </tr>\n",
       "    <tr>\n",
       "      <th>extraTrees</th>\n",
       "      <th>norm_l1</th>\n",
       "      <td>xor+</td>\n",
       "      <td>hamm</td>\n",
       "      <td>eucl</td>\n",
       "      <td>xor</td>\n",
       "      <td>s25</td>\n",
       "      <td>eucl_dec</td>\n",
       "      <td>d7</td>\n",
       "      <td>d25</td>\n",
       "      <td>s1</td>\n",
       "      <td>d5</td>\n",
       "    </tr>\n",
       "    <tr>\n",
       "      <th>randomForest</th>\n",
       "      <th>norm_l1</th>\n",
       "      <td>eucl</td>\n",
       "      <td>hamm</td>\n",
       "      <td>xor</td>\n",
       "      <td>xor+</td>\n",
       "      <td>d19</td>\n",
       "      <td>norm_dst</td>\n",
       "      <td>norm_src</td>\n",
       "      <td>s25</td>\n",
       "      <td>d25</td>\n",
       "      <td>d12</td>\n",
       "    </tr>\n",
       "  </tbody>\n",
       "</table>\n",
       "</div>"
      ],
      "text/plain": [
       "                                      0     1     2     3    4         5  \\\n",
       "featureSelection preprocesamiento                                          \n",
       "kbest_chi2       norm_l1            d22   s30   s22    s7   s6        s5   \n",
       "kbest_fclass     norm_l1             s7   s30   s22   d22  s20        s5   \n",
       "extraTrees       norm_l1           xor+  hamm  eucl   xor  s25  eucl_dec   \n",
       "randomForest     norm_l1           eucl  hamm   xor  xor+  d19  norm_dst   \n",
       "\n",
       "                                          6         7     8     9  \n",
       "featureSelection preprocesamiento                                  \n",
       "kbest_chi2       norm_l1                s20  eucl_dec  hamm  eucl  \n",
       "kbest_fclass     norm_l1                 s6       s29   s18  eucl  \n",
       "extraTrees       norm_l1                 d7       d25    s1    d5  \n",
       "randomForest     norm_l1           norm_src       s25   d25   d12  "
      ]
     },
     "execution_count": 1,
     "metadata": {},
     "output_type": "execute_result"
    }
   ],
   "source": [
    "import pandas as pd\n",
    "import numpy as np\n",
    "import json\n",
    "from sklearn.cluster import KMeans, MiniBatchKMeans, Birch, DBSCAN\n",
    "from sklearn.covariance import EllipticEnvelope\n",
    "from sklearn.ensemble import IsolationForest\n",
    "from sklearn.svm import OneClassSVM\n",
    "from sklearn.metrics import accuracy_score, precision_score, recall_score, f1_score, matthews_corrcoef, roc_auc_score\n",
    "\n",
    "df = pd.read_csv('UNSW_datasets_preprocesados/norml1.csv')\n",
    "df_tags = pd.read_csv('UNSW_datasets_preprocesados/UNSW_tags.csv', index_col=0, header=None, names=['Tag'])\n",
    "\n",
    "df_features = pd.read_csv('UNSW_datasets_preprocesados/UNSW_features.csv', index_col=['featureSelection', 'preprocesamiento'])\n",
    "df_features.loc[pd.IndexSlice[:, 'norm_l1'],:]"
   ]
  },
  {
   "cell_type": "code",
   "execution_count": 2,
   "metadata": {},
   "outputs": [],
   "source": [
    "def save_results(real, prediccion, indexs):\n",
    "    df_results.loc[indexs] =  [round(accuracy_score(real, prediccion), 4),\n",
    "                              round(precision_score(real, prediccion), 4),\n",
    "                              round(recall_score(real, prediccion), 4),\n",
    "                              round(f1_score(real, prediccion), 4),\n",
    "                              round(matthews_corrcoef(real, prediccion), 4),\n",
    "                              round(roc_auc_score(real, prediccion), 4)]"
   ]
  },
  {
   "cell_type": "code",
   "execution_count": 3,
   "metadata": {},
   "outputs": [
    {
     "data": {
      "text/html": [
       "<div>\n",
       "<style scoped>\n",
       "    .dataframe tbody tr th:only-of-type {\n",
       "        vertical-align: middle;\n",
       "    }\n",
       "\n",
       "    .dataframe tbody tr th {\n",
       "        vertical-align: top;\n",
       "    }\n",
       "\n",
       "    .dataframe thead th {\n",
       "        text-align: right;\n",
       "    }\n",
       "</style>\n",
       "<table border=\"1\" class=\"dataframe\">\n",
       "  <thead>\n",
       "    <tr style=\"text-align: right;\">\n",
       "      <th></th>\n",
       "      <th></th>\n",
       "      <th>accuracy</th>\n",
       "      <th>precision</th>\n",
       "      <th>recall</th>\n",
       "      <th>f1_score</th>\n",
       "      <th>mathews_corr</th>\n",
       "      <th>AUC</th>\n",
       "    </tr>\n",
       "    <tr>\n",
       "      <th>method</th>\n",
       "      <th>featureSelection</th>\n",
       "      <th></th>\n",
       "      <th></th>\n",
       "      <th></th>\n",
       "      <th></th>\n",
       "      <th></th>\n",
       "      <th></th>\n",
       "    </tr>\n",
       "  </thead>\n",
       "  <tbody>\n",
       "    <tr>\n",
       "      <th rowspan=\"4\" valign=\"top\">kmeans</th>\n",
       "      <th>kbest_chi2</th>\n",
       "      <td>NaN</td>\n",
       "      <td>NaN</td>\n",
       "      <td>NaN</td>\n",
       "      <td>NaN</td>\n",
       "      <td>NaN</td>\n",
       "      <td>NaN</td>\n",
       "    </tr>\n",
       "    <tr>\n",
       "      <th>kbest_fclass</th>\n",
       "      <td>NaN</td>\n",
       "      <td>NaN</td>\n",
       "      <td>NaN</td>\n",
       "      <td>NaN</td>\n",
       "      <td>NaN</td>\n",
       "      <td>NaN</td>\n",
       "    </tr>\n",
       "    <tr>\n",
       "      <th>extraTrees</th>\n",
       "      <td>NaN</td>\n",
       "      <td>NaN</td>\n",
       "      <td>NaN</td>\n",
       "      <td>NaN</td>\n",
       "      <td>NaN</td>\n",
       "      <td>NaN</td>\n",
       "    </tr>\n",
       "    <tr>\n",
       "      <th>randomForest</th>\n",
       "      <td>NaN</td>\n",
       "      <td>NaN</td>\n",
       "      <td>NaN</td>\n",
       "      <td>NaN</td>\n",
       "      <td>NaN</td>\n",
       "      <td>NaN</td>\n",
       "    </tr>\n",
       "    <tr>\n",
       "      <th rowspan=\"4\" valign=\"top\">minibatch</th>\n",
       "      <th>kbest_chi2</th>\n",
       "      <td>NaN</td>\n",
       "      <td>NaN</td>\n",
       "      <td>NaN</td>\n",
       "      <td>NaN</td>\n",
       "      <td>NaN</td>\n",
       "      <td>NaN</td>\n",
       "    </tr>\n",
       "    <tr>\n",
       "      <th>kbest_fclass</th>\n",
       "      <td>NaN</td>\n",
       "      <td>NaN</td>\n",
       "      <td>NaN</td>\n",
       "      <td>NaN</td>\n",
       "      <td>NaN</td>\n",
       "      <td>NaN</td>\n",
       "    </tr>\n",
       "    <tr>\n",
       "      <th>extraTrees</th>\n",
       "      <td>NaN</td>\n",
       "      <td>NaN</td>\n",
       "      <td>NaN</td>\n",
       "      <td>NaN</td>\n",
       "      <td>NaN</td>\n",
       "      <td>NaN</td>\n",
       "    </tr>\n",
       "    <tr>\n",
       "      <th>randomForest</th>\n",
       "      <td>NaN</td>\n",
       "      <td>NaN</td>\n",
       "      <td>NaN</td>\n",
       "      <td>NaN</td>\n",
       "      <td>NaN</td>\n",
       "      <td>NaN</td>\n",
       "    </tr>\n",
       "    <tr>\n",
       "      <th rowspan=\"4\" valign=\"top\">birch</th>\n",
       "      <th>kbest_chi2</th>\n",
       "      <td>NaN</td>\n",
       "      <td>NaN</td>\n",
       "      <td>NaN</td>\n",
       "      <td>NaN</td>\n",
       "      <td>NaN</td>\n",
       "      <td>NaN</td>\n",
       "    </tr>\n",
       "    <tr>\n",
       "      <th>kbest_fclass</th>\n",
       "      <td>NaN</td>\n",
       "      <td>NaN</td>\n",
       "      <td>NaN</td>\n",
       "      <td>NaN</td>\n",
       "      <td>NaN</td>\n",
       "      <td>NaN</td>\n",
       "    </tr>\n",
       "    <tr>\n",
       "      <th>extraTrees</th>\n",
       "      <td>NaN</td>\n",
       "      <td>NaN</td>\n",
       "      <td>NaN</td>\n",
       "      <td>NaN</td>\n",
       "      <td>NaN</td>\n",
       "      <td>NaN</td>\n",
       "    </tr>\n",
       "    <tr>\n",
       "      <th>randomForest</th>\n",
       "      <td>NaN</td>\n",
       "      <td>NaN</td>\n",
       "      <td>NaN</td>\n",
       "      <td>NaN</td>\n",
       "      <td>NaN</td>\n",
       "      <td>NaN</td>\n",
       "    </tr>\n",
       "    <tr>\n",
       "      <th rowspan=\"4\" valign=\"top\">mincovdet</th>\n",
       "      <th>kbest_chi2</th>\n",
       "      <td>NaN</td>\n",
       "      <td>NaN</td>\n",
       "      <td>NaN</td>\n",
       "      <td>NaN</td>\n",
       "      <td>NaN</td>\n",
       "      <td>NaN</td>\n",
       "    </tr>\n",
       "    <tr>\n",
       "      <th>kbest_fclass</th>\n",
       "      <td>NaN</td>\n",
       "      <td>NaN</td>\n",
       "      <td>NaN</td>\n",
       "      <td>NaN</td>\n",
       "      <td>NaN</td>\n",
       "      <td>NaN</td>\n",
       "    </tr>\n",
       "    <tr>\n",
       "      <th>extraTrees</th>\n",
       "      <td>NaN</td>\n",
       "      <td>NaN</td>\n",
       "      <td>NaN</td>\n",
       "      <td>NaN</td>\n",
       "      <td>NaN</td>\n",
       "      <td>NaN</td>\n",
       "    </tr>\n",
       "    <tr>\n",
       "      <th>randomForest</th>\n",
       "      <td>NaN</td>\n",
       "      <td>NaN</td>\n",
       "      <td>NaN</td>\n",
       "      <td>NaN</td>\n",
       "      <td>NaN</td>\n",
       "      <td>NaN</td>\n",
       "    </tr>\n",
       "    <tr>\n",
       "      <th rowspan=\"4\" valign=\"top\">isolation</th>\n",
       "      <th>kbest_chi2</th>\n",
       "      <td>NaN</td>\n",
       "      <td>NaN</td>\n",
       "      <td>NaN</td>\n",
       "      <td>NaN</td>\n",
       "      <td>NaN</td>\n",
       "      <td>NaN</td>\n",
       "    </tr>\n",
       "    <tr>\n",
       "      <th>kbest_fclass</th>\n",
       "      <td>NaN</td>\n",
       "      <td>NaN</td>\n",
       "      <td>NaN</td>\n",
       "      <td>NaN</td>\n",
       "      <td>NaN</td>\n",
       "      <td>NaN</td>\n",
       "    </tr>\n",
       "    <tr>\n",
       "      <th>extraTrees</th>\n",
       "      <td>NaN</td>\n",
       "      <td>NaN</td>\n",
       "      <td>NaN</td>\n",
       "      <td>NaN</td>\n",
       "      <td>NaN</td>\n",
       "      <td>NaN</td>\n",
       "    </tr>\n",
       "    <tr>\n",
       "      <th>randomForest</th>\n",
       "      <td>NaN</td>\n",
       "      <td>NaN</td>\n",
       "      <td>NaN</td>\n",
       "      <td>NaN</td>\n",
       "      <td>NaN</td>\n",
       "      <td>NaN</td>\n",
       "    </tr>\n",
       "  </tbody>\n",
       "</table>\n",
       "</div>"
      ],
      "text/plain": [
       "                           accuracy precision recall f1_score mathews_corr  \\\n",
       "method    featureSelection                                                   \n",
       "kmeans    kbest_chi2            NaN       NaN    NaN      NaN          NaN   \n",
       "          kbest_fclass          NaN       NaN    NaN      NaN          NaN   \n",
       "          extraTrees            NaN       NaN    NaN      NaN          NaN   \n",
       "          randomForest          NaN       NaN    NaN      NaN          NaN   \n",
       "minibatch kbest_chi2            NaN       NaN    NaN      NaN          NaN   \n",
       "          kbest_fclass          NaN       NaN    NaN      NaN          NaN   \n",
       "          extraTrees            NaN       NaN    NaN      NaN          NaN   \n",
       "          randomForest          NaN       NaN    NaN      NaN          NaN   \n",
       "birch     kbest_chi2            NaN       NaN    NaN      NaN          NaN   \n",
       "          kbest_fclass          NaN       NaN    NaN      NaN          NaN   \n",
       "          extraTrees            NaN       NaN    NaN      NaN          NaN   \n",
       "          randomForest          NaN       NaN    NaN      NaN          NaN   \n",
       "mincovdet kbest_chi2            NaN       NaN    NaN      NaN          NaN   \n",
       "          kbest_fclass          NaN       NaN    NaN      NaN          NaN   \n",
       "          extraTrees            NaN       NaN    NaN      NaN          NaN   \n",
       "          randomForest          NaN       NaN    NaN      NaN          NaN   \n",
       "isolation kbest_chi2            NaN       NaN    NaN      NaN          NaN   \n",
       "          kbest_fclass          NaN       NaN    NaN      NaN          NaN   \n",
       "          extraTrees            NaN       NaN    NaN      NaN          NaN   \n",
       "          randomForest          NaN       NaN    NaN      NaN          NaN   \n",
       "\n",
       "                            AUC  \n",
       "method    featureSelection       \n",
       "kmeans    kbest_chi2        NaN  \n",
       "          kbest_fclass      NaN  \n",
       "          extraTrees        NaN  \n",
       "          randomForest      NaN  \n",
       "minibatch kbest_chi2        NaN  \n",
       "          kbest_fclass      NaN  \n",
       "          extraTrees        NaN  \n",
       "          randomForest      NaN  \n",
       "birch     kbest_chi2        NaN  \n",
       "          kbest_fclass      NaN  \n",
       "          extraTrees        NaN  \n",
       "          randomForest      NaN  \n",
       "mincovdet kbest_chi2        NaN  \n",
       "          kbest_fclass      NaN  \n",
       "          extraTrees        NaN  \n",
       "          randomForest      NaN  \n",
       "isolation kbest_chi2        NaN  \n",
       "          kbest_fclass      NaN  \n",
       "          extraTrees        NaN  \n",
       "          randomForest      NaN  "
      ]
     },
     "execution_count": 3,
     "metadata": {},
     "output_type": "execute_result"
    }
   ],
   "source": [
    "from os import path\n",
    "\n",
    "if path.exists('UNSW_results/UNSW_norml1_results.csv'):\n",
    "    df_results = pd.read_csv('UNSW_results/UNSW_norml1_results.csv', index_col=['method', 'featureSelection'])\n",
    "else:\n",
    "    multiIndex = [['kmeans', 'minibatch', 'birch', 'mincovdet', 'isolation'],['kbest_chi2', 'kbest_fclass', 'extraTrees', 'randomForest']]\n",
    "\n",
    "    multiIndex = pd.MultiIndex.from_product(multiIndex, names=['method', 'featureSelection'])\n",
    "    df_results = pd.DataFrame(None, index=multiIndex, columns=['accuracy', 'precision', 'recall', 'f1_score', 'mathews_corr', 'AUC'])\n",
    "df_results"
   ]
  },
  {
   "cell_type": "markdown",
   "metadata": {},
   "source": [
    "# KMeans"
   ]
  },
  {
   "cell_type": "code",
   "execution_count": 4,
   "metadata": {},
   "outputs": [
    {
     "data": {
      "text/plain": [
       "accuracy        0.7947\n",
       "precision            0\n",
       "recall               0\n",
       "f1_score             0\n",
       "mathews_corr   -0.0288\n",
       "AUC             0.4979\n",
       "Name: (kmeans, kbest_chi2), dtype: object"
      ]
     },
     "execution_count": 4,
     "metadata": {},
     "output_type": "execute_result"
    }
   ],
   "source": [
    "kmeans = KMeans(n_clusters=2, n_init=10, random_state=0, algorithm='full').fit(df[df_features.loc[('kbest_chi2', 'norm_l1')]])\n",
    "\n",
    "save_results(df_tags, kmeans.labels_, ('kmeans', 'kbest_chi2'))\n",
    "df_results.loc[('kmeans', 'kbest_chi2')]"
   ]
  },
  {
   "cell_type": "code",
   "execution_count": 5,
   "metadata": {},
   "outputs": [
    {
     "data": {
      "text/plain": [
       "accuracy        0.8133\n",
       "precision       0.5196\n",
       "recall               1\n",
       "f1_score        0.6839\n",
       "mathews_corr    0.6309\n",
       "AUC              0.883\n",
       "Name: (kmeans, kbest_fclass), dtype: object"
      ]
     },
     "execution_count": 5,
     "metadata": {},
     "output_type": "execute_result"
    }
   ],
   "source": [
    "kmeans = KMeans(n_clusters=2, n_init=10, random_state=0, algorithm='full').fit(df[df_features.loc[('kbest_fclass', 'norm_l1')]])\n",
    "\n",
    "save_results(df_tags, (kmeans.labels_ + 1) % 2, ('kmeans', 'kbest_fclass'))\n",
    "df_results.loc[('kmeans', 'kbest_fclass')]"
   ]
  },
  {
   "cell_type": "code",
   "execution_count": 6,
   "metadata": {},
   "outputs": [
    {
     "data": {
      "text/plain": [
       "accuracy        0.7933\n",
       "precision            0\n",
       "recall               0\n",
       "f1_score             0\n",
       "mathews_corr   -0.0345\n",
       "AUC             0.4971\n",
       "Name: (kmeans, extraTrees), dtype: object"
      ]
     },
     "execution_count": 6,
     "metadata": {},
     "output_type": "execute_result"
    }
   ],
   "source": [
    "kmeans = KMeans(n_clusters=2, n_init=10, random_state=0, algorithm='full').fit(df[df_features.loc[('extraTrees', 'norm_l1')]])\n",
    "\n",
    "save_results(df_tags, kmeans.labels_, ('kmeans', 'extraTrees'))\n",
    "df_results.loc[('kmeans', 'extraTrees')]"
   ]
  },
  {
   "cell_type": "code",
   "execution_count": 7,
   "metadata": {},
   "outputs": [
    {
     "data": {
      "text/plain": [
       "accuracy        0.7933\n",
       "precision            0\n",
       "recall               0\n",
       "f1_score             0\n",
       "mathews_corr   -0.0345\n",
       "AUC             0.4971\n",
       "Name: (kmeans, randomForest), dtype: object"
      ]
     },
     "execution_count": 7,
     "metadata": {},
     "output_type": "execute_result"
    }
   ],
   "source": [
    "kmeans = KMeans(n_clusters=2, n_init=10, random_state=0, algorithm='full').fit(df[df_features.loc[('randomForest', 'norm_l1')]])\n",
    "\n",
    "save_results(df_tags, kmeans.labels_, ('kmeans', 'randomForest'))\n",
    "df_results.loc[('kmeans', 'randomForest')]"
   ]
  },
  {
   "cell_type": "markdown",
   "metadata": {},
   "source": [
    "# MiniBatch KMeans"
   ]
  },
  {
   "cell_type": "code",
   "execution_count": 8,
   "metadata": {},
   "outputs": [
    {
     "data": {
      "text/plain": [
       "accuracy        0.8133\n",
       "precision       0.5197\n",
       "recall               1\n",
       "f1_score        0.6839\n",
       "mathews_corr    0.6309\n",
       "AUC              0.883\n",
       "Name: (minibatch, kbest_chi2), dtype: object"
      ]
     },
     "execution_count": 8,
     "metadata": {},
     "output_type": "execute_result"
    }
   ],
   "source": [
    "minibatch = MiniBatchKMeans(n_clusters=2,n_init=10, random_state=0).fit(df[df_features.loc[('kbest_chi2', 'norm_l1')]])\n",
    "\n",
    "save_results(df_tags, minibatch.labels_, ('minibatch', 'kbest_chi2'))    # Se invierte los clusters tags 0 y 1\n",
    "df_results.loc[('minibatch', 'kbest_chi2')]"
   ]
  },
  {
   "cell_type": "code",
   "execution_count": 9,
   "metadata": {},
   "outputs": [
    {
     "data": {
      "text/plain": [
       "accuracy        0.8133\n",
       "precision       0.5196\n",
       "recall               1\n",
       "f1_score        0.6839\n",
       "mathews_corr    0.6309\n",
       "AUC              0.883\n",
       "Name: (minibatch, kbest_fclass), dtype: object"
      ]
     },
     "execution_count": 9,
     "metadata": {},
     "output_type": "execute_result"
    }
   ],
   "source": [
    "minibatch = MiniBatchKMeans(n_clusters=2,n_init=10, random_state=0).fit(df[df_features.loc[('kbest_fclass', 'norm_l1')]])\n",
    "\n",
    "save_results(df_tags, (minibatch.labels_ + 1) % 2, ('minibatch', 'kbest_fclass'))    # Se invierte los clusters tags 0 y 1\n",
    "df_results.loc[('minibatch', 'kbest_fclass')]"
   ]
  },
  {
   "cell_type": "code",
   "execution_count": 10,
   "metadata": {},
   "outputs": [
    {
     "data": {
      "text/plain": [
       "accuracy        0.7933\n",
       "precision            0\n",
       "recall               0\n",
       "f1_score             0\n",
       "mathews_corr   -0.0345\n",
       "AUC             0.4971\n",
       "Name: (minibatch, extraTrees), dtype: object"
      ]
     },
     "execution_count": 10,
     "metadata": {},
     "output_type": "execute_result"
    }
   ],
   "source": [
    "minibatch = MiniBatchKMeans(n_clusters=2,n_init=10, random_state=0).fit(df[df_features.loc[('extraTrees', 'norm_l1')]])\n",
    "\n",
    "save_results(df_tags, minibatch.labels_, ('minibatch', 'extraTrees'))    # Se invierte los clusters tags 0 y 1\n",
    "df_results.loc[('minibatch', 'extraTrees')]"
   ]
  },
  {
   "cell_type": "code",
   "execution_count": 11,
   "metadata": {},
   "outputs": [
    {
     "data": {
      "text/plain": [
       "accuracy        0.7933\n",
       "precision            0\n",
       "recall               0\n",
       "f1_score             0\n",
       "mathews_corr   -0.0345\n",
       "AUC             0.4971\n",
       "Name: (minibatch, randomForest), dtype: object"
      ]
     },
     "execution_count": 11,
     "metadata": {},
     "output_type": "execute_result"
    }
   ],
   "source": [
    "minibatch = MiniBatchKMeans(n_clusters=2,n_init=10, random_state=0).fit(df[df_features.loc[('randomForest', 'norm_l1')]])\n",
    "\n",
    "save_results(df_tags, minibatch.labels_, ('minibatch', 'randomForest'))    # Se invierte los clusters tags 0 y 1\n",
    "df_results.loc[('minibatch', 'randomForest')]"
   ]
  },
  {
   "cell_type": "markdown",
   "metadata": {},
   "source": [
    "# BIRCH"
   ]
  },
  {
   "cell_type": "code",
   "execution_count": 21,
   "metadata": {},
   "outputs": [
    {
     "name": "stderr",
     "output_type": "stream",
     "text": [
      "C:\\Users\\Sergio\\Anaconda3\\lib\\site-packages\\sklearn\\cluster\\birch.py:629: ConvergenceWarning: Number of subclusters found (1) by Birch is less than (2). Decrease the threshold.\n",
      "  % (len(centroids), self.n_clusters), ConvergenceWarning)\n",
      "C:\\Users\\Sergio\\Anaconda3\\lib\\site-packages\\sklearn\\metrics\\classification.py:1143: UndefinedMetricWarning: Precision is ill-defined and being set to 0.0 due to no predicted samples.\n",
      "  'precision', 'predicted', average, warn_for)\n",
      "C:\\Users\\Sergio\\Anaconda3\\lib\\site-packages\\sklearn\\metrics\\classification.py:1143: UndefinedMetricWarning: F-score is ill-defined and being set to 0.0 due to no predicted samples.\n",
      "  'precision', 'predicted', average, warn_for)\n",
      "C:\\Users\\Sergio\\Anaconda3\\lib\\site-packages\\sklearn\\metrics\\classification.py:543: RuntimeWarning: invalid value encountered in double_scalars\n",
      "  mcc = cov_ytyp / np.sqrt(cov_ytyt * cov_ypyp)\n"
     ]
    },
    {
     "data": {
      "text/plain": [
       "accuracy        0.798\n",
       "precision           0\n",
       "recall              0\n",
       "f1_score            0\n",
       "mathews_corr        0\n",
       "AUC               0.5\n",
       "Name: (birch, kbest_chi2), dtype: object"
      ]
     },
     "execution_count": 21,
     "metadata": {},
     "output_type": "execute_result"
    }
   ],
   "source": [
    "birch = Birch(n_clusters=2, threshold=0.1, branching_factor=10).fit_predict(df[df_features.loc[('kbest_chi2', 'norm_l1')]])\n",
    "\n",
    "save_results(df_tags, birch, ('birch', 'kbest_chi2'))\n",
    "df_results.loc[('birch', 'kbest_chi2')]"
   ]
  },
  {
   "cell_type": "code",
   "execution_count": 22,
   "metadata": {},
   "outputs": [
    {
     "name": "stderr",
     "output_type": "stream",
     "text": [
      "C:\\Users\\Sergio\\Anaconda3\\lib\\site-packages\\sklearn\\cluster\\birch.py:629: ConvergenceWarning: Number of subclusters found (1) by Birch is less than (2). Decrease the threshold.\n",
      "  % (len(centroids), self.n_clusters), ConvergenceWarning)\n",
      "C:\\Users\\Sergio\\Anaconda3\\lib\\site-packages\\sklearn\\metrics\\classification.py:1143: UndefinedMetricWarning: Precision is ill-defined and being set to 0.0 due to no predicted samples.\n",
      "  'precision', 'predicted', average, warn_for)\n",
      "C:\\Users\\Sergio\\Anaconda3\\lib\\site-packages\\sklearn\\metrics\\classification.py:1143: UndefinedMetricWarning: F-score is ill-defined and being set to 0.0 due to no predicted samples.\n",
      "  'precision', 'predicted', average, warn_for)\n",
      "C:\\Users\\Sergio\\Anaconda3\\lib\\site-packages\\sklearn\\metrics\\classification.py:543: RuntimeWarning: invalid value encountered in double_scalars\n",
      "  mcc = cov_ytyp / np.sqrt(cov_ytyt * cov_ypyp)\n"
     ]
    },
    {
     "data": {
      "text/plain": [
       "accuracy        0.798\n",
       "precision           0\n",
       "recall              0\n",
       "f1_score            0\n",
       "mathews_corr        0\n",
       "AUC               0.5\n",
       "Name: (birch, kbest_fclass), dtype: object"
      ]
     },
     "execution_count": 22,
     "metadata": {},
     "output_type": "execute_result"
    }
   ],
   "source": [
    "birch = Birch(n_clusters=2, threshold=0.1, branching_factor=10).fit_predict(df[df_features.loc[('kbest_fclass', 'norm_l1')]])\n",
    "\n",
    "save_results(df_tags, birch, ('birch', 'kbest_fclass'))\n",
    "df_results.loc[('birch', 'kbest_fclass')]"
   ]
  },
  {
   "cell_type": "code",
   "execution_count": 23,
   "metadata": {},
   "outputs": [
    {
     "data": {
      "text/plain": [
       "accuracy        0.7933\n",
       "precision            0\n",
       "recall               0\n",
       "f1_score             0\n",
       "mathews_corr   -0.0345\n",
       "AUC             0.4971\n",
       "Name: (birch, extraTrees), dtype: object"
      ]
     },
     "execution_count": 23,
     "metadata": {},
     "output_type": "execute_result"
    }
   ],
   "source": [
    "birch = Birch(n_clusters=2, threshold=0.1, branching_factor=10).fit_predict(df[df_features.loc[('extraTrees', 'norm_l1')]])\n",
    "\n",
    "save_results(df_tags, (birch + 1) % 2, ('birch', 'extraTrees'))\n",
    "df_results.loc[('birch', 'extraTrees')]"
   ]
  },
  {
   "cell_type": "code",
   "execution_count": 24,
   "metadata": {},
   "outputs": [
    {
     "data": {
      "text/plain": [
       "accuracy        0.7933\n",
       "precision            0\n",
       "recall               0\n",
       "f1_score             0\n",
       "mathews_corr   -0.0345\n",
       "AUC             0.4971\n",
       "Name: (birch, randomForest), dtype: object"
      ]
     },
     "execution_count": 24,
     "metadata": {},
     "output_type": "execute_result"
    }
   ],
   "source": [
    "birch = Birch(n_clusters=2, threshold=0.1, branching_factor=10).fit_predict(df[df_features.loc[('randomForest', 'norm_l1')]])\n",
    "\n",
    "save_results(df_tags, (birch + 1) % 2, ('birch', 'randomForest'))\n",
    "df_results.loc[('birch', 'randomForest')]"
   ]
  },
  {
   "cell_type": "markdown",
   "metadata": {},
   "source": [
    "# MinCovDet"
   ]
  },
  {
   "cell_type": "code",
   "execution_count": 12,
   "metadata": {},
   "outputs": [
    {
     "name": "stderr",
     "output_type": "stream",
     "text": [
      "C:\\Users\\Sergio\\Anaconda3\\lib\\site-packages\\sklearn\\covariance\\robust_covariance.py:646: UserWarning: The covariance matrix associated to your dataset is not full rank\n",
      "  warnings.warn(\"The covariance matrix associated to your dataset \"\n"
     ]
    },
    {
     "data": {
      "text/plain": [
       "accuracy        0.7962\n",
       "precision       0.4977\n",
       "recall               1\n",
       "f1_score        0.6647\n",
       "mathews_corr    0.6088\n",
       "AUC             0.8723\n",
       "Name: (mincovdet, kbest_chi2), dtype: object"
      ]
     },
     "execution_count": 12,
     "metadata": {},
     "output_type": "execute_result"
    }
   ],
   "source": [
    "minCovDet = EllipticEnvelope(assume_centered=False, contamination=0.4, support_fraction=1,\n",
    "                             random_state=0).fit_predict(df[df_features.loc[('kbest_chi2', 'norm_l1')]])\n",
    "\n",
    "minCovDet[minCovDet == 1] = 0\n",
    "minCovDet[minCovDet == -1] = 1\n",
    "save_results(df_tags, minCovDet, ('mincovdet', 'kbest_chi2'))\n",
    "df_results.loc[('mincovdet', 'kbest_chi2')]"
   ]
  },
  {
   "cell_type": "code",
   "execution_count": 13,
   "metadata": {},
   "outputs": [
    {
     "name": "stderr",
     "output_type": "stream",
     "text": [
      "C:\\Users\\Sergio\\Anaconda3\\lib\\site-packages\\sklearn\\covariance\\robust_covariance.py:646: UserWarning: The covariance matrix associated to your dataset is not full rank\n",
      "  warnings.warn(\"The covariance matrix associated to your dataset \"\n"
     ]
    },
    {
     "data": {
      "text/plain": [
       "accuracy        0.8023\n",
       "precision       0.5054\n",
       "recall               1\n",
       "f1_score        0.6715\n",
       "mathews_corr    0.6166\n",
       "AUC             0.8761\n",
       "Name: (mincovdet, kbest_fclass), dtype: object"
      ]
     },
     "execution_count": 13,
     "metadata": {},
     "output_type": "execute_result"
    }
   ],
   "source": [
    "minCovDet = EllipticEnvelope(assume_centered=False, contamination=0.4, support_fraction=1,\n",
    "                             random_state=0).fit_predict(df[df_features.loc[('kbest_fclass', 'norm_l1')]])\n",
    "\n",
    "minCovDet[minCovDet == 1] = 0\n",
    "minCovDet[minCovDet == -1] = 1\n",
    "save_results(df_tags, minCovDet, ('mincovdet', 'kbest_fclass'))\n",
    "df_results.loc[('mincovdet', 'kbest_fclass')]"
   ]
  },
  {
   "cell_type": "code",
   "execution_count": 14,
   "metadata": {},
   "outputs": [
    {
     "name": "stderr",
     "output_type": "stream",
     "text": [
      "C:\\Users\\Sergio\\Anaconda3\\lib\\site-packages\\sklearn\\covariance\\robust_covariance.py:646: UserWarning: The covariance matrix associated to your dataset is not full rank\n",
      "  warnings.warn(\"The covariance matrix associated to your dataset \"\n"
     ]
    },
    {
     "data": {
      "text/plain": [
       "accuracy        0.8023\n",
       "precision       0.5054\n",
       "recall               1\n",
       "f1_score        0.6715\n",
       "mathews_corr    0.6166\n",
       "AUC             0.8761\n",
       "Name: (mincovdet, extraTrees), dtype: object"
      ]
     },
     "execution_count": 14,
     "metadata": {},
     "output_type": "execute_result"
    }
   ],
   "source": [
    "minCovDet = EllipticEnvelope(assume_centered=False, contamination=0.4, support_fraction=1,\n",
    "                             random_state=0).fit_predict(df[df_features.loc[('extraTrees', 'norm_l1')]])\n",
    "\n",
    "minCovDet[minCovDet == 1] = 0\n",
    "minCovDet[minCovDet == -1] = 1\n",
    "save_results(df_tags, minCovDet, ('mincovdet', 'extraTrees'))\n",
    "df_results.loc[('mincovdet', 'extraTrees')]"
   ]
  },
  {
   "cell_type": "code",
   "execution_count": 15,
   "metadata": {},
   "outputs": [
    {
     "name": "stderr",
     "output_type": "stream",
     "text": [
      "C:\\Users\\Sergio\\Anaconda3\\lib\\site-packages\\sklearn\\covariance\\robust_covariance.py:646: UserWarning: The covariance matrix associated to your dataset is not full rank\n",
      "  warnings.warn(\"The covariance matrix associated to your dataset \"\n"
     ]
    },
    {
     "data": {
      "text/plain": [
       "accuracy        0.8023\n",
       "precision       0.5054\n",
       "recall               1\n",
       "f1_score        0.6715\n",
       "mathews_corr    0.6166\n",
       "AUC             0.8761\n",
       "Name: (mincovdet, randomForest), dtype: object"
      ]
     },
     "execution_count": 15,
     "metadata": {},
     "output_type": "execute_result"
    }
   ],
   "source": [
    "minCovDet = EllipticEnvelope(assume_centered=False, contamination=0.4, support_fraction=1,\n",
    "                             random_state=0).fit_predict(df[df_features.loc[('randomForest', 'norm_l1')]])\n",
    "\n",
    "minCovDet[minCovDet == 1] = 0\n",
    "minCovDet[minCovDet == -1] = 1\n",
    "save_results(df_tags, minCovDet, ('mincovdet', 'randomForest'))\n",
    "df_results.loc[('mincovdet', 'randomForest')]"
   ]
  },
  {
   "cell_type": "markdown",
   "metadata": {},
   "source": [
    "# Isolation Forest"
   ]
  },
  {
   "cell_type": "code",
   "execution_count": 16,
   "metadata": {},
   "outputs": [
    {
     "data": {
      "text/plain": [
       "accuracy        0.8086\n",
       "precision       0.5135\n",
       "recall               1\n",
       "f1_score        0.6785\n",
       "mathews_corr    0.6247\n",
       "AUC             0.8801\n",
       "Name: (isolation, kbest_chi2), dtype: object"
      ]
     },
     "execution_count": 16,
     "metadata": {},
     "output_type": "execute_result"
    }
   ],
   "source": [
    "isolation = IsolationForest(n_estimators=100, contamination=0.4, random_state=4, \n",
    "                            behaviour='new').fit_predict(df[df_features.loc[('kbest_chi2', 'norm_l1')]])\n",
    "\n",
    "isolation[isolation == 1] = 0\n",
    "isolation[isolation == -1] = 1\n",
    "save_results(df_tags, isolation, ('isolation', 'kbest_chi2'))\n",
    "df_results.loc[('isolation', 'kbest_chi2')]"
   ]
  },
  {
   "cell_type": "code",
   "execution_count": 17,
   "metadata": {},
   "outputs": [
    {
     "data": {
      "text/plain": [
       "accuracy        0.8086\n",
       "precision       0.5135\n",
       "recall               1\n",
       "f1_score        0.6785\n",
       "mathews_corr    0.6247\n",
       "AUC             0.8801\n",
       "Name: (isolation, kbest_fclass), dtype: object"
      ]
     },
     "execution_count": 17,
     "metadata": {},
     "output_type": "execute_result"
    }
   ],
   "source": [
    "isolation = IsolationForest(n_estimators=100, contamination=0.4, random_state=4, \n",
    "                            behaviour='new').fit_predict(df[df_features.loc[('kbest_fclass', 'norm_l1')]])\n",
    "\n",
    "isolation[isolation == 1] = 0\n",
    "isolation[isolation == -1] = 1\n",
    "save_results(df_tags, isolation, ('isolation', 'kbest_fclass'))\n",
    "df_results.loc[('isolation', 'kbest_fclass')]"
   ]
  },
  {
   "cell_type": "code",
   "execution_count": 18,
   "metadata": {},
   "outputs": [
    {
     "data": {
      "text/plain": [
       "accuracy        0.8086\n",
       "precision       0.5135\n",
       "recall               1\n",
       "f1_score        0.6785\n",
       "mathews_corr    0.6247\n",
       "AUC             0.8801\n",
       "Name: (isolation, extraTrees), dtype: object"
      ]
     },
     "execution_count": 18,
     "metadata": {},
     "output_type": "execute_result"
    }
   ],
   "source": [
    "isolation = IsolationForest(n_estimators=100, contamination=0.4, random_state=4, \n",
    "                            behaviour='new').fit_predict(df[df_features.loc[('extraTrees', 'norm_l1')]])\n",
    "\n",
    "isolation[isolation == 1] = 0\n",
    "isolation[isolation == -1] = 1\n",
    "save_results(df_tags, isolation, ('isolation', 'extraTrees'))\n",
    "df_results.loc[('isolation', 'extraTrees')]"
   ]
  },
  {
   "cell_type": "code",
   "execution_count": 19,
   "metadata": {},
   "outputs": [
    {
     "data": {
      "text/plain": [
       "accuracy        0.8086\n",
       "precision       0.5135\n",
       "recall               1\n",
       "f1_score        0.6785\n",
       "mathews_corr    0.6247\n",
       "AUC             0.8801\n",
       "Name: (isolation, randomForest), dtype: object"
      ]
     },
     "execution_count": 19,
     "metadata": {},
     "output_type": "execute_result"
    }
   ],
   "source": [
    "isolation = IsolationForest(n_estimators=100, contamination=0.4, random_state=4, \n",
    "                            behaviour='new').fit_predict(df[df_features.loc[('randomForest', 'norm_l1')]])\n",
    "\n",
    "isolation[isolation == 1] = 0\n",
    "isolation[isolation == -1] = 1\n",
    "save_results(df_tags, isolation, ('isolation', 'randomForest'))\n",
    "df_results.loc[('isolation', 'randomForest')]"
   ]
  },
  {
   "cell_type": "markdown",
   "metadata": {},
   "source": [
    "# Resumen resultados sin preprocesamiento de los datos"
   ]
  },
  {
   "cell_type": "code",
   "execution_count": 25,
   "metadata": {},
   "outputs": [
    {
     "data": {
      "text/html": [
       "<div>\n",
       "<style scoped>\n",
       "    .dataframe tbody tr th:only-of-type {\n",
       "        vertical-align: middle;\n",
       "    }\n",
       "\n",
       "    .dataframe tbody tr th {\n",
       "        vertical-align: top;\n",
       "    }\n",
       "\n",
       "    .dataframe thead th {\n",
       "        text-align: right;\n",
       "    }\n",
       "</style>\n",
       "<table border=\"1\" class=\"dataframe\">\n",
       "  <thead>\n",
       "    <tr style=\"text-align: right;\">\n",
       "      <th></th>\n",
       "      <th></th>\n",
       "      <th>accuracy</th>\n",
       "      <th>precision</th>\n",
       "      <th>recall</th>\n",
       "      <th>f1_score</th>\n",
       "      <th>mathews_corr</th>\n",
       "      <th>AUC</th>\n",
       "    </tr>\n",
       "    <tr>\n",
       "      <th>method</th>\n",
       "      <th>featureSelection</th>\n",
       "      <th></th>\n",
       "      <th></th>\n",
       "      <th></th>\n",
       "      <th></th>\n",
       "      <th></th>\n",
       "      <th></th>\n",
       "    </tr>\n",
       "  </thead>\n",
       "  <tbody>\n",
       "    <tr>\n",
       "      <th rowspan=\"4\" valign=\"top\">kmeans</th>\n",
       "      <th>kbest_chi2</th>\n",
       "      <td>0.7947</td>\n",
       "      <td>0</td>\n",
       "      <td>0</td>\n",
       "      <td>0</td>\n",
       "      <td>-0.0288</td>\n",
       "      <td>0.4979</td>\n",
       "    </tr>\n",
       "    <tr>\n",
       "      <th>kbest_fclass</th>\n",
       "      <td>0.8133</td>\n",
       "      <td>0.5196</td>\n",
       "      <td>1</td>\n",
       "      <td>0.6839</td>\n",
       "      <td>0.6309</td>\n",
       "      <td>0.883</td>\n",
       "    </tr>\n",
       "    <tr>\n",
       "      <th>extraTrees</th>\n",
       "      <td>0.7933</td>\n",
       "      <td>0</td>\n",
       "      <td>0</td>\n",
       "      <td>0</td>\n",
       "      <td>-0.0345</td>\n",
       "      <td>0.4971</td>\n",
       "    </tr>\n",
       "    <tr>\n",
       "      <th>randomForest</th>\n",
       "      <td>0.7933</td>\n",
       "      <td>0</td>\n",
       "      <td>0</td>\n",
       "      <td>0</td>\n",
       "      <td>-0.0345</td>\n",
       "      <td>0.4971</td>\n",
       "    </tr>\n",
       "    <tr>\n",
       "      <th rowspan=\"4\" valign=\"top\">minibatch</th>\n",
       "      <th>kbest_chi2</th>\n",
       "      <td>0.8133</td>\n",
       "      <td>0.5197</td>\n",
       "      <td>1</td>\n",
       "      <td>0.6839</td>\n",
       "      <td>0.6309</td>\n",
       "      <td>0.883</td>\n",
       "    </tr>\n",
       "    <tr>\n",
       "      <th>kbest_fclass</th>\n",
       "      <td>0.8133</td>\n",
       "      <td>0.5196</td>\n",
       "      <td>1</td>\n",
       "      <td>0.6839</td>\n",
       "      <td>0.6309</td>\n",
       "      <td>0.883</td>\n",
       "    </tr>\n",
       "    <tr>\n",
       "      <th>extraTrees</th>\n",
       "      <td>0.7933</td>\n",
       "      <td>0</td>\n",
       "      <td>0</td>\n",
       "      <td>0</td>\n",
       "      <td>-0.0345</td>\n",
       "      <td>0.4971</td>\n",
       "    </tr>\n",
       "    <tr>\n",
       "      <th>randomForest</th>\n",
       "      <td>0.7933</td>\n",
       "      <td>0</td>\n",
       "      <td>0</td>\n",
       "      <td>0</td>\n",
       "      <td>-0.0345</td>\n",
       "      <td>0.4971</td>\n",
       "    </tr>\n",
       "    <tr>\n",
       "      <th rowspan=\"4\" valign=\"top\">birch</th>\n",
       "      <th>kbest_chi2</th>\n",
       "      <td>0.798</td>\n",
       "      <td>0</td>\n",
       "      <td>0</td>\n",
       "      <td>0</td>\n",
       "      <td>0</td>\n",
       "      <td>0.5</td>\n",
       "    </tr>\n",
       "    <tr>\n",
       "      <th>kbest_fclass</th>\n",
       "      <td>0.798</td>\n",
       "      <td>0</td>\n",
       "      <td>0</td>\n",
       "      <td>0</td>\n",
       "      <td>0</td>\n",
       "      <td>0.5</td>\n",
       "    </tr>\n",
       "    <tr>\n",
       "      <th>extraTrees</th>\n",
       "      <td>0.7933</td>\n",
       "      <td>0</td>\n",
       "      <td>0</td>\n",
       "      <td>0</td>\n",
       "      <td>-0.0345</td>\n",
       "      <td>0.4971</td>\n",
       "    </tr>\n",
       "    <tr>\n",
       "      <th>randomForest</th>\n",
       "      <td>0.7933</td>\n",
       "      <td>0</td>\n",
       "      <td>0</td>\n",
       "      <td>0</td>\n",
       "      <td>-0.0345</td>\n",
       "      <td>0.4971</td>\n",
       "    </tr>\n",
       "    <tr>\n",
       "      <th rowspan=\"4\" valign=\"top\">mincovdet</th>\n",
       "      <th>kbest_chi2</th>\n",
       "      <td>0.7962</td>\n",
       "      <td>0.4977</td>\n",
       "      <td>1</td>\n",
       "      <td>0.6647</td>\n",
       "      <td>0.6088</td>\n",
       "      <td>0.8723</td>\n",
       "    </tr>\n",
       "    <tr>\n",
       "      <th>kbest_fclass</th>\n",
       "      <td>0.8023</td>\n",
       "      <td>0.5054</td>\n",
       "      <td>1</td>\n",
       "      <td>0.6715</td>\n",
       "      <td>0.6166</td>\n",
       "      <td>0.8761</td>\n",
       "    </tr>\n",
       "    <tr>\n",
       "      <th>extraTrees</th>\n",
       "      <td>0.8023</td>\n",
       "      <td>0.5054</td>\n",
       "      <td>1</td>\n",
       "      <td>0.6715</td>\n",
       "      <td>0.6166</td>\n",
       "      <td>0.8761</td>\n",
       "    </tr>\n",
       "    <tr>\n",
       "      <th>randomForest</th>\n",
       "      <td>0.8023</td>\n",
       "      <td>0.5054</td>\n",
       "      <td>1</td>\n",
       "      <td>0.6715</td>\n",
       "      <td>0.6166</td>\n",
       "      <td>0.8761</td>\n",
       "    </tr>\n",
       "    <tr>\n",
       "      <th rowspan=\"4\" valign=\"top\">isolation</th>\n",
       "      <th>kbest_chi2</th>\n",
       "      <td>0.8086</td>\n",
       "      <td>0.5135</td>\n",
       "      <td>1</td>\n",
       "      <td>0.6785</td>\n",
       "      <td>0.6247</td>\n",
       "      <td>0.8801</td>\n",
       "    </tr>\n",
       "    <tr>\n",
       "      <th>kbest_fclass</th>\n",
       "      <td>0.8086</td>\n",
       "      <td>0.5135</td>\n",
       "      <td>1</td>\n",
       "      <td>0.6785</td>\n",
       "      <td>0.6247</td>\n",
       "      <td>0.8801</td>\n",
       "    </tr>\n",
       "    <tr>\n",
       "      <th>extraTrees</th>\n",
       "      <td>0.8086</td>\n",
       "      <td>0.5135</td>\n",
       "      <td>1</td>\n",
       "      <td>0.6785</td>\n",
       "      <td>0.6247</td>\n",
       "      <td>0.8801</td>\n",
       "    </tr>\n",
       "    <tr>\n",
       "      <th>randomForest</th>\n",
       "      <td>0.8086</td>\n",
       "      <td>0.5135</td>\n",
       "      <td>1</td>\n",
       "      <td>0.6785</td>\n",
       "      <td>0.6247</td>\n",
       "      <td>0.8801</td>\n",
       "    </tr>\n",
       "  </tbody>\n",
       "</table>\n",
       "</div>"
      ],
      "text/plain": [
       "                           accuracy precision recall f1_score mathews_corr  \\\n",
       "method    featureSelection                                                   \n",
       "kmeans    kbest_chi2         0.7947         0      0        0      -0.0288   \n",
       "          kbest_fclass       0.8133    0.5196      1   0.6839       0.6309   \n",
       "          extraTrees         0.7933         0      0        0      -0.0345   \n",
       "          randomForest       0.7933         0      0        0      -0.0345   \n",
       "minibatch kbest_chi2         0.8133    0.5197      1   0.6839       0.6309   \n",
       "          kbest_fclass       0.8133    0.5196      1   0.6839       0.6309   \n",
       "          extraTrees         0.7933         0      0        0      -0.0345   \n",
       "          randomForest       0.7933         0      0        0      -0.0345   \n",
       "birch     kbest_chi2          0.798         0      0        0            0   \n",
       "          kbest_fclass        0.798         0      0        0            0   \n",
       "          extraTrees         0.7933         0      0        0      -0.0345   \n",
       "          randomForest       0.7933         0      0        0      -0.0345   \n",
       "mincovdet kbest_chi2         0.7962    0.4977      1   0.6647       0.6088   \n",
       "          kbest_fclass       0.8023    0.5054      1   0.6715       0.6166   \n",
       "          extraTrees         0.8023    0.5054      1   0.6715       0.6166   \n",
       "          randomForest       0.8023    0.5054      1   0.6715       0.6166   \n",
       "isolation kbest_chi2         0.8086    0.5135      1   0.6785       0.6247   \n",
       "          kbest_fclass       0.8086    0.5135      1   0.6785       0.6247   \n",
       "          extraTrees         0.8086    0.5135      1   0.6785       0.6247   \n",
       "          randomForest       0.8086    0.5135      1   0.6785       0.6247   \n",
       "\n",
       "                               AUC  \n",
       "method    featureSelection          \n",
       "kmeans    kbest_chi2        0.4979  \n",
       "          kbest_fclass       0.883  \n",
       "          extraTrees        0.4971  \n",
       "          randomForest      0.4971  \n",
       "minibatch kbest_chi2         0.883  \n",
       "          kbest_fclass       0.883  \n",
       "          extraTrees        0.4971  \n",
       "          randomForest      0.4971  \n",
       "birch     kbest_chi2           0.5  \n",
       "          kbest_fclass         0.5  \n",
       "          extraTrees        0.4971  \n",
       "          randomForest      0.4971  \n",
       "mincovdet kbest_chi2        0.8723  \n",
       "          kbest_fclass      0.8761  \n",
       "          extraTrees        0.8761  \n",
       "          randomForest      0.8761  \n",
       "isolation kbest_chi2        0.8801  \n",
       "          kbest_fclass      0.8801  \n",
       "          extraTrees        0.8801  \n",
       "          randomForest      0.8801  "
      ]
     },
     "execution_count": 25,
     "metadata": {},
     "output_type": "execute_result"
    }
   ],
   "source": [
    "df_results.to_csv('UNSW_results/UNSW_norml1_results.csv')\n",
    "df_results"
   ]
  },
  {
   "cell_type": "code",
   "execution_count": null,
   "metadata": {},
   "outputs": [],
   "source": []
  }
 ],
 "metadata": {
  "kernelspec": {
   "display_name": "Python 3",
   "language": "python",
   "name": "python3"
  },
  "language_info": {
   "codemirror_mode": {
    "name": "ipython",
    "version": 3
   },
   "file_extension": ".py",
   "mimetype": "text/x-python",
   "name": "python",
   "nbconvert_exporter": "python",
   "pygments_lexer": "ipython3",
   "version": "3.7.0"
  }
 },
 "nbformat": 4,
 "nbformat_minor": 2
}
