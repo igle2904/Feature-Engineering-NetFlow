{
 "cells": [
  {
   "cell_type": "code",
   "execution_count": 1,
   "metadata": {},
   "outputs": [
    {
     "data": {
      "text/html": [
       "<div>\n",
       "<style scoped>\n",
       "    .dataframe tbody tr th:only-of-type {\n",
       "        vertical-align: middle;\n",
       "    }\n",
       "\n",
       "    .dataframe tbody tr th {\n",
       "        vertical-align: top;\n",
       "    }\n",
       "\n",
       "    .dataframe thead th {\n",
       "        text-align: right;\n",
       "    }\n",
       "</style>\n",
       "<table border=\"1\" class=\"dataframe\">\n",
       "  <thead>\n",
       "    <tr style=\"text-align: right;\">\n",
       "      <th></th>\n",
       "      <th></th>\n",
       "      <th>0</th>\n",
       "      <th>1</th>\n",
       "      <th>2</th>\n",
       "      <th>3</th>\n",
       "      <th>4</th>\n",
       "      <th>5</th>\n",
       "      <th>6</th>\n",
       "      <th>7</th>\n",
       "      <th>8</th>\n",
       "      <th>9</th>\n",
       "    </tr>\n",
       "    <tr>\n",
       "      <th>featureSelection</th>\n",
       "      <th>preprocesamiento</th>\n",
       "      <th></th>\n",
       "      <th></th>\n",
       "      <th></th>\n",
       "      <th></th>\n",
       "      <th></th>\n",
       "      <th></th>\n",
       "      <th></th>\n",
       "      <th></th>\n",
       "      <th></th>\n",
       "      <th></th>\n",
       "    </tr>\n",
       "  </thead>\n",
       "  <tbody>\n",
       "    <tr>\n",
       "      <th>kbest_chi2</th>\n",
       "      <th>standard</th>\n",
       "      <td>s11</td>\n",
       "      <td>s18</td>\n",
       "      <td>s26</td>\n",
       "      <td>s27</td>\n",
       "      <td>s16</td>\n",
       "      <td>s25</td>\n",
       "      <td>s12</td>\n",
       "      <td>eucl_dec</td>\n",
       "      <td>s17</td>\n",
       "      <td>s0</td>\n",
       "    </tr>\n",
       "    <tr>\n",
       "      <th>kbest_fclass</th>\n",
       "      <th>standard</th>\n",
       "      <td>arit</td>\n",
       "      <td>eucl_dec</td>\n",
       "      <td>s1</td>\n",
       "      <td>hamm</td>\n",
       "      <td>d12</td>\n",
       "      <td>d18</td>\n",
       "      <td>xor+</td>\n",
       "      <td>s0</td>\n",
       "      <td>xor</td>\n",
       "      <td>d25</td>\n",
       "    </tr>\n",
       "    <tr>\n",
       "      <th>extraTrees</th>\n",
       "      <th>standard</th>\n",
       "      <td>eucl_dec</td>\n",
       "      <td>s1</td>\n",
       "      <td>d4</td>\n",
       "      <td>d10</td>\n",
       "      <td>s2</td>\n",
       "      <td>arit</td>\n",
       "      <td>s3</td>\n",
       "      <td>s8</td>\n",
       "      <td>s0</td>\n",
       "      <td>s4</td>\n",
       "    </tr>\n",
       "    <tr>\n",
       "      <th>randomForest</th>\n",
       "      <th>standard</th>\n",
       "      <td>arit</td>\n",
       "      <td>eucl_dec</td>\n",
       "      <td>xor</td>\n",
       "      <td>norm_src</td>\n",
       "      <td>hamm</td>\n",
       "      <td>xor+</td>\n",
       "      <td>norm_dst</td>\n",
       "      <td>eucl</td>\n",
       "      <td>s3</td>\n",
       "      <td>s2</td>\n",
       "    </tr>\n",
       "  </tbody>\n",
       "</table>\n",
       "</div>"
      ],
      "text/plain": [
       "                                          0         1    2         3     4  \\\n",
       "featureSelection preprocesamiento                                            \n",
       "kbest_chi2       standard               s11       s18  s26       s27   s16   \n",
       "kbest_fclass     standard              arit  eucl_dec   s1      hamm   d12   \n",
       "extraTrees       standard          eucl_dec        s1   d4       d10    s2   \n",
       "randomForest     standard              arit  eucl_dec  xor  norm_src  hamm   \n",
       "\n",
       "                                      5         6         7    8    9  \n",
       "featureSelection preprocesamiento                                      \n",
       "kbest_chi2       standard           s25       s12  eucl_dec  s17   s0  \n",
       "kbest_fclass     standard           d18      xor+        s0  xor  d25  \n",
       "extraTrees       standard          arit        s3        s8   s0   s4  \n",
       "randomForest     standard          xor+  norm_dst      eucl   s3   s2  "
      ]
     },
     "execution_count": 1,
     "metadata": {},
     "output_type": "execute_result"
    }
   ],
   "source": [
    "import pandas as pd\n",
    "import numpy as np\n",
    "import json\n",
    "from sklearn.cluster import KMeans, MiniBatchKMeans, Birch, DBSCAN\n",
    "from sklearn.covariance import EllipticEnvelope\n",
    "from sklearn.ensemble import IsolationForest\n",
    "from sklearn.svm import OneClassSVM\n",
    "from sklearn.metrics import accuracy_score, precision_score, recall_score, f1_score, matthews_corrcoef, roc_auc_score\n",
    "\n",
    "df = pd.read_csv('ISCX_datasets_preprocesados/standard.csv')\n",
    "df_tags = pd.read_csv('ISCX_datasets_preprocesados/ISCX_tags.csv', index_col=0, header=None, names=['Tag'])\n",
    "\n",
    "df_features = pd.read_csv('ISCX_datasets_preprocesados/ISCX_features.csv', index_col=['featureSelection', 'preprocesamiento'])\n",
    "df_features.loc[pd.IndexSlice[:, 'standard'],:]"
   ]
  },
  {
   "cell_type": "code",
   "execution_count": 2,
   "metadata": {},
   "outputs": [],
   "source": [
    "def save_results(real, prediccion, indexs):\n",
    "    df_results.loc[indexs] =  [round(accuracy_score(real, prediccion), 4),\n",
    "                              round(precision_score(real, prediccion), 4),\n",
    "                              round(recall_score(real, prediccion), 4),\n",
    "                              round(f1_score(real, prediccion), 4),\n",
    "                              round(matthews_corrcoef(real, prediccion), 4),\n",
    "                              round(roc_auc_score(real, prediccion), 4)]"
   ]
  },
  {
   "cell_type": "code",
   "execution_count": 3,
   "metadata": {},
   "outputs": [
    {
     "data": {
      "text/html": [
       "<div>\n",
       "<style scoped>\n",
       "    .dataframe tbody tr th:only-of-type {\n",
       "        vertical-align: middle;\n",
       "    }\n",
       "\n",
       "    .dataframe tbody tr th {\n",
       "        vertical-align: top;\n",
       "    }\n",
       "\n",
       "    .dataframe thead th {\n",
       "        text-align: right;\n",
       "    }\n",
       "</style>\n",
       "<table border=\"1\" class=\"dataframe\">\n",
       "  <thead>\n",
       "    <tr style=\"text-align: right;\">\n",
       "      <th></th>\n",
       "      <th></th>\n",
       "      <th>accuracy</th>\n",
       "      <th>precision</th>\n",
       "      <th>recall</th>\n",
       "      <th>f1_score</th>\n",
       "      <th>mathews_corr</th>\n",
       "      <th>AUC</th>\n",
       "    </tr>\n",
       "    <tr>\n",
       "      <th>method</th>\n",
       "      <th>featureSelection</th>\n",
       "      <th></th>\n",
       "      <th></th>\n",
       "      <th></th>\n",
       "      <th></th>\n",
       "      <th></th>\n",
       "      <th></th>\n",
       "    </tr>\n",
       "  </thead>\n",
       "  <tbody>\n",
       "    <tr>\n",
       "      <th rowspan=\"4\" valign=\"top\">kmeans</th>\n",
       "      <th>kbest_chi2</th>\n",
       "      <td>0.9274</td>\n",
       "      <td>0.8401</td>\n",
       "      <td>0.0222</td>\n",
       "      <td>0.0433</td>\n",
       "      <td>0.1296</td>\n",
       "      <td>0.5109</td>\n",
       "    </tr>\n",
       "    <tr>\n",
       "      <th>kbest_fclass</th>\n",
       "      <td>0.5205</td>\n",
       "      <td>0.1323</td>\n",
       "      <td>0.9873</td>\n",
       "      <td>0.2333</td>\n",
       "      <td>0.2475</td>\n",
       "      <td>0.7353</td>\n",
       "    </tr>\n",
       "    <tr>\n",
       "      <th>extraTrees</th>\n",
       "      <td>0.5849</td>\n",
       "      <td>0.1293</td>\n",
       "      <td>0.8054</td>\n",
       "      <td>0.2228</td>\n",
       "      <td>0.1956</td>\n",
       "      <td>0.6863</td>\n",
       "    </tr>\n",
       "    <tr>\n",
       "      <th>randomForest</th>\n",
       "      <td>0.5171</td>\n",
       "      <td>0.1315</td>\n",
       "      <td>0.9875</td>\n",
       "      <td>0.2321</td>\n",
       "      <td>0.2459</td>\n",
       "      <td>0.7335</td>\n",
       "    </tr>\n",
       "    <tr>\n",
       "      <th rowspan=\"4\" valign=\"top\">minibatch</th>\n",
       "      <th>kbest_chi2</th>\n",
       "      <td>0.6987</td>\n",
       "      <td>0.1727</td>\n",
       "      <td>0.8124</td>\n",
       "      <td>0.2849</td>\n",
       "      <td>0.2757</td>\n",
       "      <td>0.7510</td>\n",
       "    </tr>\n",
       "    <tr>\n",
       "      <th>kbest_fclass</th>\n",
       "      <td>0.5198</td>\n",
       "      <td>0.1321</td>\n",
       "      <td>0.9873</td>\n",
       "      <td>0.2330</td>\n",
       "      <td>0.2471</td>\n",
       "      <td>0.7349</td>\n",
       "    </tr>\n",
       "    <tr>\n",
       "      <th>extraTrees</th>\n",
       "      <td>0.5800</td>\n",
       "      <td>0.1280</td>\n",
       "      <td>0.8056</td>\n",
       "      <td>0.2208</td>\n",
       "      <td>0.1928</td>\n",
       "      <td>0.6838</td>\n",
       "    </tr>\n",
       "    <tr>\n",
       "      <th>randomForest</th>\n",
       "      <td>0.5171</td>\n",
       "      <td>0.1315</td>\n",
       "      <td>0.9875</td>\n",
       "      <td>0.2321</td>\n",
       "      <td>0.2459</td>\n",
       "      <td>0.7335</td>\n",
       "    </tr>\n",
       "    <tr>\n",
       "      <th rowspan=\"4\" valign=\"top\">birch</th>\n",
       "      <th>kbest_chi2</th>\n",
       "      <td>NaN</td>\n",
       "      <td>NaN</td>\n",
       "      <td>NaN</td>\n",
       "      <td>NaN</td>\n",
       "      <td>NaN</td>\n",
       "      <td>NaN</td>\n",
       "    </tr>\n",
       "    <tr>\n",
       "      <th>kbest_fclass</th>\n",
       "      <td>NaN</td>\n",
       "      <td>NaN</td>\n",
       "      <td>NaN</td>\n",
       "      <td>NaN</td>\n",
       "      <td>NaN</td>\n",
       "      <td>NaN</td>\n",
       "    </tr>\n",
       "    <tr>\n",
       "      <th>extraTrees</th>\n",
       "      <td>NaN</td>\n",
       "      <td>NaN</td>\n",
       "      <td>NaN</td>\n",
       "      <td>NaN</td>\n",
       "      <td>NaN</td>\n",
       "      <td>NaN</td>\n",
       "    </tr>\n",
       "    <tr>\n",
       "      <th>randomForest</th>\n",
       "      <td>NaN</td>\n",
       "      <td>NaN</td>\n",
       "      <td>NaN</td>\n",
       "      <td>NaN</td>\n",
       "      <td>NaN</td>\n",
       "      <td>NaN</td>\n",
       "    </tr>\n",
       "    <tr>\n",
       "      <th rowspan=\"4\" valign=\"top\">mincovdet</th>\n",
       "      <th>kbest_chi2</th>\n",
       "      <td>0.8582</td>\n",
       "      <td>0.3304</td>\n",
       "      <td>0.8951</td>\n",
       "      <td>0.4826</td>\n",
       "      <td>0.4905</td>\n",
       "      <td>0.8752</td>\n",
       "    </tr>\n",
       "    <tr>\n",
       "      <th>kbest_fclass</th>\n",
       "      <td>0.7231</td>\n",
       "      <td>0.0034</td>\n",
       "      <td>0.0094</td>\n",
       "      <td>0.0050</td>\n",
       "      <td>-0.1366</td>\n",
       "      <td>0.3947</td>\n",
       "    </tr>\n",
       "    <tr>\n",
       "      <th>extraTrees</th>\n",
       "      <td>0.7342</td>\n",
       "      <td>0.0201</td>\n",
       "      <td>0.0545</td>\n",
       "      <td>0.0294</td>\n",
       "      <td>-0.1027</td>\n",
       "      <td>0.4215</td>\n",
       "    </tr>\n",
       "    <tr>\n",
       "      <th>randomForest</th>\n",
       "      <td>0.7410</td>\n",
       "      <td>0.0355</td>\n",
       "      <td>0.0956</td>\n",
       "      <td>0.0517</td>\n",
       "      <td>-0.0733</td>\n",
       "      <td>0.4440</td>\n",
       "    </tr>\n",
       "    <tr>\n",
       "      <th rowspan=\"4\" valign=\"top\">isolation</th>\n",
       "      <th>kbest_chi2</th>\n",
       "      <td>0.7356</td>\n",
       "      <td>0.0238</td>\n",
       "      <td>0.0644</td>\n",
       "      <td>0.0348</td>\n",
       "      <td>-0.0957</td>\n",
       "      <td>0.4268</td>\n",
       "    </tr>\n",
       "    <tr>\n",
       "      <th>kbest_fclass</th>\n",
       "      <td>0.7310</td>\n",
       "      <td>0.0121</td>\n",
       "      <td>0.0327</td>\n",
       "      <td>0.0177</td>\n",
       "      <td>-0.1181</td>\n",
       "      <td>0.4097</td>\n",
       "    </tr>\n",
       "    <tr>\n",
       "      <th>extraTrees</th>\n",
       "      <td>0.7351</td>\n",
       "      <td>0.0122</td>\n",
       "      <td>0.0324</td>\n",
       "      <td>0.0178</td>\n",
       "      <td>-0.1163</td>\n",
       "      <td>0.4118</td>\n",
       "    </tr>\n",
       "    <tr>\n",
       "      <th>randomForest</th>\n",
       "      <td>0.7312</td>\n",
       "      <td>0.0115</td>\n",
       "      <td>0.0310</td>\n",
       "      <td>0.0168</td>\n",
       "      <td>-0.1191</td>\n",
       "      <td>0.4091</td>\n",
       "    </tr>\n",
       "  </tbody>\n",
       "</table>\n",
       "</div>"
      ],
      "text/plain": [
       "                            accuracy  precision  recall  f1_score  \\\n",
       "method    featureSelection                                          \n",
       "kmeans    kbest_chi2          0.9274     0.8401  0.0222    0.0433   \n",
       "          kbest_fclass        0.5205     0.1323  0.9873    0.2333   \n",
       "          extraTrees          0.5849     0.1293  0.8054    0.2228   \n",
       "          randomForest        0.5171     0.1315  0.9875    0.2321   \n",
       "minibatch kbest_chi2          0.6987     0.1727  0.8124    0.2849   \n",
       "          kbest_fclass        0.5198     0.1321  0.9873    0.2330   \n",
       "          extraTrees          0.5800     0.1280  0.8056    0.2208   \n",
       "          randomForest        0.5171     0.1315  0.9875    0.2321   \n",
       "birch     kbest_chi2             NaN        NaN     NaN       NaN   \n",
       "          kbest_fclass           NaN        NaN     NaN       NaN   \n",
       "          extraTrees             NaN        NaN     NaN       NaN   \n",
       "          randomForest           NaN        NaN     NaN       NaN   \n",
       "mincovdet kbest_chi2          0.8582     0.3304  0.8951    0.4826   \n",
       "          kbest_fclass        0.7231     0.0034  0.0094    0.0050   \n",
       "          extraTrees          0.7342     0.0201  0.0545    0.0294   \n",
       "          randomForest        0.7410     0.0355  0.0956    0.0517   \n",
       "isolation kbest_chi2          0.7356     0.0238  0.0644    0.0348   \n",
       "          kbest_fclass        0.7310     0.0121  0.0327    0.0177   \n",
       "          extraTrees          0.7351     0.0122  0.0324    0.0178   \n",
       "          randomForest        0.7312     0.0115  0.0310    0.0168   \n",
       "\n",
       "                            mathews_corr     AUC  \n",
       "method    featureSelection                        \n",
       "kmeans    kbest_chi2              0.1296  0.5109  \n",
       "          kbest_fclass            0.2475  0.7353  \n",
       "          extraTrees              0.1956  0.6863  \n",
       "          randomForest            0.2459  0.7335  \n",
       "minibatch kbest_chi2              0.2757  0.7510  \n",
       "          kbest_fclass            0.2471  0.7349  \n",
       "          extraTrees              0.1928  0.6838  \n",
       "          randomForest            0.2459  0.7335  \n",
       "birch     kbest_chi2                 NaN     NaN  \n",
       "          kbest_fclass               NaN     NaN  \n",
       "          extraTrees                 NaN     NaN  \n",
       "          randomForest               NaN     NaN  \n",
       "mincovdet kbest_chi2              0.4905  0.8752  \n",
       "          kbest_fclass           -0.1366  0.3947  \n",
       "          extraTrees             -0.1027  0.4215  \n",
       "          randomForest           -0.0733  0.4440  \n",
       "isolation kbest_chi2             -0.0957  0.4268  \n",
       "          kbest_fclass           -0.1181  0.4097  \n",
       "          extraTrees             -0.1163  0.4118  \n",
       "          randomForest           -0.1191  0.4091  "
      ]
     },
     "execution_count": 3,
     "metadata": {},
     "output_type": "execute_result"
    }
   ],
   "source": [
    "from os import path\n",
    "\n",
    "if path.exists('ISCX_results/ISCX_standardScaler_results.csv'):\n",
    "    df_results = pd.read_csv('ISCX_results/ISCX_standardScaler_results.csv', index_col=['method', 'featureSelection'])\n",
    "else:\n",
    "    multiIndex = [['kmeans', 'minibatch', 'birch', 'mincovdet', 'isolation'],['kbest_chi2', 'kbest_fclass', 'extraTrees', 'randomForest']]\n",
    "\n",
    "    multiIndex = pd.MultiIndex.from_product(multiIndex, names=['method', 'featureSelection'])\n",
    "    df_results = pd.DataFrame(None, index=multiIndex, columns=['accuracy', 'precision', 'recall', 'f1_score', 'mathews_corr', 'AUC'])\n",
    "df_results"
   ]
  },
  {
   "cell_type": "markdown",
   "metadata": {},
   "source": [
    "# KMeans"
   ]
  },
  {
   "cell_type": "code",
   "execution_count": 4,
   "metadata": {},
   "outputs": [
    {
     "data": {
      "text/plain": [
       "accuracy        0.9274\n",
       "precision       0.8401\n",
       "recall          0.0222\n",
       "f1_score        0.0433\n",
       "mathews_corr    0.1296\n",
       "AUC             0.5109\n",
       "Name: (kmeans, kbest_chi2), dtype: float64"
      ]
     },
     "execution_count": 4,
     "metadata": {},
     "output_type": "execute_result"
    }
   ],
   "source": [
    "kmeans = KMeans(n_clusters=2, n_init=10, random_state=0, algorithm='full').fit(df[df_features.loc[('kbest_chi2', 'standard')]])\n",
    "\n",
    "save_results(df_tags, kmeans.labels_, ('kmeans', 'kbest_chi2'))\n",
    "df_results.loc[('kmeans', 'kbest_chi2')]"
   ]
  },
  {
   "cell_type": "code",
   "execution_count": 5,
   "metadata": {},
   "outputs": [
    {
     "data": {
      "text/plain": [
       "accuracy        0.5205\n",
       "precision       0.1323\n",
       "recall          0.9873\n",
       "f1_score        0.2333\n",
       "mathews_corr    0.2475\n",
       "AUC             0.7353\n",
       "Name: (kmeans, kbest_fclass), dtype: float64"
      ]
     },
     "execution_count": 5,
     "metadata": {},
     "output_type": "execute_result"
    }
   ],
   "source": [
    "kmeans = KMeans(n_clusters=2, n_init=10, random_state=0, algorithm='full').fit(df[df_features.loc[('kbest_fclass', 'standard')]])\n",
    "\n",
    "save_results(df_tags, kmeans.labels_, ('kmeans', 'kbest_fclass'))\n",
    "df_results.loc[('kmeans', 'kbest_fclass')]"
   ]
  },
  {
   "cell_type": "code",
   "execution_count": 6,
   "metadata": {},
   "outputs": [
    {
     "data": {
      "text/plain": [
       "accuracy        0.5603\n",
       "precision       0.0049\n",
       "recall          0.0245\n",
       "f1_score        0.0082\n",
       "mathews_corr   -0.2019\n",
       "AUC             0.3137\n",
       "Name: (kmeans, extraTrees), dtype: float64"
      ]
     },
     "execution_count": 6,
     "metadata": {},
     "output_type": "execute_result"
    }
   ],
   "source": [
    "kmeans = KMeans(n_clusters=2, n_init=10, random_state=0, algorithm='full').fit(df[df_features.loc[('extraTrees', 'standard')]])\n",
    "\n",
    "save_results(df_tags, (kmeans.labels_ + 1) % 2, ('kmeans', 'extraTrees'))\n",
    "df_results.loc[('kmeans', 'extraTrees')]"
   ]
  },
  {
   "cell_type": "code",
   "execution_count": 7,
   "metadata": {},
   "outputs": [
    {
     "data": {
      "text/plain": [
       "accuracy        0.5171\n",
       "precision       0.1315\n",
       "recall          0.9875\n",
       "f1_score        0.2321\n",
       "mathews_corr    0.2459\n",
       "AUC             0.7335\n",
       "Name: (kmeans, randomForest), dtype: float64"
      ]
     },
     "execution_count": 7,
     "metadata": {},
     "output_type": "execute_result"
    }
   ],
   "source": [
    "kmeans = KMeans(n_clusters=2, n_init=10, random_state=0, algorithm='full').fit(df[df_features.loc[('randomForest', 'standard')]])\n",
    "\n",
    "save_results(df_tags, kmeans.labels_, ('kmeans', 'randomForest'))\n",
    "df_results.loc[('kmeans', 'randomForest')]"
   ]
  },
  {
   "cell_type": "markdown",
   "metadata": {},
   "source": [
    "# MiniBatch KMeans"
   ]
  },
  {
   "cell_type": "code",
   "execution_count": 8,
   "metadata": {},
   "outputs": [
    {
     "data": {
      "text/plain": [
       "accuracy        0.6987\n",
       "precision       0.1727\n",
       "recall          0.8124\n",
       "f1_score        0.2849\n",
       "mathews_corr    0.2757\n",
       "AUC             0.7510\n",
       "Name: (minibatch, kbest_chi2), dtype: float64"
      ]
     },
     "execution_count": 8,
     "metadata": {},
     "output_type": "execute_result"
    }
   ],
   "source": [
    "minibatch = MiniBatchKMeans(n_clusters=2,n_init=10, random_state=0).fit(df[df_features.loc[('kbest_chi2', 'standard')]])\n",
    "\n",
    "save_results(df_tags, minibatch.labels_, ('minibatch', 'kbest_chi2'))    # Se invierte los clusters tags 0 y 1\n",
    "df_results.loc[('minibatch', 'kbest_chi2')]"
   ]
  },
  {
   "cell_type": "code",
   "execution_count": 9,
   "metadata": {},
   "outputs": [
    {
     "data": {
      "text/plain": [
       "accuracy        0.5198\n",
       "precision       0.1321\n",
       "recall          0.9873\n",
       "f1_score        0.2330\n",
       "mathews_corr    0.2471\n",
       "AUC             0.7349\n",
       "Name: (minibatch, kbest_fclass), dtype: float64"
      ]
     },
     "execution_count": 9,
     "metadata": {},
     "output_type": "execute_result"
    }
   ],
   "source": [
    "minibatch = MiniBatchKMeans(n_clusters=2,n_init=10, random_state=0).fit(df[df_features.loc[('kbest_fclass', 'standard')]])\n",
    "\n",
    "save_results(df_tags, minibatch.labels_, ('minibatch', 'kbest_fclass'))    # Se invierte los clusters tags 0 y 1\n",
    "df_results.loc[('minibatch', 'kbest_fclass')]"
   ]
  },
  {
   "cell_type": "code",
   "execution_count": 10,
   "metadata": {},
   "outputs": [
    {
     "data": {
      "text/plain": [
       "accuracy        0.7422\n",
       "precision       0.2145\n",
       "recall          0.9353\n",
       "f1_score        0.3490\n",
       "mathews_corr    0.3706\n",
       "AUC             0.8310\n",
       "Name: (minibatch, extraTrees), dtype: float64"
      ]
     },
     "execution_count": 10,
     "metadata": {},
     "output_type": "execute_result"
    }
   ],
   "source": [
    "minibatch = MiniBatchKMeans(n_clusters=2,n_init=10, random_state=0).fit(df[df_features.loc[('extraTrees', 'standard')]])\n",
    "\n",
    "save_results(df_tags, minibatch.labels_, ('minibatch', 'extraTrees'))    # Se invierte los clusters tags 0 y 1\n",
    "df_results.loc[('minibatch', 'extraTrees')]"
   ]
  },
  {
   "cell_type": "code",
   "execution_count": 11,
   "metadata": {},
   "outputs": [
    {
     "data": {
      "text/plain": [
       "accuracy        0.5171\n",
       "precision       0.1315\n",
       "recall          0.9875\n",
       "f1_score        0.2321\n",
       "mathews_corr    0.2459\n",
       "AUC             0.7335\n",
       "Name: (minibatch, randomForest), dtype: float64"
      ]
     },
     "execution_count": 11,
     "metadata": {},
     "output_type": "execute_result"
    }
   ],
   "source": [
    "minibatch = MiniBatchKMeans(n_clusters=2,n_init=10, random_state=0).fit(df[df_features.loc[('randomForest', 'standard')]])\n",
    "\n",
    "save_results(df_tags, (minibatch.labels_ + 1) % 2, ('minibatch', 'randomForest'))    # Se invierte los clusters tags 0 y 1\n",
    "df_results.loc[('minibatch', 'randomForest')]"
   ]
  },
  {
   "cell_type": "markdown",
   "metadata": {},
   "source": [
    "# BIRCH"
   ]
  },
  {
   "cell_type": "code",
   "execution_count": 22,
   "metadata": {},
   "outputs": [
    {
     "data": {
      "text/plain": [
       "accuracy        0.9274\n",
       "precision       0.8370\n",
       "recall          0.0222\n",
       "f1_score        0.0433\n",
       "mathews_corr    0.1293\n",
       "AUC             0.5109\n",
       "Name: (birch, kbest_chi2), dtype: float64"
      ]
     },
     "execution_count": 22,
     "metadata": {},
     "output_type": "execute_result"
    }
   ],
   "source": [
    "birch = Birch(n_clusters=2, threshold=1, branching_factor=10).fit_predict(df[df_features.loc[('kbest_chi2', 'standard')]])\n",
    "\n",
    "save_results(df_tags, (birch + 1) % 2, ('birch', 'kbest_chi2'))\n",
    "df_results.loc[('birch', 'kbest_chi2')]"
   ]
  },
  {
   "cell_type": "code",
   "execution_count": 25,
   "metadata": {},
   "outputs": [
    {
     "data": {
      "text/plain": [
       "accuracy        0.5139\n",
       "precision       0.1308\n",
       "recall          0.9880\n",
       "f1_score        0.2310\n",
       "mathews_corr    0.2445\n",
       "AUC             0.7321\n",
       "Name: (birch, kbest_fclass), dtype: float64"
      ]
     },
     "execution_count": 25,
     "metadata": {},
     "output_type": "execute_result"
    }
   ],
   "source": [
    "birch = Birch(n_clusters=2, threshold=1, branching_factor=10).fit_predict(df[df_features.loc[('kbest_fclass', 'standard')]])\n",
    "\n",
    "save_results(df_tags, (birch + 1) % 2, ('birch', 'kbest_fclass'))\n",
    "df_results.loc[('birch', 'kbest_fclass')]"
   ]
  },
  {
   "cell_type": "code",
   "execution_count": 27,
   "metadata": {},
   "outputs": [
    {
     "data": {
      "text/plain": [
       "accuracy        0.8496\n",
       "precision       0.3159\n",
       "recall          0.8886\n",
       "f1_score        0.4662\n",
       "mathews_corr    0.4739\n",
       "AUC             0.8676\n",
       "Name: (birch, extraTrees), dtype: float64"
      ]
     },
     "execution_count": 27,
     "metadata": {},
     "output_type": "execute_result"
    }
   ],
   "source": [
    "birch = Birch(n_clusters=2, threshold=1, branching_factor=10).fit_predict(df[df_features.loc[('extraTrees', 'standard')]])\n",
    "\n",
    "save_results(df_tags, birch, ('birch', 'extraTrees'))\n",
    "df_results.loc[('birch', 'extraTrees')]"
   ]
  },
  {
   "cell_type": "code",
   "execution_count": 29,
   "metadata": {},
   "outputs": [
    {
     "data": {
      "text/plain": [
       "accuracy        0.9244\n",
       "precision       0.0043\n",
       "recall          0.0001\n",
       "f1_score        0.0002\n",
       "mathews_corr   -0.0110\n",
       "AUC             0.4991\n",
       "Name: (birch, randomForest), dtype: float64"
      ]
     },
     "execution_count": 29,
     "metadata": {},
     "output_type": "execute_result"
    }
   ],
   "source": [
    "birch = Birch(n_clusters=2, threshold=1, branching_factor=10).fit_predict(df[df_features.loc[('randomForest', 'standard')]])\n",
    "\n",
    "save_results(df_tags, birch, ('birch', 'randomForest'))\n",
    "df_results.loc[('birch', 'randomForest')]"
   ]
  },
  {
   "cell_type": "markdown",
   "metadata": {},
   "source": [
    "# MinCovDet"
   ]
  },
  {
   "cell_type": "code",
   "execution_count": 12,
   "metadata": {},
   "outputs": [
    {
     "data": {
      "text/plain": [
       "accuracy        0.8586\n",
       "precision       0.3310\n",
       "recall          0.8951\n",
       "f1_score        0.4833\n",
       "mathews_corr    0.4911\n",
       "AUC             0.8754\n",
       "Name: (mincovdet, kbest_chi2), dtype: float64"
      ]
     },
     "execution_count": 12,
     "metadata": {},
     "output_type": "execute_result"
    }
   ],
   "source": [
    "minCovDet = EllipticEnvelope(assume_centered=False, contamination=0.2, support_fraction=1,\n",
    "                             random_state=4).fit_predict(df[df_features.loc[('kbest_chi2', 'standard')]])\n",
    "\n",
    "minCovDet[minCovDet == 1] = 0\n",
    "minCovDet[minCovDet == -1] = 1\n",
    "save_results(df_tags, minCovDet, ('mincovdet', 'kbest_chi2'))\n",
    "df_results.loc[('mincovdet', 'kbest_chi2')]"
   ]
  },
  {
   "cell_type": "code",
   "execution_count": 13,
   "metadata": {},
   "outputs": [
    {
     "data": {
      "text/plain": [
       "accuracy        0.7231\n",
       "precision       0.0034\n",
       "recall          0.0094\n",
       "f1_score        0.0050\n",
       "mathews_corr   -0.1366\n",
       "AUC             0.3947\n",
       "Name: (mincovdet, kbest_fclass), dtype: float64"
      ]
     },
     "execution_count": 13,
     "metadata": {},
     "output_type": "execute_result"
    }
   ],
   "source": [
    "minCovDet = EllipticEnvelope(assume_centered=False, contamination=0.2, support_fraction=1,\n",
    "                             random_state=4).fit_predict(df[df_features.loc[('kbest_fclass', 'standard')]])\n",
    "\n",
    "minCovDet[minCovDet == 1] = 0\n",
    "minCovDet[minCovDet == -1] = 1\n",
    "save_results(df_tags, minCovDet, ('mincovdet', 'kbest_fclass'))\n",
    "df_results.loc[('mincovdet', 'kbest_fclass')]"
   ]
  },
  {
   "cell_type": "code",
   "execution_count": 14,
   "metadata": {},
   "outputs": [
    {
     "data": {
      "text/plain": [
       "accuracy        0.7301\n",
       "precision       0.0112\n",
       "recall          0.0303\n",
       "f1_score        0.0163\n",
       "mathews_corr   -0.1201\n",
       "AUC             0.4081\n",
       "Name: (mincovdet, extraTrees), dtype: float64"
      ]
     },
     "execution_count": 14,
     "metadata": {},
     "output_type": "execute_result"
    }
   ],
   "source": [
    "minCovDet = EllipticEnvelope(assume_centered=False, contamination=0.2, support_fraction=1,\n",
    "                             random_state=4).fit_predict(df[df_features.loc[('extraTrees', 'standard')]])\n",
    "\n",
    "minCovDet[minCovDet == 1] = 0\n",
    "minCovDet[minCovDet == -1] = 1\n",
    "save_results(df_tags, minCovDet, ('mincovdet', 'extraTrees'))\n",
    "df_results.loc[('mincovdet', 'extraTrees')]"
   ]
  },
  {
   "cell_type": "code",
   "execution_count": 15,
   "metadata": {},
   "outputs": [
    {
     "data": {
      "text/plain": [
       "accuracy        0.7410\n",
       "precision       0.0355\n",
       "recall          0.0956\n",
       "f1_score        0.0517\n",
       "mathews_corr   -0.0733\n",
       "AUC             0.4440\n",
       "Name: (mincovdet, randomForest), dtype: float64"
      ]
     },
     "execution_count": 15,
     "metadata": {},
     "output_type": "execute_result"
    }
   ],
   "source": [
    "minCovDet = EllipticEnvelope(assume_centered=False, contamination=0.2, support_fraction=1,\n",
    "                             random_state=4).fit_predict(df[df_features.loc[('randomForest', 'standard')]])\n",
    "\n",
    "minCovDet[minCovDet == 1] = 0\n",
    "minCovDet[minCovDet == -1] = 1\n",
    "save_results(df_tags, minCovDet, ('mincovdet', 'randomForest'))\n",
    "df_results.loc[('mincovdet', 'randomForest')]"
   ]
  },
  {
   "cell_type": "markdown",
   "metadata": {},
   "source": [
    "# Isolation Forest"
   ]
  },
  {
   "cell_type": "code",
   "execution_count": 16,
   "metadata": {},
   "outputs": [
    {
     "data": {
      "text/plain": [
       "accuracy        0.7356\n",
       "precision       0.0238\n",
       "recall          0.0644\n",
       "f1_score        0.0348\n",
       "mathews_corr   -0.0957\n",
       "AUC             0.4268\n",
       "Name: (isolation, kbest_chi2), dtype: float64"
      ]
     },
     "execution_count": 16,
     "metadata": {},
     "output_type": "execute_result"
    }
   ],
   "source": [
    "isolation = IsolationForest(n_estimators=100, contamination=0.2, random_state=0, \n",
    "                            behaviour='new').fit_predict(df[df_features.loc[('kbest_chi2', 'standard')]])\n",
    "\n",
    "isolation[isolation == 1] = 0\n",
    "isolation[isolation == -1] = 1\n",
    "save_results(df_tags, isolation, ('isolation', 'kbest_chi2'))\n",
    "df_results.loc[('isolation', 'kbest_chi2')]"
   ]
  },
  {
   "cell_type": "code",
   "execution_count": 17,
   "metadata": {},
   "outputs": [
    {
     "data": {
      "text/plain": [
       "accuracy        0.7320\n",
       "precision       0.0119\n",
       "recall          0.0321\n",
       "f1_score        0.0174\n",
       "mathews_corr   -0.1180\n",
       "AUC             0.4100\n",
       "Name: (isolation, kbest_fclass), dtype: float64"
      ]
     },
     "execution_count": 17,
     "metadata": {},
     "output_type": "execute_result"
    }
   ],
   "source": [
    "isolation = IsolationForest(n_estimators=100, contamination=0.2, random_state=0, \n",
    "                            behaviour='new').fit_predict(df[df_features.loc[('kbest_fclass', 'standard')]])\n",
    "\n",
    "isolation[isolation == 1] = 0\n",
    "isolation[isolation == -1] = 1\n",
    "save_results(df_tags, isolation, ('isolation', 'kbest_fclass'))\n",
    "df_results.loc[('isolation', 'kbest_fclass')]"
   ]
  },
  {
   "cell_type": "code",
   "execution_count": 19,
   "metadata": {},
   "outputs": [
    {
     "data": {
      "text/plain": [
       "accuracy        0.7281\n",
       "precision       0.0039\n",
       "recall          0.0104\n",
       "f1_score        0.0056\n",
       "mathews_corr   -0.1337\n",
       "AUC             0.3979\n",
       "Name: (isolation, extraTrees), dtype: float64"
      ]
     },
     "execution_count": 19,
     "metadata": {},
     "output_type": "execute_result"
    }
   ],
   "source": [
    "isolation = IsolationForest(n_estimators=100, contamination=0.2, random_state=0, \n",
    "                            behaviour='new').fit_predict(df[df_features.loc[('extraTrees', 'standard')]])\n",
    "\n",
    "isolation[isolation == 1] = 0\n",
    "isolation[isolation == -1] = 1\n",
    "save_results(df_tags, isolation, ('isolation', 'extraTrees'))\n",
    "df_results.loc[('isolation', 'extraTrees')]"
   ]
  },
  {
   "cell_type": "code",
   "execution_count": 20,
   "metadata": {},
   "outputs": [
    {
     "data": {
      "text/plain": [
       "accuracy        0.7307\n",
       "precision       0.0115\n",
       "recall          0.0311\n",
       "f1_score        0.0168\n",
       "mathews_corr   -0.1192\n",
       "AUC             0.4088\n",
       "Name: (isolation, randomForest), dtype: float64"
      ]
     },
     "execution_count": 20,
     "metadata": {},
     "output_type": "execute_result"
    }
   ],
   "source": [
    "isolation = IsolationForest(n_estimators=100, contamination=0.2, random_state=0, \n",
    "                            behaviour='new').fit_predict(df[df_features.loc[('randomForest', 'standard')]])\n",
    "\n",
    "isolation[isolation == 1] = 0\n",
    "isolation[isolation == -1] = 1\n",
    "save_results(df_tags, isolation, ('isolation', 'randomForest'))\n",
    "df_results.loc[('isolation', 'randomForest')]"
   ]
  },
  {
   "cell_type": "markdown",
   "metadata": {},
   "source": [
    "# Resumen resultados sin preprocesamiento de los datos"
   ]
  },
  {
   "cell_type": "code",
   "execution_count": 30,
   "metadata": {},
   "outputs": [
    {
     "data": {
      "text/html": [
       "<div>\n",
       "<style scoped>\n",
       "    .dataframe tbody tr th:only-of-type {\n",
       "        vertical-align: middle;\n",
       "    }\n",
       "\n",
       "    .dataframe tbody tr th {\n",
       "        vertical-align: top;\n",
       "    }\n",
       "\n",
       "    .dataframe thead th {\n",
       "        text-align: right;\n",
       "    }\n",
       "</style>\n",
       "<table border=\"1\" class=\"dataframe\">\n",
       "  <thead>\n",
       "    <tr style=\"text-align: right;\">\n",
       "      <th></th>\n",
       "      <th></th>\n",
       "      <th>accuracy</th>\n",
       "      <th>precision</th>\n",
       "      <th>recall</th>\n",
       "      <th>f1_score</th>\n",
       "      <th>mathews_corr</th>\n",
       "      <th>AUC</th>\n",
       "    </tr>\n",
       "    <tr>\n",
       "      <th>method</th>\n",
       "      <th>featureSelection</th>\n",
       "      <th></th>\n",
       "      <th></th>\n",
       "      <th></th>\n",
       "      <th></th>\n",
       "      <th></th>\n",
       "      <th></th>\n",
       "    </tr>\n",
       "  </thead>\n",
       "  <tbody>\n",
       "    <tr>\n",
       "      <th rowspan=\"4\" valign=\"top\">kmeans</th>\n",
       "      <th>kbest_chi2</th>\n",
       "      <td>0.9274</td>\n",
       "      <td>0.8401</td>\n",
       "      <td>0.0222</td>\n",
       "      <td>0.0433</td>\n",
       "      <td>0.1296</td>\n",
       "      <td>0.5109</td>\n",
       "    </tr>\n",
       "    <tr>\n",
       "      <th>kbest_fclass</th>\n",
       "      <td>0.5205</td>\n",
       "      <td>0.1323</td>\n",
       "      <td>0.9873</td>\n",
       "      <td>0.2333</td>\n",
       "      <td>0.2475</td>\n",
       "      <td>0.7353</td>\n",
       "    </tr>\n",
       "    <tr>\n",
       "      <th>extraTrees</th>\n",
       "      <td>0.5603</td>\n",
       "      <td>0.0049</td>\n",
       "      <td>0.0245</td>\n",
       "      <td>0.0082</td>\n",
       "      <td>-0.2019</td>\n",
       "      <td>0.3137</td>\n",
       "    </tr>\n",
       "    <tr>\n",
       "      <th>randomForest</th>\n",
       "      <td>0.5171</td>\n",
       "      <td>0.1315</td>\n",
       "      <td>0.9875</td>\n",
       "      <td>0.2321</td>\n",
       "      <td>0.2459</td>\n",
       "      <td>0.7335</td>\n",
       "    </tr>\n",
       "    <tr>\n",
       "      <th rowspan=\"4\" valign=\"top\">minibatch</th>\n",
       "      <th>kbest_chi2</th>\n",
       "      <td>0.6987</td>\n",
       "      <td>0.1727</td>\n",
       "      <td>0.8124</td>\n",
       "      <td>0.2849</td>\n",
       "      <td>0.2757</td>\n",
       "      <td>0.7510</td>\n",
       "    </tr>\n",
       "    <tr>\n",
       "      <th>kbest_fclass</th>\n",
       "      <td>0.5198</td>\n",
       "      <td>0.1321</td>\n",
       "      <td>0.9873</td>\n",
       "      <td>0.2330</td>\n",
       "      <td>0.2471</td>\n",
       "      <td>0.7349</td>\n",
       "    </tr>\n",
       "    <tr>\n",
       "      <th>extraTrees</th>\n",
       "      <td>0.7422</td>\n",
       "      <td>0.2145</td>\n",
       "      <td>0.9353</td>\n",
       "      <td>0.3490</td>\n",
       "      <td>0.3706</td>\n",
       "      <td>0.8310</td>\n",
       "    </tr>\n",
       "    <tr>\n",
       "      <th>randomForest</th>\n",
       "      <td>0.5171</td>\n",
       "      <td>0.1315</td>\n",
       "      <td>0.9875</td>\n",
       "      <td>0.2321</td>\n",
       "      <td>0.2459</td>\n",
       "      <td>0.7335</td>\n",
       "    </tr>\n",
       "    <tr>\n",
       "      <th rowspan=\"4\" valign=\"top\">birch</th>\n",
       "      <th>kbest_chi2</th>\n",
       "      <td>0.9274</td>\n",
       "      <td>0.8370</td>\n",
       "      <td>0.0222</td>\n",
       "      <td>0.0433</td>\n",
       "      <td>0.1293</td>\n",
       "      <td>0.5109</td>\n",
       "    </tr>\n",
       "    <tr>\n",
       "      <th>kbest_fclass</th>\n",
       "      <td>0.5139</td>\n",
       "      <td>0.1308</td>\n",
       "      <td>0.9880</td>\n",
       "      <td>0.2310</td>\n",
       "      <td>0.2445</td>\n",
       "      <td>0.7321</td>\n",
       "    </tr>\n",
       "    <tr>\n",
       "      <th>extraTrees</th>\n",
       "      <td>0.8496</td>\n",
       "      <td>0.3159</td>\n",
       "      <td>0.8886</td>\n",
       "      <td>0.4662</td>\n",
       "      <td>0.4739</td>\n",
       "      <td>0.8676</td>\n",
       "    </tr>\n",
       "    <tr>\n",
       "      <th>randomForest</th>\n",
       "      <td>0.9244</td>\n",
       "      <td>0.0043</td>\n",
       "      <td>0.0001</td>\n",
       "      <td>0.0002</td>\n",
       "      <td>-0.0110</td>\n",
       "      <td>0.4991</td>\n",
       "    </tr>\n",
       "    <tr>\n",
       "      <th rowspan=\"4\" valign=\"top\">mincovdet</th>\n",
       "      <th>kbest_chi2</th>\n",
       "      <td>0.8586</td>\n",
       "      <td>0.3310</td>\n",
       "      <td>0.8951</td>\n",
       "      <td>0.4833</td>\n",
       "      <td>0.4911</td>\n",
       "      <td>0.8754</td>\n",
       "    </tr>\n",
       "    <tr>\n",
       "      <th>kbest_fclass</th>\n",
       "      <td>0.7231</td>\n",
       "      <td>0.0034</td>\n",
       "      <td>0.0094</td>\n",
       "      <td>0.0050</td>\n",
       "      <td>-0.1366</td>\n",
       "      <td>0.3947</td>\n",
       "    </tr>\n",
       "    <tr>\n",
       "      <th>extraTrees</th>\n",
       "      <td>0.7301</td>\n",
       "      <td>0.0112</td>\n",
       "      <td>0.0303</td>\n",
       "      <td>0.0163</td>\n",
       "      <td>-0.1201</td>\n",
       "      <td>0.4081</td>\n",
       "    </tr>\n",
       "    <tr>\n",
       "      <th>randomForest</th>\n",
       "      <td>0.7410</td>\n",
       "      <td>0.0355</td>\n",
       "      <td>0.0956</td>\n",
       "      <td>0.0517</td>\n",
       "      <td>-0.0733</td>\n",
       "      <td>0.4440</td>\n",
       "    </tr>\n",
       "    <tr>\n",
       "      <th rowspan=\"4\" valign=\"top\">isolation</th>\n",
       "      <th>kbest_chi2</th>\n",
       "      <td>0.7356</td>\n",
       "      <td>0.0238</td>\n",
       "      <td>0.0644</td>\n",
       "      <td>0.0348</td>\n",
       "      <td>-0.0957</td>\n",
       "      <td>0.4268</td>\n",
       "    </tr>\n",
       "    <tr>\n",
       "      <th>kbest_fclass</th>\n",
       "      <td>0.7320</td>\n",
       "      <td>0.0119</td>\n",
       "      <td>0.0321</td>\n",
       "      <td>0.0174</td>\n",
       "      <td>-0.1180</td>\n",
       "      <td>0.4100</td>\n",
       "    </tr>\n",
       "    <tr>\n",
       "      <th>extraTrees</th>\n",
       "      <td>0.7281</td>\n",
       "      <td>0.0039</td>\n",
       "      <td>0.0104</td>\n",
       "      <td>0.0056</td>\n",
       "      <td>-0.1337</td>\n",
       "      <td>0.3979</td>\n",
       "    </tr>\n",
       "    <tr>\n",
       "      <th>randomForest</th>\n",
       "      <td>0.7307</td>\n",
       "      <td>0.0115</td>\n",
       "      <td>0.0311</td>\n",
       "      <td>0.0168</td>\n",
       "      <td>-0.1192</td>\n",
       "      <td>0.4088</td>\n",
       "    </tr>\n",
       "  </tbody>\n",
       "</table>\n",
       "</div>"
      ],
      "text/plain": [
       "                            accuracy  precision  recall  f1_score  \\\n",
       "method    featureSelection                                          \n",
       "kmeans    kbest_chi2          0.9274     0.8401  0.0222    0.0433   \n",
       "          kbest_fclass        0.5205     0.1323  0.9873    0.2333   \n",
       "          extraTrees          0.5603     0.0049  0.0245    0.0082   \n",
       "          randomForest        0.5171     0.1315  0.9875    0.2321   \n",
       "minibatch kbest_chi2          0.6987     0.1727  0.8124    0.2849   \n",
       "          kbest_fclass        0.5198     0.1321  0.9873    0.2330   \n",
       "          extraTrees          0.7422     0.2145  0.9353    0.3490   \n",
       "          randomForest        0.5171     0.1315  0.9875    0.2321   \n",
       "birch     kbest_chi2          0.9274     0.8370  0.0222    0.0433   \n",
       "          kbest_fclass        0.5139     0.1308  0.9880    0.2310   \n",
       "          extraTrees          0.8496     0.3159  0.8886    0.4662   \n",
       "          randomForest        0.9244     0.0043  0.0001    0.0002   \n",
       "mincovdet kbest_chi2          0.8586     0.3310  0.8951    0.4833   \n",
       "          kbest_fclass        0.7231     0.0034  0.0094    0.0050   \n",
       "          extraTrees          0.7301     0.0112  0.0303    0.0163   \n",
       "          randomForest        0.7410     0.0355  0.0956    0.0517   \n",
       "isolation kbest_chi2          0.7356     0.0238  0.0644    0.0348   \n",
       "          kbest_fclass        0.7320     0.0119  0.0321    0.0174   \n",
       "          extraTrees          0.7281     0.0039  0.0104    0.0056   \n",
       "          randomForest        0.7307     0.0115  0.0311    0.0168   \n",
       "\n",
       "                            mathews_corr     AUC  \n",
       "method    featureSelection                        \n",
       "kmeans    kbest_chi2              0.1296  0.5109  \n",
       "          kbest_fclass            0.2475  0.7353  \n",
       "          extraTrees             -0.2019  0.3137  \n",
       "          randomForest            0.2459  0.7335  \n",
       "minibatch kbest_chi2              0.2757  0.7510  \n",
       "          kbest_fclass            0.2471  0.7349  \n",
       "          extraTrees              0.3706  0.8310  \n",
       "          randomForest            0.2459  0.7335  \n",
       "birch     kbest_chi2              0.1293  0.5109  \n",
       "          kbest_fclass            0.2445  0.7321  \n",
       "          extraTrees              0.4739  0.8676  \n",
       "          randomForest           -0.0110  0.4991  \n",
       "mincovdet kbest_chi2              0.4911  0.8754  \n",
       "          kbest_fclass           -0.1366  0.3947  \n",
       "          extraTrees             -0.1201  0.4081  \n",
       "          randomForest           -0.0733  0.4440  \n",
       "isolation kbest_chi2             -0.0957  0.4268  \n",
       "          kbest_fclass           -0.1180  0.4100  \n",
       "          extraTrees             -0.1337  0.3979  \n",
       "          randomForest           -0.1192  0.4088  "
      ]
     },
     "execution_count": 30,
     "metadata": {},
     "output_type": "execute_result"
    }
   ],
   "source": [
    "df_results.to_csv('ISCX_results/ISCX_standardScaler_results.csv')\n",
    "df_results"
   ]
  },
  {
   "cell_type": "code",
   "execution_count": null,
   "metadata": {},
   "outputs": [],
   "source": []
  }
 ],
 "metadata": {
  "kernelspec": {
   "display_name": "Python 3",
   "language": "python",
   "name": "python3"
  },
  "language_info": {
   "codemirror_mode": {
    "name": "ipython",
    "version": 3
   },
   "file_extension": ".py",
   "mimetype": "text/x-python",
   "name": "python",
   "nbconvert_exporter": "python",
   "pygments_lexer": "ipython3",
   "version": "3.7.0"
  }
 },
 "nbformat": 4,
 "nbformat_minor": 2
}
