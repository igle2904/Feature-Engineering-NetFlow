{
 "cells": [
  {
   "cell_type": "code",
   "execution_count": 1,
   "metadata": {},
   "outputs": [
    {
     "data": {
      "text/html": [
       "<div>\n",
       "<style scoped>\n",
       "    .dataframe tbody tr th:only-of-type {\n",
       "        vertical-align: middle;\n",
       "    }\n",
       "\n",
       "    .dataframe tbody tr th {\n",
       "        vertical-align: top;\n",
       "    }\n",
       "\n",
       "    .dataframe thead th {\n",
       "        text-align: right;\n",
       "    }\n",
       "</style>\n",
       "<table border=\"1\" class=\"dataframe\">\n",
       "  <thead>\n",
       "    <tr style=\"text-align: right;\">\n",
       "      <th></th>\n",
       "      <th></th>\n",
       "      <th>0</th>\n",
       "      <th>1</th>\n",
       "      <th>2</th>\n",
       "      <th>3</th>\n",
       "      <th>4</th>\n",
       "      <th>5</th>\n",
       "      <th>6</th>\n",
       "      <th>7</th>\n",
       "      <th>8</th>\n",
       "      <th>9</th>\n",
       "    </tr>\n",
       "    <tr>\n",
       "      <th>featureSelection</th>\n",
       "      <th>preprocesamiento</th>\n",
       "      <th></th>\n",
       "      <th></th>\n",
       "      <th></th>\n",
       "      <th></th>\n",
       "      <th></th>\n",
       "      <th></th>\n",
       "      <th></th>\n",
       "      <th></th>\n",
       "      <th></th>\n",
       "      <th></th>\n",
       "    </tr>\n",
       "  </thead>\n",
       "  <tbody>\n",
       "    <tr>\n",
       "      <th>kbest_chi2</th>\n",
       "      <th>no</th>\n",
       "      <td>xor+</td>\n",
       "      <td>xor</td>\n",
       "      <td>eucl</td>\n",
       "      <td>hamm</td>\n",
       "      <td>eucl_dec</td>\n",
       "      <td>arit</td>\n",
       "      <td>s0</td>\n",
       "      <td>s1</td>\n",
       "      <td>d18</td>\n",
       "      <td>d12</td>\n",
       "    </tr>\n",
       "    <tr>\n",
       "      <th>kbest_fclass</th>\n",
       "      <th>no</th>\n",
       "      <td>arit</td>\n",
       "      <td>eucl_dec</td>\n",
       "      <td>s1</td>\n",
       "      <td>hamm</td>\n",
       "      <td>d12</td>\n",
       "      <td>d18</td>\n",
       "      <td>xor+</td>\n",
       "      <td>s0</td>\n",
       "      <td>xor</td>\n",
       "      <td>d25</td>\n",
       "    </tr>\n",
       "    <tr>\n",
       "      <th>extraTrees</th>\n",
       "      <th>no</th>\n",
       "      <td>eucl_dec</td>\n",
       "      <td>d10</td>\n",
       "      <td>s1</td>\n",
       "      <td>s3</td>\n",
       "      <td>d4</td>\n",
       "      <td>s2</td>\n",
       "      <td>arit</td>\n",
       "      <td>s8</td>\n",
       "      <td>d8</td>\n",
       "      <td>s0</td>\n",
       "    </tr>\n",
       "    <tr>\n",
       "      <th>randomForest</th>\n",
       "      <th>no</th>\n",
       "      <td>xor+</td>\n",
       "      <td>arit</td>\n",
       "      <td>eucl_dec</td>\n",
       "      <td>xor</td>\n",
       "      <td>hamm</td>\n",
       "      <td>s4</td>\n",
       "      <td>eucl</td>\n",
       "      <td>s8</td>\n",
       "      <td>s3</td>\n",
       "      <td>s2</td>\n",
       "    </tr>\n",
       "  </tbody>\n",
       "</table>\n",
       "</div>"
      ],
      "text/plain": [
       "                                          0         1         2     3  \\\n",
       "featureSelection preprocesamiento                                       \n",
       "kbest_chi2       no                    xor+       xor      eucl  hamm   \n",
       "kbest_fclass     no                    arit  eucl_dec        s1  hamm   \n",
       "extraTrees       no                eucl_dec       d10        s1    s3   \n",
       "randomForest     no                    xor+      arit  eucl_dec   xor   \n",
       "\n",
       "                                          4     5     6   7    8    9  \n",
       "featureSelection preprocesamiento                                      \n",
       "kbest_chi2       no                eucl_dec  arit    s0  s1  d18  d12  \n",
       "kbest_fclass     no                     d12   d18  xor+  s0  xor  d25  \n",
       "extraTrees       no                      d4    s2  arit  s8   d8   s0  \n",
       "randomForest     no                    hamm    s4  eucl  s8   s3   s2  "
      ]
     },
     "execution_count": 1,
     "metadata": {},
     "output_type": "execute_result"
    }
   ],
   "source": [
    "import pandas as pd\n",
    "import numpy as np\n",
    "import json\n",
    "from sklearn.cluster import KMeans, MiniBatchKMeans, Birch, DBSCAN\n",
    "from sklearn.covariance import EllipticEnvelope\n",
    "from sklearn.ensemble import IsolationForest\n",
    "from sklearn.svm import OneClassSVM\n",
    "from sklearn.metrics import accuracy_score, precision_score, recall_score, f1_score, matthews_corrcoef, roc_auc_score\n",
    "\n",
    "df = pd.read_csv('ISCX_datasets_preprocesados/no.csv')\n",
    "df_tags = pd.read_csv('ISCX_datasets_preprocesados/ISCX_tags.csv', index_col=0, header=None, names=['Tag'])\n",
    "\n",
    "df_features = pd.read_csv('ISCX_datasets_preprocesados/ISCX_features.csv', index_col=['featureSelection', 'preprocesamiento'])\n",
    "df_features.loc[pd.IndexSlice[:, 'no'],:]"
   ]
  },
  {
   "cell_type": "code",
   "execution_count": 2,
   "metadata": {},
   "outputs": [],
   "source": [
    "def save_results(real, prediccion, indexs):\n",
    "    df_results.loc[indexs] =  [round(accuracy_score(real, prediccion), 4),\n",
    "                              round(precision_score(real, prediccion), 4),\n",
    "                              round(recall_score(real, prediccion), 4),\n",
    "                              round(f1_score(real, prediccion), 4),\n",
    "                              round(matthews_corrcoef(real, prediccion), 4),\n",
    "                              round(roc_auc_score(real, prediccion), 4)]"
   ]
  },
  {
   "cell_type": "code",
   "execution_count": 3,
   "metadata": {},
   "outputs": [
    {
     "data": {
      "text/html": [
       "<div>\n",
       "<style scoped>\n",
       "    .dataframe tbody tr th:only-of-type {\n",
       "        vertical-align: middle;\n",
       "    }\n",
       "\n",
       "    .dataframe tbody tr th {\n",
       "        vertical-align: top;\n",
       "    }\n",
       "\n",
       "    .dataframe thead th {\n",
       "        text-align: right;\n",
       "    }\n",
       "</style>\n",
       "<table border=\"1\" class=\"dataframe\">\n",
       "  <thead>\n",
       "    <tr style=\"text-align: right;\">\n",
       "      <th></th>\n",
       "      <th></th>\n",
       "      <th>accuracy</th>\n",
       "      <th>precision</th>\n",
       "      <th>recall</th>\n",
       "      <th>f1_score</th>\n",
       "      <th>mathews_corr</th>\n",
       "      <th>AUC</th>\n",
       "    </tr>\n",
       "    <tr>\n",
       "      <th>method</th>\n",
       "      <th>featureSelection</th>\n",
       "      <th></th>\n",
       "      <th></th>\n",
       "      <th></th>\n",
       "      <th></th>\n",
       "      <th></th>\n",
       "      <th></th>\n",
       "    </tr>\n",
       "  </thead>\n",
       "  <tbody>\n",
       "    <tr>\n",
       "      <th rowspan=\"4\" valign=\"top\">kmeans</th>\n",
       "      <th>kbest_chi2</th>\n",
       "      <td>0.5168</td>\n",
       "      <td>0.1315</td>\n",
       "      <td>0.9880</td>\n",
       "      <td>0.2321</td>\n",
       "      <td>0.2460</td>\n",
       "      <td>0.7336</td>\n",
       "    </tr>\n",
       "    <tr>\n",
       "      <th>kbest_fclass</th>\n",
       "      <td>0.5139</td>\n",
       "      <td>0.1308</td>\n",
       "      <td>0.9880</td>\n",
       "      <td>0.2310</td>\n",
       "      <td>0.2445</td>\n",
       "      <td>0.7321</td>\n",
       "    </tr>\n",
       "    <tr>\n",
       "      <th>extraTrees</th>\n",
       "      <td>0.5631</td>\n",
       "      <td>0.1433</td>\n",
       "      <td>0.9872</td>\n",
       "      <td>0.2503</td>\n",
       "      <td>0.2703</td>\n",
       "      <td>0.7583</td>\n",
       "    </tr>\n",
       "    <tr>\n",
       "      <th>randomForest</th>\n",
       "      <td>0.5168</td>\n",
       "      <td>0.1315</td>\n",
       "      <td>0.9880</td>\n",
       "      <td>0.2321</td>\n",
       "      <td>0.2460</td>\n",
       "      <td>0.7336</td>\n",
       "    </tr>\n",
       "    <tr>\n",
       "      <th rowspan=\"4\" valign=\"top\">minibatch</th>\n",
       "      <th>kbest_chi2</th>\n",
       "      <td>0.5168</td>\n",
       "      <td>0.1315</td>\n",
       "      <td>0.9880</td>\n",
       "      <td>0.2321</td>\n",
       "      <td>0.2460</td>\n",
       "      <td>0.7336</td>\n",
       "    </tr>\n",
       "    <tr>\n",
       "      <th>kbest_fclass</th>\n",
       "      <td>0.5139</td>\n",
       "      <td>0.1308</td>\n",
       "      <td>0.9880</td>\n",
       "      <td>0.2310</td>\n",
       "      <td>0.2445</td>\n",
       "      <td>0.7321</td>\n",
       "    </tr>\n",
       "    <tr>\n",
       "      <th>extraTrees</th>\n",
       "      <td>0.5610</td>\n",
       "      <td>0.1428</td>\n",
       "      <td>0.9872</td>\n",
       "      <td>0.2494</td>\n",
       "      <td>0.2691</td>\n",
       "      <td>0.7571</td>\n",
       "    </tr>\n",
       "    <tr>\n",
       "      <th>randomForest</th>\n",
       "      <td>0.5168</td>\n",
       "      <td>0.1315</td>\n",
       "      <td>0.9880</td>\n",
       "      <td>0.2321</td>\n",
       "      <td>0.2460</td>\n",
       "      <td>0.7336</td>\n",
       "    </tr>\n",
       "    <tr>\n",
       "      <th rowspan=\"4\" valign=\"top\">birch</th>\n",
       "      <th>kbest_chi2</th>\n",
       "      <td>NaN</td>\n",
       "      <td>NaN</td>\n",
       "      <td>NaN</td>\n",
       "      <td>NaN</td>\n",
       "      <td>NaN</td>\n",
       "      <td>NaN</td>\n",
       "    </tr>\n",
       "    <tr>\n",
       "      <th>kbest_fclass</th>\n",
       "      <td>NaN</td>\n",
       "      <td>NaN</td>\n",
       "      <td>NaN</td>\n",
       "      <td>NaN</td>\n",
       "      <td>NaN</td>\n",
       "      <td>NaN</td>\n",
       "    </tr>\n",
       "    <tr>\n",
       "      <th>extraTrees</th>\n",
       "      <td>0.5615</td>\n",
       "      <td>0.1429</td>\n",
       "      <td>0.9872</td>\n",
       "      <td>0.2496</td>\n",
       "      <td>0.2694</td>\n",
       "      <td>0.7574</td>\n",
       "    </tr>\n",
       "    <tr>\n",
       "      <th>randomForest</th>\n",
       "      <td>NaN</td>\n",
       "      <td>NaN</td>\n",
       "      <td>NaN</td>\n",
       "      <td>NaN</td>\n",
       "      <td>NaN</td>\n",
       "      <td>NaN</td>\n",
       "    </tr>\n",
       "    <tr>\n",
       "      <th rowspan=\"4\" valign=\"top\">mincovdet</th>\n",
       "      <th>kbest_chi2</th>\n",
       "      <td>0.7265</td>\n",
       "      <td>0.0008</td>\n",
       "      <td>0.0023</td>\n",
       "      <td>0.0012</td>\n",
       "      <td>-0.1396</td>\n",
       "      <td>0.3933</td>\n",
       "    </tr>\n",
       "    <tr>\n",
       "      <th>kbest_fclass</th>\n",
       "      <td>0.7265</td>\n",
       "      <td>0.0008</td>\n",
       "      <td>0.0023</td>\n",
       "      <td>0.0012</td>\n",
       "      <td>-0.1396</td>\n",
       "      <td>0.3933</td>\n",
       "    </tr>\n",
       "    <tr>\n",
       "      <th>extraTrees</th>\n",
       "      <td>0.7384</td>\n",
       "      <td>0.0369</td>\n",
       "      <td>0.1011</td>\n",
       "      <td>0.0540</td>\n",
       "      <td>-0.0713</td>\n",
       "      <td>0.4452</td>\n",
       "    </tr>\n",
       "    <tr>\n",
       "      <th>randomForest</th>\n",
       "      <td>0.7384</td>\n",
       "      <td>0.0369</td>\n",
       "      <td>0.1011</td>\n",
       "      <td>0.0540</td>\n",
       "      <td>-0.0713</td>\n",
       "      <td>0.4452</td>\n",
       "    </tr>\n",
       "    <tr>\n",
       "      <th rowspan=\"4\" valign=\"top\">isolation</th>\n",
       "      <th>kbest_chi2</th>\n",
       "      <td>0.7311</td>\n",
       "      <td>0.0122</td>\n",
       "      <td>0.0330</td>\n",
       "      <td>0.0178</td>\n",
       "      <td>-0.1178</td>\n",
       "      <td>0.4099</td>\n",
       "    </tr>\n",
       "    <tr>\n",
       "      <th>kbest_fclass</th>\n",
       "      <td>0.7309</td>\n",
       "      <td>0.0118</td>\n",
       "      <td>0.0318</td>\n",
       "      <td>0.0172</td>\n",
       "      <td>-0.1187</td>\n",
       "      <td>0.4093</td>\n",
       "    </tr>\n",
       "    <tr>\n",
       "      <th>extraTrees</th>\n",
       "      <td>0.7333</td>\n",
       "      <td>0.0120</td>\n",
       "      <td>0.0322</td>\n",
       "      <td>0.0175</td>\n",
       "      <td>-0.1173</td>\n",
       "      <td>0.4107</td>\n",
       "    </tr>\n",
       "    <tr>\n",
       "      <th>randomForest</th>\n",
       "      <td>0.7311</td>\n",
       "      <td>0.0115</td>\n",
       "      <td>0.0309</td>\n",
       "      <td>0.0167</td>\n",
       "      <td>-0.1192</td>\n",
       "      <td>0.4090</td>\n",
       "    </tr>\n",
       "  </tbody>\n",
       "</table>\n",
       "</div>"
      ],
      "text/plain": [
       "                            accuracy  precision  recall  f1_score  \\\n",
       "method    featureSelection                                          \n",
       "kmeans    kbest_chi2          0.5168     0.1315  0.9880    0.2321   \n",
       "          kbest_fclass        0.5139     0.1308  0.9880    0.2310   \n",
       "          extraTrees          0.5631     0.1433  0.9872    0.2503   \n",
       "          randomForest        0.5168     0.1315  0.9880    0.2321   \n",
       "minibatch kbest_chi2          0.5168     0.1315  0.9880    0.2321   \n",
       "          kbest_fclass        0.5139     0.1308  0.9880    0.2310   \n",
       "          extraTrees          0.5610     0.1428  0.9872    0.2494   \n",
       "          randomForest        0.5168     0.1315  0.9880    0.2321   \n",
       "birch     kbest_chi2             NaN        NaN     NaN       NaN   \n",
       "          kbest_fclass           NaN        NaN     NaN       NaN   \n",
       "          extraTrees          0.5615     0.1429  0.9872    0.2496   \n",
       "          randomForest           NaN        NaN     NaN       NaN   \n",
       "mincovdet kbest_chi2          0.7265     0.0008  0.0023    0.0012   \n",
       "          kbest_fclass        0.7265     0.0008  0.0023    0.0012   \n",
       "          extraTrees          0.7384     0.0369  0.1011    0.0540   \n",
       "          randomForest        0.7384     0.0369  0.1011    0.0540   \n",
       "isolation kbest_chi2          0.7311     0.0122  0.0330    0.0178   \n",
       "          kbest_fclass        0.7309     0.0118  0.0318    0.0172   \n",
       "          extraTrees          0.7333     0.0120  0.0322    0.0175   \n",
       "          randomForest        0.7311     0.0115  0.0309    0.0167   \n",
       "\n",
       "                            mathews_corr     AUC  \n",
       "method    featureSelection                        \n",
       "kmeans    kbest_chi2              0.2460  0.7336  \n",
       "          kbest_fclass            0.2445  0.7321  \n",
       "          extraTrees              0.2703  0.7583  \n",
       "          randomForest            0.2460  0.7336  \n",
       "minibatch kbest_chi2              0.2460  0.7336  \n",
       "          kbest_fclass            0.2445  0.7321  \n",
       "          extraTrees              0.2691  0.7571  \n",
       "          randomForest            0.2460  0.7336  \n",
       "birch     kbest_chi2                 NaN     NaN  \n",
       "          kbest_fclass               NaN     NaN  \n",
       "          extraTrees              0.2694  0.7574  \n",
       "          randomForest               NaN     NaN  \n",
       "mincovdet kbest_chi2             -0.1396  0.3933  \n",
       "          kbest_fclass           -0.1396  0.3933  \n",
       "          extraTrees             -0.0713  0.4452  \n",
       "          randomForest           -0.0713  0.4452  \n",
       "isolation kbest_chi2             -0.1178  0.4099  \n",
       "          kbest_fclass           -0.1187  0.4093  \n",
       "          extraTrees             -0.1173  0.4107  \n",
       "          randomForest           -0.1192  0.4090  "
      ]
     },
     "execution_count": 3,
     "metadata": {},
     "output_type": "execute_result"
    }
   ],
   "source": [
    "from os import path\n",
    "\n",
    "if path.exists('ISCX_results/ISCX_results.csv'):\n",
    "    df_results = pd.read_csv('ISCX_results/ISCX_results.csv', index_col=['method', 'featureSelection'])\n",
    "else:\n",
    "    multiIndex = [['kmeans', 'minibatch', 'birch', 'mincovdet', 'isolation'],['kbest_chi2', 'kbest_fclass', 'extraTrees', 'randomForest']]\n",
    "\n",
    "    multiIndex = pd.MultiIndex.from_product(multiIndex, names=['method', 'featureSelection'])\n",
    "    df_results = pd.DataFrame(None, index=multiIndex, columns=['accuracy', 'precision', 'recall', 'f1_score', 'mathews_corr', 'AUC'])\n",
    "df_results"
   ]
  },
  {
   "cell_type": "markdown",
   "metadata": {},
   "source": [
    "# KMeans"
   ]
  },
  {
   "cell_type": "code",
   "execution_count": 5,
   "metadata": {},
   "outputs": [
    {
     "data": {
      "text/plain": [
       "accuracy        0.5168\n",
       "precision       0.1315\n",
       "recall           0.988\n",
       "f1_score        0.2321\n",
       "mathews_corr     0.246\n",
       "AUC             0.7336\n",
       "Name: (kmeans, kbest_chi2), dtype: object"
      ]
     },
     "execution_count": 5,
     "metadata": {},
     "output_type": "execute_result"
    }
   ],
   "source": [
    "kmeans = KMeans(n_clusters=2, n_init=10, random_state=0, algorithm='full').fit(df[df_features.loc[('kbest_chi2', 'no')]])\n",
    "\n",
    "save_results(df_tags, kmeans.labels_, ('kmeans', 'kbest_chi2'))\n",
    "df_results.loc[('kmeans', 'kbest_chi2')]"
   ]
  },
  {
   "cell_type": "code",
   "execution_count": 6,
   "metadata": {},
   "outputs": [
    {
     "data": {
      "text/plain": [
       "accuracy        0.5139\n",
       "precision       0.1308\n",
       "recall           0.988\n",
       "f1_score         0.231\n",
       "mathews_corr    0.2445\n",
       "AUC             0.7321\n",
       "Name: (kmeans, kbest_fclass), dtype: object"
      ]
     },
     "execution_count": 6,
     "metadata": {},
     "output_type": "execute_result"
    }
   ],
   "source": [
    "kmeans = KMeans(n_clusters=2, n_init=10, random_state=0, algorithm='full').fit(df[df_features.loc[('kbest_fclass', 'no')]])\n",
    "\n",
    "save_results(df_tags, kmeans.labels_, ('kmeans', 'kbest_fclass'))\n",
    "df_results.loc[('kmeans', 'kbest_fclass')]"
   ]
  },
  {
   "cell_type": "code",
   "execution_count": 7,
   "metadata": {},
   "outputs": [
    {
     "data": {
      "text/plain": [
       "accuracy        0.5631\n",
       "precision       0.1433\n",
       "recall          0.9872\n",
       "f1_score        0.2503\n",
       "mathews_corr    0.2703\n",
       "AUC             0.7583\n",
       "Name: (kmeans, extraTrees), dtype: object"
      ]
     },
     "execution_count": 7,
     "metadata": {},
     "output_type": "execute_result"
    }
   ],
   "source": [
    "kmeans = KMeans(n_clusters=2, n_init=10, random_state=0, algorithm='full').fit(df[df_features.loc[('extraTrees', 'no')]])\n",
    "\n",
    "save_results(df_tags, kmeans.labels_, ('kmeans', 'extraTrees'))\n",
    "df_results.loc[('kmeans', 'extraTrees')]"
   ]
  },
  {
   "cell_type": "code",
   "execution_count": 8,
   "metadata": {},
   "outputs": [
    {
     "data": {
      "text/plain": [
       "accuracy        0.5168\n",
       "precision       0.1315\n",
       "recall           0.988\n",
       "f1_score        0.2321\n",
       "mathews_corr     0.246\n",
       "AUC             0.7336\n",
       "Name: (kmeans, randomForest), dtype: object"
      ]
     },
     "execution_count": 8,
     "metadata": {},
     "output_type": "execute_result"
    }
   ],
   "source": [
    "kmeans = KMeans(n_clusters=2, n_init=10, random_state=0, algorithm='full').fit(df[df_features.loc[('randomForest', 'no')]])\n",
    "\n",
    "save_results(df_tags, kmeans.labels_, ('kmeans', 'randomForest'))\n",
    "df_results.loc[('kmeans', 'randomForest')]"
   ]
  },
  {
   "cell_type": "markdown",
   "metadata": {},
   "source": [
    "# MiniBatch KMeans"
   ]
  },
  {
   "cell_type": "code",
   "execution_count": 9,
   "metadata": {},
   "outputs": [
    {
     "data": {
      "text/plain": [
       "accuracy        0.5168\n",
       "precision       0.1315\n",
       "recall           0.988\n",
       "f1_score        0.2321\n",
       "mathews_corr     0.246\n",
       "AUC             0.7336\n",
       "Name: (minibatch, kbest_chi2), dtype: object"
      ]
     },
     "execution_count": 9,
     "metadata": {},
     "output_type": "execute_result"
    }
   ],
   "source": [
    "minibatch = MiniBatchKMeans(n_clusters=2,n_init=10, random_state=0).fit(df[df_features.loc[('kbest_chi2', 'no')]])\n",
    "\n",
    "save_results(df_tags, (minibatch.labels_ + 1) % 2, ('minibatch', 'kbest_chi2'))    # Se invierte los clusters tags 0 y 1\n",
    "df_results.loc[('minibatch', 'kbest_chi2')]"
   ]
  },
  {
   "cell_type": "code",
   "execution_count": 10,
   "metadata": {},
   "outputs": [
    {
     "data": {
      "text/plain": [
       "accuracy        0.5139\n",
       "precision       0.1308\n",
       "recall           0.988\n",
       "f1_score         0.231\n",
       "mathews_corr    0.2445\n",
       "AUC             0.7321\n",
       "Name: (minibatch, kbest_fclass), dtype: object"
      ]
     },
     "execution_count": 10,
     "metadata": {},
     "output_type": "execute_result"
    }
   ],
   "source": [
    "minibatch = MiniBatchKMeans(n_clusters=2,n_init=10, random_state=0).fit(df[df_features.loc[('kbest_fclass', 'no')]])\n",
    "\n",
    "save_results(df_tags, (minibatch.labels_ + 1) % 2, ('minibatch', 'kbest_fclass'))    # Se invierte los clusters tags 0 y 1\n",
    "df_results.loc[('minibatch', 'kbest_fclass')]"
   ]
  },
  {
   "cell_type": "code",
   "execution_count": 11,
   "metadata": {},
   "outputs": [
    {
     "data": {
      "text/plain": [
       "accuracy         0.561\n",
       "precision       0.1428\n",
       "recall          0.9872\n",
       "f1_score        0.2494\n",
       "mathews_corr    0.2691\n",
       "AUC             0.7571\n",
       "Name: (minibatch, extraTrees), dtype: object"
      ]
     },
     "execution_count": 11,
     "metadata": {},
     "output_type": "execute_result"
    }
   ],
   "source": [
    "minibatch = MiniBatchKMeans(n_clusters=2,n_init=10, random_state=0).fit(df[df_features.loc[('extraTrees', 'no')]])\n",
    "\n",
    "save_results(df_tags, minibatch.labels_, ('minibatch', 'extraTrees'))    # Se invierte los clusters tags 0 y 1\n",
    "df_results.loc[('minibatch', 'extraTrees')]"
   ]
  },
  {
   "cell_type": "code",
   "execution_count": 12,
   "metadata": {},
   "outputs": [
    {
     "data": {
      "text/plain": [
       "accuracy        0.5168\n",
       "precision       0.1315\n",
       "recall           0.988\n",
       "f1_score        0.2321\n",
       "mathews_corr     0.246\n",
       "AUC             0.7336\n",
       "Name: (minibatch, randomForest), dtype: object"
      ]
     },
     "execution_count": 12,
     "metadata": {},
     "output_type": "execute_result"
    }
   ],
   "source": [
    "minibatch = MiniBatchKMeans(n_clusters=2,n_init=10, random_state=0).fit(df[df_features.loc[('randomForest', 'no')]])\n",
    "\n",
    "save_results(df_tags, (minibatch.labels_ + 1) % 2, ('minibatch', 'randomForest'))    # Se invierte los clusters tags 0 y 1\n",
    "df_results.loc[('minibatch', 'randomForest')]"
   ]
  },
  {
   "cell_type": "markdown",
   "metadata": {},
   "source": [
    "# BIRCH"
   ]
  },
  {
   "cell_type": "code",
   "execution_count": 4,
   "metadata": {},
   "outputs": [
    {
     "ename": "AttributeError",
     "evalue": "'_CFSubcluster' object has no attribute 'centroid_'",
     "output_type": "error",
     "traceback": [
      "\u001b[1;31m---------------------------------------------------------------------------\u001b[0m",
      "\u001b[1;31mAttributeError\u001b[0m                            Traceback (most recent call last)",
      "\u001b[1;32m<ipython-input-4-c2754c7796db>\u001b[0m in \u001b[0;36m<module>\u001b[1;34m()\u001b[0m\n\u001b[1;32m----> 1\u001b[1;33m \u001b[0mbirch\u001b[0m \u001b[1;33m=\u001b[0m \u001b[0mBirch\u001b[0m\u001b[1;33m(\u001b[0m\u001b[0mn_clusters\u001b[0m\u001b[1;33m=\u001b[0m\u001b[1;36m2\u001b[0m\u001b[1;33m,\u001b[0m \u001b[0mthreshold\u001b[0m\u001b[1;33m=\u001b[0m\u001b[1;36m0.1\u001b[0m\u001b[1;33m,\u001b[0m \u001b[0mbranching_factor\u001b[0m\u001b[1;33m=\u001b[0m\u001b[1;36m10\u001b[0m\u001b[1;33m)\u001b[0m\u001b[1;33m.\u001b[0m\u001b[0mfit_predict\u001b[0m\u001b[1;33m(\u001b[0m\u001b[0mdf\u001b[0m\u001b[1;33m[\u001b[0m\u001b[0mdf_features\u001b[0m\u001b[1;33m.\u001b[0m\u001b[0mloc\u001b[0m\u001b[1;33m[\u001b[0m\u001b[1;33m(\u001b[0m\u001b[1;34m'kbest_chi2'\u001b[0m\u001b[1;33m,\u001b[0m \u001b[1;34m'no'\u001b[0m\u001b[1;33m)\u001b[0m\u001b[1;33m]\u001b[0m\u001b[1;33m]\u001b[0m\u001b[1;33m)\u001b[0m\u001b[1;33m\u001b[0m\u001b[0m\n\u001b[0m\u001b[0;32m      2\u001b[0m \u001b[1;33m\u001b[0m\u001b[0m\n\u001b[0;32m      3\u001b[0m \u001b[0msave_results\u001b[0m\u001b[1;33m(\u001b[0m\u001b[0mdf_tags\u001b[0m\u001b[1;33m,\u001b[0m \u001b[1;33m(\u001b[0m\u001b[0mbirch\u001b[0m \u001b[1;33m+\u001b[0m \u001b[1;36m1\u001b[0m\u001b[1;33m)\u001b[0m \u001b[1;33m%\u001b[0m \u001b[1;36m2\u001b[0m\u001b[1;33m,\u001b[0m \u001b[1;33m(\u001b[0m\u001b[1;34m'birch'\u001b[0m\u001b[1;33m,\u001b[0m \u001b[1;34m'kbest_chi2'\u001b[0m\u001b[1;33m)\u001b[0m\u001b[1;33m)\u001b[0m\u001b[1;33m\u001b[0m\u001b[0m\n\u001b[0;32m      4\u001b[0m \u001b[0mdf_results\u001b[0m\u001b[1;33m.\u001b[0m\u001b[0mloc\u001b[0m\u001b[1;33m[\u001b[0m\u001b[1;33m(\u001b[0m\u001b[1;34m'birch'\u001b[0m\u001b[1;33m,\u001b[0m \u001b[1;34m'kbest_chi2'\u001b[0m\u001b[1;33m)\u001b[0m\u001b[1;33m]\u001b[0m\u001b[1;33m\u001b[0m\u001b[0m\n",
      "\u001b[1;32m~\\Anaconda3\\lib\\site-packages\\sklearn\\base.py\u001b[0m in \u001b[0;36mfit_predict\u001b[1;34m(self, X, y)\u001b[0m\n\u001b[0;32m    355\u001b[0m         \u001b[1;31m# non-optimized default implementation; override when a better\u001b[0m\u001b[1;33m\u001b[0m\u001b[1;33m\u001b[0m\u001b[0m\n\u001b[0;32m    356\u001b[0m         \u001b[1;31m# method is possible for a given clustering algorithm\u001b[0m\u001b[1;33m\u001b[0m\u001b[1;33m\u001b[0m\u001b[0m\n\u001b[1;32m--> 357\u001b[1;33m         \u001b[0mself\u001b[0m\u001b[1;33m.\u001b[0m\u001b[0mfit\u001b[0m\u001b[1;33m(\u001b[0m\u001b[0mX\u001b[0m\u001b[1;33m)\u001b[0m\u001b[1;33m\u001b[0m\u001b[0m\n\u001b[0m\u001b[0;32m    358\u001b[0m         \u001b[1;32mreturn\u001b[0m \u001b[0mself\u001b[0m\u001b[1;33m.\u001b[0m\u001b[0mlabels_\u001b[0m\u001b[1;33m\u001b[0m\u001b[0m\n\u001b[0;32m    359\u001b[0m \u001b[1;33m\u001b[0m\u001b[0m\n",
      "\u001b[1;32m~\\Anaconda3\\lib\\site-packages\\sklearn\\cluster\\birch.py\u001b[0m in \u001b[0;36mfit\u001b[1;34m(self, X, y)\u001b[0m\n\u001b[0;32m    447\u001b[0m         \"\"\"\n\u001b[0;32m    448\u001b[0m         \u001b[0mself\u001b[0m\u001b[1;33m.\u001b[0m\u001b[0mfit_\u001b[0m\u001b[1;33m,\u001b[0m \u001b[0mself\u001b[0m\u001b[1;33m.\u001b[0m\u001b[0mpartial_fit_\u001b[0m \u001b[1;33m=\u001b[0m \u001b[1;32mTrue\u001b[0m\u001b[1;33m,\u001b[0m \u001b[1;32mFalse\u001b[0m\u001b[1;33m\u001b[0m\u001b[0m\n\u001b[1;32m--> 449\u001b[1;33m         \u001b[1;32mreturn\u001b[0m \u001b[0mself\u001b[0m\u001b[1;33m.\u001b[0m\u001b[0m_fit\u001b[0m\u001b[1;33m(\u001b[0m\u001b[0mX\u001b[0m\u001b[1;33m)\u001b[0m\u001b[1;33m\u001b[0m\u001b[0m\n\u001b[0m\u001b[0;32m    450\u001b[0m \u001b[1;33m\u001b[0m\u001b[0m\n\u001b[0;32m    451\u001b[0m     \u001b[1;32mdef\u001b[0m \u001b[0m_fit\u001b[0m\u001b[1;33m(\u001b[0m\u001b[0mself\u001b[0m\u001b[1;33m,\u001b[0m \u001b[0mX\u001b[0m\u001b[1;33m)\u001b[0m\u001b[1;33m:\u001b[0m\u001b[1;33m\u001b[0m\u001b[0m\n",
      "\u001b[1;32m~\\Anaconda3\\lib\\site-packages\\sklearn\\cluster\\birch.py\u001b[0m in \u001b[0;36m_fit\u001b[1;34m(self, X)\u001b[0m\n\u001b[0;32m    481\u001b[0m         \u001b[1;32mfor\u001b[0m \u001b[0msample\u001b[0m \u001b[1;32min\u001b[0m \u001b[0miter_func\u001b[0m\u001b[1;33m(\u001b[0m\u001b[0mX\u001b[0m\u001b[1;33m)\u001b[0m\u001b[1;33m:\u001b[0m\u001b[1;33m\u001b[0m\u001b[0m\n\u001b[0;32m    482\u001b[0m             \u001b[0msubcluster\u001b[0m \u001b[1;33m=\u001b[0m \u001b[0m_CFSubcluster\u001b[0m\u001b[1;33m(\u001b[0m\u001b[0mlinear_sum\u001b[0m\u001b[1;33m=\u001b[0m\u001b[0msample\u001b[0m\u001b[1;33m)\u001b[0m\u001b[1;33m\u001b[0m\u001b[0m\n\u001b[1;32m--> 483\u001b[1;33m             \u001b[0msplit\u001b[0m \u001b[1;33m=\u001b[0m \u001b[0mself\u001b[0m\u001b[1;33m.\u001b[0m\u001b[0mroot_\u001b[0m\u001b[1;33m.\u001b[0m\u001b[0minsert_cf_subcluster\u001b[0m\u001b[1;33m(\u001b[0m\u001b[0msubcluster\u001b[0m\u001b[1;33m)\u001b[0m\u001b[1;33m\u001b[0m\u001b[0m\n\u001b[0m\u001b[0;32m    484\u001b[0m \u001b[1;33m\u001b[0m\u001b[0m\n\u001b[0;32m    485\u001b[0m             \u001b[1;32mif\u001b[0m \u001b[0msplit\u001b[0m\u001b[1;33m:\u001b[0m\u001b[1;33m\u001b[0m\u001b[0m\n",
      "\u001b[1;32m~\\Anaconda3\\lib\\site-packages\\sklearn\\cluster\\birch.py\u001b[0m in \u001b[0;36minsert_cf_subcluster\u001b[1;34m(self, subcluster)\u001b[0m\n\u001b[0;32m    211\u001b[0m                     closest_subcluster.child_, threshold, branching_factor)\n\u001b[0;32m    212\u001b[0m                 self.update_split_subclusters(\n\u001b[1;32m--> 213\u001b[1;33m                     closest_subcluster, new_subcluster1, new_subcluster2)\n\u001b[0m\u001b[0;32m    214\u001b[0m \u001b[1;33m\u001b[0m\u001b[0m\n\u001b[0;32m    215\u001b[0m                 \u001b[1;32mif\u001b[0m \u001b[0mlen\u001b[0m\u001b[1;33m(\u001b[0m\u001b[0mself\u001b[0m\u001b[1;33m.\u001b[0m\u001b[0msubclusters_\u001b[0m\u001b[1;33m)\u001b[0m \u001b[1;33m>\u001b[0m \u001b[0mself\u001b[0m\u001b[1;33m.\u001b[0m\u001b[0mbranching_factor\u001b[0m\u001b[1;33m:\u001b[0m\u001b[1;33m\u001b[0m\u001b[0m\n",
      "\u001b[1;32m~\\Anaconda3\\lib\\site-packages\\sklearn\\cluster\\birch.py\u001b[0m in \u001b[0;36mupdate_split_subclusters\u001b[1;34m(self, subcluster, new_subcluster1, new_subcluster2)\u001b[0m\n\u001b[0;32m    169\u001b[0m         \u001b[0mind\u001b[0m \u001b[1;33m=\u001b[0m \u001b[0mself\u001b[0m\u001b[1;33m.\u001b[0m\u001b[0msubclusters_\u001b[0m\u001b[1;33m.\u001b[0m\u001b[0mindex\u001b[0m\u001b[1;33m(\u001b[0m\u001b[0msubcluster\u001b[0m\u001b[1;33m)\u001b[0m\u001b[1;33m\u001b[0m\u001b[0m\n\u001b[0;32m    170\u001b[0m         \u001b[0mself\u001b[0m\u001b[1;33m.\u001b[0m\u001b[0msubclusters_\u001b[0m\u001b[1;33m[\u001b[0m\u001b[0mind\u001b[0m\u001b[1;33m]\u001b[0m \u001b[1;33m=\u001b[0m \u001b[0mnew_subcluster1\u001b[0m\u001b[1;33m\u001b[0m\u001b[0m\n\u001b[1;32m--> 171\u001b[1;33m         \u001b[0mself\u001b[0m\u001b[1;33m.\u001b[0m\u001b[0minit_centroids_\u001b[0m\u001b[1;33m[\u001b[0m\u001b[0mind\u001b[0m\u001b[1;33m]\u001b[0m \u001b[1;33m=\u001b[0m \u001b[0mnew_subcluster1\u001b[0m\u001b[1;33m.\u001b[0m\u001b[0mcentroid_\u001b[0m\u001b[1;33m\u001b[0m\u001b[0m\n\u001b[0m\u001b[0;32m    172\u001b[0m         \u001b[0mself\u001b[0m\u001b[1;33m.\u001b[0m\u001b[0minit_sq_norm_\u001b[0m\u001b[1;33m[\u001b[0m\u001b[0mind\u001b[0m\u001b[1;33m]\u001b[0m \u001b[1;33m=\u001b[0m \u001b[0mnew_subcluster1\u001b[0m\u001b[1;33m.\u001b[0m\u001b[0msq_norm_\u001b[0m\u001b[1;33m\u001b[0m\u001b[0m\n\u001b[0;32m    173\u001b[0m         \u001b[0mself\u001b[0m\u001b[1;33m.\u001b[0m\u001b[0mappend_subcluster\u001b[0m\u001b[1;33m(\u001b[0m\u001b[0mnew_subcluster2\u001b[0m\u001b[1;33m)\u001b[0m\u001b[1;33m\u001b[0m\u001b[0m\n",
      "\u001b[1;31mAttributeError\u001b[0m: '_CFSubcluster' object has no attribute 'centroid_'"
     ]
    }
   ],
   "source": [
    "birch = Birch(n_clusters=2, threshold=0.1, branching_factor=10).fit_predict(df[df_features.loc[('kbest_chi2', 'no')]])\n",
    "\n",
    "save_results(df_tags, (birch + 1) % 2, ('birch', 'kbest_chi2'))\n",
    "df_results.loc[('birch', 'kbest_chi2')]"
   ]
  },
  {
   "cell_type": "code",
   "execution_count": 31,
   "metadata": {},
   "outputs": [
    {
     "ename": "AttributeError",
     "evalue": "'_CFSubcluster' object has no attribute 'centroid_'",
     "output_type": "error",
     "traceback": [
      "\u001b[1;31m---------------------------------------------------------------------------\u001b[0m",
      "\u001b[1;31mAttributeError\u001b[0m                            Traceback (most recent call last)",
      "\u001b[1;32m<ipython-input-31-83eb36f4e643>\u001b[0m in \u001b[0;36m<module>\u001b[1;34m()\u001b[0m\n\u001b[1;32m----> 1\u001b[1;33m \u001b[0mbirch\u001b[0m \u001b[1;33m=\u001b[0m \u001b[0mBirch\u001b[0m\u001b[1;33m(\u001b[0m\u001b[0mn_clusters\u001b[0m\u001b[1;33m=\u001b[0m\u001b[1;36m2\u001b[0m\u001b[1;33m,\u001b[0m \u001b[0mthreshold\u001b[0m\u001b[1;33m=\u001b[0m\u001b[1;36m0.1\u001b[0m\u001b[1;33m,\u001b[0m \u001b[0mbranching_factor\u001b[0m\u001b[1;33m=\u001b[0m\u001b[1;36m10\u001b[0m\u001b[1;33m)\u001b[0m\u001b[1;33m.\u001b[0m\u001b[0mfit_predict\u001b[0m\u001b[1;33m(\u001b[0m\u001b[0mdf\u001b[0m\u001b[1;33m[\u001b[0m\u001b[0mdf_features\u001b[0m\u001b[1;33m.\u001b[0m\u001b[0mloc\u001b[0m\u001b[1;33m[\u001b[0m\u001b[1;33m(\u001b[0m\u001b[1;34m'kbest_fclass'\u001b[0m\u001b[1;33m,\u001b[0m \u001b[1;34m'no'\u001b[0m\u001b[1;33m)\u001b[0m\u001b[1;33m]\u001b[0m\u001b[1;33m]\u001b[0m\u001b[1;33m)\u001b[0m\u001b[1;33m\u001b[0m\u001b[0m\n\u001b[0m\u001b[0;32m      2\u001b[0m \u001b[1;33m\u001b[0m\u001b[0m\n\u001b[0;32m      3\u001b[0m \u001b[0msave_results\u001b[0m\u001b[1;33m(\u001b[0m\u001b[0mdf_tags\u001b[0m\u001b[1;33m,\u001b[0m \u001b[1;33m(\u001b[0m\u001b[0mbirch\u001b[0m \u001b[1;33m+\u001b[0m \u001b[1;36m1\u001b[0m\u001b[1;33m)\u001b[0m \u001b[1;33m%\u001b[0m \u001b[1;36m2\u001b[0m\u001b[1;33m,\u001b[0m \u001b[1;33m(\u001b[0m\u001b[1;34m'birch'\u001b[0m\u001b[1;33m,\u001b[0m \u001b[1;34m'kbest_fclass'\u001b[0m\u001b[1;33m)\u001b[0m\u001b[1;33m)\u001b[0m\u001b[1;33m\u001b[0m\u001b[0m\n\u001b[0;32m      4\u001b[0m \u001b[0mdf_results\u001b[0m\u001b[1;33m.\u001b[0m\u001b[0mloc\u001b[0m\u001b[1;33m[\u001b[0m\u001b[1;33m(\u001b[0m\u001b[1;34m'birch'\u001b[0m\u001b[1;33m,\u001b[0m \u001b[1;34m'kbest_fclass'\u001b[0m\u001b[1;33m)\u001b[0m\u001b[1;33m]\u001b[0m\u001b[1;33m\u001b[0m\u001b[0m\n",
      "\u001b[1;32m~\\Anaconda3\\lib\\site-packages\\sklearn\\base.py\u001b[0m in \u001b[0;36mfit_predict\u001b[1;34m(self, X, y)\u001b[0m\n\u001b[0;32m    355\u001b[0m         \u001b[1;31m# non-optimized default implementation; override when a better\u001b[0m\u001b[1;33m\u001b[0m\u001b[1;33m\u001b[0m\u001b[0m\n\u001b[0;32m    356\u001b[0m         \u001b[1;31m# method is possible for a given clustering algorithm\u001b[0m\u001b[1;33m\u001b[0m\u001b[1;33m\u001b[0m\u001b[0m\n\u001b[1;32m--> 357\u001b[1;33m         \u001b[0mself\u001b[0m\u001b[1;33m.\u001b[0m\u001b[0mfit\u001b[0m\u001b[1;33m(\u001b[0m\u001b[0mX\u001b[0m\u001b[1;33m)\u001b[0m\u001b[1;33m\u001b[0m\u001b[0m\n\u001b[0m\u001b[0;32m    358\u001b[0m         \u001b[1;32mreturn\u001b[0m \u001b[0mself\u001b[0m\u001b[1;33m.\u001b[0m\u001b[0mlabels_\u001b[0m\u001b[1;33m\u001b[0m\u001b[0m\n\u001b[0;32m    359\u001b[0m \u001b[1;33m\u001b[0m\u001b[0m\n",
      "\u001b[1;32m~\\Anaconda3\\lib\\site-packages\\sklearn\\cluster\\birch.py\u001b[0m in \u001b[0;36mfit\u001b[1;34m(self, X, y)\u001b[0m\n\u001b[0;32m    447\u001b[0m         \"\"\"\n\u001b[0;32m    448\u001b[0m         \u001b[0mself\u001b[0m\u001b[1;33m.\u001b[0m\u001b[0mfit_\u001b[0m\u001b[1;33m,\u001b[0m \u001b[0mself\u001b[0m\u001b[1;33m.\u001b[0m\u001b[0mpartial_fit_\u001b[0m \u001b[1;33m=\u001b[0m \u001b[1;32mTrue\u001b[0m\u001b[1;33m,\u001b[0m \u001b[1;32mFalse\u001b[0m\u001b[1;33m\u001b[0m\u001b[0m\n\u001b[1;32m--> 449\u001b[1;33m         \u001b[1;32mreturn\u001b[0m \u001b[0mself\u001b[0m\u001b[1;33m.\u001b[0m\u001b[0m_fit\u001b[0m\u001b[1;33m(\u001b[0m\u001b[0mX\u001b[0m\u001b[1;33m)\u001b[0m\u001b[1;33m\u001b[0m\u001b[0m\n\u001b[0m\u001b[0;32m    450\u001b[0m \u001b[1;33m\u001b[0m\u001b[0m\n\u001b[0;32m    451\u001b[0m     \u001b[1;32mdef\u001b[0m \u001b[0m_fit\u001b[0m\u001b[1;33m(\u001b[0m\u001b[0mself\u001b[0m\u001b[1;33m,\u001b[0m \u001b[0mX\u001b[0m\u001b[1;33m)\u001b[0m\u001b[1;33m:\u001b[0m\u001b[1;33m\u001b[0m\u001b[0m\n",
      "\u001b[1;32m~\\Anaconda3\\lib\\site-packages\\sklearn\\cluster\\birch.py\u001b[0m in \u001b[0;36m_fit\u001b[1;34m(self, X)\u001b[0m\n\u001b[0;32m    481\u001b[0m         \u001b[1;32mfor\u001b[0m \u001b[0msample\u001b[0m \u001b[1;32min\u001b[0m \u001b[0miter_func\u001b[0m\u001b[1;33m(\u001b[0m\u001b[0mX\u001b[0m\u001b[1;33m)\u001b[0m\u001b[1;33m:\u001b[0m\u001b[1;33m\u001b[0m\u001b[0m\n\u001b[0;32m    482\u001b[0m             \u001b[0msubcluster\u001b[0m \u001b[1;33m=\u001b[0m \u001b[0m_CFSubcluster\u001b[0m\u001b[1;33m(\u001b[0m\u001b[0mlinear_sum\u001b[0m\u001b[1;33m=\u001b[0m\u001b[0msample\u001b[0m\u001b[1;33m)\u001b[0m\u001b[1;33m\u001b[0m\u001b[0m\n\u001b[1;32m--> 483\u001b[1;33m             \u001b[0msplit\u001b[0m \u001b[1;33m=\u001b[0m \u001b[0mself\u001b[0m\u001b[1;33m.\u001b[0m\u001b[0mroot_\u001b[0m\u001b[1;33m.\u001b[0m\u001b[0minsert_cf_subcluster\u001b[0m\u001b[1;33m(\u001b[0m\u001b[0msubcluster\u001b[0m\u001b[1;33m)\u001b[0m\u001b[1;33m\u001b[0m\u001b[0m\n\u001b[0m\u001b[0;32m    484\u001b[0m \u001b[1;33m\u001b[0m\u001b[0m\n\u001b[0;32m    485\u001b[0m             \u001b[1;32mif\u001b[0m \u001b[0msplit\u001b[0m\u001b[1;33m:\u001b[0m\u001b[1;33m\u001b[0m\u001b[0m\n",
      "\u001b[1;32m~\\Anaconda3\\lib\\site-packages\\sklearn\\cluster\\birch.py\u001b[0m in \u001b[0;36minsert_cf_subcluster\u001b[1;34m(self, subcluster)\u001b[0m\n\u001b[0;32m    192\u001b[0m         \u001b[1;32mif\u001b[0m \u001b[0mclosest_subcluster\u001b[0m\u001b[1;33m.\u001b[0m\u001b[0mchild_\u001b[0m \u001b[1;32mis\u001b[0m \u001b[1;32mnot\u001b[0m \u001b[1;32mNone\u001b[0m\u001b[1;33m:\u001b[0m\u001b[1;33m\u001b[0m\u001b[0m\n\u001b[0;32m    193\u001b[0m             split_child = closest_subcluster.child_.insert_cf_subcluster(\n\u001b[1;32m--> 194\u001b[1;33m                 subcluster)\n\u001b[0m\u001b[0;32m    195\u001b[0m \u001b[1;33m\u001b[0m\u001b[0m\n\u001b[0;32m    196\u001b[0m             \u001b[1;32mif\u001b[0m \u001b[1;32mnot\u001b[0m \u001b[0msplit_child\u001b[0m\u001b[1;33m:\u001b[0m\u001b[1;33m\u001b[0m\u001b[0m\n",
      "\u001b[1;32m~\\Anaconda3\\lib\\site-packages\\sklearn\\cluster\\birch.py\u001b[0m in \u001b[0;36minsert_cf_subcluster\u001b[1;34m(self, subcluster)\u001b[0m\n\u001b[0;32m    211\u001b[0m                     closest_subcluster.child_, threshold, branching_factor)\n\u001b[0;32m    212\u001b[0m                 self.update_split_subclusters(\n\u001b[1;32m--> 213\u001b[1;33m                     closest_subcluster, new_subcluster1, new_subcluster2)\n\u001b[0m\u001b[0;32m    214\u001b[0m \u001b[1;33m\u001b[0m\u001b[0m\n\u001b[0;32m    215\u001b[0m                 \u001b[1;32mif\u001b[0m \u001b[0mlen\u001b[0m\u001b[1;33m(\u001b[0m\u001b[0mself\u001b[0m\u001b[1;33m.\u001b[0m\u001b[0msubclusters_\u001b[0m\u001b[1;33m)\u001b[0m \u001b[1;33m>\u001b[0m \u001b[0mself\u001b[0m\u001b[1;33m.\u001b[0m\u001b[0mbranching_factor\u001b[0m\u001b[1;33m:\u001b[0m\u001b[1;33m\u001b[0m\u001b[0m\n",
      "\u001b[1;32m~\\Anaconda3\\lib\\site-packages\\sklearn\\cluster\\birch.py\u001b[0m in \u001b[0;36mupdate_split_subclusters\u001b[1;34m(self, subcluster, new_subcluster1, new_subcluster2)\u001b[0m\n\u001b[0;32m    169\u001b[0m         \u001b[0mind\u001b[0m \u001b[1;33m=\u001b[0m \u001b[0mself\u001b[0m\u001b[1;33m.\u001b[0m\u001b[0msubclusters_\u001b[0m\u001b[1;33m.\u001b[0m\u001b[0mindex\u001b[0m\u001b[1;33m(\u001b[0m\u001b[0msubcluster\u001b[0m\u001b[1;33m)\u001b[0m\u001b[1;33m\u001b[0m\u001b[0m\n\u001b[0;32m    170\u001b[0m         \u001b[0mself\u001b[0m\u001b[1;33m.\u001b[0m\u001b[0msubclusters_\u001b[0m\u001b[1;33m[\u001b[0m\u001b[0mind\u001b[0m\u001b[1;33m]\u001b[0m \u001b[1;33m=\u001b[0m \u001b[0mnew_subcluster1\u001b[0m\u001b[1;33m\u001b[0m\u001b[0m\n\u001b[1;32m--> 171\u001b[1;33m         \u001b[0mself\u001b[0m\u001b[1;33m.\u001b[0m\u001b[0minit_centroids_\u001b[0m\u001b[1;33m[\u001b[0m\u001b[0mind\u001b[0m\u001b[1;33m]\u001b[0m \u001b[1;33m=\u001b[0m \u001b[0mnew_subcluster1\u001b[0m\u001b[1;33m.\u001b[0m\u001b[0mcentroid_\u001b[0m\u001b[1;33m\u001b[0m\u001b[0m\n\u001b[0m\u001b[0;32m    172\u001b[0m         \u001b[0mself\u001b[0m\u001b[1;33m.\u001b[0m\u001b[0minit_sq_norm_\u001b[0m\u001b[1;33m[\u001b[0m\u001b[0mind\u001b[0m\u001b[1;33m]\u001b[0m \u001b[1;33m=\u001b[0m \u001b[0mnew_subcluster1\u001b[0m\u001b[1;33m.\u001b[0m\u001b[0msq_norm_\u001b[0m\u001b[1;33m\u001b[0m\u001b[0m\n\u001b[0;32m    173\u001b[0m         \u001b[0mself\u001b[0m\u001b[1;33m.\u001b[0m\u001b[0mappend_subcluster\u001b[0m\u001b[1;33m(\u001b[0m\u001b[0mnew_subcluster2\u001b[0m\u001b[1;33m)\u001b[0m\u001b[1;33m\u001b[0m\u001b[0m\n",
      "\u001b[1;31mAttributeError\u001b[0m: '_CFSubcluster' object has no attribute 'centroid_'"
     ]
    }
   ],
   "source": [
    "birch = Birch(n_clusters=2, threshold=0.1, branching_factor=10).fit_predict(df[df_features.loc[('kbest_fclass', 'no')]])\n",
    "\n",
    "save_results(df_tags, (birch + 1) % 2, ('birch', 'kbest_fclass'))\n",
    "df_results.loc[('birch', 'kbest_fclass')]"
   ]
  },
  {
   "cell_type": "code",
   "execution_count": 25,
   "metadata": {},
   "outputs": [
    {
     "data": {
      "text/plain": [
       "accuracy        0.5615\n",
       "precision       0.1429\n",
       "recall          0.9872\n",
       "f1_score        0.2496\n",
       "mathews_corr    0.2694\n",
       "AUC             0.7574\n",
       "Name: (birch, extraTrees), dtype: object"
      ]
     },
     "execution_count": 25,
     "metadata": {},
     "output_type": "execute_result"
    }
   ],
   "source": [
    "birch = Birch(n_clusters=2, threshold=2, branching_factor=10).fit_predict(df[df_features.loc[('extraTrees', 'no')]])\n",
    "\n",
    "save_results(df_tags, birch, ('birch', 'extraTrees'))\n",
    "df_results.loc[('birch', 'extraTrees')]"
   ]
  },
  {
   "cell_type": "code",
   "execution_count": 32,
   "metadata": {},
   "outputs": [
    {
     "ename": "AttributeError",
     "evalue": "'_CFSubcluster' object has no attribute 'centroid_'",
     "output_type": "error",
     "traceback": [
      "\u001b[1;31m---------------------------------------------------------------------------\u001b[0m",
      "\u001b[1;31mAttributeError\u001b[0m                            Traceback (most recent call last)",
      "\u001b[1;32m<ipython-input-32-12d1738f7b24>\u001b[0m in \u001b[0;36m<module>\u001b[1;34m()\u001b[0m\n\u001b[1;32m----> 1\u001b[1;33m \u001b[0mbirch\u001b[0m \u001b[1;33m=\u001b[0m \u001b[0mBirch\u001b[0m\u001b[1;33m(\u001b[0m\u001b[0mn_clusters\u001b[0m\u001b[1;33m=\u001b[0m\u001b[1;36m2\u001b[0m\u001b[1;33m,\u001b[0m \u001b[0mthreshold\u001b[0m\u001b[1;33m=\u001b[0m\u001b[1;36m2\u001b[0m\u001b[1;33m,\u001b[0m \u001b[0mbranching_factor\u001b[0m\u001b[1;33m=\u001b[0m\u001b[1;36m10\u001b[0m\u001b[1;33m)\u001b[0m\u001b[1;33m.\u001b[0m\u001b[0mfit_predict\u001b[0m\u001b[1;33m(\u001b[0m\u001b[0mdf\u001b[0m\u001b[1;33m[\u001b[0m\u001b[0mdf_features\u001b[0m\u001b[1;33m.\u001b[0m\u001b[0mloc\u001b[0m\u001b[1;33m[\u001b[0m\u001b[1;33m(\u001b[0m\u001b[1;34m'randomForest'\u001b[0m\u001b[1;33m,\u001b[0m \u001b[1;34m'no'\u001b[0m\u001b[1;33m)\u001b[0m\u001b[1;33m]\u001b[0m\u001b[1;33m]\u001b[0m\u001b[1;33m)\u001b[0m\u001b[1;33m\u001b[0m\u001b[0m\n\u001b[0m\u001b[0;32m      2\u001b[0m \u001b[1;33m\u001b[0m\u001b[0m\n\u001b[0;32m      3\u001b[0m \u001b[0msave_results\u001b[0m\u001b[1;33m(\u001b[0m\u001b[0mdf_tags\u001b[0m\u001b[1;33m,\u001b[0m \u001b[0mbirch\u001b[0m\u001b[1;33m,\u001b[0m \u001b[1;33m(\u001b[0m\u001b[1;34m'birch'\u001b[0m\u001b[1;33m,\u001b[0m \u001b[1;34m'randomForest'\u001b[0m\u001b[1;33m)\u001b[0m\u001b[1;33m)\u001b[0m\u001b[1;33m\u001b[0m\u001b[0m\n\u001b[0;32m      4\u001b[0m \u001b[0mdf_results\u001b[0m\u001b[1;33m.\u001b[0m\u001b[0mloc\u001b[0m\u001b[1;33m[\u001b[0m\u001b[1;33m(\u001b[0m\u001b[1;34m'birch'\u001b[0m\u001b[1;33m,\u001b[0m \u001b[1;34m'randomForest'\u001b[0m\u001b[1;33m)\u001b[0m\u001b[1;33m]\u001b[0m\u001b[1;33m\u001b[0m\u001b[0m\n",
      "\u001b[1;32m~\\Anaconda3\\lib\\site-packages\\sklearn\\base.py\u001b[0m in \u001b[0;36mfit_predict\u001b[1;34m(self, X, y)\u001b[0m\n\u001b[0;32m    355\u001b[0m         \u001b[1;31m# non-optimized default implementation; override when a better\u001b[0m\u001b[1;33m\u001b[0m\u001b[1;33m\u001b[0m\u001b[0m\n\u001b[0;32m    356\u001b[0m         \u001b[1;31m# method is possible for a given clustering algorithm\u001b[0m\u001b[1;33m\u001b[0m\u001b[1;33m\u001b[0m\u001b[0m\n\u001b[1;32m--> 357\u001b[1;33m         \u001b[0mself\u001b[0m\u001b[1;33m.\u001b[0m\u001b[0mfit\u001b[0m\u001b[1;33m(\u001b[0m\u001b[0mX\u001b[0m\u001b[1;33m)\u001b[0m\u001b[1;33m\u001b[0m\u001b[0m\n\u001b[0m\u001b[0;32m    358\u001b[0m         \u001b[1;32mreturn\u001b[0m \u001b[0mself\u001b[0m\u001b[1;33m.\u001b[0m\u001b[0mlabels_\u001b[0m\u001b[1;33m\u001b[0m\u001b[0m\n\u001b[0;32m    359\u001b[0m \u001b[1;33m\u001b[0m\u001b[0m\n",
      "\u001b[1;32m~\\Anaconda3\\lib\\site-packages\\sklearn\\cluster\\birch.py\u001b[0m in \u001b[0;36mfit\u001b[1;34m(self, X, y)\u001b[0m\n\u001b[0;32m    447\u001b[0m         \"\"\"\n\u001b[0;32m    448\u001b[0m         \u001b[0mself\u001b[0m\u001b[1;33m.\u001b[0m\u001b[0mfit_\u001b[0m\u001b[1;33m,\u001b[0m \u001b[0mself\u001b[0m\u001b[1;33m.\u001b[0m\u001b[0mpartial_fit_\u001b[0m \u001b[1;33m=\u001b[0m \u001b[1;32mTrue\u001b[0m\u001b[1;33m,\u001b[0m \u001b[1;32mFalse\u001b[0m\u001b[1;33m\u001b[0m\u001b[0m\n\u001b[1;32m--> 449\u001b[1;33m         \u001b[1;32mreturn\u001b[0m \u001b[0mself\u001b[0m\u001b[1;33m.\u001b[0m\u001b[0m_fit\u001b[0m\u001b[1;33m(\u001b[0m\u001b[0mX\u001b[0m\u001b[1;33m)\u001b[0m\u001b[1;33m\u001b[0m\u001b[0m\n\u001b[0m\u001b[0;32m    450\u001b[0m \u001b[1;33m\u001b[0m\u001b[0m\n\u001b[0;32m    451\u001b[0m     \u001b[1;32mdef\u001b[0m \u001b[0m_fit\u001b[0m\u001b[1;33m(\u001b[0m\u001b[0mself\u001b[0m\u001b[1;33m,\u001b[0m \u001b[0mX\u001b[0m\u001b[1;33m)\u001b[0m\u001b[1;33m:\u001b[0m\u001b[1;33m\u001b[0m\u001b[0m\n",
      "\u001b[1;32m~\\Anaconda3\\lib\\site-packages\\sklearn\\cluster\\birch.py\u001b[0m in \u001b[0;36m_fit\u001b[1;34m(self, X)\u001b[0m\n\u001b[0;32m    481\u001b[0m         \u001b[1;32mfor\u001b[0m \u001b[0msample\u001b[0m \u001b[1;32min\u001b[0m \u001b[0miter_func\u001b[0m\u001b[1;33m(\u001b[0m\u001b[0mX\u001b[0m\u001b[1;33m)\u001b[0m\u001b[1;33m:\u001b[0m\u001b[1;33m\u001b[0m\u001b[0m\n\u001b[0;32m    482\u001b[0m             \u001b[0msubcluster\u001b[0m \u001b[1;33m=\u001b[0m \u001b[0m_CFSubcluster\u001b[0m\u001b[1;33m(\u001b[0m\u001b[0mlinear_sum\u001b[0m\u001b[1;33m=\u001b[0m\u001b[0msample\u001b[0m\u001b[1;33m)\u001b[0m\u001b[1;33m\u001b[0m\u001b[0m\n\u001b[1;32m--> 483\u001b[1;33m             \u001b[0msplit\u001b[0m \u001b[1;33m=\u001b[0m \u001b[0mself\u001b[0m\u001b[1;33m.\u001b[0m\u001b[0mroot_\u001b[0m\u001b[1;33m.\u001b[0m\u001b[0minsert_cf_subcluster\u001b[0m\u001b[1;33m(\u001b[0m\u001b[0msubcluster\u001b[0m\u001b[1;33m)\u001b[0m\u001b[1;33m\u001b[0m\u001b[0m\n\u001b[0m\u001b[0;32m    484\u001b[0m \u001b[1;33m\u001b[0m\u001b[0m\n\u001b[0;32m    485\u001b[0m             \u001b[1;32mif\u001b[0m \u001b[0msplit\u001b[0m\u001b[1;33m:\u001b[0m\u001b[1;33m\u001b[0m\u001b[0m\n",
      "\u001b[1;32m~\\Anaconda3\\lib\\site-packages\\sklearn\\cluster\\birch.py\u001b[0m in \u001b[0;36minsert_cf_subcluster\u001b[1;34m(self, subcluster)\u001b[0m\n\u001b[0;32m    211\u001b[0m                     closest_subcluster.child_, threshold, branching_factor)\n\u001b[0;32m    212\u001b[0m                 self.update_split_subclusters(\n\u001b[1;32m--> 213\u001b[1;33m                     closest_subcluster, new_subcluster1, new_subcluster2)\n\u001b[0m\u001b[0;32m    214\u001b[0m \u001b[1;33m\u001b[0m\u001b[0m\n\u001b[0;32m    215\u001b[0m                 \u001b[1;32mif\u001b[0m \u001b[0mlen\u001b[0m\u001b[1;33m(\u001b[0m\u001b[0mself\u001b[0m\u001b[1;33m.\u001b[0m\u001b[0msubclusters_\u001b[0m\u001b[1;33m)\u001b[0m \u001b[1;33m>\u001b[0m \u001b[0mself\u001b[0m\u001b[1;33m.\u001b[0m\u001b[0mbranching_factor\u001b[0m\u001b[1;33m:\u001b[0m\u001b[1;33m\u001b[0m\u001b[0m\n",
      "\u001b[1;32m~\\Anaconda3\\lib\\site-packages\\sklearn\\cluster\\birch.py\u001b[0m in \u001b[0;36mupdate_split_subclusters\u001b[1;34m(self, subcluster, new_subcluster1, new_subcluster2)\u001b[0m\n\u001b[0;32m    169\u001b[0m         \u001b[0mind\u001b[0m \u001b[1;33m=\u001b[0m \u001b[0mself\u001b[0m\u001b[1;33m.\u001b[0m\u001b[0msubclusters_\u001b[0m\u001b[1;33m.\u001b[0m\u001b[0mindex\u001b[0m\u001b[1;33m(\u001b[0m\u001b[0msubcluster\u001b[0m\u001b[1;33m)\u001b[0m\u001b[1;33m\u001b[0m\u001b[0m\n\u001b[0;32m    170\u001b[0m         \u001b[0mself\u001b[0m\u001b[1;33m.\u001b[0m\u001b[0msubclusters_\u001b[0m\u001b[1;33m[\u001b[0m\u001b[0mind\u001b[0m\u001b[1;33m]\u001b[0m \u001b[1;33m=\u001b[0m \u001b[0mnew_subcluster1\u001b[0m\u001b[1;33m\u001b[0m\u001b[0m\n\u001b[1;32m--> 171\u001b[1;33m         \u001b[0mself\u001b[0m\u001b[1;33m.\u001b[0m\u001b[0minit_centroids_\u001b[0m\u001b[1;33m[\u001b[0m\u001b[0mind\u001b[0m\u001b[1;33m]\u001b[0m \u001b[1;33m=\u001b[0m \u001b[0mnew_subcluster1\u001b[0m\u001b[1;33m.\u001b[0m\u001b[0mcentroid_\u001b[0m\u001b[1;33m\u001b[0m\u001b[0m\n\u001b[0m\u001b[0;32m    172\u001b[0m         \u001b[0mself\u001b[0m\u001b[1;33m.\u001b[0m\u001b[0minit_sq_norm_\u001b[0m\u001b[1;33m[\u001b[0m\u001b[0mind\u001b[0m\u001b[1;33m]\u001b[0m \u001b[1;33m=\u001b[0m \u001b[0mnew_subcluster1\u001b[0m\u001b[1;33m.\u001b[0m\u001b[0msq_norm_\u001b[0m\u001b[1;33m\u001b[0m\u001b[0m\n\u001b[0;32m    173\u001b[0m         \u001b[0mself\u001b[0m\u001b[1;33m.\u001b[0m\u001b[0mappend_subcluster\u001b[0m\u001b[1;33m(\u001b[0m\u001b[0mnew_subcluster2\u001b[0m\u001b[1;33m)\u001b[0m\u001b[1;33m\u001b[0m\u001b[0m\n",
      "\u001b[1;31mAttributeError\u001b[0m: '_CFSubcluster' object has no attribute 'centroid_'"
     ]
    }
   ],
   "source": [
    "birch = Birch(n_clusters=2, threshold=2, branching_factor=10).fit_predict(df[df_features.loc[('randomForest', 'no')]])\n",
    "\n",
    "save_results(df_tags, birch, ('birch', 'randomForest'))\n",
    "df_results.loc[('birch', 'randomForest')]"
   ]
  },
  {
   "cell_type": "markdown",
   "metadata": {},
   "source": [
    "# MinCovDet"
   ]
  },
  {
   "cell_type": "code",
   "execution_count": 13,
   "metadata": {},
   "outputs": [
    {
     "data": {
      "text/plain": [
       "accuracy        0.7265\n",
       "precision       0.0008\n",
       "recall          0.0023\n",
       "f1_score        0.0012\n",
       "mathews_corr   -0.1396\n",
       "AUC             0.3933\n",
       "Name: (mincovdet, kbest_chi2), dtype: object"
      ]
     },
     "execution_count": 13,
     "metadata": {},
     "output_type": "execute_result"
    }
   ],
   "source": [
    "minCovDet = EllipticEnvelope(assume_centered=False, contamination=0.2, support_fraction=1,\n",
    "                             random_state=4).fit_predict(df[df_features.loc[('kbest_chi2', 'no')]])\n",
    "\n",
    "minCovDet[minCovDet == 1] = 0\n",
    "minCovDet[minCovDet == -1] = 1\n",
    "save_results(df_tags, minCovDet, ('mincovdet', 'kbest_chi2'))\n",
    "df_results.loc[('mincovdet', 'kbest_chi2')]"
   ]
  },
  {
   "cell_type": "code",
   "execution_count": 14,
   "metadata": {},
   "outputs": [
    {
     "data": {
      "text/plain": [
       "accuracy        0.7265\n",
       "precision       0.0008\n",
       "recall          0.0023\n",
       "f1_score        0.0012\n",
       "mathews_corr   -0.1396\n",
       "AUC             0.3933\n",
       "Name: (mincovdet, kbest_fclass), dtype: object"
      ]
     },
     "execution_count": 14,
     "metadata": {},
     "output_type": "execute_result"
    }
   ],
   "source": [
    "minCovDet = EllipticEnvelope(assume_centered=False, contamination=0.2, support_fraction=1,\n",
    "                             random_state=4).fit_predict(df[df_features.loc[('kbest_fclass', 'no')]])\n",
    "\n",
    "minCovDet[minCovDet == 1] = 0\n",
    "minCovDet[minCovDet == -1] = 1\n",
    "save_results(df_tags, minCovDet, ('mincovdet', 'kbest_fclass'))\n",
    "df_results.loc[('mincovdet', 'kbest_fclass')]"
   ]
  },
  {
   "cell_type": "code",
   "execution_count": 15,
   "metadata": {},
   "outputs": [
    {
     "data": {
      "text/plain": [
       "accuracy        0.7384\n",
       "precision       0.0369\n",
       "recall          0.1011\n",
       "f1_score         0.054\n",
       "mathews_corr   -0.0713\n",
       "AUC             0.4452\n",
       "Name: (mincovdet, extraTrees), dtype: object"
      ]
     },
     "execution_count": 15,
     "metadata": {},
     "output_type": "execute_result"
    }
   ],
   "source": [
    "minCovDet = EllipticEnvelope(assume_centered=False, contamination=0.2, support_fraction=1,\n",
    "                             random_state=4).fit_predict(df[df_features.loc[('extraTrees', 'no')]])\n",
    "\n",
    "minCovDet[minCovDet == 1] = 0\n",
    "minCovDet[minCovDet == -1] = 1\n",
    "save_results(df_tags, minCovDet, ('mincovdet', 'extraTrees'))\n",
    "df_results.loc[('mincovdet', 'extraTrees')]"
   ]
  },
  {
   "cell_type": "code",
   "execution_count": 4,
   "metadata": {},
   "outputs": [
    {
     "data": {
      "text/plain": [
       "accuracy        0.7265\n",
       "precision       0.0008\n",
       "recall          0.0023\n",
       "f1_score        0.0012\n",
       "mathews_corr   -0.1396\n",
       "AUC             0.3933\n",
       "Name: (mincovdet, randomForest), dtype: float64"
      ]
     },
     "execution_count": 4,
     "metadata": {},
     "output_type": "execute_result"
    }
   ],
   "source": [
    "minCovDet = EllipticEnvelope(assume_centered=False, contamination=0.2, support_fraction=1,\n",
    "                             random_state=4).fit_predict(df[df_features.loc[('randomForest', 'no')]])\n",
    "\n",
    "minCovDet[minCovDet == 1] = 0\n",
    "minCovDet[minCovDet == -1] = 1\n",
    "save_results(df_tags, minCovDet, ('mincovdet', 'randomForest'))\n",
    "df_results.loc[('mincovdet', 'randomForest')]"
   ]
  },
  {
   "cell_type": "markdown",
   "metadata": {},
   "source": [
    "# Isolation Forest"
   ]
  },
  {
   "cell_type": "code",
   "execution_count": 18,
   "metadata": {},
   "outputs": [
    {
     "data": {
      "text/plain": [
       "accuracy        0.7311\n",
       "precision       0.0122\n",
       "recall           0.033\n",
       "f1_score        0.0178\n",
       "mathews_corr   -0.1178\n",
       "AUC             0.4099\n",
       "Name: (isolation, kbest_chi2), dtype: object"
      ]
     },
     "execution_count": 18,
     "metadata": {},
     "output_type": "execute_result"
    }
   ],
   "source": [
    "isolation = IsolationForest(n_estimators=100, contamination=0.2, random_state=0, \n",
    "                            behaviour='new').fit_predict(df[df_features.loc[('kbest_chi2', 'no')]])\n",
    "\n",
    "isolation[isolation == 1] = 0\n",
    "isolation[isolation == -1] = 1\n",
    "save_results(df_tags, isolation, ('isolation', 'kbest_chi2'))\n",
    "df_results.loc[('isolation', 'kbest_chi2')]"
   ]
  },
  {
   "cell_type": "code",
   "execution_count": 19,
   "metadata": {},
   "outputs": [
    {
     "data": {
      "text/plain": [
       "accuracy        0.7309\n",
       "precision       0.0118\n",
       "recall          0.0318\n",
       "f1_score        0.0172\n",
       "mathews_corr   -0.1187\n",
       "AUC             0.4093\n",
       "Name: (isolation, kbest_fclass), dtype: object"
      ]
     },
     "execution_count": 19,
     "metadata": {},
     "output_type": "execute_result"
    }
   ],
   "source": [
    "isolation = IsolationForest(n_estimators=100, contamination=0.2, random_state=0, \n",
    "                            behaviour='new').fit_predict(df[df_features.loc[('kbest_fclass', 'no')]])\n",
    "\n",
    "isolation[isolation == 1] = 0\n",
    "isolation[isolation == -1] = 1\n",
    "save_results(df_tags, isolation, ('isolation', 'kbest_fclass'))\n",
    "df_results.loc[('isolation', 'kbest_fclass')]"
   ]
  },
  {
   "cell_type": "code",
   "execution_count": 20,
   "metadata": {},
   "outputs": [
    {
     "data": {
      "text/plain": [
       "accuracy        0.7333\n",
       "precision        0.012\n",
       "recall          0.0322\n",
       "f1_score        0.0175\n",
       "mathews_corr   -0.1173\n",
       "AUC             0.4107\n",
       "Name: (isolation, extraTrees), dtype: object"
      ]
     },
     "execution_count": 20,
     "metadata": {},
     "output_type": "execute_result"
    }
   ],
   "source": [
    "isolation = IsolationForest(n_estimators=100, contamination=0.2, random_state=0, \n",
    "                            behaviour='new').fit_predict(df[df_features.loc[('extraTrees', 'no')]])\n",
    "\n",
    "isolation[isolation == 1] = 0\n",
    "isolation[isolation == -1] = 1\n",
    "save_results(df_tags, isolation, ('isolation', 'extraTrees'))\n",
    "df_results.loc[('isolation', 'extraTrees')]"
   ]
  },
  {
   "cell_type": "code",
   "execution_count": 21,
   "metadata": {},
   "outputs": [
    {
     "data": {
      "text/plain": [
       "accuracy        0.7311\n",
       "precision       0.0115\n",
       "recall          0.0309\n",
       "f1_score        0.0167\n",
       "mathews_corr   -0.1192\n",
       "AUC              0.409\n",
       "Name: (isolation, randomForest), dtype: object"
      ]
     },
     "execution_count": 21,
     "metadata": {},
     "output_type": "execute_result"
    }
   ],
   "source": [
    "isolation = IsolationForest(n_estimators=100, contamination=0.2, random_state=0, \n",
    "                            behaviour='new').fit_predict(df[df_features.loc[('randomForest', 'no')]])\n",
    "\n",
    "isolation[isolation == 1] = 0\n",
    "isolation[isolation == -1] = 1\n",
    "save_results(df_tags, isolation, ('isolation', 'randomForest'))\n",
    "df_results.loc[('isolation', 'randomForest')]"
   ]
  },
  {
   "cell_type": "markdown",
   "metadata": {},
   "source": [
    "# Resumen resultados sin preprocesamiento de los datos"
   ]
  },
  {
   "cell_type": "code",
   "execution_count": 5,
   "metadata": {},
   "outputs": [
    {
     "data": {
      "text/html": [
       "<div>\n",
       "<style scoped>\n",
       "    .dataframe tbody tr th:only-of-type {\n",
       "        vertical-align: middle;\n",
       "    }\n",
       "\n",
       "    .dataframe tbody tr th {\n",
       "        vertical-align: top;\n",
       "    }\n",
       "\n",
       "    .dataframe thead th {\n",
       "        text-align: right;\n",
       "    }\n",
       "</style>\n",
       "<table border=\"1\" class=\"dataframe\">\n",
       "  <thead>\n",
       "    <tr style=\"text-align: right;\">\n",
       "      <th></th>\n",
       "      <th></th>\n",
       "      <th>accuracy</th>\n",
       "      <th>precision</th>\n",
       "      <th>recall</th>\n",
       "      <th>f1_score</th>\n",
       "      <th>mathews_corr</th>\n",
       "      <th>AUC</th>\n",
       "    </tr>\n",
       "    <tr>\n",
       "      <th>method</th>\n",
       "      <th>featureSelection</th>\n",
       "      <th></th>\n",
       "      <th></th>\n",
       "      <th></th>\n",
       "      <th></th>\n",
       "      <th></th>\n",
       "      <th></th>\n",
       "    </tr>\n",
       "  </thead>\n",
       "  <tbody>\n",
       "    <tr>\n",
       "      <th rowspan=\"4\" valign=\"top\">kmeans</th>\n",
       "      <th>kbest_chi2</th>\n",
       "      <td>0.5168</td>\n",
       "      <td>0.1315</td>\n",
       "      <td>0.9880</td>\n",
       "      <td>0.2321</td>\n",
       "      <td>0.2460</td>\n",
       "      <td>0.7336</td>\n",
       "    </tr>\n",
       "    <tr>\n",
       "      <th>kbest_fclass</th>\n",
       "      <td>0.5139</td>\n",
       "      <td>0.1308</td>\n",
       "      <td>0.9880</td>\n",
       "      <td>0.2310</td>\n",
       "      <td>0.2445</td>\n",
       "      <td>0.7321</td>\n",
       "    </tr>\n",
       "    <tr>\n",
       "      <th>extraTrees</th>\n",
       "      <td>0.5631</td>\n",
       "      <td>0.1433</td>\n",
       "      <td>0.9872</td>\n",
       "      <td>0.2503</td>\n",
       "      <td>0.2703</td>\n",
       "      <td>0.7583</td>\n",
       "    </tr>\n",
       "    <tr>\n",
       "      <th>randomForest</th>\n",
       "      <td>0.5168</td>\n",
       "      <td>0.1315</td>\n",
       "      <td>0.9880</td>\n",
       "      <td>0.2321</td>\n",
       "      <td>0.2460</td>\n",
       "      <td>0.7336</td>\n",
       "    </tr>\n",
       "    <tr>\n",
       "      <th rowspan=\"4\" valign=\"top\">minibatch</th>\n",
       "      <th>kbest_chi2</th>\n",
       "      <td>0.5168</td>\n",
       "      <td>0.1315</td>\n",
       "      <td>0.9880</td>\n",
       "      <td>0.2321</td>\n",
       "      <td>0.2460</td>\n",
       "      <td>0.7336</td>\n",
       "    </tr>\n",
       "    <tr>\n",
       "      <th>kbest_fclass</th>\n",
       "      <td>0.5139</td>\n",
       "      <td>0.1308</td>\n",
       "      <td>0.9880</td>\n",
       "      <td>0.2310</td>\n",
       "      <td>0.2445</td>\n",
       "      <td>0.7321</td>\n",
       "    </tr>\n",
       "    <tr>\n",
       "      <th>extraTrees</th>\n",
       "      <td>0.5610</td>\n",
       "      <td>0.1428</td>\n",
       "      <td>0.9872</td>\n",
       "      <td>0.2494</td>\n",
       "      <td>0.2691</td>\n",
       "      <td>0.7571</td>\n",
       "    </tr>\n",
       "    <tr>\n",
       "      <th>randomForest</th>\n",
       "      <td>0.5168</td>\n",
       "      <td>0.1315</td>\n",
       "      <td>0.9880</td>\n",
       "      <td>0.2321</td>\n",
       "      <td>0.2460</td>\n",
       "      <td>0.7336</td>\n",
       "    </tr>\n",
       "    <tr>\n",
       "      <th rowspan=\"4\" valign=\"top\">birch</th>\n",
       "      <th>kbest_chi2</th>\n",
       "      <td>NaN</td>\n",
       "      <td>NaN</td>\n",
       "      <td>NaN</td>\n",
       "      <td>NaN</td>\n",
       "      <td>NaN</td>\n",
       "      <td>NaN</td>\n",
       "    </tr>\n",
       "    <tr>\n",
       "      <th>kbest_fclass</th>\n",
       "      <td>NaN</td>\n",
       "      <td>NaN</td>\n",
       "      <td>NaN</td>\n",
       "      <td>NaN</td>\n",
       "      <td>NaN</td>\n",
       "      <td>NaN</td>\n",
       "    </tr>\n",
       "    <tr>\n",
       "      <th>extraTrees</th>\n",
       "      <td>0.5615</td>\n",
       "      <td>0.1429</td>\n",
       "      <td>0.9872</td>\n",
       "      <td>0.2496</td>\n",
       "      <td>0.2694</td>\n",
       "      <td>0.7574</td>\n",
       "    </tr>\n",
       "    <tr>\n",
       "      <th>randomForest</th>\n",
       "      <td>NaN</td>\n",
       "      <td>NaN</td>\n",
       "      <td>NaN</td>\n",
       "      <td>NaN</td>\n",
       "      <td>NaN</td>\n",
       "      <td>NaN</td>\n",
       "    </tr>\n",
       "    <tr>\n",
       "      <th rowspan=\"4\" valign=\"top\">mincovdet</th>\n",
       "      <th>kbest_chi2</th>\n",
       "      <td>0.7265</td>\n",
       "      <td>0.0008</td>\n",
       "      <td>0.0023</td>\n",
       "      <td>0.0012</td>\n",
       "      <td>-0.1396</td>\n",
       "      <td>0.3933</td>\n",
       "    </tr>\n",
       "    <tr>\n",
       "      <th>kbest_fclass</th>\n",
       "      <td>0.7265</td>\n",
       "      <td>0.0008</td>\n",
       "      <td>0.0023</td>\n",
       "      <td>0.0012</td>\n",
       "      <td>-0.1396</td>\n",
       "      <td>0.3933</td>\n",
       "    </tr>\n",
       "    <tr>\n",
       "      <th>extraTrees</th>\n",
       "      <td>0.7384</td>\n",
       "      <td>0.0369</td>\n",
       "      <td>0.1011</td>\n",
       "      <td>0.0540</td>\n",
       "      <td>-0.0713</td>\n",
       "      <td>0.4452</td>\n",
       "    </tr>\n",
       "    <tr>\n",
       "      <th>randomForest</th>\n",
       "      <td>0.7265</td>\n",
       "      <td>0.0008</td>\n",
       "      <td>0.0023</td>\n",
       "      <td>0.0012</td>\n",
       "      <td>-0.1396</td>\n",
       "      <td>0.3933</td>\n",
       "    </tr>\n",
       "    <tr>\n",
       "      <th rowspan=\"4\" valign=\"top\">isolation</th>\n",
       "      <th>kbest_chi2</th>\n",
       "      <td>0.7311</td>\n",
       "      <td>0.0122</td>\n",
       "      <td>0.0330</td>\n",
       "      <td>0.0178</td>\n",
       "      <td>-0.1178</td>\n",
       "      <td>0.4099</td>\n",
       "    </tr>\n",
       "    <tr>\n",
       "      <th>kbest_fclass</th>\n",
       "      <td>0.7309</td>\n",
       "      <td>0.0118</td>\n",
       "      <td>0.0318</td>\n",
       "      <td>0.0172</td>\n",
       "      <td>-0.1187</td>\n",
       "      <td>0.4093</td>\n",
       "    </tr>\n",
       "    <tr>\n",
       "      <th>extraTrees</th>\n",
       "      <td>0.7333</td>\n",
       "      <td>0.0120</td>\n",
       "      <td>0.0322</td>\n",
       "      <td>0.0175</td>\n",
       "      <td>-0.1173</td>\n",
       "      <td>0.4107</td>\n",
       "    </tr>\n",
       "    <tr>\n",
       "      <th>randomForest</th>\n",
       "      <td>0.7311</td>\n",
       "      <td>0.0115</td>\n",
       "      <td>0.0309</td>\n",
       "      <td>0.0167</td>\n",
       "      <td>-0.1192</td>\n",
       "      <td>0.4090</td>\n",
       "    </tr>\n",
       "  </tbody>\n",
       "</table>\n",
       "</div>"
      ],
      "text/plain": [
       "                            accuracy  precision  recall  f1_score  \\\n",
       "method    featureSelection                                          \n",
       "kmeans    kbest_chi2          0.5168     0.1315  0.9880    0.2321   \n",
       "          kbest_fclass        0.5139     0.1308  0.9880    0.2310   \n",
       "          extraTrees          0.5631     0.1433  0.9872    0.2503   \n",
       "          randomForest        0.5168     0.1315  0.9880    0.2321   \n",
       "minibatch kbest_chi2          0.5168     0.1315  0.9880    0.2321   \n",
       "          kbest_fclass        0.5139     0.1308  0.9880    0.2310   \n",
       "          extraTrees          0.5610     0.1428  0.9872    0.2494   \n",
       "          randomForest        0.5168     0.1315  0.9880    0.2321   \n",
       "birch     kbest_chi2             NaN        NaN     NaN       NaN   \n",
       "          kbest_fclass           NaN        NaN     NaN       NaN   \n",
       "          extraTrees          0.5615     0.1429  0.9872    0.2496   \n",
       "          randomForest           NaN        NaN     NaN       NaN   \n",
       "mincovdet kbest_chi2          0.7265     0.0008  0.0023    0.0012   \n",
       "          kbest_fclass        0.7265     0.0008  0.0023    0.0012   \n",
       "          extraTrees          0.7384     0.0369  0.1011    0.0540   \n",
       "          randomForest        0.7265     0.0008  0.0023    0.0012   \n",
       "isolation kbest_chi2          0.7311     0.0122  0.0330    0.0178   \n",
       "          kbest_fclass        0.7309     0.0118  0.0318    0.0172   \n",
       "          extraTrees          0.7333     0.0120  0.0322    0.0175   \n",
       "          randomForest        0.7311     0.0115  0.0309    0.0167   \n",
       "\n",
       "                            mathews_corr     AUC  \n",
       "method    featureSelection                        \n",
       "kmeans    kbest_chi2              0.2460  0.7336  \n",
       "          kbest_fclass            0.2445  0.7321  \n",
       "          extraTrees              0.2703  0.7583  \n",
       "          randomForest            0.2460  0.7336  \n",
       "minibatch kbest_chi2              0.2460  0.7336  \n",
       "          kbest_fclass            0.2445  0.7321  \n",
       "          extraTrees              0.2691  0.7571  \n",
       "          randomForest            0.2460  0.7336  \n",
       "birch     kbest_chi2                 NaN     NaN  \n",
       "          kbest_fclass               NaN     NaN  \n",
       "          extraTrees              0.2694  0.7574  \n",
       "          randomForest               NaN     NaN  \n",
       "mincovdet kbest_chi2             -0.1396  0.3933  \n",
       "          kbest_fclass           -0.1396  0.3933  \n",
       "          extraTrees             -0.0713  0.4452  \n",
       "          randomForest           -0.1396  0.3933  \n",
       "isolation kbest_chi2             -0.1178  0.4099  \n",
       "          kbest_fclass           -0.1187  0.4093  \n",
       "          extraTrees             -0.1173  0.4107  \n",
       "          randomForest           -0.1192  0.4090  "
      ]
     },
     "execution_count": 5,
     "metadata": {},
     "output_type": "execute_result"
    }
   ],
   "source": [
    "df_results.to_csv('ISCX_results/ISCX_results.csv')\n",
    "df_results"
   ]
  },
  {
   "cell_type": "code",
   "execution_count": null,
   "metadata": {},
   "outputs": [],
   "source": []
  }
 ],
 "metadata": {
  "kernelspec": {
   "display_name": "Python 3",
   "language": "python",
   "name": "python3"
  },
  "language_info": {
   "codemirror_mode": {
    "name": "ipython",
    "version": 3
   },
   "file_extension": ".py",
   "mimetype": "text/x-python",
   "name": "python",
   "nbconvert_exporter": "python",
   "pygments_lexer": "ipython3",
   "version": "3.7.0"
  }
 },
 "nbformat": 4,
 "nbformat_minor": 2
}
