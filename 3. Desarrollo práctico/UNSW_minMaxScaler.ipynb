{
 "cells": [
  {
   "cell_type": "code",
   "execution_count": 2,
   "metadata": {},
   "outputs": [
    {
     "data": {
      "text/html": [
       "<div>\n",
       "<style scoped>\n",
       "    .dataframe tbody tr th:only-of-type {\n",
       "        vertical-align: middle;\n",
       "    }\n",
       "\n",
       "    .dataframe tbody tr th {\n",
       "        vertical-align: top;\n",
       "    }\n",
       "\n",
       "    .dataframe thead th {\n",
       "        text-align: right;\n",
       "    }\n",
       "</style>\n",
       "<table border=\"1\" class=\"dataframe\">\n",
       "  <thead>\n",
       "    <tr style=\"text-align: right;\">\n",
       "      <th></th>\n",
       "      <th></th>\n",
       "      <th>0</th>\n",
       "      <th>1</th>\n",
       "      <th>2</th>\n",
       "      <th>3</th>\n",
       "      <th>4</th>\n",
       "      <th>5</th>\n",
       "      <th>6</th>\n",
       "      <th>7</th>\n",
       "      <th>8</th>\n",
       "      <th>9</th>\n",
       "    </tr>\n",
       "    <tr>\n",
       "      <th>featureSelection</th>\n",
       "      <th>preprocesamiento</th>\n",
       "      <th></th>\n",
       "      <th></th>\n",
       "      <th></th>\n",
       "      <th></th>\n",
       "      <th></th>\n",
       "      <th></th>\n",
       "      <th></th>\n",
       "      <th></th>\n",
       "      <th></th>\n",
       "      <th></th>\n",
       "    </tr>\n",
       "  </thead>\n",
       "  <tbody>\n",
       "    <tr>\n",
       "      <th>kbest_chi2</th>\n",
       "      <th>minMax</th>\n",
       "      <td>s22</td>\n",
       "      <td>s5</td>\n",
       "      <td>s30</td>\n",
       "      <td>s6</td>\n",
       "      <td>s7</td>\n",
       "      <td>d22</td>\n",
       "      <td>s20</td>\n",
       "      <td>s21</td>\n",
       "      <td>s15</td>\n",
       "      <td>s31</td>\n",
       "    </tr>\n",
       "    <tr>\n",
       "      <th>kbest_fclass</th>\n",
       "      <th>minMax</th>\n",
       "      <td>s22</td>\n",
       "      <td>d22</td>\n",
       "      <td>s5</td>\n",
       "      <td>s6</td>\n",
       "      <td>s7</td>\n",
       "      <td>s20</td>\n",
       "      <td>s30</td>\n",
       "      <td>s21</td>\n",
       "      <td>s15</td>\n",
       "      <td>s17</td>\n",
       "    </tr>\n",
       "    <tr>\n",
       "      <th>extraTrees</th>\n",
       "      <th>minMax</th>\n",
       "      <td>s28</td>\n",
       "      <td>s15</td>\n",
       "      <td>s17</td>\n",
       "      <td>s23</td>\n",
       "      <td>s26</td>\n",
       "      <td>norm_src</td>\n",
       "      <td>d11</td>\n",
       "      <td>s9</td>\n",
       "      <td>d28</td>\n",
       "      <td>s31</td>\n",
       "    </tr>\n",
       "    <tr>\n",
       "      <th>randomForest</th>\n",
       "      <th>minMax</th>\n",
       "      <td>norm_src</td>\n",
       "      <td>s23</td>\n",
       "      <td>s15</td>\n",
       "      <td>s31</td>\n",
       "      <td>s17</td>\n",
       "      <td>s28</td>\n",
       "      <td>eucl_dec</td>\n",
       "      <td>arit</td>\n",
       "      <td>s13</td>\n",
       "      <td>d11</td>\n",
       "    </tr>\n",
       "  </tbody>\n",
       "</table>\n",
       "</div>"
      ],
      "text/plain": [
       "                                          0    1    2    3    4         5  \\\n",
       "featureSelection preprocesamiento                                           \n",
       "kbest_chi2       minMax                 s22   s5  s30   s6   s7       d22   \n",
       "kbest_fclass     minMax                 s22  d22   s5   s6   s7       s20   \n",
       "extraTrees       minMax                 s28  s15  s17  s23  s26  norm_src   \n",
       "randomForest     minMax            norm_src  s23  s15  s31  s17       s28   \n",
       "\n",
       "                                          6     7    8    9  \n",
       "featureSelection preprocesamiento                            \n",
       "kbest_chi2       minMax                 s20   s21  s15  s31  \n",
       "kbest_fclass     minMax                 s30   s21  s15  s17  \n",
       "extraTrees       minMax                 d11    s9  d28  s31  \n",
       "randomForest     minMax            eucl_dec  arit  s13  d11  "
      ]
     },
     "execution_count": 2,
     "metadata": {},
     "output_type": "execute_result"
    }
   ],
   "source": [
    "import pandas as pd\n",
    "import numpy as np\n",
    "import json\n",
    "from sklearn.cluster import KMeans, MiniBatchKMeans, Birch, DBSCAN\n",
    "from sklearn.covariance import EllipticEnvelope\n",
    "from sklearn.ensemble import IsolationForest\n",
    "from sklearn.svm import OneClassSVM\n",
    "from sklearn.metrics import accuracy_score, precision_score, recall_score, f1_score, matthews_corrcoef, roc_auc_score\n",
    "\n",
    "df = pd.read_csv('UNSW_datasets_preprocesados/minMax.csv')\n",
    "df_tags = pd.read_csv('UNSW_datasets_preprocesados/UNSW_tags.csv', index_col=0, header=None, names=['Tag'])\n",
    "\n",
    "df_features = pd.read_csv('UNSW_datasets_preprocesados/UNSW_features.csv', index_col=['featureSelection', 'preprocesamiento'])\n",
    "df_features.loc[pd.IndexSlice[:, 'minMax'],:]"
   ]
  },
  {
   "cell_type": "code",
   "execution_count": 3,
   "metadata": {},
   "outputs": [],
   "source": [
    "def save_results(real, prediccion, indexs):\n",
    "    df_results.loc[indexs] =  [round(accuracy_score(real, prediccion), 4),\n",
    "                              round(precision_score(real, prediccion), 4),\n",
    "                              round(recall_score(real, prediccion), 4),\n",
    "                              round(f1_score(real, prediccion), 4),\n",
    "                              round(matthews_corrcoef(real, prediccion), 4),\n",
    "                              round(roc_auc_score(real, prediccion), 4)]"
   ]
  },
  {
   "cell_type": "markdown",
   "metadata": {},
   "source": [
    "Se cargan los resultados ya logrados con anterioridad para no tener que ejecutar de nuevo todos los procesos, sólo los deseados."
   ]
  },
  {
   "cell_type": "code",
   "execution_count": 4,
   "metadata": {},
   "outputs": [
    {
     "data": {
      "text/html": [
       "<div>\n",
       "<style scoped>\n",
       "    .dataframe tbody tr th:only-of-type {\n",
       "        vertical-align: middle;\n",
       "    }\n",
       "\n",
       "    .dataframe tbody tr th {\n",
       "        vertical-align: top;\n",
       "    }\n",
       "\n",
       "    .dataframe thead th {\n",
       "        text-align: right;\n",
       "    }\n",
       "</style>\n",
       "<table border=\"1\" class=\"dataframe\">\n",
       "  <thead>\n",
       "    <tr style=\"text-align: right;\">\n",
       "      <th></th>\n",
       "      <th></th>\n",
       "      <th>accuracy</th>\n",
       "      <th>precision</th>\n",
       "      <th>recall</th>\n",
       "      <th>f1_score</th>\n",
       "      <th>mathews_corr</th>\n",
       "      <th>AUC</th>\n",
       "    </tr>\n",
       "    <tr>\n",
       "      <th>method</th>\n",
       "      <th>featureSelection</th>\n",
       "      <th></th>\n",
       "      <th></th>\n",
       "      <th></th>\n",
       "      <th></th>\n",
       "      <th></th>\n",
       "      <th></th>\n",
       "    </tr>\n",
       "  </thead>\n",
       "  <tbody>\n",
       "    <tr>\n",
       "      <th rowspan=\"4\" valign=\"top\">kmeans</th>\n",
       "      <th>kbest_chi2</th>\n",
       "      <td>NaN</td>\n",
       "      <td>NaN</td>\n",
       "      <td>NaN</td>\n",
       "      <td>NaN</td>\n",
       "      <td>NaN</td>\n",
       "      <td>NaN</td>\n",
       "    </tr>\n",
       "    <tr>\n",
       "      <th>kbest_fclass</th>\n",
       "      <td>NaN</td>\n",
       "      <td>NaN</td>\n",
       "      <td>NaN</td>\n",
       "      <td>NaN</td>\n",
       "      <td>NaN</td>\n",
       "      <td>NaN</td>\n",
       "    </tr>\n",
       "    <tr>\n",
       "      <th>extraTrees</th>\n",
       "      <td>NaN</td>\n",
       "      <td>NaN</td>\n",
       "      <td>NaN</td>\n",
       "      <td>NaN</td>\n",
       "      <td>NaN</td>\n",
       "      <td>NaN</td>\n",
       "    </tr>\n",
       "    <tr>\n",
       "      <th>randomForest</th>\n",
       "      <td>NaN</td>\n",
       "      <td>NaN</td>\n",
       "      <td>NaN</td>\n",
       "      <td>NaN</td>\n",
       "      <td>NaN</td>\n",
       "      <td>NaN</td>\n",
       "    </tr>\n",
       "    <tr>\n",
       "      <th rowspan=\"4\" valign=\"top\">minibatch</th>\n",
       "      <th>kbest_chi2</th>\n",
       "      <td>NaN</td>\n",
       "      <td>NaN</td>\n",
       "      <td>NaN</td>\n",
       "      <td>NaN</td>\n",
       "      <td>NaN</td>\n",
       "      <td>NaN</td>\n",
       "    </tr>\n",
       "    <tr>\n",
       "      <th>kbest_fclass</th>\n",
       "      <td>NaN</td>\n",
       "      <td>NaN</td>\n",
       "      <td>NaN</td>\n",
       "      <td>NaN</td>\n",
       "      <td>NaN</td>\n",
       "      <td>NaN</td>\n",
       "    </tr>\n",
       "    <tr>\n",
       "      <th>extraTrees</th>\n",
       "      <td>NaN</td>\n",
       "      <td>NaN</td>\n",
       "      <td>NaN</td>\n",
       "      <td>NaN</td>\n",
       "      <td>NaN</td>\n",
       "      <td>NaN</td>\n",
       "    </tr>\n",
       "    <tr>\n",
       "      <th>randomForest</th>\n",
       "      <td>NaN</td>\n",
       "      <td>NaN</td>\n",
       "      <td>NaN</td>\n",
       "      <td>NaN</td>\n",
       "      <td>NaN</td>\n",
       "      <td>NaN</td>\n",
       "    </tr>\n",
       "    <tr>\n",
       "      <th rowspan=\"4\" valign=\"top\">birch</th>\n",
       "      <th>kbest_chi2</th>\n",
       "      <td>NaN</td>\n",
       "      <td>NaN</td>\n",
       "      <td>NaN</td>\n",
       "      <td>NaN</td>\n",
       "      <td>NaN</td>\n",
       "      <td>NaN</td>\n",
       "    </tr>\n",
       "    <tr>\n",
       "      <th>kbest_fclass</th>\n",
       "      <td>NaN</td>\n",
       "      <td>NaN</td>\n",
       "      <td>NaN</td>\n",
       "      <td>NaN</td>\n",
       "      <td>NaN</td>\n",
       "      <td>NaN</td>\n",
       "    </tr>\n",
       "    <tr>\n",
       "      <th>extraTrees</th>\n",
       "      <td>NaN</td>\n",
       "      <td>NaN</td>\n",
       "      <td>NaN</td>\n",
       "      <td>NaN</td>\n",
       "      <td>NaN</td>\n",
       "      <td>NaN</td>\n",
       "    </tr>\n",
       "    <tr>\n",
       "      <th>randomForest</th>\n",
       "      <td>NaN</td>\n",
       "      <td>NaN</td>\n",
       "      <td>NaN</td>\n",
       "      <td>NaN</td>\n",
       "      <td>NaN</td>\n",
       "      <td>NaN</td>\n",
       "    </tr>\n",
       "    <tr>\n",
       "      <th rowspan=\"4\" valign=\"top\">mincovdet</th>\n",
       "      <th>kbest_chi2</th>\n",
       "      <td>NaN</td>\n",
       "      <td>NaN</td>\n",
       "      <td>NaN</td>\n",
       "      <td>NaN</td>\n",
       "      <td>NaN</td>\n",
       "      <td>NaN</td>\n",
       "    </tr>\n",
       "    <tr>\n",
       "      <th>kbest_fclass</th>\n",
       "      <td>NaN</td>\n",
       "      <td>NaN</td>\n",
       "      <td>NaN</td>\n",
       "      <td>NaN</td>\n",
       "      <td>NaN</td>\n",
       "      <td>NaN</td>\n",
       "    </tr>\n",
       "    <tr>\n",
       "      <th>extraTrees</th>\n",
       "      <td>NaN</td>\n",
       "      <td>NaN</td>\n",
       "      <td>NaN</td>\n",
       "      <td>NaN</td>\n",
       "      <td>NaN</td>\n",
       "      <td>NaN</td>\n",
       "    </tr>\n",
       "    <tr>\n",
       "      <th>randomForest</th>\n",
       "      <td>NaN</td>\n",
       "      <td>NaN</td>\n",
       "      <td>NaN</td>\n",
       "      <td>NaN</td>\n",
       "      <td>NaN</td>\n",
       "      <td>NaN</td>\n",
       "    </tr>\n",
       "    <tr>\n",
       "      <th rowspan=\"4\" valign=\"top\">isolation</th>\n",
       "      <th>kbest_chi2</th>\n",
       "      <td>NaN</td>\n",
       "      <td>NaN</td>\n",
       "      <td>NaN</td>\n",
       "      <td>NaN</td>\n",
       "      <td>NaN</td>\n",
       "      <td>NaN</td>\n",
       "    </tr>\n",
       "    <tr>\n",
       "      <th>kbest_fclass</th>\n",
       "      <td>NaN</td>\n",
       "      <td>NaN</td>\n",
       "      <td>NaN</td>\n",
       "      <td>NaN</td>\n",
       "      <td>NaN</td>\n",
       "      <td>NaN</td>\n",
       "    </tr>\n",
       "    <tr>\n",
       "      <th>extraTrees</th>\n",
       "      <td>NaN</td>\n",
       "      <td>NaN</td>\n",
       "      <td>NaN</td>\n",
       "      <td>NaN</td>\n",
       "      <td>NaN</td>\n",
       "      <td>NaN</td>\n",
       "    </tr>\n",
       "    <tr>\n",
       "      <th>randomForest</th>\n",
       "      <td>NaN</td>\n",
       "      <td>NaN</td>\n",
       "      <td>NaN</td>\n",
       "      <td>NaN</td>\n",
       "      <td>NaN</td>\n",
       "      <td>NaN</td>\n",
       "    </tr>\n",
       "  </tbody>\n",
       "</table>\n",
       "</div>"
      ],
      "text/plain": [
       "                           accuracy precision recall f1_score mathews_corr  \\\n",
       "method    featureSelection                                                   \n",
       "kmeans    kbest_chi2            NaN       NaN    NaN      NaN          NaN   \n",
       "          kbest_fclass          NaN       NaN    NaN      NaN          NaN   \n",
       "          extraTrees            NaN       NaN    NaN      NaN          NaN   \n",
       "          randomForest          NaN       NaN    NaN      NaN          NaN   \n",
       "minibatch kbest_chi2            NaN       NaN    NaN      NaN          NaN   \n",
       "          kbest_fclass          NaN       NaN    NaN      NaN          NaN   \n",
       "          extraTrees            NaN       NaN    NaN      NaN          NaN   \n",
       "          randomForest          NaN       NaN    NaN      NaN          NaN   \n",
       "birch     kbest_chi2            NaN       NaN    NaN      NaN          NaN   \n",
       "          kbest_fclass          NaN       NaN    NaN      NaN          NaN   \n",
       "          extraTrees            NaN       NaN    NaN      NaN          NaN   \n",
       "          randomForest          NaN       NaN    NaN      NaN          NaN   \n",
       "mincovdet kbest_chi2            NaN       NaN    NaN      NaN          NaN   \n",
       "          kbest_fclass          NaN       NaN    NaN      NaN          NaN   \n",
       "          extraTrees            NaN       NaN    NaN      NaN          NaN   \n",
       "          randomForest          NaN       NaN    NaN      NaN          NaN   \n",
       "isolation kbest_chi2            NaN       NaN    NaN      NaN          NaN   \n",
       "          kbest_fclass          NaN       NaN    NaN      NaN          NaN   \n",
       "          extraTrees            NaN       NaN    NaN      NaN          NaN   \n",
       "          randomForest          NaN       NaN    NaN      NaN          NaN   \n",
       "\n",
       "                            AUC  \n",
       "method    featureSelection       \n",
       "kmeans    kbest_chi2        NaN  \n",
       "          kbest_fclass      NaN  \n",
       "          extraTrees        NaN  \n",
       "          randomForest      NaN  \n",
       "minibatch kbest_chi2        NaN  \n",
       "          kbest_fclass      NaN  \n",
       "          extraTrees        NaN  \n",
       "          randomForest      NaN  \n",
       "birch     kbest_chi2        NaN  \n",
       "          kbest_fclass      NaN  \n",
       "          extraTrees        NaN  \n",
       "          randomForest      NaN  \n",
       "mincovdet kbest_chi2        NaN  \n",
       "          kbest_fclass      NaN  \n",
       "          extraTrees        NaN  \n",
       "          randomForest      NaN  \n",
       "isolation kbest_chi2        NaN  \n",
       "          kbest_fclass      NaN  \n",
       "          extraTrees        NaN  \n",
       "          randomForest      NaN  "
      ]
     },
     "execution_count": 4,
     "metadata": {},
     "output_type": "execute_result"
    }
   ],
   "source": [
    "from os import path\n",
    "\n",
    "if path.exists('UNSW_results/UNSW_minMaxScaler_results.csv'):\n",
    "    df_results = pd.read_csv('UNSW_results/UNSW_minMaxScaler_results.csv', index_col=['method', 'featureSelection'])\n",
    "else:\n",
    "    multiIndex = [['kmeans', 'minibatch', 'birch', 'mincovdet', 'isolation'],['kbest_chi2', 'kbest_fclass', 'extraTrees', 'randomForest']]\n",
    "\n",
    "    multiIndex = pd.MultiIndex.from_product(multiIndex, names=['method', 'featureSelection'])\n",
    "    df_results = pd.DataFrame(None, index=multiIndex, columns=['accuracy', 'precision', 'recall', 'f1_score', 'mathews_corr', 'AUC'])\n",
    "df_results"
   ]
  },
  {
   "cell_type": "markdown",
   "metadata": {},
   "source": [
    "# KMeans"
   ]
  },
  {
   "cell_type": "code",
   "execution_count": 5,
   "metadata": {},
   "outputs": [
    {
     "data": {
      "text/plain": [
       "accuracy        0.8146\n",
       "precision       0.5214\n",
       "recall               1\n",
       "f1_score        0.6854\n",
       "mathews_corr    0.6327\n",
       "AUC             0.8838\n",
       "Name: (kmeans, kbest_chi2), dtype: object"
      ]
     },
     "execution_count": 5,
     "metadata": {},
     "output_type": "execute_result"
    }
   ],
   "source": [
    "kmeans = KMeans(n_clusters=2, n_init=10, random_state=0, algorithm='full').fit(df[df_features.loc[('kbest_chi2', 'minMax')]])\n",
    "\n",
    "save_results(df_tags, kmeans.labels_, ('kmeans', 'kbest_chi2'))\n",
    "df_results.loc[('kmeans', 'kbest_chi2')]"
   ]
  },
  {
   "cell_type": "code",
   "execution_count": 6,
   "metadata": {},
   "outputs": [
    {
     "data": {
      "text/plain": [
       "accuracy        0.9711\n",
       "precision       0.8749\n",
       "recall               1\n",
       "f1_score        0.9333\n",
       "mathews_corr    0.9183\n",
       "AUC             0.9819\n",
       "Name: (kmeans, kbest_fclass), dtype: object"
      ]
     },
     "execution_count": 6,
     "metadata": {},
     "output_type": "execute_result"
    }
   ],
   "source": [
    "kmeans = KMeans(n_clusters=2, n_init=10, random_state=0, algorithm='full').fit(df[df_features.loc[('kbest_fclass', 'minMax')]])\n",
    "\n",
    "save_results(df_tags, kmeans.labels_, ('kmeans', 'kbest_fclass'))\n",
    "df_results.loc[('kmeans', 'kbest_fclass')]"
   ]
  },
  {
   "cell_type": "code",
   "execution_count": 7,
   "metadata": {},
   "outputs": [
    {
     "data": {
      "text/plain": [
       "accuracy        0.9731\n",
       "precision       0.8824\n",
       "recall               1\n",
       "f1_score        0.9375\n",
       "mathews_corr    0.9234\n",
       "AUC             0.9831\n",
       "Name: (kmeans, extraTrees), dtype: object"
      ]
     },
     "execution_count": 7,
     "metadata": {},
     "output_type": "execute_result"
    }
   ],
   "source": [
    "kmeans = KMeans(n_clusters=2, n_init=10, random_state=0, algorithm='full').fit(df[df_features.loc[('extraTrees', 'minMax')]])\n",
    "\n",
    "save_results(df_tags, kmeans.labels_, ('kmeans', 'extraTrees'))\n",
    "df_results.loc[('kmeans', 'extraTrees')]"
   ]
  },
  {
   "cell_type": "code",
   "execution_count": 8,
   "metadata": {},
   "outputs": [
    {
     "data": {
      "text/plain": [
       "accuracy        0.9731\n",
       "precision       0.8824\n",
       "recall               1\n",
       "f1_score        0.9375\n",
       "mathews_corr    0.9234\n",
       "AUC             0.9831\n",
       "Name: (kmeans, randomForest), dtype: object"
      ]
     },
     "execution_count": 8,
     "metadata": {},
     "output_type": "execute_result"
    }
   ],
   "source": [
    "kmeans = KMeans(n_clusters=2, n_init=10, random_state=0, algorithm='full').fit(df[df_features.loc[('randomForest', 'minMax')]])\n",
    "\n",
    "save_results(df_tags, kmeans.labels_, ('kmeans', 'randomForest'))\n",
    "df_results.loc[('kmeans', 'randomForest')]"
   ]
  },
  {
   "cell_type": "markdown",
   "metadata": {},
   "source": [
    "# MiniBatch KMeans"
   ]
  },
  {
   "cell_type": "code",
   "execution_count": 9,
   "metadata": {},
   "outputs": [
    {
     "data": {
      "text/plain": [
       "accuracy        0.8146\n",
       "precision       0.5214\n",
       "recall               1\n",
       "f1_score        0.6854\n",
       "mathews_corr    0.6327\n",
       "AUC             0.8838\n",
       "Name: (minibatch, kbest_chi2), dtype: object"
      ]
     },
     "execution_count": 9,
     "metadata": {},
     "output_type": "execute_result"
    }
   ],
   "source": [
    "minibatch = MiniBatchKMeans(n_clusters=2,n_init=10, random_state=0).fit(df[df_features.loc[('kbest_chi2', 'minMax')]])\n",
    "\n",
    "save_results(df_tags, (minibatch.labels_ + 1) % 2, ('minibatch', 'kbest_chi2'))    # Se invierte los clusters tags 0 y 1\n",
    "df_results.loc[('minibatch', 'kbest_chi2')]"
   ]
  },
  {
   "cell_type": "code",
   "execution_count": 10,
   "metadata": {},
   "outputs": [
    {
     "data": {
      "text/plain": [
       "accuracy        0.9711\n",
       "precision       0.8749\n",
       "recall               1\n",
       "f1_score        0.9333\n",
       "mathews_corr    0.9183\n",
       "AUC             0.9819\n",
       "Name: (minibatch, kbest_fclass), dtype: object"
      ]
     },
     "execution_count": 10,
     "metadata": {},
     "output_type": "execute_result"
    }
   ],
   "source": [
    "minibatch = MiniBatchKMeans(n_clusters=2,n_init=10, random_state=0).fit(df[df_features.loc[('kbest_fclass', 'minMax')]])\n",
    "\n",
    "save_results(df_tags, (minibatch.labels_ +1 ) % 2, ('minibatch', 'kbest_fclass'))    # Se invierte los clusters tags 0 y 1\n",
    "df_results.loc[('minibatch', 'kbest_fclass')]"
   ]
  },
  {
   "cell_type": "code",
   "execution_count": 11,
   "metadata": {},
   "outputs": [
    {
     "data": {
      "text/plain": [
       "accuracy        0.9731\n",
       "precision       0.8824\n",
       "recall               1\n",
       "f1_score        0.9375\n",
       "mathews_corr    0.9234\n",
       "AUC             0.9831\n",
       "Name: (minibatch, extraTrees), dtype: object"
      ]
     },
     "execution_count": 11,
     "metadata": {},
     "output_type": "execute_result"
    }
   ],
   "source": [
    "minibatch = MiniBatchKMeans(n_clusters=2,n_init=10, random_state=0).fit(df[df_features.loc[('extraTrees', 'minMax')]])\n",
    "\n",
    "save_results(df_tags, minibatch.labels_, ('minibatch', 'extraTrees'))    # Se invierte los clusters tags 0 y 1\n",
    "df_results.loc[('minibatch', 'extraTrees')]"
   ]
  },
  {
   "cell_type": "code",
   "execution_count": 12,
   "metadata": {},
   "outputs": [
    {
     "data": {
      "text/plain": [
       "accuracy        0.9731\n",
       "precision       0.8824\n",
       "recall               1\n",
       "f1_score        0.9375\n",
       "mathews_corr    0.9234\n",
       "AUC             0.9831\n",
       "Name: (minibatch, randomForest), dtype: object"
      ]
     },
     "execution_count": 12,
     "metadata": {},
     "output_type": "execute_result"
    }
   ],
   "source": [
    "minibatch = MiniBatchKMeans(n_clusters=2,n_init=10, random_state=0).fit(df[df_features.loc[('randomForest', 'minMax')]])\n",
    "\n",
    "save_results(df_tags, minibatch.labels_, ('minibatch', 'randomForest'))    # Se invierte los clusters tags 0 y 1\n",
    "df_results.loc[('minibatch', 'randomForest')]"
   ]
  },
  {
   "cell_type": "markdown",
   "metadata": {},
   "source": [
    "# BIRCH"
   ]
  },
  {
   "cell_type": "code",
   "execution_count": 23,
   "metadata": {},
   "outputs": [
    {
     "data": {
      "text/plain": [
       "accuracy        0.9731\n",
       "precision       0.8824\n",
       "recall               1\n",
       "f1_score        0.9375\n",
       "mathews_corr    0.9234\n",
       "AUC             0.9831\n",
       "Name: (birch, kbest_chi2), dtype: object"
      ]
     },
     "execution_count": 23,
     "metadata": {},
     "output_type": "execute_result"
    }
   ],
   "source": [
    "birch = Birch(n_clusters=2, threshold=0.1, branching_factor=10).fit_predict(df[df_features.loc[('kbest_chi2', 'minMax')]])\n",
    "\n",
    "save_results(df_tags, (birch + 1) % 2, ('birch', 'kbest_chi2'))\n",
    "df_results.loc[('birch', 'kbest_chi2')]"
   ]
  },
  {
   "cell_type": "code",
   "execution_count": 24,
   "metadata": {},
   "outputs": [
    {
     "data": {
      "text/plain": [
       "accuracy        0.9731\n",
       "precision       0.8824\n",
       "recall               1\n",
       "f1_score        0.9375\n",
       "mathews_corr    0.9234\n",
       "AUC             0.9831\n",
       "Name: (birch, kbest_fclass), dtype: object"
      ]
     },
     "execution_count": 24,
     "metadata": {},
     "output_type": "execute_result"
    }
   ],
   "source": [
    "birch = Birch(n_clusters=2, threshold=0.1, branching_factor=10).fit_predict(df[df_features.loc[('kbest_fclass', 'minMax')]])\n",
    "\n",
    "save_results(df_tags, (birch + 1) % 2, ('birch', 'kbest_fclass'))\n",
    "df_results.loc[('birch', 'kbest_fclass')]"
   ]
  },
  {
   "cell_type": "code",
   "execution_count": 26,
   "metadata": {},
   "outputs": [
    {
     "data": {
      "text/plain": [
       "accuracy        0.7919\n",
       "precision            0\n",
       "recall               0\n",
       "f1_score             0\n",
       "mathews_corr   -0.0393\n",
       "AUC             0.4962\n",
       "Name: (birch, extraTrees), dtype: object"
      ]
     },
     "execution_count": 26,
     "metadata": {},
     "output_type": "execute_result"
    }
   ],
   "source": [
    "birch = Birch(n_clusters=2, threshold=0.1, branching_factor=10).fit_predict(df[df_features.loc[('extraTrees', 'minMax')]])\n",
    "\n",
    "save_results(df_tags, birch, ('birch', 'extraTrees'))\n",
    "df_results.loc[('birch', 'extraTrees')]"
   ]
  },
  {
   "cell_type": "code",
   "execution_count": 27,
   "metadata": {},
   "outputs": [
    {
     "data": {
      "text/plain": [
       "accuracy         0.796\n",
       "precision            0\n",
       "recall               0\n",
       "f1_score             0\n",
       "mathews_corr   -0.0223\n",
       "AUC             0.4988\n",
       "Name: (birch, randomForest), dtype: object"
      ]
     },
     "execution_count": 27,
     "metadata": {},
     "output_type": "execute_result"
    }
   ],
   "source": [
    "birch = Birch(n_clusters=2, threshold=0.1, branching_factor=10).fit_predict(df[df_features.loc[('randomForest', 'minMax')]])\n",
    "\n",
    "save_results(df_tags, birch, ('birch', 'randomForest'))\n",
    "df_results.loc[('birch', 'randomForest')]"
   ]
  },
  {
   "cell_type": "markdown",
   "metadata": {},
   "source": [
    "# MinCovDet"
   ]
  },
  {
   "cell_type": "code",
   "execution_count": 13,
   "metadata": {},
   "outputs": [
    {
     "name": "stderr",
     "output_type": "stream",
     "text": [
      "C:\\Users\\Sergio\\Anaconda3\\lib\\site-packages\\sklearn\\covariance\\robust_covariance.py:646: UserWarning: The covariance matrix associated to your dataset is not full rank\n",
      "  warnings.warn(\"The covariance matrix associated to your dataset \"\n",
      "C:\\Users\\Sergio\\Anaconda3\\lib\\site-packages\\sklearn\\metrics\\classification.py:1143: UndefinedMetricWarning: Precision is ill-defined and being set to 0.0 due to no predicted samples.\n",
      "  'precision', 'predicted', average, warn_for)\n",
      "C:\\Users\\Sergio\\Anaconda3\\lib\\site-packages\\sklearn\\metrics\\classification.py:1143: UndefinedMetricWarning: F-score is ill-defined and being set to 0.0 due to no predicted samples.\n",
      "  'precision', 'predicted', average, warn_for)\n",
      "C:\\Users\\Sergio\\Anaconda3\\lib\\site-packages\\sklearn\\metrics\\classification.py:543: RuntimeWarning: invalid value encountered in double_scalars\n",
      "  mcc = cov_ytyp / np.sqrt(cov_ytyt * cov_ypyp)\n"
     ]
    },
    {
     "data": {
      "text/plain": [
       "accuracy        0.798\n",
       "precision           0\n",
       "recall              0\n",
       "f1_score            0\n",
       "mathews_corr        0\n",
       "AUC               0.5\n",
       "Name: (mincovdet, kbest_chi2), dtype: object"
      ]
     },
     "execution_count": 13,
     "metadata": {},
     "output_type": "execute_result"
    }
   ],
   "source": [
    "minCovDet = EllipticEnvelope(assume_centered=False, contamination=0.4, support_fraction=1,\n",
    "                             random_state=0).fit_predict(df[df_features.loc[('kbest_chi2', 'minMax')]])\n",
    "\n",
    "minCovDet[minCovDet == 1] = 0\n",
    "minCovDet[minCovDet == -1] = 1\n",
    "save_results(df_tags, minCovDet, ('mincovdet', 'kbest_chi2'))\n",
    "df_results.loc[('mincovdet', 'kbest_chi2')]"
   ]
  },
  {
   "cell_type": "code",
   "execution_count": 14,
   "metadata": {},
   "outputs": [
    {
     "name": "stderr",
     "output_type": "stream",
     "text": [
      "C:\\Users\\Sergio\\Anaconda3\\lib\\site-packages\\sklearn\\covariance\\robust_covariance.py:646: UserWarning: The covariance matrix associated to your dataset is not full rank\n",
      "  warnings.warn(\"The covariance matrix associated to your dataset \"\n",
      "C:\\Users\\Sergio\\Anaconda3\\lib\\site-packages\\sklearn\\metrics\\classification.py:1143: UndefinedMetricWarning: Precision is ill-defined and being set to 0.0 due to no predicted samples.\n",
      "  'precision', 'predicted', average, warn_for)\n",
      "C:\\Users\\Sergio\\Anaconda3\\lib\\site-packages\\sklearn\\metrics\\classification.py:1143: UndefinedMetricWarning: F-score is ill-defined and being set to 0.0 due to no predicted samples.\n",
      "  'precision', 'predicted', average, warn_for)\n",
      "C:\\Users\\Sergio\\Anaconda3\\lib\\site-packages\\sklearn\\metrics\\classification.py:543: RuntimeWarning: invalid value encountered in double_scalars\n",
      "  mcc = cov_ytyp / np.sqrt(cov_ytyt * cov_ypyp)\n"
     ]
    },
    {
     "data": {
      "text/plain": [
       "accuracy        0.798\n",
       "precision           0\n",
       "recall              0\n",
       "f1_score            0\n",
       "mathews_corr        0\n",
       "AUC               0.5\n",
       "Name: (mincovdet, kbest_fclass), dtype: object"
      ]
     },
     "execution_count": 14,
     "metadata": {},
     "output_type": "execute_result"
    }
   ],
   "source": [
    "minCovDet = EllipticEnvelope(assume_centered=False, contamination=0.4, support_fraction=1,\n",
    "                             random_state=0).fit_predict(df[df_features.loc[('kbest_fclass', 'minMax')]])\n",
    "\n",
    "minCovDet[minCovDet == 1] = 0\n",
    "minCovDet[minCovDet == -1] = 1\n",
    "save_results(df_tags, minCovDet, ('mincovdet', 'kbest_fclass'))\n",
    "df_results.loc[('mincovdet', 'kbest_fclass')]"
   ]
  },
  {
   "cell_type": "code",
   "execution_count": 15,
   "metadata": {},
   "outputs": [
    {
     "name": "stderr",
     "output_type": "stream",
     "text": [
      "C:\\Users\\Sergio\\Anaconda3\\lib\\site-packages\\sklearn\\covariance\\robust_covariance.py:646: UserWarning: The covariance matrix associated to your dataset is not full rank\n",
      "  warnings.warn(\"The covariance matrix associated to your dataset \"\n"
     ]
    },
    {
     "data": {
      "text/plain": [
       "accuracy        0.8085\n",
       "precision       0.5134\n",
       "recall               1\n",
       "f1_score        0.6785\n",
       "mathews_corr    0.6247\n",
       "AUC               0.88\n",
       "Name: (mincovdet, extraTrees), dtype: object"
      ]
     },
     "execution_count": 15,
     "metadata": {},
     "output_type": "execute_result"
    }
   ],
   "source": [
    "minCovDet = EllipticEnvelope(assume_centered=False, contamination=0.4, support_fraction=1,\n",
    "                             random_state=0).fit_predict(df[df_features.loc[('extraTrees', 'minMax')]])\n",
    "\n",
    "minCovDet[minCovDet == 1] = 0\n",
    "minCovDet[minCovDet == -1] = 1\n",
    "save_results(df_tags, minCovDet, ('mincovdet', 'extraTrees'))\n",
    "df_results.loc[('mincovdet', 'extraTrees')]"
   ]
  },
  {
   "cell_type": "code",
   "execution_count": 16,
   "metadata": {},
   "outputs": [
    {
     "name": "stderr",
     "output_type": "stream",
     "text": [
      "C:\\Users\\Sergio\\Anaconda3\\lib\\site-packages\\sklearn\\covariance\\robust_covariance.py:646: UserWarning: The covariance matrix associated to your dataset is not full rank\n",
      "  warnings.warn(\"The covariance matrix associated to your dataset \"\n"
     ]
    },
    {
     "data": {
      "text/plain": [
       "accuracy        0.7964\n",
       "precision        0.498\n",
       "recall               1\n",
       "f1_score        0.6649\n",
       "mathews_corr    0.6091\n",
       "AUC             0.8724\n",
       "Name: (mincovdet, randomForest), dtype: object"
      ]
     },
     "execution_count": 16,
     "metadata": {},
     "output_type": "execute_result"
    }
   ],
   "source": [
    "minCovDet = EllipticEnvelope(assume_centered=False, contamination=0.4, support_fraction=1,\n",
    "                             random_state=0).fit_predict(df[df_features.loc[('randomForest', 'minMax')]])\n",
    "\n",
    "minCovDet[minCovDet == 1] = 0\n",
    "minCovDet[minCovDet == -1] = 1\n",
    "save_results(df_tags, minCovDet, ('mincovdet', 'randomForest'))\n",
    "df_results.loc[('mincovdet', 'randomForest')]"
   ]
  },
  {
   "cell_type": "markdown",
   "metadata": {},
   "source": [
    "# Isolation Forest"
   ]
  },
  {
   "cell_type": "code",
   "execution_count": 18,
   "metadata": {},
   "outputs": [
    {
     "data": {
      "text/plain": [
       "accuracy        0.8105\n",
       "precision        0.516\n",
       "recall               1\n",
       "f1_score        0.6807\n",
       "mathews_corr    0.6272\n",
       "AUC             0.8813\n",
       "Name: (isolation, kbest_chi2), dtype: object"
      ]
     },
     "execution_count": 18,
     "metadata": {},
     "output_type": "execute_result"
    }
   ],
   "source": [
    "isolation = IsolationForest(n_estimators=100, contamination=0.4, random_state=4, \n",
    "                            behaviour='new').fit_predict(df[df_features.loc[('kbest_chi2', 'minMax')]])\n",
    "\n",
    "isolation[isolation == 1] = 0\n",
    "isolation[isolation == -1] = 1\n",
    "save_results(df_tags, isolation, ('isolation', 'kbest_chi2'))\n",
    "df_results.loc[('isolation', 'kbest_chi2')]"
   ]
  },
  {
   "cell_type": "code",
   "execution_count": 19,
   "metadata": {},
   "outputs": [
    {
     "data": {
      "text/plain": [
       "accuracy        0.9711\n",
       "precision       0.8749\n",
       "recall               1\n",
       "f1_score        0.9333\n",
       "mathews_corr    0.9183\n",
       "AUC             0.9819\n",
       "Name: (isolation, kbest_fclass), dtype: object"
      ]
     },
     "execution_count": 19,
     "metadata": {},
     "output_type": "execute_result"
    }
   ],
   "source": [
    "isolation = IsolationForest(n_estimators=100, contamination=0.4, random_state=4, \n",
    "                            behaviour='new').fit_predict(df[df_features.loc[('kbest_fclass', 'minMax')]])\n",
    "\n",
    "isolation[isolation == 1] = 0\n",
    "isolation[isolation == -1] = 1\n",
    "save_results(df_tags, isolation, ('isolation', 'kbest_fclass'))\n",
    "df_results.loc[('isolation', 'kbest_fclass')]"
   ]
  },
  {
   "cell_type": "code",
   "execution_count": 20,
   "metadata": {},
   "outputs": [
    {
     "data": {
      "text/plain": [
       "accuracy        0.8085\n",
       "precision       0.5134\n",
       "recall               1\n",
       "f1_score        0.6785\n",
       "mathews_corr    0.6247\n",
       "AUC               0.88\n",
       "Name: (isolation, extraTrees), dtype: object"
      ]
     },
     "execution_count": 20,
     "metadata": {},
     "output_type": "execute_result"
    }
   ],
   "source": [
    "isolation = IsolationForest(n_estimators=100, contamination=0.4, random_state=4, \n",
    "                            behaviour='new').fit_predict(df[df_features.loc[('extraTrees', 'minMax')]])\n",
    "\n",
    "isolation[isolation == 1] = 0\n",
    "isolation[isolation == -1] = 1\n",
    "save_results(df_tags, isolation, ('isolation', 'extraTrees'))\n",
    "df_results.loc[('isolation', 'extraTrees')]"
   ]
  },
  {
   "cell_type": "code",
   "execution_count": 21,
   "metadata": {},
   "outputs": [
    {
     "data": {
      "text/plain": [
       "accuracy        0.5466\n",
       "precision       0.1542\n",
       "recall          0.2774\n",
       "f1_score        0.1982\n",
       "mathews_corr     -0.09\n",
       "AUC             0.4461\n",
       "Name: (isolation, randomForest), dtype: object"
      ]
     },
     "execution_count": 21,
     "metadata": {},
     "output_type": "execute_result"
    }
   ],
   "source": [
    "isolation = IsolationForest(n_estimators=100, contamination=0.4, random_state=4, \n",
    "                            behaviour='new').fit_predict(df[df_features.loc[('randomForest', 'minMax')]])\n",
    "\n",
    "isolation[isolation == 1] = 0\n",
    "isolation[isolation == -1] = 1\n",
    "save_results(df_tags, isolation, ('isolation', 'randomForest'))\n",
    "df_results.loc[('isolation', 'randomForest')]"
   ]
  },
  {
   "cell_type": "markdown",
   "metadata": {},
   "source": [
    "# Resumen resultados aplicando la transformación MinMaxScaler a los datos"
   ]
  },
  {
   "cell_type": "code",
   "execution_count": 28,
   "metadata": {},
   "outputs": [
    {
     "data": {
      "text/html": [
       "<div>\n",
       "<style scoped>\n",
       "    .dataframe tbody tr th:only-of-type {\n",
       "        vertical-align: middle;\n",
       "    }\n",
       "\n",
       "    .dataframe tbody tr th {\n",
       "        vertical-align: top;\n",
       "    }\n",
       "\n",
       "    .dataframe thead th {\n",
       "        text-align: right;\n",
       "    }\n",
       "</style>\n",
       "<table border=\"1\" class=\"dataframe\">\n",
       "  <thead>\n",
       "    <tr style=\"text-align: right;\">\n",
       "      <th></th>\n",
       "      <th></th>\n",
       "      <th>accuracy</th>\n",
       "      <th>precision</th>\n",
       "      <th>recall</th>\n",
       "      <th>f1_score</th>\n",
       "      <th>mathews_corr</th>\n",
       "      <th>AUC</th>\n",
       "    </tr>\n",
       "    <tr>\n",
       "      <th>method</th>\n",
       "      <th>featureSelection</th>\n",
       "      <th></th>\n",
       "      <th></th>\n",
       "      <th></th>\n",
       "      <th></th>\n",
       "      <th></th>\n",
       "      <th></th>\n",
       "    </tr>\n",
       "  </thead>\n",
       "  <tbody>\n",
       "    <tr>\n",
       "      <th rowspan=\"4\" valign=\"top\">kmeans</th>\n",
       "      <th>kbest_chi2</th>\n",
       "      <td>0.8146</td>\n",
       "      <td>0.5214</td>\n",
       "      <td>1</td>\n",
       "      <td>0.6854</td>\n",
       "      <td>0.6327</td>\n",
       "      <td>0.8838</td>\n",
       "    </tr>\n",
       "    <tr>\n",
       "      <th>kbest_fclass</th>\n",
       "      <td>0.9711</td>\n",
       "      <td>0.8749</td>\n",
       "      <td>1</td>\n",
       "      <td>0.9333</td>\n",
       "      <td>0.9183</td>\n",
       "      <td>0.9819</td>\n",
       "    </tr>\n",
       "    <tr>\n",
       "      <th>extraTrees</th>\n",
       "      <td>0.9731</td>\n",
       "      <td>0.8824</td>\n",
       "      <td>1</td>\n",
       "      <td>0.9375</td>\n",
       "      <td>0.9234</td>\n",
       "      <td>0.9831</td>\n",
       "    </tr>\n",
       "    <tr>\n",
       "      <th>randomForest</th>\n",
       "      <td>0.9731</td>\n",
       "      <td>0.8824</td>\n",
       "      <td>1</td>\n",
       "      <td>0.9375</td>\n",
       "      <td>0.9234</td>\n",
       "      <td>0.9831</td>\n",
       "    </tr>\n",
       "    <tr>\n",
       "      <th rowspan=\"4\" valign=\"top\">minibatch</th>\n",
       "      <th>kbest_chi2</th>\n",
       "      <td>0.8146</td>\n",
       "      <td>0.5214</td>\n",
       "      <td>1</td>\n",
       "      <td>0.6854</td>\n",
       "      <td>0.6327</td>\n",
       "      <td>0.8838</td>\n",
       "    </tr>\n",
       "    <tr>\n",
       "      <th>kbest_fclass</th>\n",
       "      <td>0.9711</td>\n",
       "      <td>0.8749</td>\n",
       "      <td>1</td>\n",
       "      <td>0.9333</td>\n",
       "      <td>0.9183</td>\n",
       "      <td>0.9819</td>\n",
       "    </tr>\n",
       "    <tr>\n",
       "      <th>extraTrees</th>\n",
       "      <td>0.9731</td>\n",
       "      <td>0.8824</td>\n",
       "      <td>1</td>\n",
       "      <td>0.9375</td>\n",
       "      <td>0.9234</td>\n",
       "      <td>0.9831</td>\n",
       "    </tr>\n",
       "    <tr>\n",
       "      <th>randomForest</th>\n",
       "      <td>0.9731</td>\n",
       "      <td>0.8824</td>\n",
       "      <td>1</td>\n",
       "      <td>0.9375</td>\n",
       "      <td>0.9234</td>\n",
       "      <td>0.9831</td>\n",
       "    </tr>\n",
       "    <tr>\n",
       "      <th rowspan=\"4\" valign=\"top\">birch</th>\n",
       "      <th>kbest_chi2</th>\n",
       "      <td>0.9731</td>\n",
       "      <td>0.8824</td>\n",
       "      <td>1</td>\n",
       "      <td>0.9375</td>\n",
       "      <td>0.9234</td>\n",
       "      <td>0.9831</td>\n",
       "    </tr>\n",
       "    <tr>\n",
       "      <th>kbest_fclass</th>\n",
       "      <td>0.9731</td>\n",
       "      <td>0.8824</td>\n",
       "      <td>1</td>\n",
       "      <td>0.9375</td>\n",
       "      <td>0.9234</td>\n",
       "      <td>0.9831</td>\n",
       "    </tr>\n",
       "    <tr>\n",
       "      <th>extraTrees</th>\n",
       "      <td>0.7919</td>\n",
       "      <td>0</td>\n",
       "      <td>0</td>\n",
       "      <td>0</td>\n",
       "      <td>-0.0393</td>\n",
       "      <td>0.4962</td>\n",
       "    </tr>\n",
       "    <tr>\n",
       "      <th>randomForest</th>\n",
       "      <td>0.796</td>\n",
       "      <td>0</td>\n",
       "      <td>0</td>\n",
       "      <td>0</td>\n",
       "      <td>-0.0223</td>\n",
       "      <td>0.4988</td>\n",
       "    </tr>\n",
       "    <tr>\n",
       "      <th rowspan=\"4\" valign=\"top\">mincovdet</th>\n",
       "      <th>kbest_chi2</th>\n",
       "      <td>0.798</td>\n",
       "      <td>0</td>\n",
       "      <td>0</td>\n",
       "      <td>0</td>\n",
       "      <td>0</td>\n",
       "      <td>0.5</td>\n",
       "    </tr>\n",
       "    <tr>\n",
       "      <th>kbest_fclass</th>\n",
       "      <td>0.798</td>\n",
       "      <td>0</td>\n",
       "      <td>0</td>\n",
       "      <td>0</td>\n",
       "      <td>0</td>\n",
       "      <td>0.5</td>\n",
       "    </tr>\n",
       "    <tr>\n",
       "      <th>extraTrees</th>\n",
       "      <td>0.8085</td>\n",
       "      <td>0.5134</td>\n",
       "      <td>1</td>\n",
       "      <td>0.6785</td>\n",
       "      <td>0.6247</td>\n",
       "      <td>0.88</td>\n",
       "    </tr>\n",
       "    <tr>\n",
       "      <th>randomForest</th>\n",
       "      <td>0.7964</td>\n",
       "      <td>0.498</td>\n",
       "      <td>1</td>\n",
       "      <td>0.6649</td>\n",
       "      <td>0.6091</td>\n",
       "      <td>0.8724</td>\n",
       "    </tr>\n",
       "    <tr>\n",
       "      <th rowspan=\"4\" valign=\"top\">isolation</th>\n",
       "      <th>kbest_chi2</th>\n",
       "      <td>0.8105</td>\n",
       "      <td>0.516</td>\n",
       "      <td>1</td>\n",
       "      <td>0.6807</td>\n",
       "      <td>0.6272</td>\n",
       "      <td>0.8813</td>\n",
       "    </tr>\n",
       "    <tr>\n",
       "      <th>kbest_fclass</th>\n",
       "      <td>0.9711</td>\n",
       "      <td>0.8749</td>\n",
       "      <td>1</td>\n",
       "      <td>0.9333</td>\n",
       "      <td>0.9183</td>\n",
       "      <td>0.9819</td>\n",
       "    </tr>\n",
       "    <tr>\n",
       "      <th>extraTrees</th>\n",
       "      <td>0.8085</td>\n",
       "      <td>0.5134</td>\n",
       "      <td>1</td>\n",
       "      <td>0.6785</td>\n",
       "      <td>0.6247</td>\n",
       "      <td>0.88</td>\n",
       "    </tr>\n",
       "    <tr>\n",
       "      <th>randomForest</th>\n",
       "      <td>0.5466</td>\n",
       "      <td>0.1542</td>\n",
       "      <td>0.2774</td>\n",
       "      <td>0.1982</td>\n",
       "      <td>-0.09</td>\n",
       "      <td>0.4461</td>\n",
       "    </tr>\n",
       "  </tbody>\n",
       "</table>\n",
       "</div>"
      ],
      "text/plain": [
       "                           accuracy precision  recall f1_score mathews_corr  \\\n",
       "method    featureSelection                                                    \n",
       "kmeans    kbest_chi2         0.8146    0.5214       1   0.6854       0.6327   \n",
       "          kbest_fclass       0.9711    0.8749       1   0.9333       0.9183   \n",
       "          extraTrees         0.9731    0.8824       1   0.9375       0.9234   \n",
       "          randomForest       0.9731    0.8824       1   0.9375       0.9234   \n",
       "minibatch kbest_chi2         0.8146    0.5214       1   0.6854       0.6327   \n",
       "          kbest_fclass       0.9711    0.8749       1   0.9333       0.9183   \n",
       "          extraTrees         0.9731    0.8824       1   0.9375       0.9234   \n",
       "          randomForest       0.9731    0.8824       1   0.9375       0.9234   \n",
       "birch     kbest_chi2         0.9731    0.8824       1   0.9375       0.9234   \n",
       "          kbest_fclass       0.9731    0.8824       1   0.9375       0.9234   \n",
       "          extraTrees         0.7919         0       0        0      -0.0393   \n",
       "          randomForest        0.796         0       0        0      -0.0223   \n",
       "mincovdet kbest_chi2          0.798         0       0        0            0   \n",
       "          kbest_fclass        0.798         0       0        0            0   \n",
       "          extraTrees         0.8085    0.5134       1   0.6785       0.6247   \n",
       "          randomForest       0.7964     0.498       1   0.6649       0.6091   \n",
       "isolation kbest_chi2         0.8105     0.516       1   0.6807       0.6272   \n",
       "          kbest_fclass       0.9711    0.8749       1   0.9333       0.9183   \n",
       "          extraTrees         0.8085    0.5134       1   0.6785       0.6247   \n",
       "          randomForest       0.5466    0.1542  0.2774   0.1982        -0.09   \n",
       "\n",
       "                               AUC  \n",
       "method    featureSelection          \n",
       "kmeans    kbest_chi2        0.8838  \n",
       "          kbest_fclass      0.9819  \n",
       "          extraTrees        0.9831  \n",
       "          randomForest      0.9831  \n",
       "minibatch kbest_chi2        0.8838  \n",
       "          kbest_fclass      0.9819  \n",
       "          extraTrees        0.9831  \n",
       "          randomForest      0.9831  \n",
       "birch     kbest_chi2        0.9831  \n",
       "          kbest_fclass      0.9831  \n",
       "          extraTrees        0.4962  \n",
       "          randomForest      0.4988  \n",
       "mincovdet kbest_chi2           0.5  \n",
       "          kbest_fclass         0.5  \n",
       "          extraTrees          0.88  \n",
       "          randomForest      0.8724  \n",
       "isolation kbest_chi2        0.8813  \n",
       "          kbest_fclass      0.9819  \n",
       "          extraTrees          0.88  \n",
       "          randomForest      0.4461  "
      ]
     },
     "execution_count": 28,
     "metadata": {},
     "output_type": "execute_result"
    }
   ],
   "source": [
    "df_results.to_csv('UNSW_results/UNSW_minMaxScaler_results.csv')\n",
    "df_results"
   ]
  },
  {
   "cell_type": "code",
   "execution_count": null,
   "metadata": {},
   "outputs": [],
   "source": []
  }
 ],
 "metadata": {
  "kernelspec": {
   "display_name": "Python 3",
   "language": "python",
   "name": "python3"
  },
  "language_info": {
   "codemirror_mode": {
    "name": "ipython",
    "version": 3
   },
   "file_extension": ".py",
   "mimetype": "text/x-python",
   "name": "python",
   "nbconvert_exporter": "python",
   "pygments_lexer": "ipython3",
   "version": "3.7.0"
  }
 },
 "nbformat": 4,
 "nbformat_minor": 2
}
