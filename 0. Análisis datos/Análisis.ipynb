{
 "cells": [
  {
   "cell_type": "code",
   "execution_count": 1,
   "metadata": {},
   "outputs": [],
   "source": [
    "import pandas as pd\n",
    "import numpy as np\n",
    "import matplotlib.pyplot as plt\n",
    "import json"
   ]
  },
  {
   "cell_type": "markdown",
   "metadata": {},
   "source": [
    "# Lectura de datos"
   ]
  },
  {
   "cell_type": "code",
   "execution_count": 2,
   "metadata": {},
   "outputs": [],
   "source": [
    "with open('ISCX.json', 'r') as file:\n",
    "    ISCX_data = json.load(file)\n",
    "df_ISCX = pd.DataFrame(data=ISCX_data['dataroot']['TestbedSunJun13Flows'])\n",
    "\n",
    "df_UNSW = pd.read_csv('UNSW.csv', names=np.arange(1,50), skiprows=1)"
   ]
  },
  {
   "cell_type": "code",
   "execution_count": 3,
   "metadata": {},
   "outputs": [
    {
     "data": {
      "text/html": [
       "<div>\n",
       "<style scoped>\n",
       "    .dataframe tbody tr th:only-of-type {\n",
       "        vertical-align: middle;\n",
       "    }\n",
       "\n",
       "    .dataframe tbody tr th {\n",
       "        vertical-align: top;\n",
       "    }\n",
       "\n",
       "    .dataframe thead th {\n",
       "        text-align: right;\n",
       "    }\n",
       "</style>\n",
       "<table border=\"1\" class=\"dataframe\">\n",
       "  <thead>\n",
       "    <tr style=\"text-align: right;\">\n",
       "      <th></th>\n",
       "      <th>Tag</th>\n",
       "      <th>appName</th>\n",
       "      <th>destination</th>\n",
       "      <th>destinationPayloadAsBase64</th>\n",
       "      <th>destinationPayloadAsUTF</th>\n",
       "      <th>destinationPort</th>\n",
       "      <th>destinationTCPFlagsDescription</th>\n",
       "      <th>direction</th>\n",
       "      <th>protocolName</th>\n",
       "      <th>source</th>\n",
       "      <th>sourcePayloadAsBase64</th>\n",
       "      <th>sourcePayloadAsUTF</th>\n",
       "      <th>sourcePort</th>\n",
       "      <th>sourceTCPFlagsDescription</th>\n",
       "      <th>startDateTime</th>\n",
       "      <th>stopDateTime</th>\n",
       "      <th>totalDestinationBytes</th>\n",
       "      <th>totalDestinationPackets</th>\n",
       "      <th>totalSourceBytes</th>\n",
       "      <th>totalSourcePackets</th>\n",
       "    </tr>\n",
       "  </thead>\n",
       "  <tbody>\n",
       "    <tr>\n",
       "      <th>0</th>\n",
       "      <td>Normal</td>\n",
       "      <td>Unknown_UDP</td>\n",
       "      <td>224.0.0.251</td>\n",
       "      <td>None</td>\n",
       "      <td>None</td>\n",
       "      <td>5353</td>\n",
       "      <td>N/A</td>\n",
       "      <td>L2R</td>\n",
       "      <td>udp_ip</td>\n",
       "      <td>192.168.5.122</td>\n",
       "      <td>None</td>\n",
       "      <td>None</td>\n",
       "      <td>5353</td>\n",
       "      <td>N/A</td>\n",
       "      <td>2010-06-12T23:57:24</td>\n",
       "      <td>2010-06-13T09:24:52</td>\n",
       "      <td>0</td>\n",
       "      <td>0</td>\n",
       "      <td>2633658</td>\n",
       "      <td>28971</td>\n",
       "    </tr>\n",
       "    <tr>\n",
       "      <th>1</th>\n",
       "      <td>Normal</td>\n",
       "      <td>Unknown_UDP</td>\n",
       "      <td>224.0.0.251</td>\n",
       "      <td>None</td>\n",
       "      <td>None</td>\n",
       "      <td>5353</td>\n",
       "      <td>N/A</td>\n",
       "      <td>L2R</td>\n",
       "      <td>udp_ip</td>\n",
       "      <td>192.168.5.122</td>\n",
       "      <td>None</td>\n",
       "      <td>None</td>\n",
       "      <td>5353</td>\n",
       "      <td>N/A</td>\n",
       "      <td>2010-06-12T23:57:24</td>\n",
       "      <td>2010-06-13T09:24:52</td>\n",
       "      <td>0</td>\n",
       "      <td>0</td>\n",
       "      <td>2633658</td>\n",
       "      <td>28971</td>\n",
       "    </tr>\n",
       "    <tr>\n",
       "      <th>2</th>\n",
       "      <td>Normal</td>\n",
       "      <td>HTTPWeb</td>\n",
       "      <td>192.168.5.122</td>\n",
       "      <td>None</td>\n",
       "      <td>None</td>\n",
       "      <td>80</td>\n",
       "      <td>R</td>\n",
       "      <td>L2L</td>\n",
       "      <td>tcp_ip</td>\n",
       "      <td>192.168.2.113</td>\n",
       "      <td>None</td>\n",
       "      <td>None</td>\n",
       "      <td>4191</td>\n",
       "      <td>F,A</td>\n",
       "      <td>2010-06-12T23:57:38</td>\n",
       "      <td>2010-06-12T23:59:20</td>\n",
       "      <td>128</td>\n",
       "      <td>2</td>\n",
       "      <td>64</td>\n",
       "      <td>1</td>\n",
       "    </tr>\n",
       "    <tr>\n",
       "      <th>3</th>\n",
       "      <td>Normal</td>\n",
       "      <td>HTTPWeb</td>\n",
       "      <td>192.168.5.122</td>\n",
       "      <td>None</td>\n",
       "      <td>None</td>\n",
       "      <td>80</td>\n",
       "      <td>R</td>\n",
       "      <td>L2L</td>\n",
       "      <td>tcp_ip</td>\n",
       "      <td>192.168.2.113</td>\n",
       "      <td>None</td>\n",
       "      <td>None</td>\n",
       "      <td>4191</td>\n",
       "      <td>F,A</td>\n",
       "      <td>2010-06-12T23:57:38</td>\n",
       "      <td>2010-06-12T23:59:20</td>\n",
       "      <td>128</td>\n",
       "      <td>2</td>\n",
       "      <td>64</td>\n",
       "      <td>1</td>\n",
       "    </tr>\n",
       "    <tr>\n",
       "      <th>4</th>\n",
       "      <td>Normal</td>\n",
       "      <td>HTTPWeb</td>\n",
       "      <td>207.241.148.80</td>\n",
       "      <td>None</td>\n",
       "      <td>None</td>\n",
       "      <td>80</td>\n",
       "      <td>F,A</td>\n",
       "      <td>L2R</td>\n",
       "      <td>tcp_ip</td>\n",
       "      <td>192.168.2.113</td>\n",
       "      <td>None</td>\n",
       "      <td>None</td>\n",
       "      <td>4192</td>\n",
       "      <td>F,A</td>\n",
       "      <td>2010-06-12T23:57:40</td>\n",
       "      <td>2010-06-12T23:59:20</td>\n",
       "      <td>64</td>\n",
       "      <td>1</td>\n",
       "      <td>128</td>\n",
       "      <td>2</td>\n",
       "    </tr>\n",
       "  </tbody>\n",
       "</table>\n",
       "</div>"
      ],
      "text/plain": [
       "      Tag      appName     destination destinationPayloadAsBase64  \\\n",
       "0  Normal  Unknown_UDP     224.0.0.251                       None   \n",
       "1  Normal  Unknown_UDP     224.0.0.251                       None   \n",
       "2  Normal      HTTPWeb   192.168.5.122                       None   \n",
       "3  Normal      HTTPWeb   192.168.5.122                       None   \n",
       "4  Normal      HTTPWeb  207.241.148.80                       None   \n",
       "\n",
       "  destinationPayloadAsUTF destinationPort destinationTCPFlagsDescription  \\\n",
       "0                    None            5353                            N/A   \n",
       "1                    None            5353                            N/A   \n",
       "2                    None              80                              R   \n",
       "3                    None              80                              R   \n",
       "4                    None              80                            F,A   \n",
       "\n",
       "  direction protocolName         source sourcePayloadAsBase64  \\\n",
       "0       L2R       udp_ip  192.168.5.122                  None   \n",
       "1       L2R       udp_ip  192.168.5.122                  None   \n",
       "2       L2L       tcp_ip  192.168.2.113                  None   \n",
       "3       L2L       tcp_ip  192.168.2.113                  None   \n",
       "4       L2R       tcp_ip  192.168.2.113                  None   \n",
       "\n",
       "  sourcePayloadAsUTF sourcePort sourceTCPFlagsDescription  \\\n",
       "0               None       5353                       N/A   \n",
       "1               None       5353                       N/A   \n",
       "2               None       4191                       F,A   \n",
       "3               None       4191                       F,A   \n",
       "4               None       4192                       F,A   \n",
       "\n",
       "         startDateTime         stopDateTime totalDestinationBytes  \\\n",
       "0  2010-06-12T23:57:24  2010-06-13T09:24:52                     0   \n",
       "1  2010-06-12T23:57:24  2010-06-13T09:24:52                     0   \n",
       "2  2010-06-12T23:57:38  2010-06-12T23:59:20                   128   \n",
       "3  2010-06-12T23:57:38  2010-06-12T23:59:20                   128   \n",
       "4  2010-06-12T23:57:40  2010-06-12T23:59:20                    64   \n",
       "\n",
       "  totalDestinationPackets totalSourceBytes totalSourcePackets  \n",
       "0                       0          2633658              28971  \n",
       "1                       0          2633658              28971  \n",
       "2                       2               64                  1  \n",
       "3                       2               64                  1  \n",
       "4                       1              128                  2  "
      ]
     },
     "execution_count": 3,
     "metadata": {},
     "output_type": "execute_result"
    }
   ],
   "source": [
    "df_ISCX.head()"
   ]
  },
  {
   "cell_type": "code",
   "execution_count": 4,
   "metadata": {},
   "outputs": [
    {
     "name": "stdout",
     "output_type": "stream",
     "text": [
      "ISCX columnas:  ['Tag' 'appName' 'destination' 'destinationPayloadAsBase64'\n",
      " 'destinationPayloadAsUTF' 'destinationPort'\n",
      " 'destinationTCPFlagsDescription' 'direction' 'protocolName' 'source'\n",
      " 'sourcePayloadAsBase64' 'sourcePayloadAsUTF' 'sourcePort'\n",
      " 'sourceTCPFlagsDescription' 'startDateTime' 'stopDateTime'\n",
      " 'totalDestinationBytes' 'totalDestinationPackets' 'totalSourceBytes'\n",
      " 'totalSourcePackets']\n",
      "ISCX tags:  ['Normal' 'Attack']\n"
     ]
    }
   ],
   "source": [
    "print('ISCX columnas: ', df_ISCX.columns.values)\n",
    "print('ISCX tags: ', df_ISCX['Tag'].unique())"
   ]
  },
  {
   "cell_type": "code",
   "execution_count": 5,
   "metadata": {},
   "outputs": [
    {
     "data": {
      "text/html": [
       "<div>\n",
       "<style scoped>\n",
       "    .dataframe tbody tr th:only-of-type {\n",
       "        vertical-align: middle;\n",
       "    }\n",
       "\n",
       "    .dataframe tbody tr th {\n",
       "        vertical-align: top;\n",
       "    }\n",
       "\n",
       "    .dataframe thead th {\n",
       "        text-align: right;\n",
       "    }\n",
       "</style>\n",
       "<table border=\"1\" class=\"dataframe\">\n",
       "  <thead>\n",
       "    <tr style=\"text-align: right;\">\n",
       "      <th></th>\n",
       "      <th>1</th>\n",
       "      <th>2</th>\n",
       "      <th>3</th>\n",
       "      <th>4</th>\n",
       "      <th>5</th>\n",
       "      <th>6</th>\n",
       "      <th>7</th>\n",
       "      <th>8</th>\n",
       "      <th>9</th>\n",
       "      <th>10</th>\n",
       "      <th>...</th>\n",
       "      <th>40</th>\n",
       "      <th>41</th>\n",
       "      <th>42</th>\n",
       "      <th>43</th>\n",
       "      <th>44</th>\n",
       "      <th>45</th>\n",
       "      <th>46</th>\n",
       "      <th>47</th>\n",
       "      <th>48</th>\n",
       "      <th>49</th>\n",
       "    </tr>\n",
       "  </thead>\n",
       "  <tbody>\n",
       "    <tr>\n",
       "      <th>0</th>\n",
       "      <td>59.166.0.9</td>\n",
       "      <td>7045</td>\n",
       "      <td>149.171.126.7</td>\n",
       "      <td>25</td>\n",
       "      <td>tcp</td>\n",
       "      <td>FIN</td>\n",
       "      <td>0.201886</td>\n",
       "      <td>37552</td>\n",
       "      <td>3380</td>\n",
       "      <td>31</td>\n",
       "      <td>...</td>\n",
       "      <td></td>\n",
       "      <td>2</td>\n",
       "      <td>2</td>\n",
       "      <td>7</td>\n",
       "      <td>4</td>\n",
       "      <td>1</td>\n",
       "      <td>1</td>\n",
       "      <td>3</td>\n",
       "      <td>NaN</td>\n",
       "      <td>0</td>\n",
       "    </tr>\n",
       "    <tr>\n",
       "      <th>1</th>\n",
       "      <td>59.166.0.9</td>\n",
       "      <td>9685</td>\n",
       "      <td>149.171.126.2</td>\n",
       "      <td>80</td>\n",
       "      <td>tcp</td>\n",
       "      <td>FIN</td>\n",
       "      <td>5.864748</td>\n",
       "      <td>19410</td>\n",
       "      <td>1087890</td>\n",
       "      <td>31</td>\n",
       "      <td>...</td>\n",
       "      <td></td>\n",
       "      <td>3</td>\n",
       "      <td>1</td>\n",
       "      <td>4</td>\n",
       "      <td>4</td>\n",
       "      <td>1</td>\n",
       "      <td>1</td>\n",
       "      <td>1</td>\n",
       "      <td>NaN</td>\n",
       "      <td>0</td>\n",
       "    </tr>\n",
       "    <tr>\n",
       "      <th>2</th>\n",
       "      <td>59.166.0.2</td>\n",
       "      <td>1421</td>\n",
       "      <td>149.171.126.4</td>\n",
       "      <td>53</td>\n",
       "      <td>udp</td>\n",
       "      <td>CON</td>\n",
       "      <td>0.001391</td>\n",
       "      <td>146</td>\n",
       "      <td>178</td>\n",
       "      <td>31</td>\n",
       "      <td>...</td>\n",
       "      <td></td>\n",
       "      <td>3</td>\n",
       "      <td>5</td>\n",
       "      <td>2</td>\n",
       "      <td>7</td>\n",
       "      <td>1</td>\n",
       "      <td>1</td>\n",
       "      <td>4</td>\n",
       "      <td>NaN</td>\n",
       "      <td>0</td>\n",
       "    </tr>\n",
       "    <tr>\n",
       "      <th>3</th>\n",
       "      <td>59.166.0.2</td>\n",
       "      <td>21553</td>\n",
       "      <td>149.171.126.2</td>\n",
       "      <td>25</td>\n",
       "      <td>tcp</td>\n",
       "      <td>FIN</td>\n",
       "      <td>0.053948</td>\n",
       "      <td>37812</td>\n",
       "      <td>3380</td>\n",
       "      <td>31</td>\n",
       "      <td>...</td>\n",
       "      <td></td>\n",
       "      <td>1</td>\n",
       "      <td>1</td>\n",
       "      <td>4</td>\n",
       "      <td>7</td>\n",
       "      <td>1</td>\n",
       "      <td>1</td>\n",
       "      <td>3</td>\n",
       "      <td>NaN</td>\n",
       "      <td>0</td>\n",
       "    </tr>\n",
       "    <tr>\n",
       "      <th>4</th>\n",
       "      <td>59.166.0.8</td>\n",
       "      <td>45212</td>\n",
       "      <td>149.171.126.4</td>\n",
       "      <td>53</td>\n",
       "      <td>udp</td>\n",
       "      <td>CON</td>\n",
       "      <td>0.000953</td>\n",
       "      <td>146</td>\n",
       "      <td>178</td>\n",
       "      <td>31</td>\n",
       "      <td>...</td>\n",
       "      <td></td>\n",
       "      <td>2</td>\n",
       "      <td>5</td>\n",
       "      <td>2</td>\n",
       "      <td>1</td>\n",
       "      <td>1</td>\n",
       "      <td>1</td>\n",
       "      <td>2</td>\n",
       "      <td>NaN</td>\n",
       "      <td>0</td>\n",
       "    </tr>\n",
       "  </tbody>\n",
       "</table>\n",
       "<p>5 rows × 49 columns</p>\n",
       "</div>"
      ],
      "text/plain": [
       "           1      2              3   4    5    6         7      8        9   \\\n",
       "0  59.166.0.9   7045  149.171.126.7  25  tcp  FIN  0.201886  37552     3380   \n",
       "1  59.166.0.9   9685  149.171.126.2  80  tcp  FIN  5.864748  19410  1087890   \n",
       "2  59.166.0.2   1421  149.171.126.4  53  udp  CON  0.001391    146      178   \n",
       "3  59.166.0.2  21553  149.171.126.2  25  tcp  FIN  0.053948  37812     3380   \n",
       "4  59.166.0.8  45212  149.171.126.4  53  udp  CON  0.000953    146      178   \n",
       "\n",
       "   10 ...  40  41  42 43  44  45  46  47   48  49  \n",
       "0  31 ...       2   2  7   4   1   1   3  NaN   0  \n",
       "1  31 ...       3   1  4   4   1   1   1  NaN   0  \n",
       "2  31 ...       3   5  2   7   1   1   4  NaN   0  \n",
       "3  31 ...       1   1  4   7   1   1   3  NaN   0  \n",
       "4  31 ...       2   5  2   1   1   1   2  NaN   0  \n",
       "\n",
       "[5 rows x 49 columns]"
      ]
     },
     "execution_count": 5,
     "metadata": {},
     "output_type": "execute_result"
    }
   ],
   "source": [
    "df_UNSW.head()"
   ]
  },
  {
   "cell_type": "code",
   "execution_count": 6,
   "metadata": {},
   "outputs": [
    {
     "name": "stdout",
     "output_type": "stream",
     "text": [
      "UNSW columnas:  [ 1  2  3  4  5  6  7  8  9 10 11 12 13 14 15 16 17 18 19 20 21 22 23 24\n",
      " 25 26 27 28 29 30 31 32 33 34 35 36 37 38 39 40 41 42 43 44 45 46 47 48\n",
      " 49]\n",
      "UNSW tags:  [0 1]\n"
     ]
    }
   ],
   "source": [
    "print('UNSW columnas: ', df_UNSW.columns.values)\n",
    "print('UNSW tags: ', df_UNSW[49].unique())"
   ]
  },
  {
   "cell_type": "markdown",
   "metadata": {},
   "source": [
    "# Tratamiento de los datos"
   ]
  },
  {
   "cell_type": "markdown",
   "metadata": {},
   "source": [
    "**Transformamos en valores numéricos las dos posibles categorías: Normal -> 0 y Attack -> 1.**"
   ]
  },
  {
   "cell_type": "code",
   "execution_count": 7,
   "metadata": {},
   "outputs": [
    {
     "data": {
      "text/html": [
       "<div>\n",
       "<style scoped>\n",
       "    .dataframe tbody tr th:only-of-type {\n",
       "        vertical-align: middle;\n",
       "    }\n",
       "\n",
       "    .dataframe tbody tr th {\n",
       "        vertical-align: top;\n",
       "    }\n",
       "\n",
       "    .dataframe thead th {\n",
       "        text-align: right;\n",
       "    }\n",
       "</style>\n",
       "<table border=\"1\" class=\"dataframe\">\n",
       "  <thead>\n",
       "    <tr style=\"text-align: right;\">\n",
       "      <th></th>\n",
       "      <th>source</th>\n",
       "      <th>destination</th>\n",
       "      <th>Tag</th>\n",
       "    </tr>\n",
       "  </thead>\n",
       "  <tbody>\n",
       "    <tr>\n",
       "      <th>0</th>\n",
       "      <td>192.168.5.122</td>\n",
       "      <td>224.0.0.251</td>\n",
       "      <td>0</td>\n",
       "    </tr>\n",
       "    <tr>\n",
       "      <th>1</th>\n",
       "      <td>192.168.5.122</td>\n",
       "      <td>224.0.0.251</td>\n",
       "      <td>0</td>\n",
       "    </tr>\n",
       "    <tr>\n",
       "      <th>2</th>\n",
       "      <td>192.168.2.113</td>\n",
       "      <td>192.168.5.122</td>\n",
       "      <td>0</td>\n",
       "    </tr>\n",
       "    <tr>\n",
       "      <th>3</th>\n",
       "      <td>192.168.2.113</td>\n",
       "      <td>192.168.5.122</td>\n",
       "      <td>0</td>\n",
       "    </tr>\n",
       "    <tr>\n",
       "      <th>4</th>\n",
       "      <td>192.168.2.113</td>\n",
       "      <td>207.241.148.80</td>\n",
       "      <td>0</td>\n",
       "    </tr>\n",
       "  </tbody>\n",
       "</table>\n",
       "</div>"
      ],
      "text/plain": [
       "          source     destination  Tag\n",
       "0  192.168.5.122     224.0.0.251    0\n",
       "1  192.168.5.122     224.0.0.251    0\n",
       "2  192.168.2.113   192.168.5.122    0\n",
       "3  192.168.2.113   192.168.5.122    0\n",
       "4  192.168.2.113  207.241.148.80    0"
      ]
     },
     "execution_count": 7,
     "metadata": {},
     "output_type": "execute_result"
    }
   ],
   "source": [
    "df_ISCX = df_ISCX[['source', 'destination', 'Tag']]\n",
    "df_ISCX.loc[:, 'Tag'].replace(['Normal'], 0, inplace=True)\n",
    "df_ISCX.loc[:, 'Tag'].replace(['Attack'], 1, inplace=True)\n",
    "\n",
    "df_ISCX.head()"
   ]
  },
  {
   "cell_type": "code",
   "execution_count": 8,
   "metadata": {},
   "outputs": [
    {
     "data": {
      "text/html": [
       "<div>\n",
       "<style scoped>\n",
       "    .dataframe tbody tr th:only-of-type {\n",
       "        vertical-align: middle;\n",
       "    }\n",
       "\n",
       "    .dataframe tbody tr th {\n",
       "        vertical-align: top;\n",
       "    }\n",
       "\n",
       "    .dataframe thead th {\n",
       "        text-align: right;\n",
       "    }\n",
       "</style>\n",
       "<table border=\"1\" class=\"dataframe\">\n",
       "  <thead>\n",
       "    <tr style=\"text-align: right;\">\n",
       "      <th></th>\n",
       "      <th>source</th>\n",
       "      <th>destination</th>\n",
       "      <th>Tag</th>\n",
       "    </tr>\n",
       "  </thead>\n",
       "  <tbody>\n",
       "    <tr>\n",
       "      <th>0</th>\n",
       "      <td>59.166.0.9</td>\n",
       "      <td>149.171.126.7</td>\n",
       "      <td>0</td>\n",
       "    </tr>\n",
       "    <tr>\n",
       "      <th>1</th>\n",
       "      <td>59.166.0.9</td>\n",
       "      <td>149.171.126.2</td>\n",
       "      <td>0</td>\n",
       "    </tr>\n",
       "    <tr>\n",
       "      <th>2</th>\n",
       "      <td>59.166.0.2</td>\n",
       "      <td>149.171.126.4</td>\n",
       "      <td>0</td>\n",
       "    </tr>\n",
       "    <tr>\n",
       "      <th>3</th>\n",
       "      <td>59.166.0.2</td>\n",
       "      <td>149.171.126.2</td>\n",
       "      <td>0</td>\n",
       "    </tr>\n",
       "    <tr>\n",
       "      <th>4</th>\n",
       "      <td>59.166.0.8</td>\n",
       "      <td>149.171.126.4</td>\n",
       "      <td>0</td>\n",
       "    </tr>\n",
       "  </tbody>\n",
       "</table>\n",
       "</div>"
      ],
      "text/plain": [
       "       source    destination  Tag\n",
       "0  59.166.0.9  149.171.126.7    0\n",
       "1  59.166.0.9  149.171.126.2    0\n",
       "2  59.166.0.2  149.171.126.4    0\n",
       "3  59.166.0.2  149.171.126.2    0\n",
       "4  59.166.0.8  149.171.126.4    0"
      ]
     },
     "execution_count": 8,
     "metadata": {},
     "output_type": "execute_result"
    }
   ],
   "source": [
    "df_UNSW = df_UNSW[[1, 3, 49]]\n",
    "df_UNSW.columns = ['source', 'destination', 'Tag']\n",
    "\n",
    "df_UNSW.head()"
   ]
  },
  {
   "cell_type": "code",
   "execution_count": 9,
   "metadata": {},
   "outputs": [],
   "source": [
    "df_ISCX['src-dst'] = df_ISCX.apply(lambda x: x['source'] + x['destination'], axis=1, result_type='expand')\n",
    "df_UNSW['src-dst'] = df_UNSW.apply(lambda x: x['source'] + x['destination'], axis=1, result_type='expand')"
   ]
  },
  {
   "cell_type": "markdown",
   "metadata": {},
   "source": [
    "# Porcentajes Normal y Attack"
   ]
  },
  {
   "cell_type": "code",
   "execution_count": 22,
   "metadata": {},
   "outputs": [
    {
     "data": {
      "image/png": "[encoded data removed]",
      "text/plain": [
       "<Figure size 432x288 with 1 Axes>"
      ]
     },
     "metadata": {
      "needs_background": "light"
     },
     "output_type": "display_data"
    }
   ],
   "source": [
    "N = 2\n",
    "normal = (\n",
    "    df_ISCX[df_ISCX['Tag'] == 0].shape[0],\n",
    "    df_UNSW[df_UNSW['Tag'] == 0].shape[0]\n",
    ")\n",
    "\n",
    "attack = (\n",
    "    df_ISCX[df_ISCX['Tag'] == 1].shape[0],\n",
    "    df_UNSW[df_UNSW['Tag'] == 1].shape[0],\n",
    ")\n",
    "\n",
    "ind = [0, 0.3]    \n",
    "width = 0.15       \n",
    "\n",
    "p1 = plt.bar(ind, normal, width, color='green')\n",
    "p2 = plt.bar(ind, attack, width, color='red',\n",
    "             bottom=normal)\n",
    "\n",
    "plt.ylabel('Nº Tramas')\n",
    "plt.title('Proporción tramas \"ataque\" y \"normal\"')\n",
    "plt.xticks(ind, ('ISCX IDS 2012', 'UNSW'))\n",
    "plt.axis([-0.15,0.45,0,500000]) \n",
    "plt.legend((p1[0], p2[0]), ('Normal', 'Ataque'))\n",
    "\n",
    "\n",
    "total = (\n",
    "    df_ISCX.shape[0],\n",
    "    df_UNSW.shape[0],    \n",
    ")\n",
    "\n",
    "for i in range(N):\n",
    "    plt.text(ind[i] - 0.025, normal[i]/2, \"{0:.2f}\".format(normal[i]/total[i]*100) + '%', color='white', fontweight='bold')\n",
    "    plt.text(ind[i] - 0.025, normal[i] + attack[i] + 10000, \"{0:.2f}\".format(attack[i]/total[i]*100) + '%', color='red', fontweight='bold')\n",
    "\n",
    "plt.show()"
   ]
  },
  {
   "cell_type": "markdown",
   "metadata": {},
   "source": [
    "# Calidad de los datos"
   ]
  },
  {
   "cell_type": "code",
   "execution_count": 37,
   "metadata": {},
   "outputs": [
    {
     "name": "stdout",
     "output_type": "stream",
     "text": [
      "Nº IP origen distintas respecto al total:\n",
      "ISCX:\t44/275528\n",
      "UNSW:\t38/440044\n"
     ]
    }
   ],
   "source": [
    "print('Nº IP origen distintas respecto al total:')\n",
    "print('ISCX:\\t' + str(df_ISCX['source'].unique().size) + '/' + str(df_ISCX.shape[0]))\n",
    "print('UNSW:\\t' + str(df_UNSW['source'].unique().size) + '/' + str(df_UNSW.shape[0]))"
   ]
  },
  {
   "cell_type": "code",
   "execution_count": 39,
   "metadata": {},
   "outputs": [
    {
     "name": "stdout",
     "output_type": "stream",
     "text": [
      "Nº IP destino distintas respecto al total:\n",
      "ISCX:\t2645/275528\n",
      "UNSW:\t43/440044\n"
     ]
    }
   ],
   "source": [
    "print('Nº IP destino distintas respecto al total:')\n",
    "print('ISCX:\\t' + str(df_ISCX['destination'].unique().size) + '/' + str(df_ISCX.shape[0]))\n",
    "print('UNSW:\\t' + str(df_UNSW['destination'].unique().size) + '/' + str(df_UNSW.shape[0]))"
   ]
  },
  {
   "cell_type": "code",
   "execution_count": 40,
   "metadata": {},
   "outputs": [
    {
     "name": "stdout",
     "output_type": "stream",
     "text": [
      "Nº parejas IP origen-destino distintas respecto el total:\n",
      "ISCX:\t4986/275528\n",
      "UNSW:\t201/440044\n"
     ]
    }
   ],
   "source": [
    "print('Nº parejas IP origen-destino distintas respecto el total:')\n",
    "print('ISCX:\\t' + str(df_ISCX['src-dst'].unique().size) + '/' + str(df_ISCX.shape[0]))\n",
    "print('UNSW:\\t' + str(df_UNSW['src-dst'].unique().size) + '/' + str(df_UNSW.shape[0]))"
   ]
  },
  {
   "cell_type": "markdown",
   "metadata": {},
   "source": [
    "# ¿Indican inequívocamente las IPs el tipo de trama?"
   ]
  },
  {
   "cell_type": "code",
   "execution_count": 47,
   "metadata": {},
   "outputs": [
    {
     "name": "stdout",
     "output_type": "stream",
     "text": [
      "(ISCX) Porcentaje IPs origen con un único Tag asociado:\t\t 61.36363636363637 %\n",
      "(ISCX) Porcentaje IPs destino con un único Tag asociado:\t 98.26086956521739 %\n",
      "(ISCX) Porcentaje IPs origen-destino con un único Tag asociado:  99.09747292418773 %\n"
     ]
    }
   ],
   "source": [
    "df_ISCX_src = df_ISCX.groupby(['source']).agg({'Tag': pd.Series.nunique}) \n",
    "df_ISCX_dst = df_ISCX.groupby(['destination']).agg({'Tag': pd.Series.nunique}) \n",
    "df_ISCX_src_dst = df_ISCX.groupby(['src-dst']).agg({'Tag': pd.Series.nunique}) \n",
    "\n",
    "print('(ISCX) Porcentaje IPs origen con un único Tag asociado:\\t\\t',\n",
    "    str(df_ISCX_src[df_ISCX_src['Tag']==1].shape[0]/df_ISCX['source'].unique().size*100) + ' %')\n",
    "print('(ISCX) Porcentaje IPs destino con un único Tag asociado:\\t',\n",
    "    str(df_ISCX_dst[df_ISCX_dst['Tag']==1].shape[0]/df_ISCX['destination'].unique().size*100) + ' %')\n",
    "print('(ISCX) Porcentaje IPs origen-destino con un único Tag asociado: ',\n",
    "    str(df_ISCX_src_dst[df_ISCX_src_dst['Tag']==1].shape[0]/df_ISCX['src-dst'].unique().size*100) + ' %')"
   ]
  },
  {
   "cell_type": "code",
   "execution_count": 48,
   "metadata": {},
   "outputs": [
    {
     "name": "stdout",
     "output_type": "stream",
     "text": [
      "(UNSW) Porcentaje IPs origen con un único Tag asociado:\t\t 89.47368421052632 %\n",
      "(UNSW) Porcentaje IPs destino con un único Tag asociado:\t 76.74418604651163 %\n",
      "(UNSW) Porcentaje IPs origen-destino con un único Tag asociado:  80.09950248756219 %\n"
     ]
    }
   ],
   "source": [
    "df_UNSW_src = df_UNSW.groupby(['source']).agg({'Tag': pd.Series.nunique}) \n",
    "df_UNSW_dst = df_UNSW.groupby(['destination']).agg({'Tag': pd.Series.nunique}) \n",
    "df_UNSW_src_dst = df_UNSW.groupby(['src-dst']).agg({'Tag': pd.Series.nunique}) \n",
    "\n",
    "print('(UNSW) Porcentaje IPs origen con un único Tag asociado:\\t\\t',\n",
    "    str(df_UNSW_src[df_UNSW_src['Tag']==1].shape[0]/df_UNSW['source'].unique().size*100) + ' %')\n",
    "print('(UNSW) Porcentaje IPs destino con un único Tag asociado:\\t',\n",
    "    str(df_UNSW_dst[df_UNSW_dst['Tag']==1].shape[0]/df_UNSW['destination'].unique().size*100) + ' %')\n",
    "print('(UNSW) Porcentaje IPs origen-destino con un único Tag asociado: ',\n",
    "    str(df_UNSW_src_dst[df_UNSW_src_dst['Tag']==1].shape[0]/df_UNSW['src-dst'].unique().size*100) + ' %')"
   ]
  },
  {
   "cell_type": "code",
   "execution_count": null,
   "metadata": {},
   "outputs": [],
   "source": []
  }
 ],
 "metadata": {
  "kernelspec": {
   "display_name": "Python 3",
   "language": "python",
   "name": "python3"
  },
  "language_info": {
   "codemirror_mode": {
    "name": "ipython",
    "version": 3
   },
   "file_extension": ".py",
   "mimetype": "text/x-python",
   "name": "python",
   "nbconvert_exporter": "python",
   "pygments_lexer": "ipython3",
   "version": "3.7.0"
  }
 },
 "nbformat": 4,
 "nbformat_minor": 2
}
